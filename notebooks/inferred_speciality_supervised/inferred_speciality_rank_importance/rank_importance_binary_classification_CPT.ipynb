{
 "cells": [
  {
   "cell_type": "code",
   "execution_count": 133,
   "metadata": {},
   "outputs": [],
   "source": [
    "import pickle\n",
    "import xgboost as xgb\n",
    "from sklearn.model_selection import train_test_split, RandomizedSearchCV\n",
    "from sklearn.decomposition import PCA\n",
    "from sklearn.preprocessing import LabelEncoder\n",
    "from sklearn.metrics import f1_score, make_scorer, classification_report\n",
    "import pandas as pd\n",
    "import numpy as np\n",
    "import random"
   ]
  },
  {
   "cell_type": "code",
   "execution_count": 134,
   "metadata": {},
   "outputs": [],
   "source": [
    "def save_pickle(file_name, file_path):\n",
    "    with open(file_path, 'wb') as fp:\n",
    "        pickle.dump(file_name, fp)"
   ]
  },
  {
   "cell_type": "code",
   "execution_count": 135,
   "metadata": {},
   "outputs": [],
   "source": [
    "def normalize_practitioner_level_features(npi_cpt_features):\n",
    "    npi_normalized_cpt_features = {}\n",
    "    for npi in npi_cpt_features:\n",
    "        npi_normalized_cpt_features[npi] = np.array(npi_cpt_features[npi])/sum(np.array(npi_cpt_features[npi]))\n",
    "    return npi_normalized_cpt_features"
   ]
  },
  {
   "cell_type": "code",
   "execution_count": 136,
   "metadata": {},
   "outputs": [],
   "source": [
    "def remove_outliers(npi_features, npi_indigo_spl, outliers_path):\n",
    "    indigo_spl_npi = {}\n",
    "    for npi in npi_features:\n",
    "        if int(npi) in npi_indigo_spl:\n",
    "            if npi_indigo_spl[int(npi)] not in indigo_spl_npi:\n",
    "                indigo_spl_npi[npi_indigo_spl[int(npi)]] = []\n",
    "            indigo_spl_npi[npi_indigo_spl[int(npi)]].append(npi)\n",
    "    all_spl = list(set(indigo_spl_npi.keys())); outliers_removed_npi_features = {}\n",
    "    for spl in all_spl:\n",
    "        outlier_cur = pd.read_pickle(outliers_path + \"outlier_npis\" + spl + \".pkl\")\n",
    "        for npi in indigo_spl_npi[spl]:\n",
    "            if npi not in outlier_cur:\n",
    "                outliers_removed_npi_features[npi] = npi_features[npi]\n",
    "\n",
    "    return outliers_removed_npi_features"
   ]
  },
  {
   "cell_type": "code",
   "execution_count": 137,
   "metadata": {},
   "outputs": [],
   "source": [
    "def encode_labels(npi_indigo_spl, npi_normalized_cpt_features):\n",
    "    X_normalized = []; encoded_y = []; y = []; indigo_spl_label = {}; i = 0\n",
    "    for npi in npi_normalized_cpt_features:\n",
    "        if int(npi) in npi_indigo_spl:\n",
    "            X_normalized.append(npi_normalized_cpt_features[npi])\n",
    "            y.append(npi_indigo_spl[int(npi)])\n",
    "            if npi_indigo_spl[int(npi)] not in indigo_spl_label:\n",
    "                indigo_spl_label[npi_indigo_spl[int(npi)]] = i\n",
    "                i += 1\n",
    "            encoded_y.append(indigo_spl_label[npi_indigo_spl[int(npi)]])\n",
    "    return np.array(X_normalized), np.array(encoded_y), y, indigo_spl_label"
   ]
  },
  {
   "cell_type": "code",
   "execution_count": 138,
   "metadata": {},
   "outputs": [],
   "source": [
    "def get_distributions(X_normalized, encoded_y, speciality, indigo_spl_label):\n",
    "\n",
    "    spl_pos = np.where(encoded_y == indigo_spl_label[speciality])[0]\n",
    "    spl_distribution = np.sum(X_normalized[spl_pos, :], axis=0)\n",
    "\n",
    "    others_pos = np.where(encoded_y != indigo_spl_label[speciality])[0]\n",
    "    others_distribution = np.sum(X_normalized[others_pos, :], axis=0)\n",
    "\n",
    "    return spl_distribution, others_distribution"
   ]
  },
  {
   "cell_type": "code",
   "execution_count": 139,
   "metadata": {},
   "outputs": [],
   "source": [
    "def get_binary_labels(encoded_y, speciality, indigo_spl_label):\n",
    "    binary_encoded_y = np.zeros_like(encoded_y)\n",
    "    binary_encoded_y[encoded_y == indigo_spl_label[speciality]] = 1\n",
    "    return binary_encoded_y"
   ]
  },
  {
   "cell_type": "code",
   "execution_count": 140,
   "metadata": {},
   "outputs": [],
   "source": [
    "def get_multipliers(k, depreciaition=0.9):\n",
    "    multipliers = {}\n",
    "    for i in range(1, k+1):\n",
    "        for j in range(i, k+1):\n",
    "            multipliers[str(i) + '-' + str(j)] = abs(i-j) * (depreciaition**(min(i, j) - 1))\n",
    "            multipliers[str(j) + '-' + str(i)] = abs(i-j) * (0.9**(min(i, j) - 1))\n",
    "\n",
    "    return multipliers"
   ]
  },
  {
   "cell_type": "code",
   "execution_count": 160,
   "metadata": {},
   "outputs": [],
   "source": [
    "def get_features(k, spl_cpt_pos, others_cpt_pos, X):\n",
    "    all_multipliers = get_multipliers(k)\n",
    "    feature_pos = np.array(list(set(spl_cpt_pos) | set(others_cpt_pos)))\n",
    "    X_reduced = X[:, feature_pos]\n",
    "\n",
    "    multipliers = []\n",
    "    for feat_pos in feature_pos:\n",
    "        if feat_pos in spl_cpt_pos and feat_pos in others_cpt_pos:\n",
    "            feat_pos_in_spl = np.where(spl_cpt_pos == feat_pos)[0][0]\n",
    "            feat_pos_in_others = np.where(others_cpt_pos == feat_pos)[0][0]\n",
    "            multipliers.append(all_multipliers[str(feat_pos_in_spl + 1) + '-' + str(feat_pos_in_others + 1)])\n",
    "        else:\n",
    "             multipliers.append(k)\n",
    "    \n",
    "    X_reduced_scaled = X_reduced * np.array(multipliers)\n",
    "\n",
    "    return X_reduced_scaled\n",
    "\n",
    "    # return X_reduced"
   ]
  },
  {
   "cell_type": "code",
   "execution_count": 142,
   "metadata": {},
   "outputs": [],
   "source": [
    "def get_top_k_cpt_codes_features(spl_distribution, others_distribution, X, k=25):\n",
    "        \n",
    "        spl_cpt_pos = spl_distribution.argsort()[-k:][::-1]\n",
    "        others_cpt_pos = others_distribution.argsort()[-k:][::-1]\n",
    "\n",
    "        X_reduced_scaled = get_features(k, spl_cpt_pos, others_cpt_pos, X)\n",
    "\n",
    "        return X_reduced_scaled"
   ]
  },
  {
   "cell_type": "code",
   "execution_count": 143,
   "metadata": {},
   "outputs": [],
   "source": [
    "def get_results(y_train, y_test, X_train, X_test, random_search, spl):\n",
    "    print(\"X_train results,\")\n",
    "    predicted_probabilities = random_search.best_estimator_.predict_proba(X_train)\n",
    "    predictions = np.argmax(predicted_probabilities, axis=1)\n",
    "    train_out = classification_report(y_train, predictions, target_names=['Others', spl], output_dict = True)\n",
    "\n",
    "    print(\"X_test results,\")\n",
    "    predicted_probabilities = random_search.best_estimator_.predict_proba(X_test)\n",
    "    predictions = np.argmax(predicted_probabilities, axis=1)\n",
    "    test_out = classification_report(y_test, predictions, target_names=['Others', spl], output_dict = True)\n",
    "\n",
    "    # number of spl predicted as others\n",
    "    count_spl_others = 0\n",
    "    for i in range(len(y_test)):\n",
    "        if y_test[i] == 1 and predictions[i] == 0:\n",
    "            count_spl_others += 1\n",
    "    print(\"number of spl predicted as others: \", count_spl_others)\n",
    "\n",
    "    # num of others predicted as spl\n",
    "    count_others_spl = 0\n",
    "    for i in range(len(y_test)):\n",
    "        if y_test[i] == 0 and predictions[i] == 1:\n",
    "            count_others_spl += 1\n",
    "    print(\"num of others predicted as spl: \", count_others_spl)\n",
    "\n",
    "    return train_out, test_out, count_spl_others, count_others_spl"
   ]
  },
  {
   "cell_type": "code",
   "execution_count": 144,
   "metadata": {},
   "outputs": [],
   "source": [
    "def train_model(X, y, param_dist, spl):\n",
    "    X_train, X_test, y_train, y_test = train_test_split(X, y, test_size=0.3, random_state=798, stratify=y)\n",
    "    model = xgb.XGBClassifier(objective='multi:softprob', num_class=len(set(y_train)), tree_method='gpu_hist', gpu_id=0)\n",
    "    random_search = RandomizedSearchCV(model, param_distributions=param_dist, n_iter=10, scoring='accuracy', n_jobs=-1, cv=2, verbose=3, random_state=53)\n",
    "    random_search.fit(X_train, y_train)\n",
    "    print(\"Best parameters found: \", random_search.best_params_)\n",
    "    train_out, test_out, count_spl_others, count_others_spl = get_results(y_train, y_test, X_train, X_test, random_search, spl)\n",
    "    return train_out, test_out, count_spl_others, count_others_spl"
   ]
  },
  {
   "cell_type": "code",
   "execution_count": 145,
   "metadata": {},
   "outputs": [],
   "source": [
    "def save_results(results_test, results_train, save_path):\n",
    "    df = pd.DataFrame(results_test + results_train)\n",
    "    df.to_csv(save_path, index=False)"
   ]
  },
  {
   "cell_type": "code",
   "execution_count": 165,
   "metadata": {},
   "outputs": [],
   "source": [
    "def train_model_on_specialities(specialities, X_normalized, encoded_y, indigo_spl_label, param_dist):\n",
    "    results_test = [[\"Data Type\", \"Train / Test\", \"Speciality\", \"Precision 0\", \"Recall 0\", \"Precision 1\", \"Recall 1\", \"Macro Avg F1\"]]\n",
    "    results_train = [[\"Data Type\", \"Train / Test\", \"Speciality\", \"Precision 0\", \"Recall 0\", \"Precision 1\", \"Recall 1\", \"Macro Avg F1\"]]\n",
    "\n",
    "    for spec__lity in specialities:\n",
    "\n",
    "        print('\\033[1m' + '\\033[92m' + \"Starting: \" + spec__lity + '\\033[0m' + '\\033[0m')\n",
    "\n",
    "        spl_distribution, others_distribution = get_distributions(X_normalized, encoded_y, spec__lity, indigo_spl_label)\n",
    "        binary_encoded_y = get_binary_labels(encoded_y, spec__lity, indigo_spl_label)\n",
    "        X_reduced_scaled = get_top_k_cpt_codes_features(spl_distribution, others_distribution, X=X_normalized)\n",
    "        \n",
    "        train_out, test_out, count_spl_others, count_others_spl = train_model(X_reduced_scaled, binary_encoded_y, param_dist, spec__lity)\n",
    "        results_train.append([\"Top k CPT Wi Rank Importance\", \"Train\", spec__lity, train_out['Others']['precision'], train_out['Others']['recall'], train_out[spec__lity]['precision'], train_out[spec__lity]['recall'], train_out['macro avg']['f1-score']])\n",
    "        results_test.append([\"Top k CPT Wi Rank Importance\", \"Test\", spec__lity, test_out['Others']['precision'], test_out['Others']['recall'], test_out[spec__lity]['precision'], test_out[spec__lity]['recall'], test_out['macro avg']['f1-score']])\n",
    "\n",
    "        #results_train.append(len(results_train[0])*[\"\"])\n",
    "        #results_test.append(len(results_test[0])*[\"\"])\n",
    "    \n",
    "    save_results(results_test, results_train, './binary_spl_prediction_rank_importance_WiOutliers_output_v1.csv')\n",
    "\n",
    "    return results_train, results_test\n",
    "\n"
   ]
  },
  {
   "cell_type": "code",
   "execution_count": 32,
   "metadata": {},
   "outputs": [],
   "source": [
    "npi_cpt_features = pd.read_pickle('./chuncked_npi_ncpcs_2019_0_.pkl')\n",
    "npi_normalized_cpt_features = normalize_practitioner_level_features(npi_cpt_features)\n",
    "npi_indigo_spl = pd.read_pickle('./npi_indigo_spl.pkl')"
   ]
  },
  {
   "cell_type": "code",
   "execution_count": 161,
   "metadata": {},
   "outputs": [],
   "source": [
    "#outliers_removed_npi_normalized_cpt_features = remove_outliers(npi_normalized_cpt_features, npi_indigo_spl, outliers_path=\"./outliers_v2/\")\n",
    "X_normalized, encoded_y, y, indigo_spl_label = encode_labels(npi_indigo_spl, npi_normalized_cpt_features)"
   ]
  },
  {
   "cell_type": "code",
   "execution_count": 162,
   "metadata": {},
   "outputs": [],
   "source": [
    "specialities_file = pd.read_pickle('./specialities_lis.pkl')\n",
    "specialities_set = list(set(y))\n",
    "specialities = [spl for spl in specialities_file if spl in specialities_set]"
   ]
  },
  {
   "cell_type": "code",
   "execution_count": 163,
   "metadata": {},
   "outputs": [],
   "source": [
    "param_dist = {\n",
    "    'n_estimators': np.arange(50, 300, 50),\n",
    "    'learning_rate': [0.01, 0.05, 0.1, 0.2],\n",
    "    'max_depth': [6, 7, 8, 9, 10, 11, 12],\n",
    "    'colsample_bytree': [0.6, 0.65, 0.7, 0.75],\n",
    "}"
   ]
  },
  {
   "cell_type": "code",
   "execution_count": 167,
   "metadata": {},
   "outputs": [
    {
     "name": "stdout",
     "output_type": "stream",
     "text": [
      "\u001b[1m\u001b[92mStarting: Advanced Practice Registered Nurse (APRN)\u001b[0m\u001b[0m\n",
      "Fitting 2 folds for each of 10 candidates, totalling 20 fits\n"
     ]
    },
    {
     "name": "stderr",
     "output_type": "stream",
     "text": [
      "c:\\Users\\ganga\\anaconda3\\envs\\inferred_speciality\\lib\\site-packages\\sklearn\\model_selection\\_search.py:976: UserWarning: One or more of the test scores are non-finite: [nan nan nan nan nan nan nan nan nan nan]\n",
      "  warnings.warn(\n"
     ]
    },
    {
     "name": "stdout",
     "output_type": "stream",
     "text": [
      "Best parameters found:  {'n_estimators': 50, 'max_depth': 9, 'learning_rate': 0.05, 'colsample_bytree': 0.6}\n",
      "X_train results,\n",
      "X_test results,\n",
      "number of spl predicted as others:  742\n",
      "num of others predicted as spl:  0\n",
      "\u001b[1m\u001b[92mStarting: Certified Nurse Practitioner\u001b[0m\u001b[0m\n",
      "Fitting 2 folds for each of 10 candidates, totalling 20 fits\n"
     ]
    },
    {
     "name": "stderr",
     "output_type": "stream",
     "text": [
      "c:\\Users\\ganga\\anaconda3\\envs\\inferred_speciality\\lib\\site-packages\\sklearn\\model_selection\\_search.py:976: UserWarning: One or more of the test scores are non-finite: [nan nan nan nan nan nan nan nan nan nan]\n",
      "  warnings.warn(\n"
     ]
    },
    {
     "name": "stdout",
     "output_type": "stream",
     "text": [
      "Best parameters found:  {'n_estimators': 50, 'max_depth': 9, 'learning_rate': 0.05, 'colsample_bytree': 0.6}\n",
      "X_train results,\n",
      "X_test results,\n",
      "number of spl predicted as others:  4994\n",
      "num of others predicted as spl:  296\n",
      "\u001b[1m\u001b[92mStarting: Clinical Nurse Specialist\u001b[0m\u001b[0m\n",
      "Fitting 2 folds for each of 10 candidates, totalling 20 fits\n"
     ]
    },
    {
     "name": "stderr",
     "output_type": "stream",
     "text": [
      "c:\\Users\\ganga\\anaconda3\\envs\\inferred_speciality\\lib\\site-packages\\sklearn\\model_selection\\_search.py:976: UserWarning: One or more of the test scores are non-finite: [nan nan nan nan nan nan nan nan nan nan]\n",
      "  warnings.warn(\n"
     ]
    },
    {
     "name": "stdout",
     "output_type": "stream",
     "text": [
      "Best parameters found:  {'n_estimators': 50, 'max_depth': 9, 'learning_rate': 0.05, 'colsample_bytree': 0.6}\n",
      "X_train results,\n"
     ]
    },
    {
     "name": "stderr",
     "output_type": "stream",
     "text": [
      "c:\\Users\\ganga\\anaconda3\\envs\\inferred_speciality\\lib\\site-packages\\sklearn\\metrics\\_classification.py:1469: UndefinedMetricWarning: Precision and F-score are ill-defined and being set to 0.0 in labels with no predicted samples. Use `zero_division` parameter to control this behavior.\n",
      "  _warn_prf(average, modifier, msg_start, len(result))\n",
      "c:\\Users\\ganga\\anaconda3\\envs\\inferred_speciality\\lib\\site-packages\\sklearn\\metrics\\_classification.py:1469: UndefinedMetricWarning: Precision and F-score are ill-defined and being set to 0.0 in labels with no predicted samples. Use `zero_division` parameter to control this behavior.\n",
      "  _warn_prf(average, modifier, msg_start, len(result))\n",
      "c:\\Users\\ganga\\anaconda3\\envs\\inferred_speciality\\lib\\site-packages\\sklearn\\metrics\\_classification.py:1469: UndefinedMetricWarning: Precision and F-score are ill-defined and being set to 0.0 in labels with no predicted samples. Use `zero_division` parameter to control this behavior.\n",
      "  _warn_prf(average, modifier, msg_start, len(result))\n"
     ]
    },
    {
     "name": "stdout",
     "output_type": "stream",
     "text": [
      "X_test results,\n",
      "number of spl predicted as others:  17\n",
      "num of others predicted as spl:  0\n",
      "\u001b[1m\u001b[92mStarting: Nurse - Student\u001b[0m\u001b[0m\n"
     ]
    },
    {
     "name": "stderr",
     "output_type": "stream",
     "text": [
      "c:\\Users\\ganga\\anaconda3\\envs\\inferred_speciality\\lib\\site-packages\\sklearn\\metrics\\_classification.py:1469: UndefinedMetricWarning: Precision and F-score are ill-defined and being set to 0.0 in labels with no predicted samples. Use `zero_division` parameter to control this behavior.\n",
      "  _warn_prf(average, modifier, msg_start, len(result))\n",
      "c:\\Users\\ganga\\anaconda3\\envs\\inferred_speciality\\lib\\site-packages\\sklearn\\metrics\\_classification.py:1469: UndefinedMetricWarning: Precision and F-score are ill-defined and being set to 0.0 in labels with no predicted samples. Use `zero_division` parameter to control this behavior.\n",
      "  _warn_prf(average, modifier, msg_start, len(result))\n",
      "c:\\Users\\ganga\\anaconda3\\envs\\inferred_speciality\\lib\\site-packages\\sklearn\\metrics\\_classification.py:1469: UndefinedMetricWarning: Precision and F-score are ill-defined and being set to 0.0 in labels with no predicted samples. Use `zero_division` parameter to control this behavior.\n",
      "  _warn_prf(average, modifier, msg_start, len(result))\n"
     ]
    },
    {
     "name": "stdout",
     "output_type": "stream",
     "text": [
      "Fitting 2 folds for each of 10 candidates, totalling 20 fits\n"
     ]
    },
    {
     "name": "stderr",
     "output_type": "stream",
     "text": [
      "c:\\Users\\ganga\\anaconda3\\envs\\inferred_speciality\\lib\\site-packages\\sklearn\\model_selection\\_search.py:976: UserWarning: One or more of the test scores are non-finite: [nan nan nan nan nan nan nan nan nan nan]\n",
      "  warnings.warn(\n"
     ]
    },
    {
     "name": "stdout",
     "output_type": "stream",
     "text": [
      "Best parameters found:  {'n_estimators': 50, 'max_depth': 9, 'learning_rate': 0.05, 'colsample_bytree': 0.6}\n",
      "X_train results,\n",
      "X_test results,\n",
      "number of spl predicted as others:  1357\n",
      "num of others predicted as spl:  0\n",
      "\u001b[1m\u001b[92mStarting: Certified Nurse Midwife (CNM)\u001b[0m\u001b[0m\n",
      "Fitting 2 folds for each of 10 candidates, totalling 20 fits\n"
     ]
    },
    {
     "name": "stderr",
     "output_type": "stream",
     "text": [
      "c:\\Users\\ganga\\anaconda3\\envs\\inferred_speciality\\lib\\site-packages\\sklearn\\model_selection\\_search.py:976: UserWarning: One or more of the test scores are non-finite: [nan nan nan nan nan nan nan nan nan nan]\n",
      "  warnings.warn(\n"
     ]
    },
    {
     "name": "stdout",
     "output_type": "stream",
     "text": [
      "Best parameters found:  {'n_estimators': 50, 'max_depth': 9, 'learning_rate': 0.05, 'colsample_bytree': 0.6}\n",
      "X_train results,\n",
      "X_test results,\n",
      "number of spl predicted as others:  31\n",
      "num of others predicted as spl:  0\n",
      "\u001b[1m\u001b[92mStarting: Nurse\u001b[0m\u001b[0m\n"
     ]
    },
    {
     "name": "stderr",
     "output_type": "stream",
     "text": [
      "c:\\Users\\ganga\\anaconda3\\envs\\inferred_speciality\\lib\\site-packages\\sklearn\\metrics\\_classification.py:1469: UndefinedMetricWarning: Precision and F-score are ill-defined and being set to 0.0 in labels with no predicted samples. Use `zero_division` parameter to control this behavior.\n",
      "  _warn_prf(average, modifier, msg_start, len(result))\n",
      "c:\\Users\\ganga\\anaconda3\\envs\\inferred_speciality\\lib\\site-packages\\sklearn\\metrics\\_classification.py:1469: UndefinedMetricWarning: Precision and F-score are ill-defined and being set to 0.0 in labels with no predicted samples. Use `zero_division` parameter to control this behavior.\n",
      "  _warn_prf(average, modifier, msg_start, len(result))\n",
      "c:\\Users\\ganga\\anaconda3\\envs\\inferred_speciality\\lib\\site-packages\\sklearn\\metrics\\_classification.py:1469: UndefinedMetricWarning: Precision and F-score are ill-defined and being set to 0.0 in labels with no predicted samples. Use `zero_division` parameter to control this behavior.\n",
      "  _warn_prf(average, modifier, msg_start, len(result))\n"
     ]
    },
    {
     "name": "stdout",
     "output_type": "stream",
     "text": [
      "Fitting 2 folds for each of 10 candidates, totalling 20 fits\n"
     ]
    },
    {
     "name": "stderr",
     "output_type": "stream",
     "text": [
      "c:\\Users\\ganga\\anaconda3\\envs\\inferred_speciality\\lib\\site-packages\\sklearn\\model_selection\\_search.py:976: UserWarning: One or more of the test scores are non-finite: [nan nan nan nan nan nan nan nan nan nan]\n",
      "  warnings.warn(\n"
     ]
    },
    {
     "name": "stdout",
     "output_type": "stream",
     "text": [
      "Best parameters found:  {'n_estimators': 50, 'max_depth': 9, 'learning_rate': 0.05, 'colsample_bytree': 0.6}\n",
      "X_train results,\n",
      "X_test results,\n",
      "number of spl predicted as others:  20\n",
      "num of others predicted as spl:  0\n",
      "\u001b[1m\u001b[92mStarting: Anesthesiology\u001b[0m\u001b[0m\n",
      "Fitting 2 folds for each of 10 candidates, totalling 20 fits\n"
     ]
    },
    {
     "name": "stderr",
     "output_type": "stream",
     "text": [
      "c:\\Users\\ganga\\anaconda3\\envs\\inferred_speciality\\lib\\site-packages\\sklearn\\model_selection\\_search.py:976: UserWarning: One or more of the test scores are non-finite: [nan nan nan nan nan nan nan nan nan nan]\n",
      "  warnings.warn(\n"
     ]
    },
    {
     "name": "stdout",
     "output_type": "stream",
     "text": [
      "Best parameters found:  {'n_estimators': 50, 'max_depth': 9, 'learning_rate': 0.05, 'colsample_bytree': 0.6}\n",
      "X_train results,\n",
      "X_test results,\n",
      "number of spl predicted as others:  496\n",
      "num of others predicted as spl:  253\n",
      "\u001b[1m\u001b[92mStarting: Anesthesiology Assistant (AA)\u001b[0m\u001b[0m\n",
      "Fitting 2 folds for each of 10 candidates, totalling 20 fits\n"
     ]
    },
    {
     "name": "stderr",
     "output_type": "stream",
     "text": [
      "c:\\Users\\ganga\\anaconda3\\envs\\inferred_speciality\\lib\\site-packages\\sklearn\\model_selection\\_search.py:976: UserWarning: One or more of the test scores are non-finite: [nan nan nan nan nan nan nan nan nan nan]\n",
      "  warnings.warn(\n"
     ]
    },
    {
     "name": "stdout",
     "output_type": "stream",
     "text": [
      "Best parameters found:  {'n_estimators': 50, 'max_depth': 9, 'learning_rate': 0.05, 'colsample_bytree': 0.6}\n",
      "X_train results,\n",
      "X_test results,\n",
      "number of spl predicted as others:  70\n",
      "num of others predicted as spl:  0\n",
      "\u001b[1m\u001b[92mStarting: CRNA\u001b[0m\u001b[0m\n"
     ]
    },
    {
     "name": "stderr",
     "output_type": "stream",
     "text": [
      "c:\\Users\\ganga\\anaconda3\\envs\\inferred_speciality\\lib\\site-packages\\sklearn\\metrics\\_classification.py:1469: UndefinedMetricWarning: Precision and F-score are ill-defined and being set to 0.0 in labels with no predicted samples. Use `zero_division` parameter to control this behavior.\n",
      "  _warn_prf(average, modifier, msg_start, len(result))\n",
      "c:\\Users\\ganga\\anaconda3\\envs\\inferred_speciality\\lib\\site-packages\\sklearn\\metrics\\_classification.py:1469: UndefinedMetricWarning: Precision and F-score are ill-defined and being set to 0.0 in labels with no predicted samples. Use `zero_division` parameter to control this behavior.\n",
      "  _warn_prf(average, modifier, msg_start, len(result))\n",
      "c:\\Users\\ganga\\anaconda3\\envs\\inferred_speciality\\lib\\site-packages\\sklearn\\metrics\\_classification.py:1469: UndefinedMetricWarning: Precision and F-score are ill-defined and being set to 0.0 in labels with no predicted samples. Use `zero_division` parameter to control this behavior.\n",
      "  _warn_prf(average, modifier, msg_start, len(result))\n"
     ]
    },
    {
     "name": "stdout",
     "output_type": "stream",
     "text": [
      "Fitting 2 folds for each of 10 candidates, totalling 20 fits\n"
     ]
    },
    {
     "name": "stderr",
     "output_type": "stream",
     "text": [
      "c:\\Users\\ganga\\anaconda3\\envs\\inferred_speciality\\lib\\site-packages\\sklearn\\model_selection\\_search.py:976: UserWarning: One or more of the test scores are non-finite: [nan nan nan nan nan nan nan nan nan nan]\n",
      "  warnings.warn(\n"
     ]
    },
    {
     "name": "stdout",
     "output_type": "stream",
     "text": [
      "Best parameters found:  {'n_estimators': 50, 'max_depth': 9, 'learning_rate': 0.05, 'colsample_bytree': 0.6}\n",
      "X_train results,\n",
      "X_test results,\n",
      "number of spl predicted as others:  532\n",
      "num of others predicted as spl:  410\n",
      "\u001b[1m\u001b[92mStarting: Cardiovascular Disease-Minor Surgery\u001b[0m\u001b[0m\n",
      "Fitting 2 folds for each of 10 candidates, totalling 20 fits\n"
     ]
    },
    {
     "name": "stderr",
     "output_type": "stream",
     "text": [
      "c:\\Users\\ganga\\anaconda3\\envs\\inferred_speciality\\lib\\site-packages\\sklearn\\model_selection\\_search.py:976: UserWarning: One or more of the test scores are non-finite: [nan nan nan nan nan nan nan nan nan nan]\n",
      "  warnings.warn(\n"
     ]
    },
    {
     "name": "stdout",
     "output_type": "stream",
     "text": [
      "Best parameters found:  {'n_estimators': 50, 'max_depth': 9, 'learning_rate': 0.05, 'colsample_bytree': 0.6}\n",
      "X_train results,\n",
      "X_test results,\n",
      "number of spl predicted as others:  143\n",
      "num of others predicted as spl:  17\n",
      "\u001b[1m\u001b[92mStarting: Cardiovascular Disease-No Surgery\u001b[0m\u001b[0m\n",
      "Fitting 2 folds for each of 10 candidates, totalling 20 fits\n"
     ]
    },
    {
     "name": "stderr",
     "output_type": "stream",
     "text": [
      "c:\\Users\\ganga\\anaconda3\\envs\\inferred_speciality\\lib\\site-packages\\sklearn\\model_selection\\_search.py:976: UserWarning: One or more of the test scores are non-finite: [nan nan nan nan nan nan nan nan nan nan]\n",
      "  warnings.warn(\n"
     ]
    },
    {
     "name": "stdout",
     "output_type": "stream",
     "text": [
      "Best parameters found:  {'n_estimators': 50, 'max_depth': 9, 'learning_rate': 0.05, 'colsample_bytree': 0.6}\n",
      "X_train results,\n",
      "X_test results,\n",
      "number of spl predicted as others:  229\n",
      "num of others predicted as spl:  180\n",
      "\u001b[1m\u001b[92mStarting: Cardiovascular Disease-Surgery\u001b[0m\u001b[0m\n",
      "Fitting 2 folds for each of 10 candidates, totalling 20 fits\n"
     ]
    },
    {
     "name": "stderr",
     "output_type": "stream",
     "text": [
      "c:\\Users\\ganga\\anaconda3\\envs\\inferred_speciality\\lib\\site-packages\\sklearn\\model_selection\\_search.py:976: UserWarning: One or more of the test scores are non-finite: [nan nan nan nan nan nan nan nan nan nan]\n",
      "  warnings.warn(\n"
     ]
    },
    {
     "name": "stdout",
     "output_type": "stream",
     "text": [
      "Best parameters found:  {'n_estimators': 50, 'max_depth': 9, 'learning_rate': 0.05, 'colsample_bytree': 0.6}\n",
      "X_train results,\n",
      "X_test results,\n",
      "number of spl predicted as others:  20\n",
      "num of others predicted as spl:  0\n",
      "\u001b[1m\u001b[92mStarting: Vascular-Surgery\u001b[0m\u001b[0m\n"
     ]
    },
    {
     "name": "stderr",
     "output_type": "stream",
     "text": [
      "c:\\Users\\ganga\\anaconda3\\envs\\inferred_speciality\\lib\\site-packages\\sklearn\\metrics\\_classification.py:1469: UndefinedMetricWarning: Precision and F-score are ill-defined and being set to 0.0 in labels with no predicted samples. Use `zero_division` parameter to control this behavior.\n",
      "  _warn_prf(average, modifier, msg_start, len(result))\n",
      "c:\\Users\\ganga\\anaconda3\\envs\\inferred_speciality\\lib\\site-packages\\sklearn\\metrics\\_classification.py:1469: UndefinedMetricWarning: Precision and F-score are ill-defined and being set to 0.0 in labels with no predicted samples. Use `zero_division` parameter to control this behavior.\n",
      "  _warn_prf(average, modifier, msg_start, len(result))\n",
      "c:\\Users\\ganga\\anaconda3\\envs\\inferred_speciality\\lib\\site-packages\\sklearn\\metrics\\_classification.py:1469: UndefinedMetricWarning: Precision and F-score are ill-defined and being set to 0.0 in labels with no predicted samples. Use `zero_division` parameter to control this behavior.\n",
      "  _warn_prf(average, modifier, msg_start, len(result))\n"
     ]
    },
    {
     "name": "stdout",
     "output_type": "stream",
     "text": [
      "Fitting 2 folds for each of 10 candidates, totalling 20 fits\n"
     ]
    },
    {
     "name": "stderr",
     "output_type": "stream",
     "text": [
      "c:\\Users\\ganga\\anaconda3\\envs\\inferred_speciality\\lib\\site-packages\\sklearn\\model_selection\\_search.py:976: UserWarning: One or more of the test scores are non-finite: [nan nan nan nan nan nan nan nan nan nan]\n",
      "  warnings.warn(\n"
     ]
    },
    {
     "name": "stdout",
     "output_type": "stream",
     "text": [
      "Best parameters found:  {'n_estimators': 50, 'max_depth': 9, 'learning_rate': 0.05, 'colsample_bytree': 0.6}\n",
      "X_train results,\n",
      "X_test results,\n",
      "number of spl predicted as others:  75\n",
      "num of others predicted as spl:  12\n",
      "\u001b[1m\u001b[92mStarting: Dermatology-Minor Surgery\u001b[0m\u001b[0m\n",
      "Fitting 2 folds for each of 10 candidates, totalling 20 fits\n"
     ]
    },
    {
     "name": "stderr",
     "output_type": "stream",
     "text": [
      "c:\\Users\\ganga\\anaconda3\\envs\\inferred_speciality\\lib\\site-packages\\sklearn\\model_selection\\_search.py:976: UserWarning: One or more of the test scores are non-finite: [nan nan nan nan nan nan nan nan nan nan]\n",
      "  warnings.warn(\n"
     ]
    },
    {
     "name": "stdout",
     "output_type": "stream",
     "text": [
      "Best parameters found:  {'n_estimators': 50, 'max_depth': 9, 'learning_rate': 0.05, 'colsample_bytree': 0.6}\n",
      "X_train results,\n",
      "X_test results,\n",
      "number of spl predicted as others:  52\n",
      "num of others predicted as spl:  0\n",
      "\u001b[1m\u001b[92mStarting: Dermatology-No Surgery\u001b[0m\u001b[0m\n",
      "Fitting 2 folds for each of 10 candidates, totalling 20 fits\n"
     ]
    },
    {
     "name": "stderr",
     "output_type": "stream",
     "text": [
      "c:\\Users\\ganga\\anaconda3\\envs\\inferred_speciality\\lib\\site-packages\\sklearn\\model_selection\\_search.py:976: UserWarning: One or more of the test scores are non-finite: [nan nan nan nan nan nan nan nan nan nan]\n",
      "  warnings.warn(\n"
     ]
    },
    {
     "name": "stdout",
     "output_type": "stream",
     "text": [
      "Best parameters found:  {'n_estimators': 50, 'max_depth': 9, 'learning_rate': 0.05, 'colsample_bytree': 0.6}\n",
      "X_train results,\n",
      "X_test results,\n",
      "number of spl predicted as others:  123\n",
      "num of others predicted as spl:  114\n",
      "\u001b[1m\u001b[92mStarting: Neurology-Surgery\u001b[0m\u001b[0m\n",
      "Fitting 2 folds for each of 10 candidates, totalling 20 fits\n"
     ]
    },
    {
     "name": "stderr",
     "output_type": "stream",
     "text": [
      "c:\\Users\\ganga\\anaconda3\\envs\\inferred_speciality\\lib\\site-packages\\sklearn\\model_selection\\_search.py:976: UserWarning: One or more of the test scores are non-finite: [nan nan nan nan nan nan nan nan nan nan]\n",
      "  warnings.warn(\n"
     ]
    },
    {
     "name": "stdout",
     "output_type": "stream",
     "text": [
      "Best parameters found:  {'n_estimators': 50, 'max_depth': 9, 'learning_rate': 0.05, 'colsample_bytree': 0.6}\n",
      "X_train results,\n",
      "X_test results,\n",
      "number of spl predicted as others:  10\n",
      "num of others predicted as spl:  0\n",
      "\u001b[1m\u001b[92mStarting: Neurology-No Surgery\u001b[0m\u001b[0m\n"
     ]
    },
    {
     "name": "stderr",
     "output_type": "stream",
     "text": [
      "c:\\Users\\ganga\\anaconda3\\envs\\inferred_speciality\\lib\\site-packages\\sklearn\\metrics\\_classification.py:1469: UndefinedMetricWarning: Precision and F-score are ill-defined and being set to 0.0 in labels with no predicted samples. Use `zero_division` parameter to control this behavior.\n",
      "  _warn_prf(average, modifier, msg_start, len(result))\n",
      "c:\\Users\\ganga\\anaconda3\\envs\\inferred_speciality\\lib\\site-packages\\sklearn\\metrics\\_classification.py:1469: UndefinedMetricWarning: Precision and F-score are ill-defined and being set to 0.0 in labels with no predicted samples. Use `zero_division` parameter to control this behavior.\n",
      "  _warn_prf(average, modifier, msg_start, len(result))\n",
      "c:\\Users\\ganga\\anaconda3\\envs\\inferred_speciality\\lib\\site-packages\\sklearn\\metrics\\_classification.py:1469: UndefinedMetricWarning: Precision and F-score are ill-defined and being set to 0.0 in labels with no predicted samples. Use `zero_division` parameter to control this behavior.\n",
      "  _warn_prf(average, modifier, msg_start, len(result))\n"
     ]
    },
    {
     "name": "stdout",
     "output_type": "stream",
     "text": [
      "Fitting 2 folds for each of 10 candidates, totalling 20 fits\n"
     ]
    },
    {
     "name": "stderr",
     "output_type": "stream",
     "text": [
      "c:\\Users\\ganga\\anaconda3\\envs\\inferred_speciality\\lib\\site-packages\\sklearn\\model_selection\\_search.py:976: UserWarning: One or more of the test scores are non-finite: [nan nan nan nan nan nan nan nan nan nan]\n",
      "  warnings.warn(\n"
     ]
    },
    {
     "name": "stdout",
     "output_type": "stream",
     "text": [
      "Best parameters found:  {'n_estimators': 50, 'max_depth': 9, 'learning_rate': 0.05, 'colsample_bytree': 0.6}\n",
      "X_train results,\n",
      "X_test results,\n",
      "number of spl predicted as others:  237\n",
      "num of others predicted as spl:  1\n",
      "\u001b[1m\u001b[92mStarting: Obstetrics Gynecology-Surgery\u001b[0m\u001b[0m\n",
      "Fitting 2 folds for each of 10 candidates, totalling 20 fits\n"
     ]
    },
    {
     "name": "stderr",
     "output_type": "stream",
     "text": [
      "c:\\Users\\ganga\\anaconda3\\envs\\inferred_speciality\\lib\\site-packages\\sklearn\\model_selection\\_search.py:976: UserWarning: One or more of the test scores are non-finite: [nan nan nan nan nan nan nan nan nan nan]\n",
      "  warnings.warn(\n"
     ]
    },
    {
     "name": "stdout",
     "output_type": "stream",
     "text": [
      "Best parameters found:  {'n_estimators': 50, 'max_depth': 9, 'learning_rate': 0.05, 'colsample_bytree': 0.6}\n",
      "X_train results,\n",
      "X_test results,\n",
      "number of spl predicted as others:  373\n",
      "num of others predicted as spl:  159\n",
      "\u001b[1m\u001b[92mStarting: Gynecology-Minor Surgery\u001b[0m\u001b[0m\n",
      "Fitting 2 folds for each of 10 candidates, totalling 20 fits\n"
     ]
    },
    {
     "name": "stderr",
     "output_type": "stream",
     "text": [
      "c:\\Users\\ganga\\anaconda3\\envs\\inferred_speciality\\lib\\site-packages\\sklearn\\model_selection\\_search.py:976: UserWarning: One or more of the test scores are non-finite: [nan nan nan nan nan nan nan nan nan nan]\n",
      "  warnings.warn(\n"
     ]
    },
    {
     "name": "stdout",
     "output_type": "stream",
     "text": [
      "Best parameters found:  {'n_estimators': 50, 'max_depth': 9, 'learning_rate': 0.05, 'colsample_bytree': 0.6}\n",
      "X_train results,\n",
      "X_test results,\n",
      "number of spl predicted as others:  21\n",
      "num of others predicted as spl:  5\n",
      "\u001b[1m\u001b[92mStarting: Gynecology-No Surgery\u001b[0m\u001b[0m\n",
      "Fitting 2 folds for each of 10 candidates, totalling 20 fits\n"
     ]
    },
    {
     "name": "stderr",
     "output_type": "stream",
     "text": [
      "c:\\Users\\ganga\\anaconda3\\envs\\inferred_speciality\\lib\\site-packages\\sklearn\\model_selection\\_search.py:976: UserWarning: One or more of the test scores are non-finite: [nan nan nan nan nan nan nan nan nan nan]\n",
      "  warnings.warn(\n"
     ]
    },
    {
     "name": "stdout",
     "output_type": "stream",
     "text": [
      "Best parameters found:  {'n_estimators': 50, 'max_depth': 9, 'learning_rate': 0.05, 'colsample_bytree': 0.6}\n",
      "X_train results,\n",
      "X_test results,\n",
      "number of spl predicted as others:  74\n",
      "num of others predicted as spl:  0\n",
      "\u001b[1m\u001b[92mStarting: Gynecology-Surgery\u001b[0m\u001b[0m\n"
     ]
    },
    {
     "name": "stderr",
     "output_type": "stream",
     "text": [
      "c:\\Users\\ganga\\anaconda3\\envs\\inferred_speciality\\lib\\site-packages\\sklearn\\metrics\\_classification.py:1469: UndefinedMetricWarning: Precision and F-score are ill-defined and being set to 0.0 in labels with no predicted samples. Use `zero_division` parameter to control this behavior.\n",
      "  _warn_prf(average, modifier, msg_start, len(result))\n",
      "c:\\Users\\ganga\\anaconda3\\envs\\inferred_speciality\\lib\\site-packages\\sklearn\\metrics\\_classification.py:1469: UndefinedMetricWarning: Precision and F-score are ill-defined and being set to 0.0 in labels with no predicted samples. Use `zero_division` parameter to control this behavior.\n",
      "  _warn_prf(average, modifier, msg_start, len(result))\n",
      "c:\\Users\\ganga\\anaconda3\\envs\\inferred_speciality\\lib\\site-packages\\sklearn\\metrics\\_classification.py:1469: UndefinedMetricWarning: Precision and F-score are ill-defined and being set to 0.0 in labels with no predicted samples. Use `zero_division` parameter to control this behavior.\n",
      "  _warn_prf(average, modifier, msg_start, len(result))\n"
     ]
    },
    {
     "name": "stdout",
     "output_type": "stream",
     "text": [
      "Fitting 2 folds for each of 10 candidates, totalling 20 fits\n"
     ]
    },
    {
     "name": "stderr",
     "output_type": "stream",
     "text": [
      "c:\\Users\\ganga\\anaconda3\\envs\\inferred_speciality\\lib\\site-packages\\sklearn\\model_selection\\_search.py:976: UserWarning: One or more of the test scores are non-finite: [nan nan nan nan nan nan nan nan nan nan]\n",
      "  warnings.warn(\n"
     ]
    },
    {
     "name": "stdout",
     "output_type": "stream",
     "text": [
      "Best parameters found:  {'n_estimators': 50, 'max_depth': 9, 'learning_rate': 0.05, 'colsample_bytree': 0.6}\n",
      "X_train results,\n",
      "X_test results,\n",
      "number of spl predicted as others:  37\n",
      "num of others predicted as spl:  2\n",
      "\u001b[1m\u001b[92mStarting: General Preventive Med-No Surgery\u001b[0m\u001b[0m\n",
      "Fitting 2 folds for each of 10 candidates, totalling 20 fits\n"
     ]
    },
    {
     "name": "stderr",
     "output_type": "stream",
     "text": [
      "c:\\Users\\ganga\\anaconda3\\envs\\inferred_speciality\\lib\\site-packages\\sklearn\\model_selection\\_search.py:976: UserWarning: One or more of the test scores are non-finite: [nan nan nan nan nan nan nan nan nan nan]\n",
      "  warnings.warn(\n"
     ]
    },
    {
     "name": "stdout",
     "output_type": "stream",
     "text": [
      "Best parameters found:  {'n_estimators': 50, 'max_depth': 9, 'learning_rate': 0.05, 'colsample_bytree': 0.6}\n",
      "X_train results,\n",
      "X_test results,\n",
      "number of spl predicted as others:  49\n",
      "num of others predicted as spl:  0\n",
      "\u001b[1m\u001b[92mStarting: General NOC-Surgery\u001b[0m\u001b[0m\n",
      "Fitting 2 folds for each of 10 candidates, totalling 20 fits\n"
     ]
    },
    {
     "name": "stderr",
     "output_type": "stream",
     "text": [
      "c:\\Users\\ganga\\anaconda3\\envs\\inferred_speciality\\lib\\site-packages\\sklearn\\model_selection\\_search.py:976: UserWarning: One or more of the test scores are non-finite: [nan nan nan nan nan nan nan nan nan nan]\n",
      "  warnings.warn(\n"
     ]
    },
    {
     "name": "stdout",
     "output_type": "stream",
     "text": [
      "Best parameters found:  {'n_estimators': 50, 'max_depth': 9, 'learning_rate': 0.05, 'colsample_bytree': 0.6}\n",
      "X_train results,\n",
      "X_test results,\n",
      "number of spl predicted as others:  1178\n",
      "num of others predicted as spl:  71\n",
      "\u001b[1m\u001b[92mStarting: Orthopedic Excl Back-Surgery\u001b[0m\u001b[0m\n",
      "Fitting 2 folds for each of 10 candidates, totalling 20 fits\n"
     ]
    },
    {
     "name": "stderr",
     "output_type": "stream",
     "text": [
      "c:\\Users\\ganga\\anaconda3\\envs\\inferred_speciality\\lib\\site-packages\\sklearn\\model_selection\\_search.py:976: UserWarning: One or more of the test scores are non-finite: [nan nan nan nan nan nan nan nan nan nan]\n",
      "  warnings.warn(\n"
     ]
    },
    {
     "name": "stdout",
     "output_type": "stream",
     "text": [
      "Best parameters found:  {'n_estimators': 50, 'max_depth': 9, 'learning_rate': 0.05, 'colsample_bytree': 0.6}\n",
      "X_train results,\n",
      "X_test results,\n",
      "number of spl predicted as others:  250\n",
      "num of others predicted as spl:  61\n",
      "\u001b[1m\u001b[92mStarting: Orthopedic Incl Back-Surgery\u001b[0m\u001b[0m\n",
      "Fitting 2 folds for each of 10 candidates, totalling 20 fits\n"
     ]
    },
    {
     "name": "stderr",
     "output_type": "stream",
     "text": [
      "c:\\Users\\ganga\\anaconda3\\envs\\inferred_speciality\\lib\\site-packages\\sklearn\\model_selection\\_search.py:976: UserWarning: One or more of the test scores are non-finite: [nan nan nan nan nan nan nan nan nan nan]\n",
      "  warnings.warn(\n"
     ]
    },
    {
     "name": "stdout",
     "output_type": "stream",
     "text": [
      "Best parameters found:  {'n_estimators': 50, 'max_depth': 9, 'learning_rate': 0.05, 'colsample_bytree': 0.6}\n",
      "X_train results,\n",
      "X_test results,\n",
      "number of spl predicted as others:  35\n",
      "num of others predicted as spl:  0\n",
      "\u001b[1m\u001b[92mStarting: Ophthalmology-No Surgery\u001b[0m\u001b[0m\n",
      "Fitting 2 folds for each of 10 candidates, totalling 20 fits\n"
     ]
    },
    {
     "name": "stderr",
     "output_type": "stream",
     "text": [
      "c:\\Users\\ganga\\anaconda3\\envs\\inferred_speciality\\lib\\site-packages\\sklearn\\model_selection\\_search.py:976: UserWarning: One or more of the test scores are non-finite: [nan nan nan nan nan nan nan nan nan nan]\n",
      "  warnings.warn(\n"
     ]
    },
    {
     "name": "stdout",
     "output_type": "stream",
     "text": [
      "Best parameters found:  {'n_estimators': 50, 'max_depth': 9, 'learning_rate': 0.05, 'colsample_bytree': 0.6}\n",
      "X_train results,\n",
      "X_test results,\n",
      "number of spl predicted as others:  148\n",
      "num of others predicted as spl:  76\n",
      "\u001b[1m\u001b[92mStarting: Ophthalmology-Minor Surgery\u001b[0m\u001b[0m\n",
      "Fitting 2 folds for each of 10 candidates, totalling 20 fits\n"
     ]
    },
    {
     "name": "stderr",
     "output_type": "stream",
     "text": [
      "c:\\Users\\ganga\\anaconda3\\envs\\inferred_speciality\\lib\\site-packages\\sklearn\\model_selection\\_search.py:976: UserWarning: One or more of the test scores are non-finite: [nan nan nan nan nan nan nan nan nan nan]\n",
      "  warnings.warn(\n"
     ]
    },
    {
     "name": "stdout",
     "output_type": "stream",
     "text": [
      "Best parameters found:  {'n_estimators': 50, 'max_depth': 9, 'learning_rate': 0.05, 'colsample_bytree': 0.6}\n",
      "X_train results,\n",
      "X_test results,\n",
      "number of spl predicted as others:  31\n",
      "num of others predicted as spl:  3\n",
      "\u001b[1m\u001b[92mStarting: Ophthalmology-Surgery\u001b[0m\u001b[0m\n",
      "Fitting 2 folds for each of 10 candidates, totalling 20 fits\n"
     ]
    },
    {
     "name": "stderr",
     "output_type": "stream",
     "text": [
      "c:\\Users\\ganga\\anaconda3\\envs\\inferred_speciality\\lib\\site-packages\\sklearn\\model_selection\\_search.py:976: UserWarning: One or more of the test scores are non-finite: [nan nan nan nan nan nan nan nan nan nan]\n",
      "  warnings.warn(\n"
     ]
    },
    {
     "name": "stdout",
     "output_type": "stream",
     "text": [
      "Best parameters found:  {'n_estimators': 50, 'max_depth': 9, 'learning_rate': 0.05, 'colsample_bytree': 0.6}\n",
      "X_train results,\n",
      "X_test results,\n",
      "number of spl predicted as others:  4\n",
      "num of others predicted as spl:  0\n",
      "\u001b[1m\u001b[92mStarting: Otorhinolaryngology-No Surgery\u001b[0m\u001b[0m\n"
     ]
    },
    {
     "name": "stderr",
     "output_type": "stream",
     "text": [
      "c:\\Users\\ganga\\anaconda3\\envs\\inferred_speciality\\lib\\site-packages\\sklearn\\metrics\\_classification.py:1469: UndefinedMetricWarning: Precision and F-score are ill-defined and being set to 0.0 in labels with no predicted samples. Use `zero_division` parameter to control this behavior.\n",
      "  _warn_prf(average, modifier, msg_start, len(result))\n",
      "c:\\Users\\ganga\\anaconda3\\envs\\inferred_speciality\\lib\\site-packages\\sklearn\\metrics\\_classification.py:1469: UndefinedMetricWarning: Precision and F-score are ill-defined and being set to 0.0 in labels with no predicted samples. Use `zero_division` parameter to control this behavior.\n",
      "  _warn_prf(average, modifier, msg_start, len(result))\n",
      "c:\\Users\\ganga\\anaconda3\\envs\\inferred_speciality\\lib\\site-packages\\sklearn\\metrics\\_classification.py:1469: UndefinedMetricWarning: Precision and F-score are ill-defined and being set to 0.0 in labels with no predicted samples. Use `zero_division` parameter to control this behavior.\n",
      "  _warn_prf(average, modifier, msg_start, len(result))\n"
     ]
    },
    {
     "name": "stdout",
     "output_type": "stream",
     "text": [
      "Fitting 2 folds for each of 10 candidates, totalling 20 fits\n"
     ]
    },
    {
     "name": "stderr",
     "output_type": "stream",
     "text": [
      "c:\\Users\\ganga\\anaconda3\\envs\\inferred_speciality\\lib\\site-packages\\sklearn\\model_selection\\_search.py:976: UserWarning: One or more of the test scores are non-finite: [nan nan nan nan nan nan nan nan nan nan]\n",
      "  warnings.warn(\n"
     ]
    },
    {
     "name": "stdout",
     "output_type": "stream",
     "text": [
      "Best parameters found:  {'n_estimators': 50, 'max_depth': 9, 'learning_rate': 0.05, 'colsample_bytree': 0.6}\n",
      "X_train results,\n",
      "X_test results,\n",
      "number of spl predicted as others:  28\n",
      "num of others predicted as spl:  3\n",
      "\u001b[1m\u001b[92mStarting: Otorhinolaryngology-Minor Surgery\u001b[0m\u001b[0m\n",
      "Fitting 2 folds for each of 10 candidates, totalling 20 fits\n"
     ]
    },
    {
     "name": "stderr",
     "output_type": "stream",
     "text": [
      "c:\\Users\\ganga\\anaconda3\\envs\\inferred_speciality\\lib\\site-packages\\sklearn\\model_selection\\_search.py:976: UserWarning: One or more of the test scores are non-finite: [nan nan nan nan nan nan nan nan nan nan]\n",
      "  warnings.warn(\n"
     ]
    },
    {
     "name": "stdout",
     "output_type": "stream",
     "text": [
      "Best parameters found:  {'n_estimators': 50, 'max_depth': 9, 'learning_rate': 0.05, 'colsample_bytree': 0.6}\n",
      "X_train results,\n",
      "X_test results,\n",
      "number of spl predicted as others:  84\n",
      "num of others predicted as spl:  56\n",
      "\u001b[1m\u001b[92mStarting: Otorhinolaryngology-Surgery\u001b[0m\u001b[0m\n",
      "Fitting 2 folds for each of 10 candidates, totalling 20 fits\n"
     ]
    },
    {
     "name": "stderr",
     "output_type": "stream",
     "text": [
      "c:\\Users\\ganga\\anaconda3\\envs\\inferred_speciality\\lib\\site-packages\\sklearn\\model_selection\\_search.py:976: UserWarning: One or more of the test scores are non-finite: [nan nan nan nan nan nan nan nan nan nan]\n",
      "  warnings.warn(\n"
     ]
    },
    {
     "name": "stdout",
     "output_type": "stream",
     "text": [
      "Best parameters found:  {'n_estimators': 50, 'max_depth': 9, 'learning_rate': 0.05, 'colsample_bytree': 0.6}\n",
      "X_train results,\n",
      "X_test results,\n",
      "number of spl predicted as others:  17\n",
      "num of others predicted as spl:  0\n",
      "\u001b[1m\u001b[92mStarting: Radiology Diagnostic-Minor Surgery\u001b[0m\u001b[0m\n"
     ]
    },
    {
     "name": "stderr",
     "output_type": "stream",
     "text": [
      "c:\\Users\\ganga\\anaconda3\\envs\\inferred_speciality\\lib\\site-packages\\sklearn\\metrics\\_classification.py:1469: UndefinedMetricWarning: Precision and F-score are ill-defined and being set to 0.0 in labels with no predicted samples. Use `zero_division` parameter to control this behavior.\n",
      "  _warn_prf(average, modifier, msg_start, len(result))\n",
      "c:\\Users\\ganga\\anaconda3\\envs\\inferred_speciality\\lib\\site-packages\\sklearn\\metrics\\_classification.py:1469: UndefinedMetricWarning: Precision and F-score are ill-defined and being set to 0.0 in labels with no predicted samples. Use `zero_division` parameter to control this behavior.\n",
      "  _warn_prf(average, modifier, msg_start, len(result))\n",
      "c:\\Users\\ganga\\anaconda3\\envs\\inferred_speciality\\lib\\site-packages\\sklearn\\metrics\\_classification.py:1469: UndefinedMetricWarning: Precision and F-score are ill-defined and being set to 0.0 in labels with no predicted samples. Use `zero_division` parameter to control this behavior.\n",
      "  _warn_prf(average, modifier, msg_start, len(result))\n"
     ]
    },
    {
     "name": "stdout",
     "output_type": "stream",
     "text": [
      "Fitting 2 folds for each of 10 candidates, totalling 20 fits\n"
     ]
    },
    {
     "name": "stderr",
     "output_type": "stream",
     "text": [
      "c:\\Users\\ganga\\anaconda3\\envs\\inferred_speciality\\lib\\site-packages\\sklearn\\model_selection\\_search.py:976: UserWarning: One or more of the test scores are non-finite: [nan nan nan nan nan nan nan nan nan nan]\n",
      "  warnings.warn(\n"
     ]
    },
    {
     "name": "stdout",
     "output_type": "stream",
     "text": [
      "Best parameters found:  {'n_estimators': 50, 'max_depth': 9, 'learning_rate': 0.05, 'colsample_bytree': 0.6}\n",
      "X_train results,\n",
      "X_test results,\n",
      "number of spl predicted as others:  54\n",
      "num of others predicted as spl:  8\n",
      "\u001b[1m\u001b[92mStarting: Radiology Diagnostic-No Surgery\u001b[0m\u001b[0m\n",
      "Fitting 2 folds for each of 10 candidates, totalling 20 fits\n"
     ]
    },
    {
     "name": "stderr",
     "output_type": "stream",
     "text": [
      "c:\\Users\\ganga\\anaconda3\\envs\\inferred_speciality\\lib\\site-packages\\sklearn\\model_selection\\_search.py:976: UserWarning: One or more of the test scores are non-finite: [nan nan nan nan nan nan nan nan nan nan]\n",
      "  warnings.warn(\n"
     ]
    },
    {
     "name": "stdout",
     "output_type": "stream",
     "text": [
      "Best parameters found:  {'n_estimators': 50, 'max_depth': 9, 'learning_rate': 0.05, 'colsample_bytree': 0.6}\n",
      "X_train results,\n",
      "X_test results,\n",
      "number of spl predicted as others:  149\n",
      "num of others predicted as spl:  110\n",
      "\u001b[1m\u001b[92mStarting: Pediatrics-Minor Surgery\u001b[0m\u001b[0m\n",
      "Fitting 2 folds for each of 10 candidates, totalling 20 fits\n"
     ]
    },
    {
     "name": "stderr",
     "output_type": "stream",
     "text": [
      "c:\\Users\\ganga\\anaconda3\\envs\\inferred_speciality\\lib\\site-packages\\sklearn\\model_selection\\_search.py:976: UserWarning: One or more of the test scores are non-finite: [nan nan nan nan nan nan nan nan nan nan]\n",
      "  warnings.warn(\n"
     ]
    },
    {
     "name": "stdout",
     "output_type": "stream",
     "text": [
      "Best parameters found:  {'n_estimators': 50, 'max_depth': 9, 'learning_rate': 0.05, 'colsample_bytree': 0.6}\n",
      "X_train results,\n",
      "X_test results,\n",
      "number of spl predicted as others:  45\n",
      "num of others predicted as spl:  1\n",
      "\u001b[1m\u001b[92mStarting: Pediatrics-No Surgery\u001b[0m\u001b[0m\n",
      "Fitting 2 folds for each of 10 candidates, totalling 20 fits\n"
     ]
    },
    {
     "name": "stderr",
     "output_type": "stream",
     "text": [
      "c:\\Users\\ganga\\anaconda3\\envs\\inferred_speciality\\lib\\site-packages\\sklearn\\model_selection\\_search.py:976: UserWarning: One or more of the test scores are non-finite: [nan nan nan nan nan nan nan nan nan nan]\n",
      "  warnings.warn(\n"
     ]
    },
    {
     "name": "stdout",
     "output_type": "stream",
     "text": [
      "Best parameters found:  {'n_estimators': 50, 'max_depth': 9, 'learning_rate': 0.05, 'colsample_bytree': 0.6}\n",
      "X_train results,\n",
      "X_test results,\n",
      "number of spl predicted as others:  805\n",
      "num of others predicted as spl:  263\n",
      "\u001b[1m\u001b[92mStarting: Acupuncture\u001b[0m\u001b[0m\n",
      "Fitting 2 folds for each of 10 candidates, totalling 20 fits\n"
     ]
    },
    {
     "name": "stderr",
     "output_type": "stream",
     "text": [
      "c:\\Users\\ganga\\anaconda3\\envs\\inferred_speciality\\lib\\site-packages\\sklearn\\model_selection\\_search.py:976: UserWarning: One or more of the test scores are non-finite: [nan nan nan nan nan nan nan nan nan nan]\n",
      "  warnings.warn(\n"
     ]
    },
    {
     "name": "stdout",
     "output_type": "stream",
     "text": [
      "Best parameters found:  {'n_estimators': 50, 'max_depth': 9, 'learning_rate': 0.05, 'colsample_bytree': 0.6}\n",
      "X_train results,\n",
      "X_test results,\n",
      "number of spl predicted as others:  12\n",
      "num of others predicted as spl:  3\n",
      "\u001b[1m\u001b[92mStarting: Aerospace Medicine\u001b[0m\u001b[0m\n",
      "Fitting 2 folds for each of 10 candidates, totalling 20 fits\n"
     ]
    },
    {
     "name": "stderr",
     "output_type": "stream",
     "text": [
      "c:\\Users\\ganga\\anaconda3\\envs\\inferred_speciality\\lib\\site-packages\\sklearn\\model_selection\\_search.py:976: UserWarning: One or more of the test scores are non-finite: [nan nan nan nan nan nan nan nan nan nan]\n",
      "  warnings.warn(\n"
     ]
    },
    {
     "name": "stdout",
     "output_type": "stream",
     "text": [
      "Best parameters found:  {'n_estimators': 50, 'max_depth': 9, 'learning_rate': 0.05, 'colsample_bytree': 0.6}\n",
      "X_train results,\n"
     ]
    },
    {
     "name": "stderr",
     "output_type": "stream",
     "text": [
      "c:\\Users\\ganga\\anaconda3\\envs\\inferred_speciality\\lib\\site-packages\\sklearn\\metrics\\_classification.py:1469: UndefinedMetricWarning: Precision and F-score are ill-defined and being set to 0.0 in labels with no predicted samples. Use `zero_division` parameter to control this behavior.\n",
      "  _warn_prf(average, modifier, msg_start, len(result))\n",
      "c:\\Users\\ganga\\anaconda3\\envs\\inferred_speciality\\lib\\site-packages\\sklearn\\metrics\\_classification.py:1469: UndefinedMetricWarning: Precision and F-score are ill-defined and being set to 0.0 in labels with no predicted samples. Use `zero_division` parameter to control this behavior.\n",
      "  _warn_prf(average, modifier, msg_start, len(result))\n",
      "c:\\Users\\ganga\\anaconda3\\envs\\inferred_speciality\\lib\\site-packages\\sklearn\\metrics\\_classification.py:1469: UndefinedMetricWarning: Precision and F-score are ill-defined and being set to 0.0 in labels with no predicted samples. Use `zero_division` parameter to control this behavior.\n",
      "  _warn_prf(average, modifier, msg_start, len(result))\n",
      "c:\\Users\\ganga\\anaconda3\\envs\\inferred_speciality\\lib\\site-packages\\sklearn\\metrics\\_classification.py:1469: UndefinedMetricWarning: Precision and F-score are ill-defined and being set to 0.0 in labels with no predicted samples. Use `zero_division` parameter to control this behavior.\n",
      "  _warn_prf(average, modifier, msg_start, len(result))\n"
     ]
    },
    {
     "name": "stdout",
     "output_type": "stream",
     "text": [
      "X_test results,\n",
      "number of spl predicted as others:  2\n",
      "num of others predicted as spl:  0\n",
      "\u001b[1m\u001b[92mStarting: Allergy\u001b[0m\u001b[0m\n"
     ]
    },
    {
     "name": "stderr",
     "output_type": "stream",
     "text": [
      "c:\\Users\\ganga\\anaconda3\\envs\\inferred_speciality\\lib\\site-packages\\sklearn\\metrics\\_classification.py:1469: UndefinedMetricWarning: Precision and F-score are ill-defined and being set to 0.0 in labels with no predicted samples. Use `zero_division` parameter to control this behavior.\n",
      "  _warn_prf(average, modifier, msg_start, len(result))\n",
      "c:\\Users\\ganga\\anaconda3\\envs\\inferred_speciality\\lib\\site-packages\\sklearn\\metrics\\_classification.py:1469: UndefinedMetricWarning: Precision and F-score are ill-defined and being set to 0.0 in labels with no predicted samples. Use `zero_division` parameter to control this behavior.\n",
      "  _warn_prf(average, modifier, msg_start, len(result))\n"
     ]
    },
    {
     "name": "stdout",
     "output_type": "stream",
     "text": [
      "Fitting 2 folds for each of 10 candidates, totalling 20 fits\n"
     ]
    },
    {
     "name": "stderr",
     "output_type": "stream",
     "text": [
      "c:\\Users\\ganga\\anaconda3\\envs\\inferred_speciality\\lib\\site-packages\\sklearn\\model_selection\\_search.py:976: UserWarning: One or more of the test scores are non-finite: [nan nan nan nan nan nan nan nan nan nan]\n",
      "  warnings.warn(\n"
     ]
    },
    {
     "name": "stdout",
     "output_type": "stream",
     "text": [
      "Best parameters found:  {'n_estimators': 50, 'max_depth': 9, 'learning_rate': 0.05, 'colsample_bytree': 0.6}\n",
      "X_train results,\n",
      "X_test results,\n",
      "number of spl predicted as others:  47\n",
      "num of others predicted as spl:  23\n",
      "\u001b[1m\u001b[92mStarting: Audiologist\u001b[0m\u001b[0m\n",
      "Fitting 2 folds for each of 10 candidates, totalling 20 fits\n"
     ]
    },
    {
     "name": "stderr",
     "output_type": "stream",
     "text": [
      "c:\\Users\\ganga\\anaconda3\\envs\\inferred_speciality\\lib\\site-packages\\sklearn\\model_selection\\_search.py:976: UserWarning: One or more of the test scores are non-finite: [nan nan nan nan nan nan nan nan nan nan]\n",
      "  warnings.warn(\n"
     ]
    },
    {
     "name": "stdout",
     "output_type": "stream",
     "text": [
      "Best parameters found:  {'n_estimators': 50, 'max_depth': 9, 'learning_rate': 0.05, 'colsample_bytree': 0.6}\n",
      "X_train results,\n",
      "X_test results,\n",
      "number of spl predicted as others:  11\n",
      "num of others predicted as spl:  9\n",
      "\u001b[1m\u001b[92mStarting: Bariatric-Surgery\u001b[0m\u001b[0m\n",
      "Fitting 2 folds for each of 10 candidates, totalling 20 fits\n"
     ]
    },
    {
     "name": "stderr",
     "output_type": "stream",
     "text": [
      "c:\\Users\\ganga\\anaconda3\\envs\\inferred_speciality\\lib\\site-packages\\sklearn\\model_selection\\_search.py:976: UserWarning: One or more of the test scores are non-finite: [nan nan nan nan nan nan nan nan nan nan]\n",
      "  warnings.warn(\n"
     ]
    },
    {
     "name": "stdout",
     "output_type": "stream",
     "text": [
      "Best parameters found:  {'n_estimators': 50, 'max_depth': 9, 'learning_rate': 0.05, 'colsample_bytree': 0.6}\n",
      "X_train results,\n"
     ]
    },
    {
     "name": "stderr",
     "output_type": "stream",
     "text": [
      "c:\\Users\\ganga\\anaconda3\\envs\\inferred_speciality\\lib\\site-packages\\sklearn\\metrics\\_classification.py:1469: UndefinedMetricWarning: Precision and F-score are ill-defined and being set to 0.0 in labels with no predicted samples. Use `zero_division` parameter to control this behavior.\n",
      "  _warn_prf(average, modifier, msg_start, len(result))\n",
      "c:\\Users\\ganga\\anaconda3\\envs\\inferred_speciality\\lib\\site-packages\\sklearn\\metrics\\_classification.py:1469: UndefinedMetricWarning: Precision and F-score are ill-defined and being set to 0.0 in labels with no predicted samples. Use `zero_division` parameter to control this behavior.\n",
      "  _warn_prf(average, modifier, msg_start, len(result))\n",
      "c:\\Users\\ganga\\anaconda3\\envs\\inferred_speciality\\lib\\site-packages\\sklearn\\metrics\\_classification.py:1469: UndefinedMetricWarning: Precision and F-score are ill-defined and being set to 0.0 in labels with no predicted samples. Use `zero_division` parameter to control this behavior.\n",
      "  _warn_prf(average, modifier, msg_start, len(result))\n",
      "c:\\Users\\ganga\\anaconda3\\envs\\inferred_speciality\\lib\\site-packages\\sklearn\\metrics\\_classification.py:1469: UndefinedMetricWarning: Precision and F-score are ill-defined and being set to 0.0 in labels with no predicted samples. Use `zero_division` parameter to control this behavior.\n",
      "  _warn_prf(average, modifier, msg_start, len(result))\n"
     ]
    },
    {
     "name": "stdout",
     "output_type": "stream",
     "text": [
      "X_test results,\n",
      "number of spl predicted as others:  6\n",
      "num of others predicted as spl:  0\n",
      "\u001b[1m\u001b[92mStarting: Chiropractor\u001b[0m\u001b[0m\n"
     ]
    },
    {
     "name": "stderr",
     "output_type": "stream",
     "text": [
      "c:\\Users\\ganga\\anaconda3\\envs\\inferred_speciality\\lib\\site-packages\\sklearn\\metrics\\_classification.py:1469: UndefinedMetricWarning: Precision and F-score are ill-defined and being set to 0.0 in labels with no predicted samples. Use `zero_division` parameter to control this behavior.\n",
      "  _warn_prf(average, modifier, msg_start, len(result))\n",
      "c:\\Users\\ganga\\anaconda3\\envs\\inferred_speciality\\lib\\site-packages\\sklearn\\metrics\\_classification.py:1469: UndefinedMetricWarning: Precision and F-score are ill-defined and being set to 0.0 in labels with no predicted samples. Use `zero_division` parameter to control this behavior.\n",
      "  _warn_prf(average, modifier, msg_start, len(result))\n"
     ]
    },
    {
     "name": "stdout",
     "output_type": "stream",
     "text": [
      "Fitting 2 folds for each of 10 candidates, totalling 20 fits\n"
     ]
    },
    {
     "name": "stderr",
     "output_type": "stream",
     "text": [
      "c:\\Users\\ganga\\anaconda3\\envs\\inferred_speciality\\lib\\site-packages\\sklearn\\model_selection\\_search.py:976: UserWarning: One or more of the test scores are non-finite: [nan nan nan nan nan nan nan nan nan nan]\n",
      "  warnings.warn(\n"
     ]
    },
    {
     "name": "stdout",
     "output_type": "stream",
     "text": [
      "Best parameters found:  {'n_estimators': 50, 'max_depth': 9, 'learning_rate': 0.05, 'colsample_bytree': 0.6}\n",
      "X_train results,\n",
      "X_test results,\n",
      "number of spl predicted as others:  481\n",
      "num of others predicted as spl:  22\n",
      "\u001b[1m\u001b[92mStarting: Colon And Rectal-Surgery\u001b[0m\u001b[0m\n",
      "Fitting 2 folds for each of 10 candidates, totalling 20 fits\n"
     ]
    },
    {
     "name": "stderr",
     "output_type": "stream",
     "text": [
      "c:\\Users\\ganga\\anaconda3\\envs\\inferred_speciality\\lib\\site-packages\\sklearn\\model_selection\\_search.py:976: UserWarning: One or more of the test scores are non-finite: [nan nan nan nan nan nan nan nan nan nan]\n",
      "  warnings.warn(\n"
     ]
    },
    {
     "name": "stdout",
     "output_type": "stream",
     "text": [
      "Best parameters found:  {'n_estimators': 50, 'max_depth': 9, 'learning_rate': 0.05, 'colsample_bytree': 0.6}\n",
      "X_train results,\n",
      "X_test results,\n",
      "number of spl predicted as others:  29\n",
      "num of others predicted as spl:  2\n",
      "\u001b[1m\u001b[92mStarting: Counselor\u001b[0m\u001b[0m\n",
      "Fitting 2 folds for each of 10 candidates, totalling 20 fits\n"
     ]
    },
    {
     "name": "stderr",
     "output_type": "stream",
     "text": [
      "c:\\Users\\ganga\\anaconda3\\envs\\inferred_speciality\\lib\\site-packages\\sklearn\\model_selection\\_search.py:976: UserWarning: One or more of the test scores are non-finite: [nan nan nan nan nan nan nan nan nan nan]\n",
      "  warnings.warn(\n"
     ]
    },
    {
     "name": "stdout",
     "output_type": "stream",
     "text": [
      "Best parameters found:  {'n_estimators': 50, 'max_depth': 9, 'learning_rate': 0.05, 'colsample_bytree': 0.6}\n",
      "X_train results,\n",
      "X_test results,\n",
      "number of spl predicted as others:  1202\n",
      "num of others predicted as spl:  101\n",
      "\u001b[1m\u001b[92mStarting: Dietitian\u001b[0m\u001b[0m\n",
      "Fitting 2 folds for each of 10 candidates, totalling 20 fits\n"
     ]
    },
    {
     "name": "stderr",
     "output_type": "stream",
     "text": [
      "c:\\Users\\ganga\\anaconda3\\envs\\inferred_speciality\\lib\\site-packages\\sklearn\\model_selection\\_search.py:976: UserWarning: One or more of the test scores are non-finite: [nan nan nan nan nan nan nan nan nan nan]\n",
      "  warnings.warn(\n"
     ]
    },
    {
     "name": "stdout",
     "output_type": "stream",
     "text": [
      "Best parameters found:  {'n_estimators': 50, 'max_depth': 9, 'learning_rate': 0.05, 'colsample_bytree': 0.6}\n",
      "X_train results,\n",
      "X_test results,\n",
      "number of spl predicted as others:  18\n",
      "num of others predicted as spl:  7\n",
      "\u001b[1m\u001b[92mStarting: Emergency Med-No Surgery\u001b[0m\u001b[0m\n",
      "Fitting 2 folds for each of 10 candidates, totalling 20 fits\n"
     ]
    },
    {
     "name": "stderr",
     "output_type": "stream",
     "text": [
      "c:\\Users\\ganga\\anaconda3\\envs\\inferred_speciality\\lib\\site-packages\\sklearn\\model_selection\\_search.py:976: UserWarning: One or more of the test scores are non-finite: [nan nan nan nan nan nan nan nan nan nan]\n",
      "  warnings.warn(\n"
     ]
    },
    {
     "name": "stdout",
     "output_type": "stream",
     "text": [
      "Best parameters found:  {'n_estimators': 50, 'max_depth': 9, 'learning_rate': 0.05, 'colsample_bytree': 0.6}\n",
      "X_train results,\n",
      "X_test results,\n",
      "number of spl predicted as others:  435\n",
      "num of others predicted as spl:  298\n",
      "\u001b[1m\u001b[92mStarting: Emergency Medical Technician (EMT)\u001b[0m\u001b[0m\n",
      "Fitting 2 folds for each of 10 candidates, totalling 20 fits\n"
     ]
    },
    {
     "name": "stderr",
     "output_type": "stream",
     "text": [
      "c:\\Users\\ganga\\anaconda3\\envs\\inferred_speciality\\lib\\site-packages\\sklearn\\model_selection\\_search.py:976: UserWarning: One or more of the test scores are non-finite: [nan nan nan nan nan nan nan nan nan nan]\n",
      "  warnings.warn(\n"
     ]
    },
    {
     "name": "stdout",
     "output_type": "stream",
     "text": [
      "Best parameters found:  {'n_estimators': 50, 'max_depth': 9, 'learning_rate': 0.05, 'colsample_bytree': 0.6}\n",
      "X_train results,\n",
      "X_test results,\n",
      "number of spl predicted as others:  5\n",
      "num of others predicted as spl:  0\n",
      "\u001b[1m\u001b[92mStarting: Endocrinology-No Surgery\u001b[0m\u001b[0m\n"
     ]
    },
    {
     "name": "stderr",
     "output_type": "stream",
     "text": [
      "c:\\Users\\ganga\\anaconda3\\envs\\inferred_speciality\\lib\\site-packages\\sklearn\\metrics\\_classification.py:1469: UndefinedMetricWarning: Precision and F-score are ill-defined and being set to 0.0 in labels with no predicted samples. Use `zero_division` parameter to control this behavior.\n",
      "  _warn_prf(average, modifier, msg_start, len(result))\n",
      "c:\\Users\\ganga\\anaconda3\\envs\\inferred_speciality\\lib\\site-packages\\sklearn\\metrics\\_classification.py:1469: UndefinedMetricWarning: Precision and F-score are ill-defined and being set to 0.0 in labels with no predicted samples. Use `zero_division` parameter to control this behavior.\n",
      "  _warn_prf(average, modifier, msg_start, len(result))\n",
      "c:\\Users\\ganga\\anaconda3\\envs\\inferred_speciality\\lib\\site-packages\\sklearn\\metrics\\_classification.py:1469: UndefinedMetricWarning: Precision and F-score are ill-defined and being set to 0.0 in labels with no predicted samples. Use `zero_division` parameter to control this behavior.\n",
      "  _warn_prf(average, modifier, msg_start, len(result))\n"
     ]
    },
    {
     "name": "stdout",
     "output_type": "stream",
     "text": [
      "Fitting 2 folds for each of 10 candidates, totalling 20 fits\n"
     ]
    },
    {
     "name": "stderr",
     "output_type": "stream",
     "text": [
      "c:\\Users\\ganga\\anaconda3\\envs\\inferred_speciality\\lib\\site-packages\\sklearn\\model_selection\\_search.py:976: UserWarning: One or more of the test scores are non-finite: [nan nan nan nan nan nan nan nan nan nan]\n",
      "  warnings.warn(\n"
     ]
    },
    {
     "name": "stdout",
     "output_type": "stream",
     "text": [
      "Best parameters found:  {'n_estimators': 50, 'max_depth': 9, 'learning_rate': 0.05, 'colsample_bytree': 0.6}\n",
      "X_train results,\n",
      "X_test results,\n",
      "number of spl predicted as others:  127\n",
      "num of others predicted as spl:  30\n",
      "\u001b[1m\u001b[92mStarting: Family Medicine-No Surgery\u001b[0m\u001b[0m\n",
      "Fitting 2 folds for each of 10 candidates, totalling 20 fits\n"
     ]
    },
    {
     "name": "stderr",
     "output_type": "stream",
     "text": [
      "c:\\Users\\ganga\\anaconda3\\envs\\inferred_speciality\\lib\\site-packages\\sklearn\\model_selection\\_search.py:976: UserWarning: One or more of the test scores are non-finite: [nan nan nan nan nan nan nan nan nan nan]\n",
      "  warnings.warn(\n"
     ]
    },
    {
     "name": "stdout",
     "output_type": "stream",
     "text": [
      "Best parameters found:  {'n_estimators': 50, 'max_depth': 9, 'learning_rate': 0.05, 'colsample_bytree': 0.6}\n",
      "X_train results,\n",
      "X_test results,\n",
      "number of spl predicted as others:  2384\n",
      "num of others predicted as spl:  661\n",
      "\u001b[1m\u001b[92mStarting: Forensic Medicine\u001b[0m\u001b[0m\n",
      "Fitting 2 folds for each of 10 candidates, totalling 20 fits\n"
     ]
    },
    {
     "name": "stderr",
     "output_type": "stream",
     "text": [
      "c:\\Users\\ganga\\anaconda3\\envs\\inferred_speciality\\lib\\site-packages\\sklearn\\model_selection\\_search.py:976: UserWarning: One or more of the test scores are non-finite: [nan nan nan nan nan nan nan nan nan nan]\n",
      "  warnings.warn(\n"
     ]
    },
    {
     "name": "stdout",
     "output_type": "stream",
     "text": [
      "Best parameters found:  {'n_estimators': 50, 'max_depth': 9, 'learning_rate': 0.05, 'colsample_bytree': 0.6}\n",
      "X_train results,\n"
     ]
    },
    {
     "name": "stderr",
     "output_type": "stream",
     "text": [
      "c:\\Users\\ganga\\anaconda3\\envs\\inferred_speciality\\lib\\site-packages\\sklearn\\metrics\\_classification.py:1469: UndefinedMetricWarning: Precision and F-score are ill-defined and being set to 0.0 in labels with no predicted samples. Use `zero_division` parameter to control this behavior.\n",
      "  _warn_prf(average, modifier, msg_start, len(result))\n",
      "c:\\Users\\ganga\\anaconda3\\envs\\inferred_speciality\\lib\\site-packages\\sklearn\\metrics\\_classification.py:1469: UndefinedMetricWarning: Precision and F-score are ill-defined and being set to 0.0 in labels with no predicted samples. Use `zero_division` parameter to control this behavior.\n",
      "  _warn_prf(average, modifier, msg_start, len(result))\n",
      "c:\\Users\\ganga\\anaconda3\\envs\\inferred_speciality\\lib\\site-packages\\sklearn\\metrics\\_classification.py:1469: UndefinedMetricWarning: Precision and F-score are ill-defined and being set to 0.0 in labels with no predicted samples. Use `zero_division` parameter to control this behavior.\n",
      "  _warn_prf(average, modifier, msg_start, len(result))\n",
      "c:\\Users\\ganga\\anaconda3\\envs\\inferred_speciality\\lib\\site-packages\\sklearn\\metrics\\_classification.py:1469: UndefinedMetricWarning: Precision and F-score are ill-defined and being set to 0.0 in labels with no predicted samples. Use `zero_division` parameter to control this behavior.\n",
      "  _warn_prf(average, modifier, msg_start, len(result))\n"
     ]
    },
    {
     "name": "stdout",
     "output_type": "stream",
     "text": [
      "X_test results,\n",
      "number of spl predicted as others:  30\n",
      "num of others predicted as spl:  0\n",
      "\u001b[1m\u001b[92mStarting: Gastroenterology-No Surgery\u001b[0m\u001b[0m\n"
     ]
    },
    {
     "name": "stderr",
     "output_type": "stream",
     "text": [
      "c:\\Users\\ganga\\anaconda3\\envs\\inferred_speciality\\lib\\site-packages\\sklearn\\metrics\\_classification.py:1469: UndefinedMetricWarning: Precision and F-score are ill-defined and being set to 0.0 in labels with no predicted samples. Use `zero_division` parameter to control this behavior.\n",
      "  _warn_prf(average, modifier, msg_start, len(result))\n",
      "c:\\Users\\ganga\\anaconda3\\envs\\inferred_speciality\\lib\\site-packages\\sklearn\\metrics\\_classification.py:1469: UndefinedMetricWarning: Precision and F-score are ill-defined and being set to 0.0 in labels with no predicted samples. Use `zero_division` parameter to control this behavior.\n",
      "  _warn_prf(average, modifier, msg_start, len(result))\n"
     ]
    },
    {
     "name": "stdout",
     "output_type": "stream",
     "text": [
      "Fitting 2 folds for each of 10 candidates, totalling 20 fits\n"
     ]
    },
    {
     "name": "stderr",
     "output_type": "stream",
     "text": [
      "c:\\Users\\ganga\\anaconda3\\envs\\inferred_speciality\\lib\\site-packages\\sklearn\\model_selection\\_search.py:976: UserWarning: One or more of the test scores are non-finite: [nan nan nan nan nan nan nan nan nan nan]\n",
      "  warnings.warn(\n"
     ]
    },
    {
     "name": "stdout",
     "output_type": "stream",
     "text": [
      "Best parameters found:  {'n_estimators': 50, 'max_depth': 9, 'learning_rate': 0.05, 'colsample_bytree': 0.6}\n",
      "X_train results,\n",
      "X_test results,\n",
      "number of spl predicted as others:  122\n",
      "num of others predicted as spl:  96\n",
      "\u001b[1m\u001b[92mStarting: Geriatrics-No Surgery\u001b[0m\u001b[0m\n",
      "Fitting 2 folds for each of 10 candidates, totalling 20 fits\n"
     ]
    },
    {
     "name": "stderr",
     "output_type": "stream",
     "text": [
      "c:\\Users\\ganga\\anaconda3\\envs\\inferred_speciality\\lib\\site-packages\\sklearn\\model_selection\\_search.py:976: UserWarning: One or more of the test scores are non-finite: [nan nan nan nan nan nan nan nan nan nan]\n",
      "  warnings.warn(\n"
     ]
    },
    {
     "name": "stdout",
     "output_type": "stream",
     "text": [
      "Best parameters found:  {'n_estimators': 50, 'max_depth': 9, 'learning_rate': 0.05, 'colsample_bytree': 0.6}\n",
      "X_train results,\n",
      "X_test results,\n",
      "number of spl predicted as others:  82\n",
      "num of others predicted as spl:  0\n",
      "\u001b[1m\u001b[92mStarting: Hand-Surgery\u001b[0m\u001b[0m\n"
     ]
    },
    {
     "name": "stderr",
     "output_type": "stream",
     "text": [
      "c:\\Users\\ganga\\anaconda3\\envs\\inferred_speciality\\lib\\site-packages\\sklearn\\metrics\\_classification.py:1469: UndefinedMetricWarning: Precision and F-score are ill-defined and being set to 0.0 in labels with no predicted samples. Use `zero_division` parameter to control this behavior.\n",
      "  _warn_prf(average, modifier, msg_start, len(result))\n",
      "c:\\Users\\ganga\\anaconda3\\envs\\inferred_speciality\\lib\\site-packages\\sklearn\\metrics\\_classification.py:1469: UndefinedMetricWarning: Precision and F-score are ill-defined and being set to 0.0 in labels with no predicted samples. Use `zero_division` parameter to control this behavior.\n",
      "  _warn_prf(average, modifier, msg_start, len(result))\n",
      "c:\\Users\\ganga\\anaconda3\\envs\\inferred_speciality\\lib\\site-packages\\sklearn\\metrics\\_classification.py:1469: UndefinedMetricWarning: Precision and F-score are ill-defined and being set to 0.0 in labels with no predicted samples. Use `zero_division` parameter to control this behavior.\n",
      "  _warn_prf(average, modifier, msg_start, len(result))\n"
     ]
    },
    {
     "name": "stdout",
     "output_type": "stream",
     "text": [
      "Fitting 2 folds for each of 10 candidates, totalling 20 fits\n"
     ]
    },
    {
     "name": "stderr",
     "output_type": "stream",
     "text": [
      "c:\\Users\\ganga\\anaconda3\\envs\\inferred_speciality\\lib\\site-packages\\sklearn\\model_selection\\_search.py:976: UserWarning: One or more of the test scores are non-finite: [nan nan nan nan nan nan nan nan nan nan]\n",
      "  warnings.warn(\n"
     ]
    },
    {
     "name": "stdout",
     "output_type": "stream",
     "text": [
      "Best parameters found:  {'n_estimators': 50, 'max_depth': 9, 'learning_rate': 0.05, 'colsample_bytree': 0.6}\n",
      "X_train results,\n",
      "X_test results,\n",
      "number of spl predicted as others:  49\n",
      "num of others predicted as spl:  18\n",
      "\u001b[1m\u001b[92mStarting: Hematology-No Surgery\u001b[0m\u001b[0m\n",
      "Fitting 2 folds for each of 10 candidates, totalling 20 fits\n"
     ]
    },
    {
     "name": "stderr",
     "output_type": "stream",
     "text": [
      "c:\\Users\\ganga\\anaconda3\\envs\\inferred_speciality\\lib\\site-packages\\sklearn\\model_selection\\_search.py:976: UserWarning: One or more of the test scores are non-finite: [nan nan nan nan nan nan nan nan nan nan]\n",
      "  warnings.warn(\n"
     ]
    },
    {
     "name": "stdout",
     "output_type": "stream",
     "text": [
      "Best parameters found:  {'n_estimators': 50, 'max_depth': 9, 'learning_rate': 0.05, 'colsample_bytree': 0.6}\n",
      "X_train results,\n",
      "X_test results,\n",
      "number of spl predicted as others:  215\n",
      "num of others predicted as spl:  81\n",
      "\u001b[1m\u001b[92mStarting: Hospitalists\u001b[0m\u001b[0m\n",
      "Fitting 2 folds for each of 10 candidates, totalling 20 fits\n"
     ]
    },
    {
     "name": "stderr",
     "output_type": "stream",
     "text": [
      "c:\\Users\\ganga\\anaconda3\\envs\\inferred_speciality\\lib\\site-packages\\sklearn\\model_selection\\_search.py:976: UserWarning: One or more of the test scores are non-finite: [nan nan nan nan nan nan nan nan nan nan]\n",
      "  warnings.warn(\n"
     ]
    },
    {
     "name": "stdout",
     "output_type": "stream",
     "text": [
      "Best parameters found:  {'n_estimators': 50, 'max_depth': 9, 'learning_rate': 0.05, 'colsample_bytree': 0.6}\n",
      "X_train results,\n",
      "X_test results,\n",
      "number of spl predicted as others:  330\n",
      "num of others predicted as spl:  1\n",
      "\u001b[1m\u001b[92mStarting: Infectious Diseases-No Surgery\u001b[0m\u001b[0m\n",
      "Fitting 2 folds for each of 10 candidates, totalling 20 fits\n"
     ]
    },
    {
     "name": "stderr",
     "output_type": "stream",
     "text": [
      "c:\\Users\\ganga\\anaconda3\\envs\\inferred_speciality\\lib\\site-packages\\sklearn\\model_selection\\_search.py:976: UserWarning: One or more of the test scores are non-finite: [nan nan nan nan nan nan nan nan nan nan]\n",
      "  warnings.warn(\n"
     ]
    },
    {
     "name": "stdout",
     "output_type": "stream",
     "text": [
      "Best parameters found:  {'n_estimators': 50, 'max_depth': 9, 'learning_rate': 0.05, 'colsample_bytree': 0.6}\n",
      "X_train results,\n",
      "X_test results,\n",
      "number of spl predicted as others:  168\n",
      "num of others predicted as spl:  10\n",
      "\u001b[1m\u001b[92mStarting: Internal Medicine-No Surgery\u001b[0m\u001b[0m\n",
      "Fitting 2 folds for each of 10 candidates, totalling 20 fits\n"
     ]
    },
    {
     "name": "stderr",
     "output_type": "stream",
     "text": [
      "c:\\Users\\ganga\\anaconda3\\envs\\inferred_speciality\\lib\\site-packages\\sklearn\\model_selection\\_search.py:976: UserWarning: One or more of the test scores are non-finite: [nan nan nan nan nan nan nan nan nan nan]\n",
      "  warnings.warn(\n"
     ]
    },
    {
     "name": "stdout",
     "output_type": "stream",
     "text": [
      "Best parameters found:  {'n_estimators': 50, 'max_depth': 9, 'learning_rate': 0.05, 'colsample_bytree': 0.6}\n",
      "X_train results,\n",
      "X_test results,\n",
      "number of spl predicted as others:  3339\n",
      "num of others predicted as spl:  382\n",
      "\u001b[1m\u001b[92mStarting: Medical Assistant\u001b[0m\u001b[0m\n",
      "Fitting 2 folds for each of 10 candidates, totalling 20 fits\n"
     ]
    },
    {
     "name": "stderr",
     "output_type": "stream",
     "text": [
      "c:\\Users\\ganga\\anaconda3\\envs\\inferred_speciality\\lib\\site-packages\\sklearn\\model_selection\\_search.py:976: UserWarning: One or more of the test scores are non-finite: [nan nan nan nan nan nan nan nan nan nan]\n",
      "  warnings.warn(\n"
     ]
    },
    {
     "name": "stdout",
     "output_type": "stream",
     "text": [
      "Best parameters found:  {'n_estimators': 50, 'max_depth': 9, 'learning_rate': 0.05, 'colsample_bytree': 0.6}\n",
      "X_train results,\n",
      "X_test results,\n",
      "number of spl predicted as others:  708\n",
      "num of others predicted as spl:  0\n",
      "\u001b[1m\u001b[92mStarting: Neonatology\u001b[0m\u001b[0m\n"
     ]
    },
    {
     "name": "stderr",
     "output_type": "stream",
     "text": [
      "c:\\Users\\ganga\\anaconda3\\envs\\inferred_speciality\\lib\\site-packages\\sklearn\\metrics\\_classification.py:1469: UndefinedMetricWarning: Precision and F-score are ill-defined and being set to 0.0 in labels with no predicted samples. Use `zero_division` parameter to control this behavior.\n",
      "  _warn_prf(average, modifier, msg_start, len(result))\n",
      "c:\\Users\\ganga\\anaconda3\\envs\\inferred_speciality\\lib\\site-packages\\sklearn\\metrics\\_classification.py:1469: UndefinedMetricWarning: Precision and F-score are ill-defined and being set to 0.0 in labels with no predicted samples. Use `zero_division` parameter to control this behavior.\n",
      "  _warn_prf(average, modifier, msg_start, len(result))\n",
      "c:\\Users\\ganga\\anaconda3\\envs\\inferred_speciality\\lib\\site-packages\\sklearn\\metrics\\_classification.py:1469: UndefinedMetricWarning: Precision and F-score are ill-defined and being set to 0.0 in labels with no predicted samples. Use `zero_division` parameter to control this behavior.\n",
      "  _warn_prf(average, modifier, msg_start, len(result))\n"
     ]
    },
    {
     "name": "stdout",
     "output_type": "stream",
     "text": [
      "Fitting 2 folds for each of 10 candidates, totalling 20 fits\n"
     ]
    },
    {
     "name": "stderr",
     "output_type": "stream",
     "text": [
      "c:\\Users\\ganga\\anaconda3\\envs\\inferred_speciality\\lib\\site-packages\\sklearn\\model_selection\\_search.py:976: UserWarning: One or more of the test scores are non-finite: [nan nan nan nan nan nan nan nan nan nan]\n",
      "  warnings.warn(\n"
     ]
    },
    {
     "name": "stdout",
     "output_type": "stream",
     "text": [
      "Best parameters found:  {'n_estimators': 50, 'max_depth': 9, 'learning_rate': 0.05, 'colsample_bytree': 0.6}\n",
      "X_train results,\n",
      "X_test results,\n",
      "number of spl predicted as others:  42\n",
      "num of others predicted as spl:  45\n",
      "\u001b[1m\u001b[92mStarting: Nephrology-No Surgery\u001b[0m\u001b[0m\n",
      "Fitting 2 folds for each of 10 candidates, totalling 20 fits\n"
     ]
    },
    {
     "name": "stderr",
     "output_type": "stream",
     "text": [
      "c:\\Users\\ganga\\anaconda3\\envs\\inferred_speciality\\lib\\site-packages\\sklearn\\model_selection\\_search.py:976: UserWarning: One or more of the test scores are non-finite: [nan nan nan nan nan nan nan nan nan nan]\n",
      "  warnings.warn(\n"
     ]
    },
    {
     "name": "stdout",
     "output_type": "stream",
     "text": [
      "Best parameters found:  {'n_estimators': 50, 'max_depth': 9, 'learning_rate': 0.05, 'colsample_bytree': 0.6}\n",
      "X_train results,\n",
      "X_test results,\n",
      "number of spl predicted as others:  99\n",
      "num of others predicted as spl:  62\n",
      "\u001b[1m\u001b[92mStarting: Nuclear Medicine\u001b[0m\u001b[0m\n",
      "Fitting 2 folds for each of 10 candidates, totalling 20 fits\n"
     ]
    },
    {
     "name": "stderr",
     "output_type": "stream",
     "text": [
      "c:\\Users\\ganga\\anaconda3\\envs\\inferred_speciality\\lib\\site-packages\\sklearn\\model_selection\\_search.py:976: UserWarning: One or more of the test scores are non-finite: [nan nan nan nan nan nan nan nan nan nan]\n",
      "  warnings.warn(\n"
     ]
    },
    {
     "name": "stdout",
     "output_type": "stream",
     "text": [
      "Best parameters found:  {'n_estimators': 50, 'max_depth': 9, 'learning_rate': 0.05, 'colsample_bytree': 0.6}\n",
      "X_train results,\n",
      "X_test results,\n",
      "number of spl predicted as others:  18\n",
      "num of others predicted as spl:  3\n",
      "\u001b[1m\u001b[92mStarting: O.R. Technician\u001b[0m\u001b[0m\n",
      "Fitting 2 folds for each of 10 candidates, totalling 20 fits\n"
     ]
    },
    {
     "name": "stderr",
     "output_type": "stream",
     "text": [
      "c:\\Users\\ganga\\anaconda3\\envs\\inferred_speciality\\lib\\site-packages\\sklearn\\model_selection\\_search.py:976: UserWarning: One or more of the test scores are non-finite: [nan nan nan nan nan nan nan nan nan nan]\n",
      "  warnings.warn(\n"
     ]
    },
    {
     "name": "stdout",
     "output_type": "stream",
     "text": [
      "Best parameters found:  {'n_estimators': 50, 'max_depth': 9, 'learning_rate': 0.05, 'colsample_bytree': 0.6}\n",
      "X_train results,\n"
     ]
    },
    {
     "name": "stderr",
     "output_type": "stream",
     "text": [
      "c:\\Users\\ganga\\anaconda3\\envs\\inferred_speciality\\lib\\site-packages\\sklearn\\metrics\\_classification.py:1469: UndefinedMetricWarning: Precision and F-score are ill-defined and being set to 0.0 in labels with no predicted samples. Use `zero_division` parameter to control this behavior.\n",
      "  _warn_prf(average, modifier, msg_start, len(result))\n",
      "c:\\Users\\ganga\\anaconda3\\envs\\inferred_speciality\\lib\\site-packages\\sklearn\\metrics\\_classification.py:1469: UndefinedMetricWarning: Precision and F-score are ill-defined and being set to 0.0 in labels with no predicted samples. Use `zero_division` parameter to control this behavior.\n",
      "  _warn_prf(average, modifier, msg_start, len(result))\n",
      "c:\\Users\\ganga\\anaconda3\\envs\\inferred_speciality\\lib\\site-packages\\sklearn\\metrics\\_classification.py:1469: UndefinedMetricWarning: Precision and F-score are ill-defined and being set to 0.0 in labels with no predicted samples. Use `zero_division` parameter to control this behavior.\n",
      "  _warn_prf(average, modifier, msg_start, len(result))\n"
     ]
    },
    {
     "name": "stdout",
     "output_type": "stream",
     "text": [
      "X_test results,\n",
      "number of spl predicted as others:  12\n",
      "num of others predicted as spl:  0\n",
      "\u001b[1m\u001b[92mStarting: Occupation Therapist\u001b[0m\u001b[0m\n"
     ]
    },
    {
     "name": "stderr",
     "output_type": "stream",
     "text": [
      "c:\\Users\\ganga\\anaconda3\\envs\\inferred_speciality\\lib\\site-packages\\sklearn\\metrics\\_classification.py:1469: UndefinedMetricWarning: Precision and F-score are ill-defined and being set to 0.0 in labels with no predicted samples. Use `zero_division` parameter to control this behavior.\n",
      "  _warn_prf(average, modifier, msg_start, len(result))\n",
      "c:\\Users\\ganga\\anaconda3\\envs\\inferred_speciality\\lib\\site-packages\\sklearn\\metrics\\_classification.py:1469: UndefinedMetricWarning: Precision and F-score are ill-defined and being set to 0.0 in labels with no predicted samples. Use `zero_division` parameter to control this behavior.\n",
      "  _warn_prf(average, modifier, msg_start, len(result))\n",
      "c:\\Users\\ganga\\anaconda3\\envs\\inferred_speciality\\lib\\site-packages\\sklearn\\metrics\\_classification.py:1469: UndefinedMetricWarning: Precision and F-score are ill-defined and being set to 0.0 in labels with no predicted samples. Use `zero_division` parameter to control this behavior.\n",
      "  _warn_prf(average, modifier, msg_start, len(result))\n"
     ]
    },
    {
     "name": "stdout",
     "output_type": "stream",
     "text": [
      "Fitting 2 folds for each of 10 candidates, totalling 20 fits\n"
     ]
    },
    {
     "name": "stderr",
     "output_type": "stream",
     "text": [
      "c:\\Users\\ganga\\anaconda3\\envs\\inferred_speciality\\lib\\site-packages\\sklearn\\model_selection\\_search.py:976: UserWarning: One or more of the test scores are non-finite: [nan nan nan nan nan nan nan nan nan nan]\n",
      "  warnings.warn(\n"
     ]
    },
    {
     "name": "stdout",
     "output_type": "stream",
     "text": [
      "Best parameters found:  {'n_estimators': 50, 'max_depth': 9, 'learning_rate': 0.05, 'colsample_bytree': 0.6}\n",
      "X_train results,\n",
      "X_test results,\n",
      "number of spl predicted as others:  104\n",
      "num of others predicted as spl:  27\n",
      "\u001b[1m\u001b[92mStarting: Occupational Medicine\u001b[0m\u001b[0m\n",
      "Fitting 2 folds for each of 10 candidates, totalling 20 fits\n"
     ]
    },
    {
     "name": "stderr",
     "output_type": "stream",
     "text": [
      "c:\\Users\\ganga\\anaconda3\\envs\\inferred_speciality\\lib\\site-packages\\sklearn\\model_selection\\_search.py:976: UserWarning: One or more of the test scores are non-finite: [nan nan nan nan nan nan nan nan nan nan]\n",
      "  warnings.warn(\n"
     ]
    },
    {
     "name": "stdout",
     "output_type": "stream",
     "text": [
      "Best parameters found:  {'n_estimators': 50, 'max_depth': 9, 'learning_rate': 0.05, 'colsample_bytree': 0.6}\n",
      "X_train results,\n"
     ]
    },
    {
     "name": "stderr",
     "output_type": "stream",
     "text": [
      "c:\\Users\\ganga\\anaconda3\\envs\\inferred_speciality\\lib\\site-packages\\sklearn\\metrics\\_classification.py:1469: UndefinedMetricWarning: Precision and F-score are ill-defined and being set to 0.0 in labels with no predicted samples. Use `zero_division` parameter to control this behavior.\n",
      "  _warn_prf(average, modifier, msg_start, len(result))\n",
      "c:\\Users\\ganga\\anaconda3\\envs\\inferred_speciality\\lib\\site-packages\\sklearn\\metrics\\_classification.py:1469: UndefinedMetricWarning: Precision and F-score are ill-defined and being set to 0.0 in labels with no predicted samples. Use `zero_division` parameter to control this behavior.\n",
      "  _warn_prf(average, modifier, msg_start, len(result))\n",
      "c:\\Users\\ganga\\anaconda3\\envs\\inferred_speciality\\lib\\site-packages\\sklearn\\metrics\\_classification.py:1469: UndefinedMetricWarning: Precision and F-score are ill-defined and being set to 0.0 in labels with no predicted samples. Use `zero_division` parameter to control this behavior.\n",
      "  _warn_prf(average, modifier, msg_start, len(result))\n"
     ]
    },
    {
     "name": "stdout",
     "output_type": "stream",
     "text": [
      "X_test results,\n",
      "number of spl predicted as others:  20\n",
      "num of others predicted as spl:  0\n",
      "\u001b[1m\u001b[92mStarting: Optometrist\u001b[0m\u001b[0m\n"
     ]
    },
    {
     "name": "stderr",
     "output_type": "stream",
     "text": [
      "c:\\Users\\ganga\\anaconda3\\envs\\inferred_speciality\\lib\\site-packages\\sklearn\\metrics\\_classification.py:1469: UndefinedMetricWarning: Precision and F-score are ill-defined and being set to 0.0 in labels with no predicted samples. Use `zero_division` parameter to control this behavior.\n",
      "  _warn_prf(average, modifier, msg_start, len(result))\n",
      "c:\\Users\\ganga\\anaconda3\\envs\\inferred_speciality\\lib\\site-packages\\sklearn\\metrics\\_classification.py:1469: UndefinedMetricWarning: Precision and F-score are ill-defined and being set to 0.0 in labels with no predicted samples. Use `zero_division` parameter to control this behavior.\n",
      "  _warn_prf(average, modifier, msg_start, len(result))\n",
      "c:\\Users\\ganga\\anaconda3\\envs\\inferred_speciality\\lib\\site-packages\\sklearn\\metrics\\_classification.py:1469: UndefinedMetricWarning: Precision and F-score are ill-defined and being set to 0.0 in labels with no predicted samples. Use `zero_division` parameter to control this behavior.\n",
      "  _warn_prf(average, modifier, msg_start, len(result))\n"
     ]
    },
    {
     "name": "stdout",
     "output_type": "stream",
     "text": [
      "Fitting 2 folds for each of 10 candidates, totalling 20 fits\n"
     ]
    },
    {
     "name": "stderr",
     "output_type": "stream",
     "text": [
      "c:\\Users\\ganga\\anaconda3\\envs\\inferred_speciality\\lib\\site-packages\\sklearn\\model_selection\\_search.py:976: UserWarning: One or more of the test scores are non-finite: [nan nan nan nan nan nan nan nan nan nan]\n",
      "  warnings.warn(\n"
     ]
    },
    {
     "name": "stdout",
     "output_type": "stream",
     "text": [
      "Best parameters found:  {'n_estimators': 50, 'max_depth': 9, 'learning_rate': 0.05, 'colsample_bytree': 0.6}\n",
      "X_train results,\n",
      "X_test results,\n",
      "number of spl predicted as others:  131\n",
      "num of others predicted as spl:  89\n",
      "\u001b[1m\u001b[92mStarting: Pain Medicine\u001b[0m\u001b[0m\n",
      "Fitting 2 folds for each of 10 candidates, totalling 20 fits\n"
     ]
    },
    {
     "name": "stderr",
     "output_type": "stream",
     "text": [
      "c:\\Users\\ganga\\anaconda3\\envs\\inferred_speciality\\lib\\site-packages\\sklearn\\model_selection\\_search.py:976: UserWarning: One or more of the test scores are non-finite: [nan nan nan nan nan nan nan nan nan nan]\n",
      "  warnings.warn(\n"
     ]
    },
    {
     "name": "stdout",
     "output_type": "stream",
     "text": [
      "Best parameters found:  {'n_estimators': 50, 'max_depth': 9, 'learning_rate': 0.05, 'colsample_bytree': 0.6}\n",
      "X_train results,\n",
      "X_test results,\n",
      "number of spl predicted as others:  114\n",
      "num of others predicted as spl:  25\n",
      "\u001b[1m\u001b[92mStarting: Pathology-No Surgery\u001b[0m\u001b[0m\n",
      "Fitting 2 folds for each of 10 candidates, totalling 20 fits\n"
     ]
    },
    {
     "name": "stderr",
     "output_type": "stream",
     "text": [
      "c:\\Users\\ganga\\anaconda3\\envs\\inferred_speciality\\lib\\site-packages\\sklearn\\model_selection\\_search.py:976: UserWarning: One or more of the test scores are non-finite: [nan nan nan nan nan nan nan nan nan nan]\n",
      "  warnings.warn(\n"
     ]
    },
    {
     "name": "stdout",
     "output_type": "stream",
     "text": [
      "Best parameters found:  {'n_estimators': 50, 'max_depth': 9, 'learning_rate': 0.05, 'colsample_bytree': 0.6}\n",
      "X_train results,\n",
      "X_test results,\n",
      "number of spl predicted as others:  67\n",
      "num of others predicted as spl:  46\n",
      "\u001b[1m\u001b[92mStarting: Pharmacist\u001b[0m\u001b[0m\n",
      "Fitting 2 folds for each of 10 candidates, totalling 20 fits\n"
     ]
    }
   ],
   "source": [
    "results_train, results_test = train_model_on_specialities(specialities, X_normalized, encoded_y, indigo_spl_label, param_dist)"
   ]
  },
  {
   "cell_type": "code",
   "execution_count": null,
   "metadata": {},
   "outputs": [
    {
     "data": {
      "text/plain": [
       "['Advanced Practice Registered Nurse (APRN)']"
      ]
     },
     "execution_count": 28,
     "metadata": {},
     "output_type": "execute_result"
    }
   ],
   "source": [
    "specialities[:1]"
   ]
  },
  {
   "cell_type": "code",
   "execution_count": 83,
   "metadata": {},
   "outputs": [
    {
     "data": {
      "text/plain": [
       "{'Acupuncture',\n",
       " 'Advanced Practice Registered Nurse (APRN)',\n",
       " 'Aerospace Medicine',\n",
       " 'Allergy',\n",
       " 'Anesthesiology',\n",
       " 'Anesthesiology Assistant (AA)',\n",
       " 'Audiologist',\n",
       " 'Bariatric-Surgery',\n",
       " 'CRNA',\n",
       " 'Cardiovascular Disease-Minor Surgery',\n",
       " 'Cardiovascular Disease-No Surgery',\n",
       " 'Cardiovascular Disease-Surgery',\n",
       " 'Certified Nurse Midwife (CNM)',\n",
       " 'Certified Nurse Practitioner',\n",
       " 'Chiropractor',\n",
       " 'Clinical Nurse Specialist',\n",
       " 'Colon And Rectal-Surgery',\n",
       " 'Counselor',\n",
       " 'Dermatology-Minor Surgery',\n",
       " 'Dermatology-No Surgery',\n",
       " 'Dietitian',\n",
       " 'Emergency Med-No Surgery',\n",
       " 'Emergency Medical Technician (EMT)',\n",
       " 'Endocrinology-No Surgery',\n",
       " 'Family Medicine-No Surgery',\n",
       " 'Forensic Medicine',\n",
       " 'Gastroenterology-No Surgery',\n",
       " 'General NOC-Surgery',\n",
       " 'General Preventive Med-No Surgery',\n",
       " 'Geriatrics-No Surgery',\n",
       " 'Gynecology-Minor Surgery',\n",
       " 'Gynecology-No Surgery',\n",
       " 'Gynecology-Surgery',\n",
       " 'Hand-Surgery',\n",
       " 'Hematology-No Surgery',\n",
       " 'Hospitalists',\n",
       " 'Infectious Diseases-No Surgery',\n",
       " 'Internal Medicine-No Surgery',\n",
       " 'Medical Assistant',\n",
       " 'Neonatology',\n",
       " 'Nephrology-No Surgery',\n",
       " 'Neurology-No Surgery',\n",
       " 'Neurology-Surgery',\n",
       " 'Nuclear Medicine',\n",
       " 'Nurse',\n",
       " 'Nurse - Student',\n",
       " 'O.R. Technician',\n",
       " 'Obstetrics Gynecology-Surgery',\n",
       " 'Occupation Therapist',\n",
       " 'Occupational Medicine',\n",
       " 'Ophthalmology-Minor Surgery',\n",
       " 'Ophthalmology-No Surgery',\n",
       " 'Ophthalmology-Surgery',\n",
       " 'Optometrist',\n",
       " 'Orthopedic Excl Back-Surgery',\n",
       " 'Orthopedic Incl Back-Surgery',\n",
       " 'Otorhinolaryngology-Minor Surgery',\n",
       " 'Otorhinolaryngology-No Surgery',\n",
       " 'Otorhinolaryngology-Surgery',\n",
       " 'Pain Medicine',\n",
       " 'Pathology-No Surgery',\n",
       " 'Pediatrics-Minor Surgery',\n",
       " 'Pediatrics-No Surgery',\n",
       " 'Pharmacist',\n",
       " 'Phlebology',\n",
       " 'Physiatry',\n",
       " 'Physical Therapist',\n",
       " 'Physician Assistant',\n",
       " 'Physicians NOC-No Surgery',\n",
       " 'Physiotherapist',\n",
       " 'Plastic NOC-Surgery',\n",
       " 'Plastic Otorhinolaryngology-Surgery',\n",
       " 'Podiatrist',\n",
       " 'Psychiatry',\n",
       " 'Psychologist',\n",
       " 'Pulmonary Diseases-No Surgery',\n",
       " 'Radiation Therapy NOC',\n",
       " 'Radiology Diagnostic-Minor Surgery',\n",
       " 'Radiology Diagnostic-No Surgery',\n",
       " 'Respiratory Therapist',\n",
       " 'Rheumatology-No Surgery',\n",
       " 'Social Worker',\n",
       " 'Sonographer',\n",
       " 'Surgeon Assistant',\n",
       " 'Thoracic-Surgery',\n",
       " 'Traumatic-Surgery',\n",
       " 'Urgent Care-No Surgery',\n",
       " 'Urological-Surgery',\n",
       " 'Vascular-Surgery'}"
      ]
     },
     "execution_count": 83,
     "metadata": {},
     "output_type": "execute_result"
    }
   ],
   "source": [
    "set(y)"
   ]
  },
  {
   "cell_type": "code",
   "execution_count": 84,
   "metadata": {},
   "outputs": [
    {
     "data": {
      "text/plain": [
       "89"
      ]
     },
     "execution_count": 84,
     "metadata": {},
     "output_type": "execute_result"
    }
   ],
   "source": [
    "len(set(y))"
   ]
  },
  {
   "cell_type": "code",
   "execution_count": null,
   "metadata": {},
   "outputs": [],
   "source": []
  },
  {
   "cell_type": "code",
   "execution_count": null,
   "metadata": {},
   "outputs": [],
   "source": []
  },
  {
   "cell_type": "code",
   "execution_count": 80,
   "metadata": {},
   "outputs": [
    {
     "data": {
      "text/plain": [
       "(123166, 17477)"
      ]
     },
     "execution_count": 80,
     "metadata": {},
     "output_type": "execute_result"
    }
   ],
   "source": [
    "X_normalized.shape"
   ]
  },
  {
   "cell_type": "code",
   "execution_count": 12,
   "metadata": {},
   "outputs": [
    {
     "name": "stdout",
     "output_type": "stream",
     "text": [
      "[227  33 158  31  11   6   1 196   3   4   3   1]\n"
     ]
    }
   ],
   "source": [
    "test = np.array(npi_cpt_features[\"1003174947\"])\n",
    "print(test[test>0])"
   ]
  },
  {
   "cell_type": "code",
   "execution_count": 13,
   "metadata": {},
   "outputs": [
    {
     "name": "stdout",
     "output_type": "stream",
     "text": [
      "[0.33679525 0.04896142 0.23442136 0.04599407 0.01632047 0.00890208\n",
      " 0.00148368 0.29080119 0.00445104 0.00593472 0.00445104 0.00148368]\n"
     ]
    }
   ],
   "source": [
    "print(npi_normalized_cpt_features[\"1003174947\"][npi_normalized_cpt_features[\"1003174947\"]>0])"
   ]
  },
  {
   "cell_type": "code",
   "execution_count": 16,
   "metadata": {},
   "outputs": [
    {
     "data": {
      "text/plain": [
       "'General NOC-Surgery'"
      ]
     },
     "execution_count": 16,
     "metadata": {},
     "output_type": "execute_result"
    }
   ],
   "source": [
    "npi_indigo_spl[1003174947]"
   ]
  },
  {
   "cell_type": "code",
   "execution_count": 28,
   "metadata": {},
   "outputs": [
    {
     "name": "stdout",
     "output_type": "stream",
     "text": [
      "153954\n",
      "153954\n"
     ]
    }
   ],
   "source": [
    "print(len(encoded_y)); print(len(X_normalized))"
   ]
  },
  {
   "cell_type": "code",
   "execution_count": 24,
   "metadata": {},
   "outputs": [
    {
     "data": {
      "text/plain": [
       "{0,\n",
       " 1,\n",
       " 2,\n",
       " 3,\n",
       " 4,\n",
       " 5,\n",
       " 6,\n",
       " 7,\n",
       " 8,\n",
       " 9,\n",
       " 10,\n",
       " 11,\n",
       " 12,\n",
       " 13,\n",
       " 14,\n",
       " 15,\n",
       " 16,\n",
       " 17,\n",
       " 18,\n",
       " 19,\n",
       " 20,\n",
       " 21,\n",
       " 22,\n",
       " 23,\n",
       " 24,\n",
       " 25,\n",
       " 26,\n",
       " 27,\n",
       " 28,\n",
       " 29,\n",
       " 30,\n",
       " 31,\n",
       " 32,\n",
       " 33,\n",
       " 34,\n",
       " 35,\n",
       " 36,\n",
       " 37,\n",
       " 38,\n",
       " 39,\n",
       " 40,\n",
       " 41,\n",
       " 42,\n",
       " 43,\n",
       " 44,\n",
       " 45,\n",
       " 46,\n",
       " 47,\n",
       " 48,\n",
       " 49,\n",
       " 50,\n",
       " 51,\n",
       " 52,\n",
       " 53,\n",
       " 54,\n",
       " 55,\n",
       " 56,\n",
       " 57,\n",
       " 58,\n",
       " 59,\n",
       " 60,\n",
       " 61,\n",
       " 62,\n",
       " 63,\n",
       " 64,\n",
       " 65,\n",
       " 66,\n",
       " 67,\n",
       " 68,\n",
       " 69,\n",
       " 70,\n",
       " 71,\n",
       " 72,\n",
       " 73,\n",
       " 74,\n",
       " 75,\n",
       " 76,\n",
       " 77,\n",
       " 78,\n",
       " 79,\n",
       " 80,\n",
       " 81,\n",
       " 82,\n",
       " 83,\n",
       " 84,\n",
       " 85,\n",
       " 86,\n",
       " 87,\n",
       " 88}"
      ]
     },
     "execution_count": 24,
     "metadata": {},
     "output_type": "execute_result"
    }
   ],
   "source": [
    "set(encoded_y)"
   ]
  },
  {
   "cell_type": "code",
   "execution_count": null,
   "metadata": {},
   "outputs": [],
   "source": []
  }
 ],
 "metadata": {
  "kernelspec": {
   "display_name": "inferred_speciality",
   "language": "python",
   "name": "python3"
  },
  "language_info": {
   "codemirror_mode": {
    "name": "ipython",
    "version": 3
   },
   "file_extension": ".py",
   "mimetype": "text/x-python",
   "name": "python",
   "nbconvert_exporter": "python",
   "pygments_lexer": "ipython3",
   "version": "3.10.12"
  },
  "orig_nbformat": 4
 },
 "nbformat": 4,
 "nbformat_minor": 2
}
