{
 "cells": [
  {
   "cell_type": "code",
   "execution_count": 1,
   "metadata": {},
   "outputs": [],
   "source": [
    "import random\n",
    "import pandas as pd\n",
    "import numpy as np\n",
    "import xgboost as xgb\n",
    "from sklearn.model_selection import train_test_split, RandomizedSearchCV\n",
    "from sklearn.metrics import classification_report"
   ]
  },
  {
   "cell_type": "code",
   "execution_count": 2,
   "metadata": {},
   "outputs": [],
   "source": [
    "def get_X_y(indigo_spl_npi, outliers_path, spl_lis, npi_upper_features):\n",
    "    X = []\n",
    "    y = []\n",
    "    npi_lis_spl = []\n",
    "    all_spl = list(set(indigo_spl_npi.keys()))\n",
    "    for spl in all_spl:\n",
    "        label = 0\n",
    "        if spl in spl_lis:\n",
    "            label = 1\n",
    "        outlier_cur = pd.read_pickle(outliers_path + \"outlier_npis\" + spl + \".pkl\")\n",
    "        for npi in indigo_spl_npi[spl]:\n",
    "            if npi not in outlier_cur:\n",
    "                X.append(npi_upper_features[npi])\n",
    "                y.append(label)\n",
    "                if label == 1:\n",
    "                    npi_lis_spl.append(npi)\n",
    "    return np.array(X), np.array(y), npi_lis_spl"
   ]
  },
  {
   "cell_type": "code",
   "execution_count": 3,
   "metadata": {},
   "outputs": [],
   "source": [
    "def get_indigo_spl_npi(npi_ccspcs_features_dict, npi_indigo_spl):\n",
    "    indigo_spl_npi = {}\n",
    "    for npi in npi_ccspcs_features_dict:\n",
    "        if int(npi) in npi_indigo_spl:\n",
    "            if npi_indigo_spl[int(npi)] not in indigo_spl_npi:\n",
    "                indigo_spl_npi[npi_indigo_spl[int(npi)]] = []\n",
    "            indigo_spl_npi[npi_indigo_spl[int(npi)]].append(npi)\n",
    "    return indigo_spl_npi"
   ]
  },
  {
   "cell_type": "code",
   "execution_count": 4,
   "metadata": {},
   "outputs": [],
   "source": [
    "def get_npi_ccspcs_dict():\n",
    "    npi_ccspcs_features = pd.read_pickle('./ccspcs_npi_features.pkl')\n",
    "    npi_ccspcs_features_np = np.array(npi_ccspcs_features)\n",
    "    npi_ccspcs_features_dict = {}\n",
    "    for row in npi_ccspcs_features_np:\n",
    "        if sum(row[1:]) > 0:\n",
    "            npi_ccspcs_features_dict[row[0]] = row[1:]\n",
    "    return npi_ccspcs_features_dict"
   ]
  },
  {
   "cell_type": "code",
   "execution_count": 5,
   "metadata": {},
   "outputs": [],
   "source": [
    "def get_results(y_train, y_test, X_train, X_test, random_search, spl):\n",
    "    print(\"X_train results,\")\n",
    "    predicted_probabilities = random_search.best_estimator_.predict_proba(X_train)\n",
    "    predictions = np.argmax(predicted_probabilities, axis=1)\n",
    "    #print(classification_report(y_train, predictions, target_names=['Others', spl]))\n",
    "    train_out = classification_report(y_train, predictions, target_names=['Others', spl], output_dict = True)\n",
    "\n",
    "    print(\"X_test results,\")\n",
    "    predicted_probabilities = random_search.best_estimator_.predict_proba(X_test)\n",
    "    predictions = np.argmax(predicted_probabilities, axis=1)\n",
    "    #print(classification_report(y_test, predictions, target_names=['Others', spl]))\n",
    "    test_out = classification_report(y_test, predictions, target_names=['Others', spl], output_dict = True)\n",
    "\n",
    "    # number of spl predicted as others\n",
    "    count_spl_others = 0\n",
    "    for i in range(len(y_test)):\n",
    "        if y_test[i] == 1 and predictions[i] == 0:\n",
    "            count_spl_others += 1\n",
    "    print(\"number of spl predicted as others: \", count_spl_others)\n",
    "\n",
    "    # num of others predicted as spl\n",
    "    count_others_spl = 0\n",
    "    for i in range(len(y_test)):\n",
    "        if y_test[i] == 0 and predictions[i] == 1:\n",
    "            count_others_spl += 1\n",
    "    print(\"num of others predicted as spl: \", count_others_spl)\n",
    "\n",
    "    return train_out, test_out, count_spl_others, count_others_spl"
   ]
  },
  {
   "cell_type": "code",
   "execution_count": 6,
   "metadata": {},
   "outputs": [],
   "source": [
    "def overpopulate(X, y, op_multiplier, op_ratio_retained):\n",
    "    X_oped = []\n",
    "    y_oped = []\n",
    "\n",
    "    for i in range(len(y)):\n",
    "        if y[i] == 0:\n",
    "            for _ in range(op_multiplier):\n",
    "                X_oped.append(X[i])\n",
    "                y_oped.append(y[i])\n",
    "        elif random.uniform(0, 1) < op_ratio_retained:\n",
    "            X_oped.append(X[i])\n",
    "            y_oped.append(y[i])\n",
    "    \n",
    "    return X_oped, y_oped"
   ]
  },
  {
   "cell_type": "code",
   "execution_count": 7,
   "metadata": {},
   "outputs": [],
   "source": [
    "def preprocessing_1(X):\n",
    "    X_normalized = []\n",
    "    for i in range(len(X)):\n",
    "        X_normalized.append(np.array(X[i])/sum(X[i]))\n",
    "    return X_normalized"
   ]
  },
  {
   "cell_type": "code",
   "execution_count": 8,
   "metadata": {},
   "outputs": [],
   "source": [
    "def normalize(X):\n",
    "    for i in range(len(X)):\n",
    "        X[i] = X[i]/sum(X[i])\n",
    "    return X"
   ]
  },
  {
   "cell_type": "code",
   "execution_count": 9,
   "metadata": {},
   "outputs": [],
   "source": [
    "def get_distributions(X, y):\n",
    "    distributions = [np.array(len(X[0])*[0.0]) for _ in range(len(set(y)))]\n",
    "    for i in range(len(X)):\n",
    "        if i%10000 == 0:\n",
    "            print(\"Done: \" + str(i))\n",
    "        distributions[y[i]] += X[i]\n",
    "    \n",
    "    distributions[1] += distributions[0]\n",
    "    distributions = normalize(distributions)\n",
    "\n",
    "    return distributions\n"
   ]
  },
  {
   "cell_type": "code",
   "execution_count": 10,
   "metadata": {},
   "outputs": [],
   "source": [
    "def get_top_k_cpts(normalized_distributions, k):\n",
    "    \n",
    "    all_cpt_pos = {}\n",
    "    for i in range(len(normalized_distributions)):\n",
    "        cur_top_agg = normalized_distributions[i].argsort()[-k:][::-1]\n",
    "        for pos in cur_top_agg:\n",
    "            if pos not in all_cpt_pos:\n",
    "                all_cpt_pos[pos] = 0\n",
    "            all_cpt_pos[pos] += 1\n",
    "                \n",
    "    for cpt_pos in all_cpt_pos:\n",
    "        all_cpt_pos[cpt_pos] = np.log(len(normalized_distributions)/all_cpt_pos[cpt_pos])\n",
    "    \n",
    "    return all_cpt_pos"
   ]
  },
  {
   "cell_type": "code",
   "execution_count": 11,
   "metadata": {},
   "outputs": [],
   "source": [
    "def get_idf_vector(all_cpt_pos, num_featurs):\n",
    "    idf_vector = []\n",
    "    for i in range(num_featurs):\n",
    "        if i in all_cpt_pos:\n",
    "            idf_vector.append(all_cpt_pos[i])\n",
    "        else:\n",
    "            idf_vector.append(0)\n",
    "\n",
    "    return idf_vector"
   ]
  },
  {
   "cell_type": "code",
   "execution_count": 12,
   "metadata": {},
   "outputs": [],
   "source": [
    "def reduce_dimention(all_cpt_idfs, X_normalized):\n",
    "    cpt_pos = list(all_cpt_idfs.keys())\n",
    "    print(cpt_pos)\n",
    "\n",
    "    X_reduced = []\n",
    "\n",
    "    for distribution in X_normalized:\n",
    "        temp = []\n",
    "        for pos in cpt_pos:\n",
    "            if all_cpt_idfs[pos] >= 0.001:\n",
    "                temp.append(distribution[pos])\n",
    "        X_reduced.append(temp)\n",
    "    \n",
    "    return X_reduced"
   ]
  },
  {
   "cell_type": "code",
   "execution_count": 13,
   "metadata": {},
   "outputs": [],
   "source": [
    "def get_tfidf(tf_matrix, idf_vector):\n",
    "    tfidfs = []\n",
    "    for tf in tf_matrix:\n",
    "        tfidfs.append(np.multiply(tf, idf_vector[0]))\n",
    "    return tfidfs"
   ]
  },
  {
   "cell_type": "code",
   "execution_count": 14,
   "metadata": {},
   "outputs": [],
   "source": [
    "def train_model(X, y, param_dist, spl, tfidf=False, minority_class_op_coef=1, majority_class_data_split=0.1):\n",
    "    # if tfidf:\n",
    "    #     #X_oped, y = overpopulate(X, y, minority_class_op_coef, majority_class_data_split)\n",
    "    #     #print(len(X_oped))\n",
    "    #     X_oped_normalized = preprocessing_1(X)\n",
    "\n",
    "    #     class_distributions = get_distributions(X_oped_normalized, y)\n",
    "    #     all_cpt_pos_idf = get_top_k_cpts(class_distributions, 25)\n",
    "    #     idf_vector = get_idf_vector(all_cpt_pos_idf, len(X_oped_normalized[0]))\n",
    "\n",
    "    #     X_oped_normalized_reduced = reduce_dimention(all_cpt_pos_idf, X_oped_normalized)\n",
    "    #     idf_vector_reduced = reduce_dimention(all_cpt_pos_idf, [idf_vector])\n",
    "\n",
    "    #     #print(idf_vector_reduced)\n",
    "\n",
    "    #     X = get_tfidf(X_oped_normalized_reduced, idf_vector_reduced)\n",
    "    # y = np.array(y)\n",
    "    # X = np.array(X)\n",
    "    # print(X.shape)\n",
    "    # print(len(y[y==0]), len(y[y==1]))\n",
    "    X_train, X_test, y_train, y_test = train_test_split(X, y, test_size=0.3, random_state=798, stratify=y)\n",
    "    model = xgb.XGBClassifier(objective='multi:softprob', num_class=len(set(y_train)), tree_method='gpu_hist', gpu_id=0)\n",
    "    random_search = RandomizedSearchCV(model, param_distributions=param_dist, n_iter=10, scoring='accuracy', n_jobs=-1, cv=2, verbose=3, random_state=53)\n",
    "    random_search.fit(X_train, y_train)\n",
    "    print(\"Best parameters found: \", random_search.best_params_)\n",
    "    train_out, test_out, count_spl_others, count_others_spl = get_results(y_train, y_test, X_train, X_test, random_search, spl)\n",
    "    return train_out, test_out, count_spl_others, count_others_spl"
   ]
  },
  {
   "cell_type": "code",
   "execution_count": 15,
   "metadata": {},
   "outputs": [],
   "source": [
    "def train_binary_spl_predict_mdoel(specilities, param_dist):\n",
    "    npi_ccspcs_features_dict = get_npi_ccspcs_dict()\n",
    "    npi_upper_level_features = pd.read_pickle(\"./npi_upper_features.pkl\")\n",
    "    # npi_cpt_features = pd.read_pickle('./chuncked_npi_ncpcs_2019_0_.pkl')\n",
    "    npi_indigo_spl = pd.read_pickle('./npi_indigo_spl.pkl')\n",
    "    indigo_spl_npi_upper = get_indigo_spl_npi(npi_upper_level_features, npi_indigo_spl)\n",
    "    indigo_spl_npi_ccspcs = get_indigo_spl_npi(npi_ccspcs_features_dict, npi_indigo_spl)\n",
    "    # indigo_spl_npi_cpt_features = get_indigo_spl_npi(npi_cpt_features, npi_indigo_spl)\n",
    "\n",
    "    results_test = [[\"Data Type\", \"Train / Test\", \"Speciality\", \"Precision 0\", \"Recall 0\", \"Precision 1\", \"Recall 1\", \"Macro Avg F1\"]]\n",
    "    results_train = [[\"Data Type\", \"Train / Test\", \"Speciality\", \"Precision 0\", \"Recall 0\", \"Precision 1\", \"Recall 1\", \"Macro Avg F1\"]]\n",
    "\n",
    "    print('Starting the run!!')\n",
    "    \n",
    "    for spl in specilities:\n",
    "        try:\n",
    "            X, y, npi_lis_spl = get_X_y(indigo_spl_npi_upper, \"./outliers_v2/\", specilities[spl], npi_upper_level_features)\n",
    "            train_out, test_out, count_spl_others, count_others_spl = train_model(X, y, param_dist, spl)\n",
    "            results_train.append([\"CPT upper level features\", \"Train\", spl, train_out['Others']['precision'], train_out['Others']['recall'], train_out[spl]['precision'], train_out[spl]['recall'], train_out['macro avg']['f1-score']])\n",
    "            results_test.append([\"CPT upper level features\", \"Test\", spl, test_out['Others']['precision'], test_out['Others']['recall'], test_out[spl]['precision'], test_out[spl]['recall'], test_out['macro avg']['f1-score']])\n",
    "        except:\n",
    "            print('\\033[1m' + '\\033[91m' + spl + \" not in CPT upper level features\" + '\\033[0m' + '\\033[0m')\n",
    "\n",
    "        try:\n",
    "            X, y, npi_lis_spl = get_X_y(indigo_spl_npi_ccspcs, \"./outliersccspcs/\", specilities[spl], npi_ccspcs_features_dict)\n",
    "            train_out, test_out, count_spl_others, count_others_spl = train_model(X, y, param_dist, spl)\n",
    "            results_train.append([\"CCSPCS level 3 features\", \"Train\", spl, train_out['Others']['precision'], train_out['Others']['recall'], train_out[spl]['precision'], train_out[spl]['recall'], train_out['macro avg']['f1-score']])\n",
    "            results_test.append([\"CCSPCS level 3 features\", \"Test\", spl, test_out['Others']['precision'], test_out['Others']['recall'], test_out[spl]['precision'], test_out[spl]['recall'], test_out['macro avg']['f1-score']])\n",
    "        except:\n",
    "            print('\\033[1m' + '\\033[91m' + spl + \" not in CCSPCT level 3 features\" + '\\033[0m' + '\\033[0m')\n",
    "\n",
    "        #try:\n",
    "        # X, y, npi_lis_spl = get_X_y(indigo_spl_npi_cpt_features, \"./outliers_cpt/\", specilities[spl], npi_cpt_features)\n",
    "        # train_out, test_out, count_spl_others, count_others_spl = train_model(X, y, param_dist, spl, True, 1, 0.1)\n",
    "        # results_train.append([\"Top 25 Tf-Idf features\", \"Train\", spl, train_out['Others']['precision'], train_out['Others']['recall'], train_out[spl]['precision'], train_out[spl]['recall'], train_out['macro avg']['f1-score']])\n",
    "        # results_test.append([\"Top 25 Tf-Idf features\", \"Test\", spl, test_out['Others']['precision'], test_out['Others']['recall'], test_out[spl]['precision'], test_out[spl]['recall'], test_out['macro avg']['f1-score']])\n",
    "        #except:\n",
    "        #    print('\\033[1m' + '\\033[91m' + spl + \" not in Top 25 Tf-Idf features\" + '\\033[0m' + '\\033[0m')\n",
    "\n",
    "        results_train.append(len(results_train[0])*[\"\"])\n",
    "        results_test.append(len(results_test[0])*[\"\"])\n",
    "\n",
    "        print('\\033[1m' + '\\033[92m' + \"Done: \" + spl + '\\033[0m' + '\\033[0m')\n",
    "    \n",
    "    df = pd.DataFrame(results_test + results_train)\n",
    "    print(df.head())\n",
    "    #df.to_csv('./binary_spl_prediction_tfidf_output_v3.csv', index=False)"
   ]
  },
  {
   "cell_type": "code",
   "execution_count": 16,
   "metadata": {},
   "outputs": [],
   "source": [
    "param_dist = {\n",
    "    'n_estimators': np.arange(50, 300, 50),\n",
    "    'learning_rate': [0.01, 0.05, 0.1, 0.2],\n",
    "    'max_depth': [6, 7, 8, 9, 10, 11, 12],\n",
    "    'colsample_bytree': [0.6, 0.65, 0.7, 0.75],\n",
    "}"
   ]
  },
  {
   "cell_type": "code",
   "execution_count": 17,
   "metadata": {},
   "outputs": [],
   "source": [
    "Specialities = {\n",
    "    'Nurse': ['Advanced Practice Registered Nurse (APRN)',\n",
    "    'Certified Nurse Practitioner',\n",
    "    'Clinical Nurse Specialist',\n",
    "    'Nurse - Student',\n",
    "    'Certified Nurse Midwife (CNM)',\n",
    "    'Nurse'],\n",
    "    'Anesthesiology': ['Anesthesiology', 'Anesthesiology Assistant (AA)', 'CRNA'],\n",
    "    'Cardiovascular': ['Cardiovascular Disease-Minor Surgery',\n",
    "    'Cardiovascular Disease-No Surgery',\n",
    "    'Cardiovascular Disease-Surgery',\n",
    "    'Cardiac Technician',\n",
    "    'Vascular-Surgery'],\n",
    "    'Dermatology': ['Dermatology-Minor Surgery', 'Dermatology-No Surgery'],\n",
    "    'Neurology': ['Neurology-Surgery', 'Neurology-No Surgery'],\n",
    "    'Gynecology': ['Obstetrics Gynecology-Surgery',\n",
    "    'Gynecology-Minor Surgery',\n",
    "    'Gynecology-No Surgery',\n",
    "    'Gynecology-Surgery'],\n",
    "    'General': ['General Preventive Med-No Surgery', 'General NOC-Surgery'],\n",
    "    'Orthopedic': ['Orthopedic Excl Back-Surgery',\n",
    "    'Orthopedic Incl Back-Surgery'],\n",
    "    'Ophthalmology': ['Ophthalmology-No Surgery',\n",
    "    'Ophthalmology-Minor Surgery',\n",
    "    'Ophthalmology-Surgery'],\n",
    "    'Otorhinolaryngology': ['Otorhinolaryngology-No Surgery',\n",
    "    'Otorhinolaryngology-Minor Surgery',\n",
    "    'Otorhinolaryngology-Surgery'],\n",
    "    'Radiology': ['Radiology Diagnostic-Minor Surgery',\n",
    "    'Radiology Diagnostic-No Surgery'],\n",
    "    'Pediatrics': ['Pediatrics-Minor Surgery', 'Pediatrics-No Surgery'],\n",
    "    'Acupuncture': ['Acupuncture'],\n",
    "    'Aerospace Medicine': ['Aerospace Medicine'],\n",
    "    'Allergy': ['Allergy'],\n",
    "    'Audiologist': ['Audiologist'],\n",
    "    'Bariatric-Surgery': ['Bariatric-Surgery'],\n",
    "    'Chiropractor': ['Chiropractor'],\n",
    "    'Colon And Rectal-Surgery': ['Colon And Rectal-Surgery'],\n",
    "    'Counselor': ['Counselor'],\n",
    "    'Dietitian': ['Dietitian'],\n",
    "    'Emergency Med-No Surgery': ['Emergency Med-No Surgery'],\n",
    "    'Emergency Medical Technician (EMT)': ['Emergency Medical Technician (EMT)'],\n",
    "    'Endocrinology-No Surgery': ['Endocrinology-No Surgery'],\n",
    "    'Family Medicine-No Surgery': ['Family Medicine-No Surgery'],\n",
    "    'Forensic Medicine': ['Forensic Medicine'],\n",
    "    'Gastroenterology-No Surgery': ['Gastroenterology-No Surgery'],\n",
    "    'Geriatrics-No Surgery': ['Geriatrics-No Surgery'],\n",
    "    'Hand-Surgery': ['Hand-Surgery'],\n",
    "    'Hematology-No Surgery': ['Hematology-No Surgery'],\n",
    "    'Hospitalists': ['Hospitalists'],\n",
    "    'Infectious Diseases-No Surgery': ['Infectious Diseases-No Surgery'],\n",
    "    'Internal Medicine-No Surgery': ['Internal Medicine-No Surgery'],\n",
    "    'Medical Assistant': ['Medical Assistant'],\n",
    "    'Neonatology': ['Neonatology'],\n",
    "    'Nephrology-No Surgery': ['Nephrology-No Surgery'],\n",
    "    'Nuclear Medicine': ['Nuclear Medicine'],\n",
    "    'O.R. Technician': ['O.R. Technician'],\n",
    "    'Occupation Therapist': ['Occupation Therapist'],\n",
    "    'Occupational Medicine': ['Occupational Medicine'],\n",
    "    'Optometrist': ['Optometrist'],\n",
    "    'Pain Medicine': ['Pain Medicine'],\n",
    "    'Pathology-No Surgery': ['Pathology-No Surgery'],\n",
    "    'Pharmacist': ['Pharmacist'],\n",
    "    'Phlebology': ['Phlebology'],\n",
    "    'Physiatry': ['Physiatry'],\n",
    "    'Physical Therapist': ['Physical Therapist'],\n",
    "    'Physician Assistant': ['Physician Assistant'],\n",
    "    'Physicians NOC-No Surgery': ['Physicians NOC-No Surgery'],\n",
    "    'Physiotherapist': ['Physiotherapist'],\n",
    "    'Plastic Surgery': ['Plastic NOC-Surgery', 'Plastic Otorhinolaryngology-Surgery'],\n",
    "    'Podiatrist': ['Podiatrist'],\n",
    "    'Psychiatry': ['Psychiatry'],\n",
    "    'Psychologist': ['Psychologist'],\n",
    "    'Pulmonary Diseases-No Surgery': ['Pulmonary Diseases-No Surgery'],\n",
    "    'Radiation Therapy NOC': ['Radiation Therapy NOC'],\n",
    "    'Respiratory Therapist': ['Respiratory Therapist'],\n",
    "    'Rheumatology-No Surgery': ['Rheumatology-No Surgery'],\n",
    "    'Social Worker': ['Social Worker'],\n",
    "    'Sonographer': ['Sonographer'],\n",
    "    'Surgeon Assistant': ['Surgeon Assistant'],\n",
    "    'Thoracic-Surgery': ['Thoracic-Surgery'],\n",
    "    'Traumatic-Surgery': ['Traumatic-Surgery'],\n",
    "    'Urgent Care-No Surgery': ['Urgent Care-No Surgery'],\n",
    "    'Urological-Surgery': ['Urological-Surgery'],\n",
    "    'Pharmacology Clinica': ['Pharmacology Clinica']\n",
    " }"
   ]
  },
  {
   "cell_type": "code",
   "execution_count": 18,
   "metadata": {},
   "outputs": [],
   "source": [
    "Specialities = {\n",
    "    'Anesthesiology': ['Anesthesiology', 'Anesthesiology Assistant (AA)', 'CRNA'],\n",
    "}"
   ]
  },
  {
   "cell_type": "code",
   "execution_count": 19,
   "metadata": {},
   "outputs": [
    {
     "name": "stdout",
     "output_type": "stream",
     "text": [
      "Starting the run!!\n",
      "Fitting 2 folds for each of 10 candidates, totalling 20 fits\n"
     ]
    },
    {
     "name": "stderr",
     "output_type": "stream",
     "text": [
      "c:\\Users\\ganga\\anaconda3\\envs\\inferred_speciality\\lib\\site-packages\\sklearn\\model_selection\\_search.py:976: UserWarning: One or more of the test scores are non-finite: [nan nan nan nan nan nan nan nan nan nan]\n",
      "  warnings.warn(\n"
     ]
    },
    {
     "name": "stdout",
     "output_type": "stream",
     "text": [
      "Best parameters found:  {'n_estimators': 50, 'max_depth': 9, 'learning_rate': 0.05, 'colsample_bytree': 0.6}\n",
      "X_train results,\n",
      "X_test results,\n",
      "number of spl predicted as others:  90\n",
      "num of others predicted as spl:  197\n",
      "Fitting 2 folds for each of 10 candidates, totalling 20 fits\n"
     ]
    },
    {
     "name": "stderr",
     "output_type": "stream",
     "text": [
      "c:\\Users\\ganga\\anaconda3\\envs\\inferred_speciality\\lib\\site-packages\\sklearn\\model_selection\\_search.py:976: UserWarning: One or more of the test scores are non-finite: [nan nan nan nan nan nan nan nan nan nan]\n",
      "  warnings.warn(\n"
     ]
    },
    {
     "name": "stdout",
     "output_type": "stream",
     "text": [
      "Best parameters found:  {'n_estimators': 50, 'max_depth': 9, 'learning_rate': 0.05, 'colsample_bytree': 0.6}\n",
      "X_train results,\n",
      "X_test results,\n",
      "number of spl predicted as others:  143\n",
      "num of others predicted as spl:  118\n",
      "\u001b[1m\u001b[92mDone: Anesthesiology\u001b[0m\u001b[0m\n",
      "                          0             1               2            3  \\\n",
      "0                 Data Type  Train / Test      Speciality  Precision 0   \n",
      "1  CPT upper level features          Test  Anesthesiology     0.997413   \n",
      "2   CCSPCS level 3 features          Test  Anesthesiology     0.992303   \n",
      "3                                                                        \n",
      "4                 Data Type  Train / Test      Speciality  Precision 0   \n",
      "\n",
      "          4            5         6             7  \n",
      "0  Recall 0  Precision 1  Recall 1  Macro Avg F1  \n",
      "1  0.994354     0.908965  0.956247      0.963944  \n",
      "2   0.99364     0.888784  0.868324      0.935703  \n",
      "3                                                 \n",
      "4  Recall 0  Precision 1  Recall 1  Macro Avg F1  \n"
     ]
    }
   ],
   "source": [
    "train_binary_spl_predict_mdoel(Specialities, param_dist)"
   ]
  },
  {
   "cell_type": "code",
   "execution_count": null,
   "metadata": {},
   "outputs": [],
   "source": [
    "npi_ccspcs_features_dict = get_npi_ccspcs_dict()\n",
    "npi_upper_level_features = pd.read_pickle(\"./npi_upper_features.pkl\")"
   ]
  },
  {
   "cell_type": "code",
   "execution_count": 36,
   "metadata": {},
   "outputs": [],
   "source": [
    "npi_indigo_spl = pd.read_pickle('./npi_indigo_spl.pkl')\n",
    "indigo_spl_npi = get_indigo_spl_npi(npi_upper_level_features, npi_indigo_spl)\n",
    "X, y, npi_lis_spl = get_X_y(indigo_spl_npi, \"./outliers/\", [\"Cardiovascular Disease-Surgery\", \"Cardiovascular Disease-No Surgery\", \"Cardiovascular Disease-Minor Surgery\"], npi_upper_level_features)"
   ]
  },
  {
   "cell_type": "code",
   "execution_count": 21,
   "metadata": {},
   "outputs": [],
   "source": [
    "if 'Radiology' in ['Respiratory Therapist', 'Bariatric-Surgery', 'Cardiovascular Disease-Surgery', 'Sonographer', 'Pulmonary Diseases-No Surgery', 'Cardiovascular Disease-Minor Surgery', 'Allergy', 'CRNA', 'O.R. Technician', 'Gynecology-Minor Surgery', 'Counselor', 'Aerospace Medicine', 'Anesthesiology', 'Pharmacist', 'Physician Assistant', 'Colon And Rectal-Surgery', 'Otorhinolaryngology-Minor Surgery', 'Radiology Diagnostic-No Surgery', 'Infectious Diseases-No Surgery', 'Ophthalmology-Surgery', 'Nuclear Medicine', 'Endocrinology-No Surgery', 'Advanced Practice Registered Nurse (APRN)', 'Surgeon Assistant', 'Medical Assistant', 'Cardiovascular Disease-No Surgery', 'Dietitian', 'Dermatology-No Surgery', 'Pathology-No Surgery', 'Family Medicine-No Surgery', 'Gynecology-No Surgery', 'Obstetrics Gynecology-Surgery', 'Nephrology-No Surgery', 'Traumatic-Surgery', 'Phlebology', 'Orthopedic Incl Back-Surgery', 'Radiation Therapy NOC', 'Urological-Surgery', 'Occupation Therapist', 'Pediatrics-Minor Surgery', 'General NOC-Surgery', 'Hand-Surgery', 'Rheumatology-No Surgery', 'Certified Nurse Practitioner', 'Plastic Otorhinolaryngology-Surgery', 'Neonatology', 'Otorhinolaryngology-No Surgery', 'Neurology-No Surgery', 'Optometrist', 'Nurse - Student', 'Radiology Diagnostic-Minor Surgery', 'Thoracic-Surgery', 'Gynecology-Surgery', 'Geriatrics-No Surgery', 'Psychiatry', 'Emergency Medical Technician (EMT)', 'Physiotherapist', 'Ophthalmology-Minor Surgery', 'Internal Medicine-No Surgery', 'Dermatology-Minor Surgery', 'Orthopedic Excl Back-Surgery', 'Anesthesiology Assistant (AA)', 'Hematology-No Surgery', 'Physicians NOC-No Surgery', 'Neurology-Surgery', 'Hospitalists', 'Forensic Medicine', 'Ophthalmology-No Surgery', 'Acupuncture', 'Plastic NOC-Surgery', 'Otorhinolaryngology-Surgery', 'Occupational Medicine', 'Audiologist', 'Nurse', 'Vascular-Surgery', 'Psychologist', 'Pain Medicine', 'Podiatrist', 'Chiropractor', 'Physiatry', 'Urgent Care-No Surgery', 'Gastroenterology-No Surgery', 'Pediatrics-No Surgery', 'Clinical Nurse Specialist', 'Certified Nurse Midwife (CNM)', 'General Preventive Med-No Surgery', 'Physical Therapist', 'Emergency Med-No Surgery', 'Social Worker']:\n",
    "    print(True)"
   ]
  },
  {
   "cell_type": "code",
   "execution_count": 17,
   "metadata": {},
   "outputs": [
    {
     "name": "stdout",
     "output_type": "stream",
     "text": [
      "Fitting 2 folds for each of 10 candidates, totalling 20 fits\n"
     ]
    },
    {
     "name": "stderr",
     "output_type": "stream",
     "text": [
      "c:\\Users\\ganga\\anaconda3\\envs\\inferred_speciality\\lib\\site-packages\\sklearn\\model_selection\\_search.py:976: UserWarning: One or more of the test scores are non-finite: [nan nan nan nan nan nan nan nan nan nan]\n",
      "  warnings.warn(\n"
     ]
    },
    {
     "name": "stdout",
     "output_type": "stream",
     "text": [
      "Best parameters found:  {'n_estimators': 50, 'max_depth': 9, 'learning_rate': 0.05, 'colsample_bytree': 0.6}\n",
      "X_train results,\n",
      "                            precision    recall  f1-score   support\n",
      "\n",
      "                    Others       0.94      1.00      0.97     41514\n",
      "Family Medicine-No Surgery       0.89      0.39      0.54      4309\n",
      "\n",
      "                  accuracy                           0.94     45823\n",
      "                 macro avg       0.92      0.69      0.75     45823\n",
      "              weighted avg       0.94      0.94      0.93     45823\n",
      "\n",
      "X_test results,\n",
      "                            precision    recall  f1-score   support\n",
      "\n",
      "                    Others       0.93      0.99      0.96     17792\n",
      "Family Medicine-No Surgery       0.71      0.29      0.41      1847\n",
      "\n",
      "                  accuracy                           0.92     19639\n",
      "                 macro avg       0.82      0.64      0.69     19639\n",
      "              weighted avg       0.91      0.92      0.91     19639\n",
      "\n",
      "number of spl predicted as others:  1308\n",
      "num of others predicted as spl:  217\n"
     ]
    }
   ],
   "source": [
    "#ccspcs_family medicene\n",
    "X_train, X_test, y_train, y_test, random_search = train_model(X, y, param_dist)"
   ]
  },
  {
   "cell_type": "code",
   "execution_count": 23,
   "metadata": {},
   "outputs": [
    {
     "name": "stdout",
     "output_type": "stream",
     "text": [
      "113594 9551\n",
      "Fitting 2 folds for each of 10 candidates, totalling 20 fits\n"
     ]
    },
    {
     "name": "stderr",
     "output_type": "stream",
     "text": [
      "c:\\Users\\ganga\\anaconda3\\envs\\inferred_speciality\\lib\\site-packages\\sklearn\\model_selection\\_search.py:976: UserWarning: One or more of the test scores are non-finite: [nan nan nan nan nan nan nan nan nan nan]\n",
      "  warnings.warn(\n"
     ]
    },
    {
     "name": "stdout",
     "output_type": "stream",
     "text": [
      "Best parameters found:  {'n_estimators': 50, 'max_depth': 9, 'learning_rate': 0.05, 'colsample_bytree': 0.6}\n",
      "X_train results,\n",
      "                            precision    recall  f1-score   support\n",
      "\n",
      "                    Others       0.95      0.99      0.97     79515\n",
      "Family Medicine-No Surgery       0.85      0.40      0.54      6686\n",
      "\n",
      "                  accuracy                           0.95     86201\n",
      "                 macro avg       0.90      0.70      0.76     86201\n",
      "              weighted avg       0.94      0.95      0.94     86201\n",
      "\n",
      "X_test results,\n",
      "                            precision    recall  f1-score   support\n",
      "\n",
      "                    Others       0.94      0.99      0.97     34079\n",
      "Family Medicine-No Surgery       0.71      0.31      0.43      2865\n",
      "\n",
      "                  accuracy                           0.94     36944\n",
      "                 macro avg       0.83      0.65      0.70     36944\n",
      "              weighted avg       0.93      0.94      0.93     36944\n",
      "\n",
      "number of spl predicted as others:  1972\n",
      "num of others predicted as spl:  364\n"
     ]
    }
   ],
   "source": [
    "#npi_upper_level_family_medicene\n",
    "X_train, X_test, y_train, y_test, random_search = train_model(X, y, param_dist)"
   ]
  },
  {
   "cell_type": "code",
   "execution_count": 34,
   "metadata": {},
   "outputs": [
    {
     "name": "stdout",
     "output_type": "stream",
     "text": [
      "64170 1292\n",
      "Fitting 2 folds for each of 10 candidates, totalling 20 fits\n"
     ]
    },
    {
     "name": "stderr",
     "output_type": "stream",
     "text": [
      "c:\\Users\\ganga\\anaconda3\\envs\\inferred_speciality\\lib\\site-packages\\sklearn\\model_selection\\_search.py:976: UserWarning: One or more of the test scores are non-finite: [nan nan nan nan nan nan nan nan nan nan]\n",
      "  warnings.warn(\n"
     ]
    },
    {
     "name": "stdout",
     "output_type": "stream",
     "text": [
      "Best parameters found:  {'n_estimators': 50, 'max_depth': 9, 'learning_rate': 0.05, 'colsample_bytree': 0.6}\n",
      "X_train results,\n",
      "              precision    recall  f1-score   support\n",
      "\n",
      "      Others       1.00      1.00      1.00     44919\n",
      "cardiologist       0.96      0.85      0.90       904\n",
      "\n",
      "    accuracy                           1.00     45823\n",
      "   macro avg       0.98      0.92      0.95     45823\n",
      "weighted avg       1.00      1.00      1.00     45823\n",
      "\n",
      "X_test results,\n",
      "              precision    recall  f1-score   support\n",
      "\n",
      "      Others       0.99      1.00      1.00     19251\n",
      "cardiologist       0.85      0.73      0.78       388\n",
      "\n",
      "    accuracy                           0.99     19639\n",
      "   macro avg       0.92      0.86      0.89     19639\n",
      "weighted avg       0.99      0.99      0.99     19639\n",
      "\n",
      "number of spl predicted as others:  104\n",
      "num of others predicted as spl:  52\n"
     ]
    }
   ],
   "source": [
    "#ccspcs_cardiologist\n",
    "X_train, X_test, y_train, y_test, random_search = train_model(X, y, param_dist, \"cardiologist\")"
   ]
  },
  {
   "cell_type": "code",
   "execution_count": 39,
   "metadata": {},
   "outputs": [
    {
     "name": "stdout",
     "output_type": "stream",
     "text": [
      "121150 1995\n",
      "Fitting 2 folds for each of 10 candidates, totalling 20 fits\n"
     ]
    },
    {
     "name": "stderr",
     "output_type": "stream",
     "text": [
      "c:\\Users\\ganga\\anaconda3\\envs\\inferred_speciality\\lib\\site-packages\\sklearn\\model_selection\\_search.py:976: UserWarning: One or more of the test scores are non-finite: [nan nan nan nan nan nan nan nan nan nan]\n",
      "  warnings.warn(\n"
     ]
    },
    {
     "name": "stdout",
     "output_type": "stream",
     "text": [
      "Best parameters found:  {'n_estimators': 50, 'max_depth': 9, 'learning_rate': 0.05, 'colsample_bytree': 0.6}\n",
      "X_train results,\n",
      "              precision    recall  f1-score   support\n",
      "\n",
      "      Others       1.00      1.00      1.00     84805\n",
      "cardiologist       0.89      0.77      0.82      1396\n",
      "\n",
      "    accuracy                           0.99     86201\n",
      "   macro avg       0.94      0.88      0.91     86201\n",
      "weighted avg       0.99      0.99      0.99     86201\n",
      "\n",
      "X_test results,\n",
      "              precision    recall  f1-score   support\n",
      "\n",
      "      Others       0.99      1.00      1.00     36345\n",
      "cardiologist       0.82      0.69      0.75       599\n",
      "\n",
      "    accuracy                           0.99     36944\n",
      "   macro avg       0.91      0.84      0.87     36944\n",
      "weighted avg       0.99      0.99      0.99     36944\n",
      "\n",
      "number of spl predicted as others:  186\n",
      "num of others predicted as spl:  89\n"
     ]
    }
   ],
   "source": [
    "#npi_upper_level_cardiologist\n",
    "X_train, X_test, y_train, y_test, random_search = train_model(X, y, param_dist, \"cardiologist\")"
   ]
  },
  {
   "cell_type": "code",
   "execution_count": 97,
   "metadata": {},
   "outputs": [],
   "source": [
    "Specialities = {\n",
    "    \"Nurse\":[\"Advanced Practice Registered Nurse (APRN)\", \"Certified Nurse Practitioner\", \"Clinical Nurse Specialist\", \"Nurse - Student\", \"Certified Nurse Midwife (CNM)\", \"Nurse\"],\n",
    "    \"Anesthesiology\":[\"Anesthesiology\", \"Anesthesiology Assistant (AA)\"],\n",
    "    \"Cardiovascular\":['Cardiovascular Disease-Minor Surgery', 'Cardiovascular Disease-No Surgery', 'Cardiovascular Disease-Surgery', 'Cardiac Technician', \"Vascular-Surgery\"],\n",
    "    \"Dermatology\": ['Dermatology-Minor Surgery', 'Dermatology-No Surgery'],\n",
    "    \"Neurology\":[ 'Neurology-No Surgery', 'Neurology-Surgery'],\n",
    "    \"Gynecology\":[\"Obstetrics Gynecology-Surgery\", \"Gynecology-Minor Surgery\", \"Gynecology-No Surgery\", \"Gynecology-Surgery\"],\n",
    "    \"Neurology\":[\"Neurology-Surgery\", \"Neurology-No Surgery\"],\n",
    "    \"General\":[\"General Preventive Med-No Surgery\", \"General NOC-Surgery\"],\n",
    "    \"Orthopedic\":[\"Orthopedic Excl Back-Surgery\", \"Orthopedic Incl Back-Surgery\"],\n",
    "    \"Ophthalmology\":[\"Ophthalmology-No Surgery\", \"Ophthalmology-Minor Surgery\", \"Ophthalmology-Surgery\"],\n",
    "    \"Otorhinolaryngology\":[\"Otorhinolaryngology-No Surgery\", \"Otorhinolaryngology-Minor Surgery\", \"Otorhinolaryngology-Surgery\"],\n",
    "    \"Radiology\": [\"Radiology Diagnostic-Minor Surgery\", \"Radiology Diagnostic-No Surgery\"],\n",
    "    'Pediatrics': ['Pediatrics-Minor Surgery', 'Pediatrics-No Surgery'],\n",
    "    \n",
    "}"
   ]
  },
  {
   "cell_type": "code",
   "execution_count": 98,
   "metadata": {},
   "outputs": [
    {
     "name": "stdout",
     "output_type": "stream",
     "text": [
      "['Advanced Practice Registered Nurse (APRN)', 'Certified Nurse Practitioner', 'Clinical Nurse Specialist', 'Nurse - Student', 'Certified Nurse Midwife (CNM)', 'Nurse', 'Anesthesiology', 'Anesthesiology Assistant (AA)', 'Cardiovascular Disease-Minor Surgery', 'Cardiovascular Disease-No Surgery', 'Cardiovascular Disease-Surgery', 'Cardiac Technician', 'Vascular-Surgery', 'Dermatology-Minor Surgery', 'Dermatology-No Surgery', 'Neurology-Surgery', 'Neurology-No Surgery', 'Obstetrics Gynecology-Surgery', 'Gynecology-Minor Surgery', 'Gynecology-No Surgery', 'Gynecology-Surgery', 'General Preventive Med-No Surgery', 'General NOC-Surgery', 'Orthopedic Excl Back-Surgery', 'Orthopedic Incl Back-Surgery', 'Ophthalmology-No Surgery', 'Ophthalmology-Minor Surgery', 'Ophthalmology-Surgery', 'Otorhinolaryngology-No Surgery', 'Otorhinolaryngology-Minor Surgery', 'Otorhinolaryngology-Surgery', 'Radiology Diagnostic-Minor Surgery', 'Radiology Diagnostic-No Surgery', 'Pediatrics-Minor Surgery', 'Pediatrics-No Surgery']\n"
     ]
    }
   ],
   "source": [
    "import os\n",
    "\n",
    "spl_all = [spl for upper_spl in Specialities for spl in Specialities[upper_spl]]\n",
    "print(spl_all)\n",
    "for file_name in os.listdir('./outliers/'):\n",
    "    spl = file_name.strip('outlier_npis')\n",
    "    spl = spl.strip('.pkl')\n",
    "    if spl not in spl_all:\n",
    "        Specialities[spl] = [spl]\n",
    "\n",
    "for file_name in os.listdir('./outliersccspcs/'):\n",
    "    spl = file_name.strip('outlier_npis')\n",
    "    spl = spl.strip('.pkl')\n",
    "    if spl not in spl_all:\n",
    "        Specialities[spl] = [spl]"
   ]
  },
  {
   "cell_type": "code",
   "execution_count": 95,
   "metadata": {},
   "outputs": [
    {
     "name": "stdout",
     "output_type": "stream",
     "text": [
      "{'Nurse': ['Advanced Practice Registered Nurse (APRN)', 'Certified Nurse Practitioner', 'Clinical Nurse Specialist', 'Nurse - Student', 'Certified Nurse Midwife (CNM)', 'Nurse'], 'Anesthesiology': ['Anesthesiology', 'Anesthesiology Assistant (AA)'], 'Cardiovascular': ['Cardiovascular Disease-Minor Surgery', 'Cardiovascular Disease-No Surgery', 'Cardiovascular Disease-Surgery', 'Cardiac Technician', 'Vascular-Surgery'], 'Dermatology': ['Dermatology-Minor Surgery', 'Dermatology-No Surgery'], 'Neurology': ['Neurology-Surgery', 'Neurology-No Surgery'], 'Gynecology': ['Obstetrics Gynecology-Surgery', 'Gynecology-Minor Surgery', 'Gynecology-No Surgery', 'Gynecology-Surgery'], 'General': ['General Preventive Med-No Surgery', 'General NOC-Surgery'], 'Orthopedic': ['Orthopedic Excl Back-Surgery', 'Orthopedic Incl Back-Surgery'], 'Ophthalmology': ['Ophthalmology-No Surgery', 'Ophthalmology-Minor Surgery', 'Ophthalmology-Surgery'], 'Otorhinolaryngology': ['Otorhinolaryngology-No Surgery', 'Otorhinolaryngology-Minor Surgery', 'Otorhinolaryngology-Surgery'], 'Acupuncture': ['Acupuncture'], 'Aerospace Medicine': ['Aerospace Medicine'], 'Allergy': ['Allergy'], 'Audiologist': ['Audiologist'], 'Bariatric-Surgery': ['Bariatric-Surgery'], 'Chiropractor': ['Chiropractor'], 'Colon And Rectal-Surgery': ['Colon And Rectal-Surgery'], 'Counselor': ['Counselor'], 'CRNA': ['CRNA'], 'Dietitian': ['Dietitian'], 'Emergency Med-No Surgery': ['Emergency Med-No Surgery'], 'Emergency Medical Technician (EMT)': ['Emergency Medical Technician (EMT)'], 'Endocrinology-No Surgery': ['Endocrinology-No Surgery'], 'Family Medicine-No Surgery': ['Family Medicine-No Surgery'], 'Forensic Medicine': ['Forensic Medicine'], 'Gastroenterology-No Surgery': ['Gastroenterology-No Surgery'], 'Geriatrics-No Surgery': ['Geriatrics-No Surgery'], 'Hand-Surgery': ['Hand-Surgery'], 'Hematology-No Surgery': ['Hematology-No Surgery'], 'Hospitalists': ['Hospitalists'], 'Infectious Diseases-No Surgery': ['Infectious Diseases-No Surgery'], 'Internal Medicine-No Surgery': ['Internal Medicine-No Surgery'], 'Medical Assistant': ['Medical Assistant'], 'Neonatology': ['Neonatology'], 'Nephrology-No Surgery': ['Nephrology-No Surgery'], 'Nuclear Medicine': ['Nuclear Medicine'], 'O.R. Technician': ['O.R. Technician'], 'Occupation Therapist': ['Occupation Therapist'], 'Occupational Medicine': ['Occupational Medicine'], 'Optometrist': ['Optometrist'], 'Pain Medicine': ['Pain Medicine'], 'Pathology-No Surgery': ['Pathology-No Surgery'], 'Pediatrics-Minor Surgery': ['Pediatrics-Minor Surgery'], 'Pediatrics-No Surgery': ['Pediatrics-No Surgery'], 'Pharmacist': ['Pharmacist'], 'Phlebology': ['Phlebology'], 'Physiatry': ['Physiatry'], 'Physical Therapist': ['Physical Therapist'], 'Physician Assistant': ['Physician Assistant'], 'Physicians NOC-No Surgery': ['Physicians NOC-No Surgery'], 'Physiotherapist': ['Physiotherapist'], 'Plastic NOC-Surgery': ['Plastic NOC-Surgery'], 'Plastic Otorhinolaryngology-Surgery': ['Plastic Otorhinolaryngology-Surgery'], 'Podiatrist': ['Podiatrist'], 'Psychiatry': ['Psychiatry'], 'Psychologist': ['Psychologist'], 'Pulmonary Diseases-No Surgery': ['Pulmonary Diseases-No Surgery'], 'Radiation Therapy NOC': ['Radiation Therapy NOC'], 'Radiology Diagnostic-Minor Surgery': ['Radiology Diagnostic-Minor Surgery'], 'Radiology Diagnostic-No Surgery': ['Radiology Diagnostic-No Surgery'], 'Respiratory Therapist': ['Respiratory Therapist'], 'Rheumatology-No Surgery': ['Rheumatology-No Surgery'], 'Social Worker': ['Social Worker'], 'Sonographer': ['Sonographer'], 'Surgeon Assistant': ['Surgeon Assistant'], 'Thoracic-Surgery': ['Thoracic-Surgery'], 'Traumatic-Surgery': ['Traumatic-Surgery'], 'Urgent Care-No Surgery': ['Urgent Care-No Surgery'], 'Urological-Surgery': ['Urological-Surgery'], 'Pharmacology Clinica': ['Pharmacology Clinica']}\n"
     ]
    }
   ],
   "source": [
    "print(Specialities)"
   ]
  },
  {
   "cell_type": "code",
   "execution_count": 101,
   "metadata": {},
   "outputs": [
    {
     "data": {
      "text/plain": [
       "68"
      ]
     },
     "execution_count": 101,
     "metadata": {},
     "output_type": "execute_result"
    }
   ],
   "source": [
    "len(Specialities)"
   ]
  },
  {
   "cell_type": "code",
   "execution_count": 102,
   "metadata": {},
   "outputs": [
    {
     "data": {
      "text/plain": [
       "{'Nurse': ['Advanced Practice Registered Nurse (APRN)',\n",
       "  'Certified Nurse Practitioner',\n",
       "  'Clinical Nurse Specialist',\n",
       "  'Nurse - Student',\n",
       "  'Certified Nurse Midwife (CNM)',\n",
       "  'Nurse'],\n",
       " 'Anesthesiology': ['Anesthesiology', 'Anesthesiology Assistant (AA)'],\n",
       " 'Cardiovascular': ['Cardiovascular Disease-Minor Surgery',\n",
       "  'Cardiovascular Disease-No Surgery',\n",
       "  'Cardiovascular Disease-Surgery',\n",
       "  'Cardiac Technician',\n",
       "  'Vascular-Surgery'],\n",
       " 'Dermatology': ['Dermatology-Minor Surgery', 'Dermatology-No Surgery'],\n",
       " 'Neurology': ['Neurology-Surgery', 'Neurology-No Surgery'],\n",
       " 'Gynecology': ['Obstetrics Gynecology-Surgery',\n",
       "  'Gynecology-Minor Surgery',\n",
       "  'Gynecology-No Surgery',\n",
       "  'Gynecology-Surgery'],\n",
       " 'General': ['General Preventive Med-No Surgery', 'General NOC-Surgery'],\n",
       " 'Orthopedic': ['Orthopedic Excl Back-Surgery',\n",
       "  'Orthopedic Incl Back-Surgery'],\n",
       " 'Ophthalmology': ['Ophthalmology-No Surgery',\n",
       "  'Ophthalmology-Minor Surgery',\n",
       "  'Ophthalmology-Surgery'],\n",
       " 'Otorhinolaryngology': ['Otorhinolaryngology-No Surgery',\n",
       "  'Otorhinolaryngology-Minor Surgery',\n",
       "  'Otorhinolaryngology-Surgery'],\n",
       " 'Radiology': ['Radiology Diagnostic-Minor Surgery',\n",
       "  'Radiology Diagnostic-No Surgery'],\n",
       " 'Pediatrics': ['Pediatrics-Minor Surgery', 'Pediatrics-No Surgery'],\n",
       " 'Acupuncture': ['Acupuncture'],\n",
       " 'Aerospace Medicine': ['Aerospace Medicine'],\n",
       " 'Allergy': ['Allergy'],\n",
       " 'Audiologist': ['Audiologist'],\n",
       " 'Bariatric-Surgery': ['Bariatric-Surgery'],\n",
       " 'Chiropractor': ['Chiropractor'],\n",
       " 'Colon And Rectal-Surgery': ['Colon And Rectal-Surgery'],\n",
       " 'Counselor': ['Counselor'],\n",
       " 'CRNA': ['CRNA'],\n",
       " 'Dietitian': ['Dietitian'],\n",
       " 'Emergency Med-No Surgery': ['Emergency Med-No Surgery'],\n",
       " 'Emergency Medical Technician (EMT)': ['Emergency Medical Technician (EMT)'],\n",
       " 'Endocrinology-No Surgery': ['Endocrinology-No Surgery'],\n",
       " 'Family Medicine-No Surgery': ['Family Medicine-No Surgery'],\n",
       " 'Forensic Medicine': ['Forensic Medicine'],\n",
       " 'Gastroenterology-No Surgery': ['Gastroenterology-No Surgery'],\n",
       " 'Geriatrics-No Surgery': ['Geriatrics-No Surgery'],\n",
       " 'Hand-Surgery': ['Hand-Surgery'],\n",
       " 'Hematology-No Surgery': ['Hematology-No Surgery'],\n",
       " 'Hospitalists': ['Hospitalists'],\n",
       " 'Infectious Diseases-No Surgery': ['Infectious Diseases-No Surgery'],\n",
       " 'Internal Medicine-No Surgery': ['Internal Medicine-No Surgery'],\n",
       " 'Medical Assistant': ['Medical Assistant'],\n",
       " 'Neonatology': ['Neonatology'],\n",
       " 'Nephrology-No Surgery': ['Nephrology-No Surgery'],\n",
       " 'Nuclear Medicine': ['Nuclear Medicine'],\n",
       " 'O.R. Technician': ['O.R. Technician'],\n",
       " 'Occupation Therapist': ['Occupation Therapist'],\n",
       " 'Occupational Medicine': ['Occupational Medicine'],\n",
       " 'Optometrist': ['Optometrist'],\n",
       " 'Pain Medicine': ['Pain Medicine'],\n",
       " 'Pathology-No Surgery': ['Pathology-No Surgery'],\n",
       " 'Pharmacist': ['Pharmacist'],\n",
       " 'Phlebology': ['Phlebology'],\n",
       " 'Physiatry': ['Physiatry'],\n",
       " 'Physical Therapist': ['Physical Therapist'],\n",
       " 'Physician Assistant': ['Physician Assistant'],\n",
       " 'Physicians NOC-No Surgery': ['Physicians NOC-No Surgery'],\n",
       " 'Physiotherapist': ['Physiotherapist'],\n",
       " 'Plastic NOC-Surgery': ['Plastic NOC-Surgery'],\n",
       " 'Plastic Otorhinolaryngology-Surgery': ['Plastic Otorhinolaryngology-Surgery'],\n",
       " 'Podiatrist': ['Podiatrist'],\n",
       " 'Psychiatry': ['Psychiatry'],\n",
       " 'Psychologist': ['Psychologist'],\n",
       " 'Pulmonary Diseases-No Surgery': ['Pulmonary Diseases-No Surgery'],\n",
       " 'Radiation Therapy NOC': ['Radiation Therapy NOC'],\n",
       " 'Respiratory Therapist': ['Respiratory Therapist'],\n",
       " 'Rheumatology-No Surgery': ['Rheumatology-No Surgery'],\n",
       " 'Social Worker': ['Social Worker'],\n",
       " 'Sonographer': ['Sonographer'],\n",
       " 'Surgeon Assistant': ['Surgeon Assistant'],\n",
       " 'Thoracic-Surgery': ['Thoracic-Surgery'],\n",
       " 'Traumatic-Surgery': ['Traumatic-Surgery'],\n",
       " 'Urgent Care-No Surgery': ['Urgent Care-No Surgery'],\n",
       " 'Urological-Surgery': ['Urological-Surgery'],\n",
       " 'Pharmacology Clinica': ['Pharmacology Clinica']}"
      ]
     },
     "execution_count": 102,
     "metadata": {},
     "output_type": "execute_result"
    }
   ],
   "source": [
    "Specialities"
   ]
  },
  {
   "cell_type": "code",
   "execution_count": 103,
   "metadata": {},
   "outputs": [],
   "source": [
    "Specialities = {\n",
    "    'Nurse': ['Advanced Practice Registered Nurse (APRN)',\n",
    "    'Certified Nurse Practitioner',\n",
    "    'Clinical Nurse Specialist',\n",
    "    'Nurse - Student',\n",
    "    'Certified Nurse Midwife (CNM)',\n",
    "    'Nurse'],\n",
    "    'Anesthesiology': ['Anesthesiology', 'Anesthesiology Assistant (AA)'],\n",
    "    'Cardiovascular': ['Cardiovascular Disease-Minor Surgery',\n",
    "    'Cardiovascular Disease-No Surgery',\n",
    "    'Cardiovascular Disease-Surgery',\n",
    "    'Cardiac Technician',\n",
    "    'Vascular-Surgery'],\n",
    "    'Dermatology': ['Dermatology-Minor Surgery', 'Dermatology-No Surgery'],\n",
    "    'Neurology': ['Neurology-Surgery', 'Neurology-No Surgery'],\n",
    "    'Gynecology': ['Obstetrics Gynecology-Surgery',\n",
    "    'Gynecology-Minor Surgery',\n",
    "    'Gynecology-No Surgery',\n",
    "    'Gynecology-Surgery'],\n",
    "    'General': ['General Preventive Med-No Surgery', 'General NOC-Surgery'],\n",
    "    'Orthopedic': ['Orthopedic Excl Back-Surgery',\n",
    "    'Orthopedic Incl Back-Surgery'],\n",
    "    'Ophthalmology': ['Ophthalmology-No Surgery',\n",
    "    'Ophthalmology-Minor Surgery',\n",
    "    'Ophthalmology-Surgery'],\n",
    "    'Otorhinolaryngology': ['Otorhinolaryngology-No Surgery',\n",
    "    'Otorhinolaryngology-Minor Surgery',\n",
    "    'Otorhinolaryngology-Surgery'],\n",
    "    'Radiology': ['Radiology Diagnostic-Minor Surgery',\n",
    "    'Radiology Diagnostic-No Surgery'],\n",
    "    'Pediatrics': ['Pediatrics-Minor Surgery', 'Pediatrics-No Surgery'],\n",
    "    'Acupuncture': ['Acupuncture'],\n",
    "    'Aerospace Medicine': ['Aerospace Medicine'],\n",
    "    'Allergy': ['Allergy'],\n",
    "    'Audiologist': ['Audiologist'],\n",
    "    'Bariatric-Surgery': ['Bariatric-Surgery'],\n",
    "    'Chiropractor': ['Chiropractor'],\n",
    "    'Colon And Rectal-Surgery': ['Colon And Rectal-Surgery'],\n",
    "    'Counselor': ['Counselor'],\n",
    "    'CRNA': ['CRNA'],\n",
    "    'Dietitian': ['Dietitian'],\n",
    "    'Emergency Med-No Surgery': ['Emergency Med-No Surgery'],\n",
    "    'Emergency Medical Technician (EMT)': ['Emergency Medical Technician (EMT)'],\n",
    "    'Endocrinology-No Surgery': ['Endocrinology-No Surgery'],\n",
    "    'Family Medicine-No Surgery': ['Family Medicine-No Surgery'],\n",
    "    'Forensic Medicine': ['Forensic Medicine'],\n",
    "    'Gastroenterology-No Surgery': ['Gastroenterology-No Surgery'],\n",
    "    'Geriatrics-No Surgery': ['Geriatrics-No Surgery'],\n",
    "    'Hand-Surgery': ['Hand-Surgery'],\n",
    "    'Hematology-No Surgery': ['Hematology-No Surgery'],\n",
    "    'Hospitalists': ['Hospitalists'],\n",
    "    'Infectious Diseases-No Surgery': ['Infectious Diseases-No Surgery'],\n",
    "    'Internal Medicine-No Surgery': ['Internal Medicine-No Surgery'],\n",
    "    'Medical Assistant': ['Medical Assistant'],\n",
    "    'Neonatology': ['Neonatology'],\n",
    "    'Nephrology-No Surgery': ['Nephrology-No Surgery'],\n",
    "    'Nuclear Medicine': ['Nuclear Medicine'],\n",
    "    'O.R. Technician': ['O.R. Technician'],\n",
    "    'Occupation Therapist': ['Occupation Therapist'],\n",
    "    'Occupational Medicine': ['Occupational Medicine'],\n",
    "    'Optometrist': ['Optometrist'],\n",
    "    'Pain Medicine': ['Pain Medicine'],\n",
    "    'Pathology-No Surgery': ['Pathology-No Surgery'],\n",
    "    'Pharmacist': ['Pharmacist'],\n",
    "    'Phlebology': ['Phlebology'],\n",
    "    'Physiatry': ['Physiatry'],\n",
    "    'Physical Therapist': ['Physical Therapist'],\n",
    "    'Physician Assistant': ['Physician Assistant'],\n",
    "    'Physicians NOC-No Surgery': ['Physicians NOC-No Surgery'],\n",
    "    'Physiotherapist': ['Physiotherapist'],\n",
    "    'Plastic NOC-Surgery': ['Plastic NOC-Surgery'],\n",
    "    'Plastic Otorhinolaryngology-Surgery': ['Plastic Otorhinolaryngology-Surgery'],\n",
    "    'Podiatrist': ['Podiatrist'],\n",
    "    'Psychiatry': ['Psychiatry'],\n",
    "    'Psychologist': ['Psychologist'],\n",
    "    'Pulmonary Diseases-No Surgery': ['Pulmonary Diseases-No Surgery'],\n",
    "    'Radiation Therapy NOC': ['Radiation Therapy NOC'],\n",
    "    'Respiratory Therapist': ['Respiratory Therapist'],\n",
    "    'Rheumatology-No Surgery': ['Rheumatology-No Surgery'],\n",
    "    'Social Worker': ['Social Worker'],\n",
    "    'Sonographer': ['Sonographer'],\n",
    "    'Surgeon Assistant': ['Surgeon Assistant'],\n",
    "    'Thoracic-Surgery': ['Thoracic-Surgery'],\n",
    "    'Traumatic-Surgery': ['Traumatic-Surgery'],\n",
    "    'Urgent Care-No Surgery': ['Urgent Care-No Surgery'],\n",
    "    'Urological-Surgery': ['Urological-Surgery'],\n",
    "    'Pharmacology Clinica': ['Pharmacology Clinica']\n",
    " }"
   ]
  },
  {
   "cell_type": "code",
   "execution_count": null,
   "metadata": {},
   "outputs": [],
   "source": []
  }
 ],
 "metadata": {
  "kernelspec": {
   "display_name": "inferred_speciality",
   "language": "python",
   "name": "python3"
  },
  "language_info": {
   "codemirror_mode": {
    "name": "ipython",
    "version": 3
   },
   "file_extension": ".py",
   "mimetype": "text/x-python",
   "name": "python",
   "nbconvert_exporter": "python",
   "pygments_lexer": "ipython3",
   "version": "3.10.12"
  },
  "orig_nbformat": 4
 },
 "nbformat": 4,
 "nbformat_minor": 2
}
