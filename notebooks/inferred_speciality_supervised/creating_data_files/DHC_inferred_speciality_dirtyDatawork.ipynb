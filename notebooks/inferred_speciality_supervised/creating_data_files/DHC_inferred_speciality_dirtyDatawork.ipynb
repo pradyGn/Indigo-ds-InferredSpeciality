{
 "cells": [
  {
   "cell_type": "code",
   "execution_count": 27,
   "metadata": {},
   "outputs": [
    {
     "name": "stdout",
     "output_type": "stream",
     "text": [
      "Collecting pyarrow\n",
      "  Downloading pyarrow-12.0.1-cp310-cp310-win_amd64.whl (21.5 MB)\n",
      "     ---------------------------------------- 21.5/21.5 MB 2.9 MB/s eta 0:00:00\n",
      "Requirement already satisfied: numpy>=1.16.6 in c:\\users\\ganga\\anaconda3\\envs\\inferred_speciality\\lib\\site-packages (from pyarrow) (1.25.1)\n",
      "Installing collected packages: pyarrow\n",
      "Successfully installed pyarrow-12.0.1\n"
     ]
    }
   ],
   "source": [
    "!pip install pyarrow"
   ]
  },
  {
   "cell_type": "code",
   "execution_count": 46,
   "metadata": {},
   "outputs": [
    {
     "name": "stdout",
     "output_type": "stream",
     "text": [
      "Requirement already satisfied: matplotlib in c:\\users\\ganga\\anaconda3\\envs\\inferred_speciality\\lib\\site-packages (3.7.2)\n",
      "Requirement already satisfied: contourpy>=1.0.1 in c:\\users\\ganga\\anaconda3\\envs\\inferred_speciality\\lib\\site-packages (from matplotlib) (1.1.0)\n",
      "Requirement already satisfied: cycler>=0.10 in c:\\users\\ganga\\anaconda3\\envs\\inferred_speciality\\lib\\site-packages (from matplotlib) (0.11.0)\n",
      "Requirement already satisfied: fonttools>=4.22.0 in c:\\users\\ganga\\anaconda3\\envs\\inferred_speciality\\lib\\site-packages (from matplotlib) (4.41.0)\n",
      "Requirement already satisfied: kiwisolver>=1.0.1 in c:\\users\\ganga\\anaconda3\\envs\\inferred_speciality\\lib\\site-packages (from matplotlib) (1.4.4)\n",
      "Requirement already satisfied: numpy>=1.20 in c:\\users\\ganga\\anaconda3\\envs\\inferred_speciality\\lib\\site-packages (from matplotlib) (1.25.1)\n",
      "Requirement already satisfied: packaging>=20.0 in c:\\users\\ganga\\anaconda3\\envs\\inferred_speciality\\lib\\site-packages (from matplotlib) (23.1)\n",
      "Requirement already satisfied: pillow>=6.2.0 in c:\\users\\ganga\\anaconda3\\envs\\inferred_speciality\\lib\\site-packages (from matplotlib) (10.0.0)\n",
      "Requirement already satisfied: pyparsing<3.1,>=2.3.1 in c:\\users\\ganga\\anaconda3\\envs\\inferred_speciality\\lib\\site-packages (from matplotlib) (3.0.9)\n",
      "Requirement already satisfied: python-dateutil>=2.7 in c:\\users\\ganga\\anaconda3\\envs\\inferred_speciality\\lib\\site-packages (from matplotlib) (2.8.2)\n",
      "Requirement already satisfied: six>=1.5 in c:\\users\\ganga\\anaconda3\\envs\\inferred_speciality\\lib\\site-packages (from python-dateutil>=2.7->matplotlib) (1.16.0)\n"
     ]
    }
   ],
   "source": [
    "!pip install matplotlib"
   ]
  },
  {
   "cell_type": "code",
   "execution_count": 19,
   "metadata": {},
   "outputs": [
    {
     "name": "stdout",
     "output_type": "stream",
     "text": [
      "Collecting scikit-learn\n",
      "  Downloading scikit_learn-1.3.0-cp310-cp310-win_amd64.whl (9.2 MB)\n",
      "     ---------------------------------------- 9.2/9.2 MB 4.9 MB/s eta 0:00:00\n",
      "Requirement already satisfied: numpy>=1.17.3 in c:\\users\\ganga\\anaconda3\\envs\\inferred_speciality\\lib\\site-packages (from scikit-learn) (1.25.1)\n",
      "Collecting scipy>=1.5.0 (from scikit-learn)\n",
      "  Downloading scipy-1.11.1-cp310-cp310-win_amd64.whl (44.0 MB)\n",
      "     ---------------------------------------- 44.0/44.0 MB 4.9 MB/s eta 0:00:00\n",
      "Collecting joblib>=1.1.1 (from scikit-learn)\n",
      "  Downloading joblib-1.3.1-py3-none-any.whl (301 kB)\n",
      "     -------------------------------------- 302.0/302.0 kB 4.7 MB/s eta 0:00:00\n",
      "Collecting threadpoolctl>=2.0.0 (from scikit-learn)\n",
      "  Downloading threadpoolctl-3.2.0-py3-none-any.whl (15 kB)\n",
      "Installing collected packages: threadpoolctl, scipy, joblib, scikit-learn\n",
      "Successfully installed joblib-1.3.1 scikit-learn-1.3.0 scipy-1.11.1 threadpoolctl-3.2.0\n"
     ]
    }
   ],
   "source": [
    "!pip3 install scikit-learn"
   ]
  },
  {
   "cell_type": "code",
   "execution_count": 3,
   "metadata": {},
   "outputs": [],
   "source": [
    "import pandas as pd\n",
    "import numpy as np\n",
    "import pickle\n",
    "import random"
   ]
  },
  {
   "cell_type": "code",
   "execution_count": 39,
   "metadata": {},
   "outputs": [],
   "source": [
    "from sklearn.model_selection import train_test_split\n",
    "import matplotlib.pyplot as plt"
   ]
  },
  {
   "cell_type": "code",
   "execution_count": 4,
   "metadata": {},
   "outputs": [],
   "source": [
    "def save_pickle(file_name, file_path):\n",
    "    with open(file_path, 'wb') as fp:\n",
    "        pickle.dump(file_name, fp)"
   ]
  },
  {
   "cell_type": "code",
   "execution_count": 5,
   "metadata": {},
   "outputs": [],
   "source": [
    "def read_pickle(file_path):\n",
    "    with open(file_path, 'rb') as fp:\n",
    "        file_name = pickle.load(fp)\n",
    "    return file_name"
   ]
  },
  {
   "cell_type": "code",
   "execution_count": 6,
   "metadata": {},
   "outputs": [],
   "source": [
    "save_location = './procedures_aggregation_2019.pkl'"
   ]
  },
  {
   "cell_type": "code",
   "execution_count": 7,
   "metadata": {},
   "outputs": [],
   "source": [
    "DHC_2020 = pd.read_pickle(save_location)"
   ]
  },
  {
   "cell_type": "code",
   "execution_count": 7,
   "metadata": {},
   "outputs": [],
   "source": [
    "save_location = './indigo_speciality_to_nucc_crosswalk.pkl'"
   ]
  },
  {
   "cell_type": "code",
   "execution_count": 8,
   "metadata": {},
   "outputs": [],
   "source": [
    "crosswalk = pd.read_pickle(save_location)"
   ]
  },
  {
   "cell_type": "code",
   "execution_count": 9,
   "metadata": {},
   "outputs": [
    {
     "data": {
      "text/html": [
       "<div>\n",
       "<style scoped>\n",
       "    .dataframe tbody tr th:only-of-type {\n",
       "        vertical-align: middle;\n",
       "    }\n",
       "\n",
       "    .dataframe tbody tr th {\n",
       "        vertical-align: top;\n",
       "    }\n",
       "\n",
       "    .dataframe thead th {\n",
       "        text-align: right;\n",
       "    }\n",
       "</style>\n",
       "<table border=\"1\" class=\"dataframe\">\n",
       "  <thead>\n",
       "    <tr style=\"text-align: right;\">\n",
       "      <th></th>\n",
       "      <th>NUCC Display Name</th>\n",
       "      <th>NUCC Classification</th>\n",
       "      <th>NUCC Code</th>\n",
       "      <th>Indigo Specialty</th>\n",
       "      <th>OLD Indigo Class Specialty</th>\n",
       "    </tr>\n",
       "  </thead>\n",
       "  <tbody>\n",
       "    <tr>\n",
       "      <th>0</th>\n",
       "      <td>Sports Medicine (Internal Medicine) Physician</td>\n",
       "      <td>Internal Medicine</td>\n",
       "      <td>207RS0010X</td>\n",
       "      <td>Internal Medicine-No Surgery</td>\n",
       "      <td>Internal Medicine - Non-Surgical</td>\n",
       "    </tr>\n",
       "    <tr>\n",
       "      <th>1</th>\n",
       "      <td>Pediatric Dentist</td>\n",
       "      <td>Dentist</td>\n",
       "      <td>1223P0221X</td>\n",
       "      <td>NaN</td>\n",
       "      <td>NaN</td>\n",
       "    </tr>\n",
       "    <tr>\n",
       "      <th>2</th>\n",
       "      <td>Optometrist</td>\n",
       "      <td>Optometrist</td>\n",
       "      <td>152W00000X</td>\n",
       "      <td>Optometrist</td>\n",
       "      <td>NaN</td>\n",
       "    </tr>\n",
       "    <tr>\n",
       "      <th>3</th>\n",
       "      <td>Pediatric Rehabilitation Medicine Physician</td>\n",
       "      <td>Physical Medicine &amp; Rehabilitation</td>\n",
       "      <td>2081P0010X</td>\n",
       "      <td>Physiatry</td>\n",
       "      <td>Physiatry - Non-Surgical</td>\n",
       "    </tr>\n",
       "    <tr>\n",
       "      <th>4</th>\n",
       "      <td>Radiology Podiatrist</td>\n",
       "      <td>Podiatrist</td>\n",
       "      <td>213ER0200X</td>\n",
       "      <td>Podiatrist</td>\n",
       "      <td>Podiatry</td>\n",
       "    </tr>\n",
       "    <tr>\n",
       "      <th>...</th>\n",
       "      <td>...</td>\n",
       "      <td>...</td>\n",
       "      <td>...</td>\n",
       "      <td>...</td>\n",
       "      <td>...</td>\n",
       "    </tr>\n",
       "    <tr>\n",
       "      <th>340</th>\n",
       "      <td>Addiction Medicine (Psychiatry &amp; Neurology) Ph...</td>\n",
       "      <td>Psychiatry &amp; Neurology</td>\n",
       "      <td>2084A0401X</td>\n",
       "      <td>Psychiatry</td>\n",
       "      <td>Psychiatry - Non-Surgical</td>\n",
       "    </tr>\n",
       "    <tr>\n",
       "      <th>341</th>\n",
       "      <td>Otology &amp; Neurotology Physician</td>\n",
       "      <td>Otolaryngology</td>\n",
       "      <td>207YX0901X</td>\n",
       "      <td>Otorhinolaryngology-No Surgery</td>\n",
       "      <td>Otorhinolaryngology - Non-Surgical</td>\n",
       "    </tr>\n",
       "    <tr>\n",
       "      <th>342</th>\n",
       "      <td>Clinical &amp; Laboratory Dermatological Immunolog...</td>\n",
       "      <td>Dermatology</td>\n",
       "      <td>207NI0002X</td>\n",
       "      <td>Dermatology-No Surgery</td>\n",
       "      <td>Dermatology - Non-Surgical</td>\n",
       "    </tr>\n",
       "    <tr>\n",
       "      <th>343</th>\n",
       "      <td>Pediatric Endocrinology Physician</td>\n",
       "      <td>Pediatrics</td>\n",
       "      <td>2080P0205X</td>\n",
       "      <td>Endocrinology-No Surgery</td>\n",
       "      <td>Endocrinology - Non-Surgical</td>\n",
       "    </tr>\n",
       "    <tr>\n",
       "      <th>344</th>\n",
       "      <td>Addiction Medicine (Anesthesiology) Physician</td>\n",
       "      <td>Anesthesiology</td>\n",
       "      <td>207LA0401X</td>\n",
       "      <td>Anesthesiology</td>\n",
       "      <td>Internal Medicine - Non-Surgical</td>\n",
       "    </tr>\n",
       "  </tbody>\n",
       "</table>\n",
       "<p>345 rows × 5 columns</p>\n",
       "</div>"
      ],
      "text/plain": [
       "                                     NUCC Display Name  \\\n",
       "0        Sports Medicine (Internal Medicine) Physician   \n",
       "1                                    Pediatric Dentist   \n",
       "2                                          Optometrist   \n",
       "3          Pediatric Rehabilitation Medicine Physician   \n",
       "4                                 Radiology Podiatrist   \n",
       "..                                                 ...   \n",
       "340  Addiction Medicine (Psychiatry & Neurology) Ph...   \n",
       "341                    Otology & Neurotology Physician   \n",
       "342  Clinical & Laboratory Dermatological Immunolog...   \n",
       "343                  Pediatric Endocrinology Physician   \n",
       "344      Addiction Medicine (Anesthesiology) Physician   \n",
       "\n",
       "                    NUCC Classification   NUCC Code  \\\n",
       "0                     Internal Medicine  207RS0010X   \n",
       "1                               Dentist  1223P0221X   \n",
       "2                           Optometrist  152W00000X   \n",
       "3    Physical Medicine & Rehabilitation  2081P0010X   \n",
       "4                            Podiatrist  213ER0200X   \n",
       "..                                  ...         ...   \n",
       "340              Psychiatry & Neurology  2084A0401X   \n",
       "341                      Otolaryngology  207YX0901X   \n",
       "342                         Dermatology  207NI0002X   \n",
       "343                          Pediatrics  2080P0205X   \n",
       "344                      Anesthesiology  207LA0401X   \n",
       "\n",
       "                   Indigo Specialty          OLD Indigo Class Specialty  \n",
       "0      Internal Medicine-No Surgery    Internal Medicine - Non-Surgical  \n",
       "1                               NaN                                 NaN  \n",
       "2                       Optometrist                                 NaN  \n",
       "3                         Physiatry            Physiatry - Non-Surgical  \n",
       "4                        Podiatrist                            Podiatry  \n",
       "..                              ...                                 ...  \n",
       "340                      Psychiatry           Psychiatry - Non-Surgical  \n",
       "341  Otorhinolaryngology-No Surgery  Otorhinolaryngology - Non-Surgical  \n",
       "342          Dermatology-No Surgery          Dermatology - Non-Surgical  \n",
       "343        Endocrinology-No Surgery        Endocrinology - Non-Surgical  \n",
       "344                  Anesthesiology    Internal Medicine - Non-Surgical  \n",
       "\n",
       "[345 rows x 5 columns]"
      ]
     },
     "execution_count": 9,
     "metadata": {},
     "output_type": "execute_result"
    }
   ],
   "source": [
    "crosswalk"
   ]
  },
  {
   "cell_type": "code",
   "execution_count": 10,
   "metadata": {},
   "outputs": [
    {
     "data": {
      "text/plain": [
       "115"
      ]
     },
     "execution_count": 10,
     "metadata": {},
     "output_type": "execute_result"
    }
   ],
   "source": [
    "len(list(set(crosswalk['Indigo Specialty'])))"
   ]
  },
  {
   "cell_type": "code",
   "execution_count": 47,
   "metadata": {},
   "outputs": [
    {
     "data": {
      "text/html": [
       "<div>\n",
       "<style scoped>\n",
       "    .dataframe tbody tr th:only-of-type {\n",
       "        vertical-align: middle;\n",
       "    }\n",
       "\n",
       "    .dataframe tbody tr th {\n",
       "        vertical-align: top;\n",
       "    }\n",
       "\n",
       "    .dataframe thead th {\n",
       "        text-align: right;\n",
       "    }\n",
       "</style>\n",
       "<table border=\"1\" class=\"dataframe\">\n",
       "  <thead>\n",
       "    <tr style=\"text-align: right;\">\n",
       "      <th></th>\n",
       "      <th>npi</th>\n",
       "      <th>FIRST_NAME</th>\n",
       "      <th>LAST_NAME</th>\n",
       "      <th>CLAIM_YEAR</th>\n",
       "      <th>HCPCS_CPT_CODE</th>\n",
       "      <th>HCPCS_CPT_DESCRIPTION</th>\n",
       "      <th>NUMBER_PROCEDURES</th>\n",
       "      <th>NUMBER_UNIQUE_PATIENTS</th>\n",
       "      <th>TOTAL_CHARGES</th>\n",
       "      <th>AVG_CHARGE_PER_PROCEDURE</th>\n",
       "      <th>HCPCS_CPT_CATEGORY</th>\n",
       "      <th>HCPCS_CPT_SUBCATEGORY</th>\n",
       "    </tr>\n",
       "  </thead>\n",
       "  <tbody>\n",
       "    <tr>\n",
       "      <th>0</th>\n",
       "      <td>1003063181</td>\n",
       "      <td>Anita</td>\n",
       "      <td>Nagamine</td>\n",
       "      <td>2019</td>\n",
       "      <td>19000</td>\n",
       "      <td>Drainage of breast lesion</td>\n",
       "      <td>1</td>\n",
       "      <td>1</td>\n",
       "      <td>367.0</td>\n",
       "      <td>367.000000</td>\n",
       "      <td>Surgery</td>\n",
       "      <td>Surgery - Integumentary System</td>\n",
       "    </tr>\n",
       "    <tr>\n",
       "      <th>1</th>\n",
       "      <td>1003063181</td>\n",
       "      <td>Anita</td>\n",
       "      <td>Nagamine</td>\n",
       "      <td>2019</td>\n",
       "      <td>76641</td>\n",
       "      <td>ULTRASOUND BREAST COMPLETE</td>\n",
       "      <td>25</td>\n",
       "      <td>24</td>\n",
       "      <td>4428.0</td>\n",
       "      <td>177.120000</td>\n",
       "      <td>Radiology</td>\n",
       "      <td>Radiology - Diagnostic Ultrasound</td>\n",
       "    </tr>\n",
       "    <tr>\n",
       "      <th>2</th>\n",
       "      <td>1003063181</td>\n",
       "      <td>Anita</td>\n",
       "      <td>Nagamine</td>\n",
       "      <td>2019</td>\n",
       "      <td>19081</td>\n",
       "      <td>Bx breast 1st lesion strtctc</td>\n",
       "      <td>2</td>\n",
       "      <td>2</td>\n",
       "      <td>2798.0</td>\n",
       "      <td>1399.000000</td>\n",
       "      <td>Surgery</td>\n",
       "      <td>Surgery - Integumentary System</td>\n",
       "    </tr>\n",
       "    <tr>\n",
       "      <th>3</th>\n",
       "      <td>1003063181</td>\n",
       "      <td>Anita</td>\n",
       "      <td>Nagamine</td>\n",
       "      <td>2019</td>\n",
       "      <td>76642</td>\n",
       "      <td>ULTRASOUND BREAST LIMITED</td>\n",
       "      <td>27</td>\n",
       "      <td>23</td>\n",
       "      <td>4306.0</td>\n",
       "      <td>159.481481</td>\n",
       "      <td>Radiology</td>\n",
       "      <td>Radiology - Diagnostic Ultrasound</td>\n",
       "    </tr>\n",
       "    <tr>\n",
       "      <th>4</th>\n",
       "      <td>1003063181</td>\n",
       "      <td>Anita</td>\n",
       "      <td>Nagamine</td>\n",
       "      <td>2019</td>\n",
       "      <td>19083</td>\n",
       "      <td>Bx breast 1st lesion us imag</td>\n",
       "      <td>4</td>\n",
       "      <td>4</td>\n",
       "      <td>5462.0</td>\n",
       "      <td>1365.500000</td>\n",
       "      <td>Surgery</td>\n",
       "      <td>Surgery - Integumentary System</td>\n",
       "    </tr>\n",
       "  </tbody>\n",
       "</table>\n",
       "</div>"
      ],
      "text/plain": [
       "          npi FIRST_NAME LAST_NAME  CLAIM_YEAR HCPCS_CPT_CODE  \\\n",
       "0  1003063181      Anita  Nagamine        2019          19000   \n",
       "1  1003063181      Anita  Nagamine        2019          76641   \n",
       "2  1003063181      Anita  Nagamine        2019          19081   \n",
       "3  1003063181      Anita  Nagamine        2019          76642   \n",
       "4  1003063181      Anita  Nagamine        2019          19083   \n",
       "\n",
       "          HCPCS_CPT_DESCRIPTION  NUMBER_PROCEDURES  NUMBER_UNIQUE_PATIENTS  \\\n",
       "0     Drainage of breast lesion                  1                       1   \n",
       "1    ULTRASOUND BREAST COMPLETE                 25                      24   \n",
       "2  Bx breast 1st lesion strtctc                  2                       2   \n",
       "3     ULTRASOUND BREAST LIMITED                 27                      23   \n",
       "4  Bx breast 1st lesion us imag                  4                       4   \n",
       "\n",
       "   TOTAL_CHARGES  AVG_CHARGE_PER_PROCEDURE HCPCS_CPT_CATEGORY  \\\n",
       "0          367.0                367.000000            Surgery   \n",
       "1         4428.0                177.120000          Radiology   \n",
       "2         2798.0               1399.000000            Surgery   \n",
       "3         4306.0                159.481481          Radiology   \n",
       "4         5462.0               1365.500000            Surgery   \n",
       "\n",
       "               HCPCS_CPT_SUBCATEGORY  \n",
       "0     Surgery - Integumentary System  \n",
       "1  Radiology - Diagnostic Ultrasound  \n",
       "2     Surgery - Integumentary System  \n",
       "3  Radiology - Diagnostic Ultrasound  \n",
       "4     Surgery - Integumentary System  "
      ]
     },
     "execution_count": 47,
     "metadata": {},
     "output_type": "execute_result"
    }
   ],
   "source": [
    "DHC_2020.head()"
   ]
  },
  {
   "cell_type": "code",
   "execution_count": 12,
   "metadata": {},
   "outputs": [
    {
     "data": {
      "text/html": [
       "<div>\n",
       "<style scoped>\n",
       "    .dataframe tbody tr th:only-of-type {\n",
       "        vertical-align: middle;\n",
       "    }\n",
       "\n",
       "    .dataframe tbody tr th {\n",
       "        vertical-align: top;\n",
       "    }\n",
       "\n",
       "    .dataframe thead th {\n",
       "        text-align: right;\n",
       "    }\n",
       "</style>\n",
       "<table border=\"1\" class=\"dataframe\">\n",
       "  <thead>\n",
       "    <tr style=\"text-align: right;\">\n",
       "      <th></th>\n",
       "      <th>NUCC Display Name</th>\n",
       "      <th>NUCC Classification</th>\n",
       "      <th>NUCC Code</th>\n",
       "      <th>Indigo Specialty</th>\n",
       "      <th>OLD Indigo Class Specialty</th>\n",
       "    </tr>\n",
       "  </thead>\n",
       "  <tbody>\n",
       "    <tr>\n",
       "      <th>0</th>\n",
       "      <td>Sports Medicine (Internal Medicine) Physician</td>\n",
       "      <td>Internal Medicine</td>\n",
       "      <td>207RS0010X</td>\n",
       "      <td>Internal Medicine-No Surgery</td>\n",
       "      <td>Internal Medicine - Non-Surgical</td>\n",
       "    </tr>\n",
       "    <tr>\n",
       "      <th>1</th>\n",
       "      <td>Pediatric Dentist</td>\n",
       "      <td>Dentist</td>\n",
       "      <td>1223P0221X</td>\n",
       "      <td>NaN</td>\n",
       "      <td>NaN</td>\n",
       "    </tr>\n",
       "    <tr>\n",
       "      <th>2</th>\n",
       "      <td>Optometrist</td>\n",
       "      <td>Optometrist</td>\n",
       "      <td>152W00000X</td>\n",
       "      <td>Optometrist</td>\n",
       "      <td>NaN</td>\n",
       "    </tr>\n",
       "    <tr>\n",
       "      <th>3</th>\n",
       "      <td>Pediatric Rehabilitation Medicine Physician</td>\n",
       "      <td>Physical Medicine &amp; Rehabilitation</td>\n",
       "      <td>2081P0010X</td>\n",
       "      <td>Physiatry</td>\n",
       "      <td>Physiatry - Non-Surgical</td>\n",
       "    </tr>\n",
       "    <tr>\n",
       "      <th>4</th>\n",
       "      <td>Radiology Podiatrist</td>\n",
       "      <td>Podiatrist</td>\n",
       "      <td>213ER0200X</td>\n",
       "      <td>Podiatrist</td>\n",
       "      <td>Podiatry</td>\n",
       "    </tr>\n",
       "  </tbody>\n",
       "</table>\n",
       "</div>"
      ],
      "text/plain": [
       "                               NUCC Display Name  \\\n",
       "0  Sports Medicine (Internal Medicine) Physician   \n",
       "1                              Pediatric Dentist   \n",
       "2                                    Optometrist   \n",
       "3    Pediatric Rehabilitation Medicine Physician   \n",
       "4                           Radiology Podiatrist   \n",
       "\n",
       "                  NUCC Classification   NUCC Code  \\\n",
       "0                   Internal Medicine  207RS0010X   \n",
       "1                             Dentist  1223P0221X   \n",
       "2                         Optometrist  152W00000X   \n",
       "3  Physical Medicine & Rehabilitation  2081P0010X   \n",
       "4                          Podiatrist  213ER0200X   \n",
       "\n",
       "               Indigo Specialty        OLD Indigo Class Specialty  \n",
       "0  Internal Medicine-No Surgery  Internal Medicine - Non-Surgical  \n",
       "1                           NaN                               NaN  \n",
       "2                   Optometrist                               NaN  \n",
       "3                     Physiatry          Physiatry - Non-Surgical  \n",
       "4                    Podiatrist                          Podiatry  "
      ]
     },
     "execution_count": 12,
     "metadata": {},
     "output_type": "execute_result"
    }
   ],
   "source": [
    "crosswalk.head()"
   ]
  },
  {
   "cell_type": "code",
   "execution_count": 50,
   "metadata": {},
   "outputs": [],
   "source": [
    "def get_set_column(column_name, DHC_2020):\n",
    "    list_ = list(set(list(DHC_2020[column_name])))\n",
    "    print(len(list_))\n",
    "    print(list_[:10])\n",
    "    return list_"
   ]
  },
  {
   "cell_type": "code",
   "execution_count": 51,
   "metadata": {},
   "outputs": [
    {
     "name": "stdout",
     "output_type": "stream",
     "text": [
      "17477\n",
      "['69000', 'M1061', 'Q0144', 'J0697', 'A4428', '27637', '40700', '52353', '64570', '64898']\n"
     ]
    }
   ],
   "source": [
    "hcpcs_codes = get_set_column('HCPCS_CPT_CODE', DHC_2020)"
   ]
  },
  {
   "cell_type": "code",
   "execution_count": 52,
   "metadata": {},
   "outputs": [
    {
     "name": "stdout",
     "output_type": "stream",
     "text": [
      "15334\n",
      "['CYTOGENETIC STUDY', 'Anesth removal of testis', 'THROMBOXANE URINE', 'CPM device, other than knee', 'US LEIOMYOMATA ABLATE <200', 'Disposable compressor filter', 'H-reflex test', 'REPAIR OF TIBIA', 'Methacholine chloride, neb', 'Hydromorphone injection']\n"
     ]
    }
   ],
   "source": [
    "hcpcs_code_desc = get_set_column('HCPCS_CPT_DESCRIPTION', DHC_2020)"
   ]
  },
  {
   "cell_type": "code",
   "execution_count": 53,
   "metadata": {},
   "outputs": [
    {
     "name": "stdout",
     "output_type": "stream",
     "text": [
      "635\n",
      "[nan, nan, nan, nan, nan, nan, nan, nan, nan, nan]\n"
     ]
    }
   ],
   "source": [
    "hcpcs_code_category = get_set_column('HCPCS_CPT_CATEGORY', DHC_2020)"
   ]
  },
  {
   "cell_type": "code",
   "execution_count": 54,
   "metadata": {},
   "outputs": [
    {
     "name": "stdout",
     "output_type": "stream",
     "text": [
      "723\n",
      "[nan, 'Pathology and Laboratory', 'Medical Services', 'Medicine - Gastroenterology', 'Path. and Lab. - Proprietary Laboratory Analyses', 'Radiology - Breast Mammography', 'Eval. and Mgmt. - Emergency Department Services', 'Medicine - Home Health Procedures/Services', 'Eval. and Mgmt. - Transitional Care Management Services', 'Anesthesia - Intrathoracic']\n"
     ]
    }
   ],
   "source": [
    "hcpcs_code_subcategory = get_set_column('HCPCS_CPT_SUBCATEGORY', DHC_2020)"
   ]
  },
  {
   "cell_type": "code",
   "execution_count": 55,
   "metadata": {},
   "outputs": [],
   "source": [
    "hcpcs_subcategory_code_dict = {}\n",
    "for subcat in hcpcs_code_subcategory:\n",
    "    hcpcs_subcategory_code_dict[subcat] = []"
   ]
  },
  {
   "cell_type": "code",
   "execution_count": 56,
   "metadata": {},
   "outputs": [],
   "source": [
    "done = {}\n",
    "for _, r in DHC_2020.iterrows():\n",
    "    if r['HCPCS_CPT_CODE'] not in done:\n",
    "        hcpcs_subcategory_code_dict[r['HCPCS_CPT_SUBCATEGORY']].append(r['HCPCS_CPT_CODE'])\n",
    "        done[r['HCPCS_CPT_CODE']] = None"
   ]
  },
  {
   "cell_type": "code",
   "execution_count": 57,
   "metadata": {},
   "outputs": [],
   "source": [
    "grouped_hcpcs_codes = []\n",
    "for subcat in hcpcs_subcategory_code_dict:\n",
    "    grouped_hcpcs_codes += hcpcs_subcategory_code_dict[subcat]"
   ]
  },
  {
   "cell_type": "code",
   "execution_count": 58,
   "metadata": {},
   "outputs": [
    {
     "data": {
      "text/plain": [
       "34954"
      ]
     },
     "execution_count": 58,
     "metadata": {},
     "output_type": "execute_result"
    }
   ],
   "source": [
    "len(set(grouped_hcpcs_codes))*2"
   ]
  },
  {
   "cell_type": "code",
   "execution_count": 59,
   "metadata": {},
   "outputs": [
    {
     "data": {
      "text/plain": [
       "17477"
      ]
     },
     "execution_count": 59,
     "metadata": {},
     "output_type": "execute_result"
    }
   ],
   "source": [
    "len(grouped_hcpcs_codes)"
   ]
  },
  {
   "cell_type": "code",
   "execution_count": 60,
   "metadata": {},
   "outputs": [
    {
     "data": {
      "text/plain": [
       "'80324'"
      ]
     },
     "execution_count": 60,
     "metadata": {},
     "output_type": "execute_result"
    }
   ],
   "source": [
    "grouped_hcpcs_codes[9626]"
   ]
  },
  {
   "cell_type": "code",
   "execution_count": 61,
   "metadata": {},
   "outputs": [],
   "source": [
    "save_pickle(grouped_hcpcs_codes, './grouped_hcpcs_codes2019.pkl')"
   ]
  },
  {
   "cell_type": "code",
   "execution_count": 8,
   "metadata": {},
   "outputs": [],
   "source": [
    "grouped_hcpcs_codes = pd.read_pickle('./grouped_hcpcs_codes2019.pkl')"
   ]
  },
  {
   "cell_type": "code",
   "execution_count": 9,
   "metadata": {},
   "outputs": [],
   "source": [
    "code_pos_dict = {}\n",
    "i=0\n",
    "for code in grouped_hcpcs_codes:\n",
    "    code_pos_dict[code] = i\n",
    "    i+=1"
   ]
  },
  {
   "cell_type": "code",
   "execution_count": 10,
   "metadata": {},
   "outputs": [],
   "source": [
    "npi_hcpcs_dict = {}\n",
    "for _, r in DHC_2020.iterrows():\n",
    "    if r['npi'] not in npi_hcpcs_dict:\n",
    "        npi_hcpcs_dict[r['npi']] = len(grouped_hcpcs_codes)*[0]\n",
    "    npi_hcpcs_dict[r['npi']][code_pos_dict[r['HCPCS_CPT_CODE']]] += r['NUMBER_PROCEDURES']"
   ]
  },
  {
   "cell_type": "code",
   "execution_count": 11,
   "metadata": {},
   "outputs": [],
   "source": [
    "save_pickle(npi_hcpcs_dict, './npi_hcpcs_distribution_dict_2019.pkl')"
   ]
  },
  {
   "cell_type": "code",
   "execution_count": null,
   "metadata": {},
   "outputs": [],
   "source": [
    "npi_hcpcs_dict_normalized = {}\n",
    "for NPI in npi_hcpcs_dict:\n",
    "    npi_hcpcs_dict_normalized[NPI] = np.array(npi_hcpcs_dict[NPI])/sum(npi_hcpcs_dict[NPI])"
   ]
  },
  {
   "cell_type": "code",
   "execution_count": null,
   "metadata": {},
   "outputs": [
    {
     "ename": "TypeError",
     "evalue": "unsupported operand type(s) for /: 'list' and 'int'",
     "output_type": "error",
     "traceback": [
      "\u001b[1;31m---------------------------------------------------------------------------\u001b[0m",
      "\u001b[1;31mTypeError\u001b[0m                                 Traceback (most recent call last)",
      "Cell \u001b[1;32mIn[80], line 1\u001b[0m\n\u001b[1;32m----> 1\u001b[0m [\u001b[39m1\u001b[39;49m, \u001b[39m2\u001b[39;49m, \u001b[39m4\u001b[39;49m]\u001b[39m/\u001b[39;49m\u001b[39m5\u001b[39;49m\n",
      "\u001b[1;31mTypeError\u001b[0m: unsupported operand type(s) for /: 'list' and 'int'"
     ]
    }
   ],
   "source": [
    "len(npi_hcpcs_dict)"
   ]
  },
  {
   "cell_type": "code",
   "execution_count": null,
   "metadata": {},
   "outputs": [],
   "source": [
    "save_pickle(npi_hcpcs_dict_normalized, './npi_hcpcs_normalized_distribution_dict_2019.pkl')"
   ]
  },
  {
   "cell_type": "code",
   "execution_count": null,
   "metadata": {},
   "outputs": [],
   "source": []
  },
  {
   "cell_type": "code",
   "execution_count": null,
   "metadata": {},
   "outputs": [],
   "source": [
    "# Analysis for later\n",
    "hcpcs_subcategory_code_dict_2 = {}\n",
    "for subcat in hcpcs_code_subcategory:\n",
    "    hcpcs_subcategory_code_dict_2[subcat] = []\n",
    "for _, r in DHC_2020.iterrows():\n",
    "    hcpcs_subcategory_code_dict_2[r['HCPCS_CPT_SUBCATEGORY']].append(r['HCPCS_CPT_CODE'])"
   ]
  },
  {
   "cell_type": "code",
   "execution_count": null,
   "metadata": {},
   "outputs": [],
   "source": []
  },
  {
   "cell_type": "code",
   "execution_count": 2,
   "metadata": {},
   "outputs": [],
   "source": [
    "npi_distribution_data_path = './npi_hcpcs_distribution_dict.pkl'\n",
    "npi_distribution = pd.read_pickle(npi_distribution_data_path)"
   ]
  },
  {
   "cell_type": "code",
   "execution_count": 12,
   "metadata": {},
   "outputs": [],
   "source": [
    "all_npis = list(npi_hcpcs_dict)"
   ]
  },
  {
   "cell_type": "code",
   "execution_count": 13,
   "metadata": {},
   "outputs": [
    {
     "data": {
      "text/plain": [
       "1599784"
      ]
     },
     "execution_count": 13,
     "metadata": {},
     "output_type": "execute_result"
    }
   ],
   "source": [
    "len(all_npis)"
   ]
  },
  {
   "cell_type": "code",
   "execution_count": 14,
   "metadata": {},
   "outputs": [],
   "source": [
    "npi_lis = [[] for _ in range(10)]\n",
    "for i in range(len(all_npis)):\n",
    "    cur_rand_int = random.randint(0, 9)\n",
    "    npi_lis[cur_rand_int].append(all_npis[i])"
   ]
  },
  {
   "cell_type": "code",
   "execution_count": 15,
   "metadata": {},
   "outputs": [
    {
     "name": "stdout",
     "output_type": "stream",
     "text": [
      "160057\n",
      "159142\n",
      "160489\n",
      "160814\n",
      "160410\n",
      "160050\n",
      "159369\n",
      "160111\n",
      "158942\n",
      "160400\n"
     ]
    }
   ],
   "source": [
    "for i in range(10):\n",
    "    print(len(npi_lis[i]))"
   ]
  },
  {
   "cell_type": "code",
   "execution_count": null,
   "metadata": {},
   "outputs": [],
   "source": [
    "for i in range(len(npi_lis)):\n",
    "    temp_data_dict = {}\n",
    "    file_path = './chuncked_npi_ncpcs_2019_' + str(i) + '_.pkl'\n",
    "    for npi in npi_lis[i]:\n",
    "        temp_data_dict[npi] = npi_hcpcs_dict[npi]\n",
    "    save_pickle(temp_data_dict, file_path)\n",
    "    temp_data_dict = None"
   ]
  },
  {
   "cell_type": "code",
   "execution_count": 32,
   "metadata": {},
   "outputs": [
    {
     "data": {
      "text/plain": [
       "'./chuncked_npi_ncpcs_1_.pkl'"
      ]
     },
     "execution_count": 32,
     "metadata": {},
     "output_type": "execute_result"
    }
   ],
   "source": [
    "'./chuncked_npi_ncpcs_' + str(1) + '_.pkl'"
   ]
  },
  {
   "cell_type": "code",
   "execution_count": 39,
   "metadata": {},
   "outputs": [],
   "source": [
    "all_distribution = []\n",
    "for npi in all_npis:\n",
    "    all_distribution.append(npi_distribution[npi])"
   ]
  },
  {
   "cell_type": "code",
   "execution_count": 44,
   "metadata": {},
   "outputs": [
    {
     "data": {
      "text/plain": [
       "1676338"
      ]
     },
     "execution_count": 44,
     "metadata": {},
     "output_type": "execute_result"
    }
   ],
   "source": [
    "len(all_distribution)"
   ]
  },
  {
   "cell_type": "code",
   "execution_count": 49,
   "metadata": {},
   "outputs": [
    {
     "data": {
      "text/plain": [
       "70"
      ]
     },
     "execution_count": 49,
     "metadata": {},
     "output_type": "execute_result"
    }
   ],
   "source": []
  },
  {
   "cell_type": "code",
   "execution_count": 5,
   "metadata": {},
   "outputs": [],
   "source": [
    "chunked_npi_ncpcs_0 = pd.read_pickle('./chuncked_npi_ncpcs_0_.pkl')"
   ]
  },
  {
   "cell_type": "code",
   "execution_count": 6,
   "metadata": {},
   "outputs": [
    {
     "data": {
      "text/plain": [
       "['1003921909',\n",
       " '1013242205',\n",
       " '1023068467',\n",
       " '1023088978',\n",
       " '1023211547',\n",
       " '1023461308',\n",
       " '1033539010',\n",
       " '1043441884',\n",
       " '1043566946',\n",
       " '1043656390']"
      ]
     },
     "execution_count": 6,
     "metadata": {},
     "output_type": "execute_result"
    }
   ],
   "source": [
    "list(chunked_npi_ncpcs_0)[:10]"
   ]
  },
  {
   "cell_type": "code",
   "execution_count": 18,
   "metadata": {},
   "outputs": [],
   "source": [
    "temp_df = pd.DataFrame({'1003921909':chunked_npi_ncpcs_0['1003921909'], '1013242205':chunked_npi_ncpcs_0['1013242205']})"
   ]
  },
  {
   "cell_type": "code",
   "execution_count": 19,
   "metadata": {},
   "outputs": [
    {
     "data": {
      "image/png": "[encoded data removed]",
      "text/plain": [
       "<Figure size 640x480 with 1 Axes>"
      ]
     },
     "metadata": {},
     "output_type": "display_data"
    }
   ],
   "source": [
    "temp_df.plot()\n",
    "plt.show()"
   ]
  },
  {
   "cell_type": "code",
   "execution_count": 24,
   "metadata": {},
   "outputs": [],
   "source": [
    "def normalize_counts(data_dict):\n",
    "    new_data_dict = {}\n",
    "    for key in data_dict:\n",
    "        if sum(data_dict[key]) > 100:\n",
    "            new_data_dict[key] = np.array(data_dict[key])/sum(data_dict[key])\n",
    "    return new_data_dict"
   ]
  },
  {
   "cell_type": "code",
   "execution_count": 25,
   "metadata": {},
   "outputs": [],
   "source": [
    "normalized_chunked_npi_ncpcs_0 = normalize_counts(chunked_npi_ncpcs_0)"
   ]
  },
  {
   "cell_type": "code",
   "execution_count": 22,
   "metadata": {},
   "outputs": [],
   "source": [
    "temp_df = pd.DataFrame({'1003921909':normalized_chunked_npi_ncpcs_0['1003921909'], '1013242205':normalized_chunked_npi_ncpcs_0['1013242205']})"
   ]
  },
  {
   "cell_type": "code",
   "execution_count": 23,
   "metadata": {},
   "outputs": [
    {
     "data": {
      "image/png": "[encoded data removed]",
      "text/plain": [
       "<Figure size 640x480 with 1 Axes>"
      ]
     },
     "metadata": {},
     "output_type": "display_data"
    }
   ],
   "source": [
    "temp_df.plot()\n",
    "plt.show()"
   ]
  },
  {
   "cell_type": "code",
   "execution_count": 30,
   "metadata": {},
   "outputs": [
    {
     "name": "stderr",
     "output_type": "stream",
     "text": [
      "C:\\Users\\ganga\\AppData\\Local\\Temp\\ipykernel_30300\\3365058171.py:1: DtypeWarning: Columns (17,24,26,32,34,39,40,46,56,60,61,64,65,67,68,69,70,71,72,73,74,75,76,77,78,79,80,81,82,83,84,85,86,87,88,89,90,91,92,93,94,95,96,97,98,99,100,101,102,103,104,105,106,110,111,113,114,115,117,118,119,121,122,123,125,126,127,129,130,131,133,134,135,137,138,139,141,142,143,145,146,147,149,150,151,153,154,155,157,158,159,161,162,163,165,166,167,169,170,171,173,174,175,177,178,179,181,182,183,185,186,187,189,190,191,193,194,195,197,198,199,201,202,203,205,206,207,209,210,211,213,214,215,217,218,219,221,222,223,225,226,227,229,230,231,233,234,235,237,238,239,241,242,243,245,246,247,249,250,251,253,254,255,257,258,259,261,262,263,265,266,267,269,270,271,273,274,275,277,278,279,281,282,283,285,286,287,289,290,291,293,294,295,297,298,299,301,302,303,305,306,312,317,318,319,320,321,322,323,324,325,326,327,328) have mixed types. Specify dtype option on import or set low_memory=False.\n",
      "  npi_reference = pd.read_csv('./npidata_pfile_20050523-20230709.csv')\n"
     ]
    }
   ],
   "source": [
    "npi_reference = pd.read_csv('./npidata_pfile_20050523-20230709.csv')"
   ]
  },
  {
   "cell_type": "code",
   "execution_count": 54,
   "metadata": {},
   "outputs": [
    {
     "data": {
      "text/plain": [
       "0          NaN\n",
       "1          NaN\n",
       "2          NaN\n",
       "3          NaN\n",
       "4          NaN\n",
       "          ... \n",
       "7890761    NaN\n",
       "7890762    NaN\n",
       "7890763    NaN\n",
       "7890764    NaN\n",
       "7890765    NaN\n",
       "Name: Healthcare Provider Taxonomy Group_4, Length: 7890766, dtype: object"
      ]
     },
     "execution_count": 54,
     "metadata": {},
     "output_type": "execute_result"
    }
   ],
   "source": [
    "npi_reference['Healthcare Provider Taxonomy Group_4']"
   ]
  },
  {
   "cell_type": "code",
   "execution_count": 34,
   "metadata": {},
   "outputs": [
    {
     "data": {
      "text/plain": [
       "['NPI',\n",
       " 'Entity Type Code',\n",
       " 'Replacement NPI',\n",
       " 'Employer Identification Number (EIN)',\n",
       " 'Provider Organization Name (Legal Business Name)',\n",
       " 'Provider Last Name (Legal Name)',\n",
       " 'Provider First Name',\n",
       " 'Provider Middle Name',\n",
       " 'Provider Name Prefix Text',\n",
       " 'Provider Name Suffix Text',\n",
       " 'Provider Credential Text',\n",
       " 'Provider Other Organization Name',\n",
       " 'Provider Other Organization Name Type Code',\n",
       " 'Provider Other Last Name',\n",
       " 'Provider Other First Name',\n",
       " 'Provider Other Middle Name',\n",
       " 'Provider Other Name Prefix Text',\n",
       " 'Provider Other Name Suffix Text',\n",
       " 'Provider Other Credential Text',\n",
       " 'Provider Other Last Name Type Code',\n",
       " 'Provider First Line Business Mailing Address',\n",
       " 'Provider Second Line Business Mailing Address',\n",
       " 'Provider Business Mailing Address City Name',\n",
       " 'Provider Business Mailing Address State Name',\n",
       " 'Provider Business Mailing Address Postal Code',\n",
       " 'Provider Business Mailing Address Country Code (If outside U.S.)',\n",
       " 'Provider Business Mailing Address Telephone Number',\n",
       " 'Provider Business Mailing Address Fax Number',\n",
       " 'Provider First Line Business Practice Location Address',\n",
       " 'Provider Second Line Business Practice Location Address',\n",
       " 'Provider Business Practice Location Address City Name',\n",
       " 'Provider Business Practice Location Address State Name',\n",
       " 'Provider Business Practice Location Address Postal Code',\n",
       " 'Provider Business Practice Location Address Country Code (If outside U.S.)',\n",
       " 'Provider Business Practice Location Address Telephone Number',\n",
       " 'Provider Business Practice Location Address Fax Number',\n",
       " 'Provider Enumeration Date',\n",
       " 'Last Update Date',\n",
       " 'NPI Deactivation Reason Code',\n",
       " 'NPI Deactivation Date',\n",
       " 'NPI Reactivation Date',\n",
       " 'Provider Gender Code',\n",
       " 'Authorized Official Last Name',\n",
       " 'Authorized Official First Name',\n",
       " 'Authorized Official Middle Name',\n",
       " 'Authorized Official Title or Position',\n",
       " 'Authorized Official Telephone Number',\n",
       " 'Healthcare Provider Taxonomy Code_1',\n",
       " 'Provider License Number_1',\n",
       " 'Provider License Number State Code_1',\n",
       " 'Healthcare Provider Primary Taxonomy Switch_1',\n",
       " 'Healthcare Provider Taxonomy Code_2',\n",
       " 'Provider License Number_2',\n",
       " 'Provider License Number State Code_2',\n",
       " 'Healthcare Provider Primary Taxonomy Switch_2',\n",
       " 'Healthcare Provider Taxonomy Code_3',\n",
       " 'Provider License Number_3',\n",
       " 'Provider License Number State Code_3',\n",
       " 'Healthcare Provider Primary Taxonomy Switch_3',\n",
       " 'Healthcare Provider Taxonomy Code_4',\n",
       " 'Provider License Number_4',\n",
       " 'Provider License Number State Code_4',\n",
       " 'Healthcare Provider Primary Taxonomy Switch_4',\n",
       " 'Healthcare Provider Taxonomy Code_5',\n",
       " 'Provider License Number_5',\n",
       " 'Provider License Number State Code_5',\n",
       " 'Healthcare Provider Primary Taxonomy Switch_5',\n",
       " 'Healthcare Provider Taxonomy Code_6',\n",
       " 'Provider License Number_6',\n",
       " 'Provider License Number State Code_6',\n",
       " 'Healthcare Provider Primary Taxonomy Switch_6',\n",
       " 'Healthcare Provider Taxonomy Code_7',\n",
       " 'Provider License Number_7',\n",
       " 'Provider License Number State Code_7',\n",
       " 'Healthcare Provider Primary Taxonomy Switch_7',\n",
       " 'Healthcare Provider Taxonomy Code_8',\n",
       " 'Provider License Number_8',\n",
       " 'Provider License Number State Code_8',\n",
       " 'Healthcare Provider Primary Taxonomy Switch_8',\n",
       " 'Healthcare Provider Taxonomy Code_9',\n",
       " 'Provider License Number_9',\n",
       " 'Provider License Number State Code_9',\n",
       " 'Healthcare Provider Primary Taxonomy Switch_9',\n",
       " 'Healthcare Provider Taxonomy Code_10',\n",
       " 'Provider License Number_10',\n",
       " 'Provider License Number State Code_10',\n",
       " 'Healthcare Provider Primary Taxonomy Switch_10',\n",
       " 'Healthcare Provider Taxonomy Code_11',\n",
       " 'Provider License Number_11',\n",
       " 'Provider License Number State Code_11',\n",
       " 'Healthcare Provider Primary Taxonomy Switch_11',\n",
       " 'Healthcare Provider Taxonomy Code_12',\n",
       " 'Provider License Number_12',\n",
       " 'Provider License Number State Code_12',\n",
       " 'Healthcare Provider Primary Taxonomy Switch_12',\n",
       " 'Healthcare Provider Taxonomy Code_13',\n",
       " 'Provider License Number_13',\n",
       " 'Provider License Number State Code_13',\n",
       " 'Healthcare Provider Primary Taxonomy Switch_13',\n",
       " 'Healthcare Provider Taxonomy Code_14',\n",
       " 'Provider License Number_14',\n",
       " 'Provider License Number State Code_14',\n",
       " 'Healthcare Provider Primary Taxonomy Switch_14',\n",
       " 'Healthcare Provider Taxonomy Code_15',\n",
       " 'Provider License Number_15',\n",
       " 'Provider License Number State Code_15',\n",
       " 'Healthcare Provider Primary Taxonomy Switch_15',\n",
       " 'Other Provider Identifier_1',\n",
       " 'Other Provider Identifier Type Code_1',\n",
       " 'Other Provider Identifier State_1',\n",
       " 'Other Provider Identifier Issuer_1',\n",
       " 'Other Provider Identifier_2',\n",
       " 'Other Provider Identifier Type Code_2',\n",
       " 'Other Provider Identifier State_2',\n",
       " 'Other Provider Identifier Issuer_2',\n",
       " 'Other Provider Identifier_3',\n",
       " 'Other Provider Identifier Type Code_3',\n",
       " 'Other Provider Identifier State_3',\n",
       " 'Other Provider Identifier Issuer_3',\n",
       " 'Other Provider Identifier_4',\n",
       " 'Other Provider Identifier Type Code_4',\n",
       " 'Other Provider Identifier State_4',\n",
       " 'Other Provider Identifier Issuer_4',\n",
       " 'Other Provider Identifier_5',\n",
       " 'Other Provider Identifier Type Code_5',\n",
       " 'Other Provider Identifier State_5',\n",
       " 'Other Provider Identifier Issuer_5',\n",
       " 'Other Provider Identifier_6',\n",
       " 'Other Provider Identifier Type Code_6',\n",
       " 'Other Provider Identifier State_6',\n",
       " 'Other Provider Identifier Issuer_6',\n",
       " 'Other Provider Identifier_7',\n",
       " 'Other Provider Identifier Type Code_7',\n",
       " 'Other Provider Identifier State_7',\n",
       " 'Other Provider Identifier Issuer_7',\n",
       " 'Other Provider Identifier_8',\n",
       " 'Other Provider Identifier Type Code_8',\n",
       " 'Other Provider Identifier State_8',\n",
       " 'Other Provider Identifier Issuer_8',\n",
       " 'Other Provider Identifier_9',\n",
       " 'Other Provider Identifier Type Code_9',\n",
       " 'Other Provider Identifier State_9',\n",
       " 'Other Provider Identifier Issuer_9',\n",
       " 'Other Provider Identifier_10',\n",
       " 'Other Provider Identifier Type Code_10',\n",
       " 'Other Provider Identifier State_10',\n",
       " 'Other Provider Identifier Issuer_10',\n",
       " 'Other Provider Identifier_11',\n",
       " 'Other Provider Identifier Type Code_11',\n",
       " 'Other Provider Identifier State_11',\n",
       " 'Other Provider Identifier Issuer_11',\n",
       " 'Other Provider Identifier_12',\n",
       " 'Other Provider Identifier Type Code_12',\n",
       " 'Other Provider Identifier State_12',\n",
       " 'Other Provider Identifier Issuer_12',\n",
       " 'Other Provider Identifier_13',\n",
       " 'Other Provider Identifier Type Code_13',\n",
       " 'Other Provider Identifier State_13',\n",
       " 'Other Provider Identifier Issuer_13',\n",
       " 'Other Provider Identifier_14',\n",
       " 'Other Provider Identifier Type Code_14',\n",
       " 'Other Provider Identifier State_14',\n",
       " 'Other Provider Identifier Issuer_14',\n",
       " 'Other Provider Identifier_15',\n",
       " 'Other Provider Identifier Type Code_15',\n",
       " 'Other Provider Identifier State_15',\n",
       " 'Other Provider Identifier Issuer_15',\n",
       " 'Other Provider Identifier_16',\n",
       " 'Other Provider Identifier Type Code_16',\n",
       " 'Other Provider Identifier State_16',\n",
       " 'Other Provider Identifier Issuer_16',\n",
       " 'Other Provider Identifier_17',\n",
       " 'Other Provider Identifier Type Code_17',\n",
       " 'Other Provider Identifier State_17',\n",
       " 'Other Provider Identifier Issuer_17',\n",
       " 'Other Provider Identifier_18',\n",
       " 'Other Provider Identifier Type Code_18',\n",
       " 'Other Provider Identifier State_18',\n",
       " 'Other Provider Identifier Issuer_18',\n",
       " 'Other Provider Identifier_19',\n",
       " 'Other Provider Identifier Type Code_19',\n",
       " 'Other Provider Identifier State_19',\n",
       " 'Other Provider Identifier Issuer_19',\n",
       " 'Other Provider Identifier_20',\n",
       " 'Other Provider Identifier Type Code_20',\n",
       " 'Other Provider Identifier State_20',\n",
       " 'Other Provider Identifier Issuer_20',\n",
       " 'Other Provider Identifier_21',\n",
       " 'Other Provider Identifier Type Code_21',\n",
       " 'Other Provider Identifier State_21',\n",
       " 'Other Provider Identifier Issuer_21',\n",
       " 'Other Provider Identifier_22',\n",
       " 'Other Provider Identifier Type Code_22',\n",
       " 'Other Provider Identifier State_22',\n",
       " 'Other Provider Identifier Issuer_22',\n",
       " 'Other Provider Identifier_23',\n",
       " 'Other Provider Identifier Type Code_23',\n",
       " 'Other Provider Identifier State_23',\n",
       " 'Other Provider Identifier Issuer_23',\n",
       " 'Other Provider Identifier_24',\n",
       " 'Other Provider Identifier Type Code_24',\n",
       " 'Other Provider Identifier State_24',\n",
       " 'Other Provider Identifier Issuer_24',\n",
       " 'Other Provider Identifier_25',\n",
       " 'Other Provider Identifier Type Code_25',\n",
       " 'Other Provider Identifier State_25',\n",
       " 'Other Provider Identifier Issuer_25',\n",
       " 'Other Provider Identifier_26',\n",
       " 'Other Provider Identifier Type Code_26',\n",
       " 'Other Provider Identifier State_26',\n",
       " 'Other Provider Identifier Issuer_26',\n",
       " 'Other Provider Identifier_27',\n",
       " 'Other Provider Identifier Type Code_27',\n",
       " 'Other Provider Identifier State_27',\n",
       " 'Other Provider Identifier Issuer_27',\n",
       " 'Other Provider Identifier_28',\n",
       " 'Other Provider Identifier Type Code_28',\n",
       " 'Other Provider Identifier State_28',\n",
       " 'Other Provider Identifier Issuer_28',\n",
       " 'Other Provider Identifier_29',\n",
       " 'Other Provider Identifier Type Code_29',\n",
       " 'Other Provider Identifier State_29',\n",
       " 'Other Provider Identifier Issuer_29',\n",
       " 'Other Provider Identifier_30',\n",
       " 'Other Provider Identifier Type Code_30',\n",
       " 'Other Provider Identifier State_30',\n",
       " 'Other Provider Identifier Issuer_30',\n",
       " 'Other Provider Identifier_31',\n",
       " 'Other Provider Identifier Type Code_31',\n",
       " 'Other Provider Identifier State_31',\n",
       " 'Other Provider Identifier Issuer_31',\n",
       " 'Other Provider Identifier_32',\n",
       " 'Other Provider Identifier Type Code_32',\n",
       " 'Other Provider Identifier State_32',\n",
       " 'Other Provider Identifier Issuer_32',\n",
       " 'Other Provider Identifier_33',\n",
       " 'Other Provider Identifier Type Code_33',\n",
       " 'Other Provider Identifier State_33',\n",
       " 'Other Provider Identifier Issuer_33',\n",
       " 'Other Provider Identifier_34',\n",
       " 'Other Provider Identifier Type Code_34',\n",
       " 'Other Provider Identifier State_34',\n",
       " 'Other Provider Identifier Issuer_34',\n",
       " 'Other Provider Identifier_35',\n",
       " 'Other Provider Identifier Type Code_35',\n",
       " 'Other Provider Identifier State_35',\n",
       " 'Other Provider Identifier Issuer_35',\n",
       " 'Other Provider Identifier_36',\n",
       " 'Other Provider Identifier Type Code_36',\n",
       " 'Other Provider Identifier State_36',\n",
       " 'Other Provider Identifier Issuer_36',\n",
       " 'Other Provider Identifier_37',\n",
       " 'Other Provider Identifier Type Code_37',\n",
       " 'Other Provider Identifier State_37',\n",
       " 'Other Provider Identifier Issuer_37',\n",
       " 'Other Provider Identifier_38',\n",
       " 'Other Provider Identifier Type Code_38',\n",
       " 'Other Provider Identifier State_38',\n",
       " 'Other Provider Identifier Issuer_38',\n",
       " 'Other Provider Identifier_39',\n",
       " 'Other Provider Identifier Type Code_39',\n",
       " 'Other Provider Identifier State_39',\n",
       " 'Other Provider Identifier Issuer_39',\n",
       " 'Other Provider Identifier_40',\n",
       " 'Other Provider Identifier Type Code_40',\n",
       " 'Other Provider Identifier State_40',\n",
       " 'Other Provider Identifier Issuer_40',\n",
       " 'Other Provider Identifier_41',\n",
       " 'Other Provider Identifier Type Code_41',\n",
       " 'Other Provider Identifier State_41',\n",
       " 'Other Provider Identifier Issuer_41',\n",
       " 'Other Provider Identifier_42',\n",
       " 'Other Provider Identifier Type Code_42',\n",
       " 'Other Provider Identifier State_42',\n",
       " 'Other Provider Identifier Issuer_42',\n",
       " 'Other Provider Identifier_43',\n",
       " 'Other Provider Identifier Type Code_43',\n",
       " 'Other Provider Identifier State_43',\n",
       " 'Other Provider Identifier Issuer_43',\n",
       " 'Other Provider Identifier_44',\n",
       " 'Other Provider Identifier Type Code_44',\n",
       " 'Other Provider Identifier State_44',\n",
       " 'Other Provider Identifier Issuer_44',\n",
       " 'Other Provider Identifier_45',\n",
       " 'Other Provider Identifier Type Code_45',\n",
       " 'Other Provider Identifier State_45',\n",
       " 'Other Provider Identifier Issuer_45',\n",
       " 'Other Provider Identifier_46',\n",
       " 'Other Provider Identifier Type Code_46',\n",
       " 'Other Provider Identifier State_46',\n",
       " 'Other Provider Identifier Issuer_46',\n",
       " 'Other Provider Identifier_47',\n",
       " 'Other Provider Identifier Type Code_47',\n",
       " 'Other Provider Identifier State_47',\n",
       " 'Other Provider Identifier Issuer_47',\n",
       " 'Other Provider Identifier_48',\n",
       " 'Other Provider Identifier Type Code_48',\n",
       " 'Other Provider Identifier State_48',\n",
       " 'Other Provider Identifier Issuer_48',\n",
       " 'Other Provider Identifier_49',\n",
       " 'Other Provider Identifier Type Code_49',\n",
       " 'Other Provider Identifier State_49',\n",
       " 'Other Provider Identifier Issuer_49',\n",
       " 'Other Provider Identifier_50',\n",
       " 'Other Provider Identifier Type Code_50',\n",
       " 'Other Provider Identifier State_50',\n",
       " 'Other Provider Identifier Issuer_50',\n",
       " 'Is Sole Proprietor',\n",
       " 'Is Organization Subpart',\n",
       " 'Parent Organization LBN',\n",
       " 'Parent Organization TIN',\n",
       " 'Authorized Official Name Prefix Text',\n",
       " 'Authorized Official Name Suffix Text',\n",
       " 'Authorized Official Credential Text',\n",
       " 'Healthcare Provider Taxonomy Group_1',\n",
       " 'Healthcare Provider Taxonomy Group_2',\n",
       " 'Healthcare Provider Taxonomy Group_3',\n",
       " 'Healthcare Provider Taxonomy Group_4',\n",
       " 'Healthcare Provider Taxonomy Group_5',\n",
       " 'Healthcare Provider Taxonomy Group_6',\n",
       " 'Healthcare Provider Taxonomy Group_7',\n",
       " 'Healthcare Provider Taxonomy Group_8',\n",
       " 'Healthcare Provider Taxonomy Group_9',\n",
       " 'Healthcare Provider Taxonomy Group_10',\n",
       " 'Healthcare Provider Taxonomy Group_11',\n",
       " 'Healthcare Provider Taxonomy Group_12',\n",
       " 'Healthcare Provider Taxonomy Group_13',\n",
       " 'Healthcare Provider Taxonomy Group_14',\n",
       " 'Healthcare Provider Taxonomy Group_15',\n",
       " 'Certification Date']"
      ]
     },
     "execution_count": 34,
     "metadata": {},
     "output_type": "execute_result"
    }
   ],
   "source": [
    "list(npi_reference.columns)"
   ]
  },
  {
   "cell_type": "code",
   "execution_count": 68,
   "metadata": {},
   "outputs": [
    {
     "name": "stdout",
     "output_type": "stream",
     "text": [
      "Done: 0\n",
      "Done: 100000\n",
      "Done: 200000\n",
      "Done: 300000\n",
      "Done: 400000\n",
      "Done: 500000\n",
      "Done: 600000\n",
      "Done: 700000\n",
      "Done: 800000\n",
      "Done: 900000\n",
      "Done: 1000000\n",
      "Done: 1100000\n",
      "Done: 1200000\n",
      "Done: 1300000\n",
      "Done: 1400000\n",
      "Done: 1500000\n",
      "Done: 1600000\n",
      "Done: 1700000\n",
      "Done: 1800000\n",
      "Done: 1900000\n",
      "Done: 2000000\n",
      "Done: 2100000\n",
      "Done: 2200000\n",
      "Done: 2300000\n",
      "Done: 2400000\n",
      "Done: 2500000\n",
      "Done: 2600000\n",
      "Done: 2700000\n",
      "Done: 2800000\n",
      "Done: 2900000\n",
      "Done: 3000000\n",
      "Done: 3100000\n",
      "Done: 3200000\n",
      "Done: 3300000\n",
      "Done: 3400000\n",
      "Done: 3500000\n",
      "Done: 3600000\n",
      "Done: 3700000\n",
      "Done: 3800000\n",
      "Done: 3900000\n",
      "Done: 4000000\n",
      "Done: 4100000\n",
      "Done: 4200000\n",
      "Done: 4300000\n",
      "Done: 4400000\n",
      "Done: 4500000\n",
      "Done: 4600000\n",
      "Done: 4700000\n",
      "Done: 4800000\n",
      "Done: 4900000\n",
      "Done: 5000000\n",
      "Done: 5100000\n",
      "Done: 5200000\n",
      "Done: 5300000\n",
      "Done: 5400000\n",
      "Done: 5500000\n",
      "Done: 5600000\n",
      "Done: 5700000\n",
      "Done: 5800000\n",
      "Done: 5900000\n",
      "Done: 6000000\n",
      "Done: 6100000\n",
      "Done: 6200000\n",
      "Done: 6300000\n",
      "Done: 6400000\n",
      "Done: 6500000\n",
      "Done: 6600000\n",
      "Done: 6700000\n",
      "Done: 6800000\n",
      "Done: 6900000\n",
      "Done: 7000000\n",
      "Done: 7100000\n",
      "Done: 7200000\n",
      "Done: 7300000\n",
      "Done: 7400000\n",
      "Done: 7500000\n",
      "Done: 7600000\n",
      "Done: 7700000\n",
      "Done: 7800000\n"
     ]
    }
   ],
   "source": [
    "#npi_taxonomy_switch = {}\n",
    "#npi_taxonomy_group = {}\n",
    "npi_taxonomy_code = {}\n",
    "#switch = 'Healthcare Provider Primary Taxonomy Switch_'\n",
    "#taxonomy_group = 'Healthcare Provider Taxonomy Group_'\n",
    "taxonomy_code = 'Healthcare Provider Taxonomy Code_'\n",
    "i = 0\n",
    "\n",
    "for _, r in npi_reference.iterrows():\n",
    "    if i%100000 == 0:\n",
    "        print('Done: ' + str(i))\n",
    "    #npi_taxonomy_switch[r['NPI']] = []\n",
    "    #npi_taxonomy_group[r['NPI']] = []\n",
    "    npi_taxonomy_code[r['NPI']] = []\n",
    "    #for i in range(15):\n",
    "        #if r[switch + str(i+1)] is not None and not pd.isna(r[switch + str(i+1)]):\n",
    "        #    npi_taxonomy_switch[r['NPI']].append(r[switch + str(i+1)])\n",
    "        #if r[taxonomy_group + str(i+1)] is not None and not pd.isna(r[taxonomy_group + str(i+1)]):\n",
    "        #    npi_taxonomy_group[r['NPI']].append(r[taxonomy_group + str(i+1)])\n",
    "        #    if r[taxonomy_code + str(i+1)] is not None and not pd.isna(r[taxonomy_code + str(i+1)]):\n",
    "    npi_taxonomy_code[r['NPI']].append(r[taxonomy_code + str(4)])\n",
    "    npi_taxonomy_code[r['NPI']].append(r[taxonomy_code + str(5)])\n",
    "    npi_taxonomy_code[r['NPI']].append(r[taxonomy_code + str(6)])\n",
    "    npi_taxonomy_code[r['NPI']].append(r[taxonomy_code + str(7)])\n",
    "    npi_taxonomy_code[r['NPI']].append(r[taxonomy_code + str(8)])\n",
    "    i+=1"
   ]
  },
  {
   "cell_type": "code",
   "execution_count": 67,
   "metadata": {},
   "outputs": [],
   "source": [
    "save_pickle(npi_taxonomy_code, './npi_top4to8_taxonomy_code.pkl')"
   ]
  },
  {
   "cell_type": "code",
   "execution_count": 3,
   "metadata": {},
   "outputs": [],
   "source": [
    "nucc_indigo = pd.read_pickle('./indigo_speciality_to_nucc_crosswalk.pkl')"
   ]
  },
  {
   "cell_type": "code",
   "execution_count": 6,
   "metadata": {},
   "outputs": [
    {
     "data": {
      "text/html": [
       "<div>\n",
       "<style scoped>\n",
       "    .dataframe tbody tr th:only-of-type {\n",
       "        vertical-align: middle;\n",
       "    }\n",
       "\n",
       "    .dataframe tbody tr th {\n",
       "        vertical-align: top;\n",
       "    }\n",
       "\n",
       "    .dataframe thead th {\n",
       "        text-align: right;\n",
       "    }\n",
       "</style>\n",
       "<table border=\"1\" class=\"dataframe\">\n",
       "  <thead>\n",
       "    <tr style=\"text-align: right;\">\n",
       "      <th></th>\n",
       "      <th>NUCC Display Name</th>\n",
       "      <th>NUCC Classification</th>\n",
       "      <th>NUCC Code</th>\n",
       "      <th>Indigo Specialty</th>\n",
       "      <th>OLD Indigo Class Specialty</th>\n",
       "    </tr>\n",
       "  </thead>\n",
       "  <tbody>\n",
       "    <tr>\n",
       "      <th>0</th>\n",
       "      <td>Sports Medicine (Internal Medicine) Physician</td>\n",
       "      <td>Internal Medicine</td>\n",
       "      <td>207RS0010X</td>\n",
       "      <td>Internal Medicine-No Surgery</td>\n",
       "      <td>Internal Medicine - Non-Surgical</td>\n",
       "    </tr>\n",
       "    <tr>\n",
       "      <th>1</th>\n",
       "      <td>Pediatric Dentist</td>\n",
       "      <td>Dentist</td>\n",
       "      <td>1223P0221X</td>\n",
       "      <td>NaN</td>\n",
       "      <td>NaN</td>\n",
       "    </tr>\n",
       "    <tr>\n",
       "      <th>2</th>\n",
       "      <td>Optometrist</td>\n",
       "      <td>Optometrist</td>\n",
       "      <td>152W00000X</td>\n",
       "      <td>Optometrist</td>\n",
       "      <td>NaN</td>\n",
       "    </tr>\n",
       "    <tr>\n",
       "      <th>3</th>\n",
       "      <td>Pediatric Rehabilitation Medicine Physician</td>\n",
       "      <td>Physical Medicine &amp; Rehabilitation</td>\n",
       "      <td>2081P0010X</td>\n",
       "      <td>Physiatry</td>\n",
       "      <td>Physiatry - Non-Surgical</td>\n",
       "    </tr>\n",
       "    <tr>\n",
       "      <th>4</th>\n",
       "      <td>Radiology Podiatrist</td>\n",
       "      <td>Podiatrist</td>\n",
       "      <td>213ER0200X</td>\n",
       "      <td>Podiatrist</td>\n",
       "      <td>Podiatry</td>\n",
       "    </tr>\n",
       "    <tr>\n",
       "      <th>...</th>\n",
       "      <td>...</td>\n",
       "      <td>...</td>\n",
       "      <td>...</td>\n",
       "      <td>...</td>\n",
       "      <td>...</td>\n",
       "    </tr>\n",
       "    <tr>\n",
       "      <th>340</th>\n",
       "      <td>Addiction Medicine (Psychiatry &amp; Neurology) Ph...</td>\n",
       "      <td>Psychiatry &amp; Neurology</td>\n",
       "      <td>2084A0401X</td>\n",
       "      <td>Psychiatry</td>\n",
       "      <td>Psychiatry - Non-Surgical</td>\n",
       "    </tr>\n",
       "    <tr>\n",
       "      <th>341</th>\n",
       "      <td>Otology &amp; Neurotology Physician</td>\n",
       "      <td>Otolaryngology</td>\n",
       "      <td>207YX0901X</td>\n",
       "      <td>Otorhinolaryngology-No Surgery</td>\n",
       "      <td>Otorhinolaryngology - Non-Surgical</td>\n",
       "    </tr>\n",
       "    <tr>\n",
       "      <th>342</th>\n",
       "      <td>Clinical &amp; Laboratory Dermatological Immunolog...</td>\n",
       "      <td>Dermatology</td>\n",
       "      <td>207NI0002X</td>\n",
       "      <td>Dermatology-No Surgery</td>\n",
       "      <td>Dermatology - Non-Surgical</td>\n",
       "    </tr>\n",
       "    <tr>\n",
       "      <th>343</th>\n",
       "      <td>Pediatric Endocrinology Physician</td>\n",
       "      <td>Pediatrics</td>\n",
       "      <td>2080P0205X</td>\n",
       "      <td>Endocrinology-No Surgery</td>\n",
       "      <td>Endocrinology - Non-Surgical</td>\n",
       "    </tr>\n",
       "    <tr>\n",
       "      <th>344</th>\n",
       "      <td>Addiction Medicine (Anesthesiology) Physician</td>\n",
       "      <td>Anesthesiology</td>\n",
       "      <td>207LA0401X</td>\n",
       "      <td>Anesthesiology</td>\n",
       "      <td>Internal Medicine - Non-Surgical</td>\n",
       "    </tr>\n",
       "  </tbody>\n",
       "</table>\n",
       "<p>345 rows × 5 columns</p>\n",
       "</div>"
      ],
      "text/plain": [
       "                                     NUCC Display Name  \\\n",
       "0        Sports Medicine (Internal Medicine) Physician   \n",
       "1                                    Pediatric Dentist   \n",
       "2                                          Optometrist   \n",
       "3          Pediatric Rehabilitation Medicine Physician   \n",
       "4                                 Radiology Podiatrist   \n",
       "..                                                 ...   \n",
       "340  Addiction Medicine (Psychiatry & Neurology) Ph...   \n",
       "341                    Otology & Neurotology Physician   \n",
       "342  Clinical & Laboratory Dermatological Immunolog...   \n",
       "343                  Pediatric Endocrinology Physician   \n",
       "344      Addiction Medicine (Anesthesiology) Physician   \n",
       "\n",
       "                    NUCC Classification   NUCC Code  \\\n",
       "0                     Internal Medicine  207RS0010X   \n",
       "1                               Dentist  1223P0221X   \n",
       "2                           Optometrist  152W00000X   \n",
       "3    Physical Medicine & Rehabilitation  2081P0010X   \n",
       "4                            Podiatrist  213ER0200X   \n",
       "..                                  ...         ...   \n",
       "340              Psychiatry & Neurology  2084A0401X   \n",
       "341                      Otolaryngology  207YX0901X   \n",
       "342                         Dermatology  207NI0002X   \n",
       "343                          Pediatrics  2080P0205X   \n",
       "344                      Anesthesiology  207LA0401X   \n",
       "\n",
       "                   Indigo Specialty          OLD Indigo Class Specialty  \n",
       "0      Internal Medicine-No Surgery    Internal Medicine - Non-Surgical  \n",
       "1                               NaN                                 NaN  \n",
       "2                       Optometrist                                 NaN  \n",
       "3                         Physiatry            Physiatry - Non-Surgical  \n",
       "4                        Podiatrist                            Podiatry  \n",
       "..                              ...                                 ...  \n",
       "340                      Psychiatry           Psychiatry - Non-Surgical  \n",
       "341  Otorhinolaryngology-No Surgery  Otorhinolaryngology - Non-Surgical  \n",
       "342          Dermatology-No Surgery          Dermatology - Non-Surgical  \n",
       "343        Endocrinology-No Surgery        Endocrinology - Non-Surgical  \n",
       "344                  Anesthesiology    Internal Medicine - Non-Surgical  \n",
       "\n",
       "[345 rows x 5 columns]"
      ]
     },
     "execution_count": 6,
     "metadata": {},
     "output_type": "execute_result"
    }
   ],
   "source": [
    "nucc_indigo"
   ]
  },
  {
   "cell_type": "code",
   "execution_count": 8,
   "metadata": {},
   "outputs": [
    {
     "data": {
      "text/plain": [
       "345"
      ]
     },
     "execution_count": 8,
     "metadata": {},
     "output_type": "execute_result"
    }
   ],
   "source": [
    "all_nucc = list(set(list(nucc_indigo['NUCC Code'])))\n",
    "len(all_nucc)"
   ]
  },
  {
   "cell_type": "code",
   "execution_count": 9,
   "metadata": {},
   "outputs": [
    {
     "data": {
      "text/plain": [
       "90"
      ]
     },
     "execution_count": 9,
     "metadata": {},
     "output_type": "execute_result"
    }
   ],
   "source": [
    "all_nucc_classification = list(set(list(nucc_indigo['NUCC Classification'])))\n",
    "len(all_nucc_classification)"
   ]
  },
  {
   "cell_type": "code",
   "execution_count": 10,
   "metadata": {},
   "outputs": [
    {
     "data": {
      "text/plain": [
       "115"
      ]
     },
     "execution_count": 10,
     "metadata": {},
     "output_type": "execute_result"
    }
   ],
   "source": [
    "all_indigo_speciality = list(set(list(nucc_indigo['Indigo Specialty'])))\n",
    "len(all_indigo_speciality)"
   ]
  },
  {
   "cell_type": "code",
   "execution_count": 3,
   "metadata": {},
   "outputs": [
    {
     "name": "stdout",
     "output_type": "stream",
     "text": [
      "38391\n"
     ]
    }
   ],
   "source": [
    "import pandas as pd\n",
    "test = pd.read_pickle(\"./concerned_specialities_npi_features9.pkl\")\n",
    "print(len(test))"
   ]
  },
  {
   "cell_type": "code",
   "execution_count": null,
   "metadata": {},
   "outputs": [],
   "source": []
  }
 ],
 "metadata": {
  "kernelspec": {
   "display_name": "inferred_speciality",
   "language": "python",
   "name": "python3"
  },
  "language_info": {
   "codemirror_mode": {
    "name": "ipython",
    "version": 3
   },
   "file_extension": ".py",
   "mimetype": "text/x-python",
   "name": "python",
   "nbconvert_exporter": "python",
   "pygments_lexer": "ipython3",
   "version": "3.10.12"
  },
  "orig_nbformat": 4
 },
 "nbformat": 4,
 "nbformat_minor": 2
}
