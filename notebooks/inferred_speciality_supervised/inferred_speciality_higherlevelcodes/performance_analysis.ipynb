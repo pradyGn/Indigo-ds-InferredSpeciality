{
 "cells": [
  {
   "cell_type": "code",
   "execution_count": 315,
   "metadata": {},
   "outputs": [],
   "source": [
    "import random\n",
    "import pandas as pd\n",
    "import numpy as np\n",
    "import xgboost as xgb\n",
    "from sklearn.model_selection import train_test_split, RandomizedSearchCV\n",
    "from sklearn.metrics import classification_report"
   ]
  },
  {
   "cell_type": "code",
   "execution_count": 316,
   "metadata": {},
   "outputs": [],
   "source": [
    "def get_npi_ccspcs_dict():\n",
    "    npi_ccspcs_features = pd.read_pickle('./ccspcs_npi_features.pkl')\n",
    "    npi_ccspcs_features_np = np.array(npi_ccspcs_features)\n",
    "    npi_ccspcs_features_dict = {}\n",
    "    for row in npi_ccspcs_features_np:\n",
    "        if sum(row[1:]) > 0:\n",
    "            npi_ccspcs_features_dict[row[0]] = row[1:]\n",
    "    return npi_ccspcs_features_dict"
   ]
  },
  {
   "cell_type": "code",
   "execution_count": 317,
   "metadata": {},
   "outputs": [],
   "source": [
    "def get_npi_features(npi_upper_level_features_path = \"./npi_upper_features.pkl\"):\n",
    "    npi_ccspcs_features_dict = get_npi_ccspcs_dict()\n",
    "    npi_upper_level_features = pd.read_pickle(npi_upper_level_features_path)\n",
    "    # npi_cpt_features = pd.read_pickle('./chuncked_npi_ncpcs_2019_0_.pkl')\n",
    "    return npi_ccspcs_features_dict, npi_upper_level_features #, npi_cpt_features"
   ]
  },
  {
   "cell_type": "code",
   "execution_count": 318,
   "metadata": {},
   "outputs": [],
   "source": [
    "def get_indigo_spl_npi(npi_ccspcs_features_dict, npi_indigo_spl):\n",
    "    indigo_spl_npi = {}\n",
    "    for npi in npi_ccspcs_features_dict:\n",
    "        if int(npi) in npi_indigo_spl:\n",
    "            if npi_indigo_spl[int(npi)] not in indigo_spl_npi:\n",
    "                indigo_spl_npi[npi_indigo_spl[int(npi)]] = []\n",
    "            indigo_spl_npi[npi_indigo_spl[int(npi)]].append(npi)\n",
    "    return indigo_spl_npi"
   ]
  },
  {
   "cell_type": "code",
   "execution_count": 319,
   "metadata": {},
   "outputs": [],
   "source": [
    "def get_spl_specific_indigo_spl_npi(npi_upper_level_features, npi_ccspcs_features_dict, npi_indigo_spl_path = './npi_indigo_spl.pkl'):\n",
    "    npi_indigo_spl = pd.read_pickle(npi_indigo_spl_path)\n",
    "    indigo_spl_npi_upper = get_indigo_spl_npi(npi_upper_level_features, npi_indigo_spl)\n",
    "    indigo_spl_npi_ccspcs = get_indigo_spl_npi(npi_ccspcs_features_dict, npi_indigo_spl)\n",
    "    # indigo_spl_npi_cpt_features = get_indigo_spl_npi(npi_cpt_features, npi_indigo_spl)\n",
    "    return indigo_spl_npi_upper, indigo_spl_npi_ccspcs"
   ]
  },
  {
   "cell_type": "code",
   "execution_count": 320,
   "metadata": {},
   "outputs": [],
   "source": [
    "def get_X_y_v2(indigo_spl_npi, outliers_path, all_specilities, npi_features):\n",
    "    X = []; y = []; speciality_label = {}; label = 0\n",
    "    for spl in all_specilities:\n",
    "        for granular_spl in all_specilities[spl]:\n",
    "            speciality_label[granular_spl] = label\n",
    "            outlier_cur = pd.read_pickle(outliers_path + \"outlier_npis\" + granular_spl + \".pkl\")\n",
    "            for npi in indigo_spl_npi[granular_spl]:\n",
    "                if npi not in outlier_cur:\n",
    "                    X.append(npi_features[npi])\n",
    "                    y.append(label)\n",
    "            label += 1\n",
    "    return X, y, speciality_label"
   ]
  },
  {
   "cell_type": "code",
   "execution_count": 321,
   "metadata": {},
   "outputs": [],
   "source": [
    "def alter_y(speciality_lis, X, y, speciality_label, spl_exclude=None):\n",
    "    altered_y = []\n",
    "    label_lis = [speciality_label[spl] for spl in speciality_label if spl in speciality_lis]\n",
    "    if spl_exclude is None:\n",
    "        for label in y:\n",
    "            if label in label_lis:\n",
    "                altered_y.append(1)\n",
    "            else:\n",
    "                altered_y.append(0)\n",
    "        return X, altered_y\n",
    "    else:\n",
    "        exclude_label_lis = [speciality_label[spl] for spl in speciality_label if spl in spl_exclude]\n",
    "        altered_X = []\n",
    "        i = 0\n",
    "        for label in y:\n",
    "            if label in label_lis:\n",
    "                altered_y.append(1)\n",
    "                altered_X.append(X[i])\n",
    "            elif label not in exclude_label_lis:\n",
    "                altered_y.append(0)\n",
    "                altered_X.append(X[i])                \n",
    "            i += 1\n",
    "        return altered_X, altered_y"
   ]
  },
  {
   "cell_type": "code",
   "execution_count": 322,
   "metadata": {},
   "outputs": [],
   "source": [
    "def get_results(y_train, y_test, X_train, X_test, random_search, spl):\n",
    "    print(\"X_train results,\")\n",
    "    predicted_probabilities = random_search.best_estimator_.predict_proba(X_train)\n",
    "    predictions = np.argmax(predicted_probabilities, axis=1)\n",
    "    #print(classification_report(y_train, predictions, target_names=['Others', spl]))\n",
    "    train_out = classification_report(y_train, predictions, target_names=['Others', spl], output_dict = True)\n",
    "\n",
    "    print(\"X_test results,\")\n",
    "    predicted_probabilities = random_search.best_estimator_.predict_proba(X_test)\n",
    "    predictions = np.argmax(predicted_probabilities, axis=1)\n",
    "    #print(classification_report(y_test, predictions, target_names=['Others', spl]))\n",
    "    test_out = classification_report(y_test, predictions, target_names=['Others', spl], output_dict = True)\n",
    "\n",
    "    # number of spl predicted as others\n",
    "    count_spl_others = 0\n",
    "    for i in range(len(y_test)):\n",
    "        if y_test[i] == 1 and predictions[i] == 0:\n",
    "            count_spl_others += 1\n",
    "    print(\"number of spl predicted as others: \", count_spl_others)\n",
    "\n",
    "    # num of others predicted as spl\n",
    "    count_others_spl = 0\n",
    "    for i in range(len(y_test)):\n",
    "        if y_test[i] == 0 and predictions[i] == 1:\n",
    "            count_others_spl += 1\n",
    "    print(\"num of others predicted as spl: \", count_others_spl)\n",
    "\n",
    "    # num of spl predicted as spl\n",
    "    count_spl_spl = 0\n",
    "    for i in range(len(y_test)):\n",
    "        if y_test[i] == 1 and predictions[i] == 1:\n",
    "            count_spl_spl += 1\n",
    "    print(\"num of spl predicted as spl: \", count_spl_spl)\n",
    "\n",
    "    # num of others predicted as others\n",
    "    count_others_others = 0\n",
    "    for i in range(len(y_test)):\n",
    "        if y_test[i] == 0 and predictions[i] == 0:\n",
    "            count_others_others += 1\n",
    "    print(\"num of others predicted as spl: \", count_others_others)\n",
    "\n",
    "    return train_out, test_out, count_spl_others, count_others_spl"
   ]
  },
  {
   "cell_type": "code",
   "execution_count": 323,
   "metadata": {},
   "outputs": [],
   "source": [
    "def add_results(results_train, results_test, spl, train_out, test_out):\n",
    "    results_train.append([\"CPT upper level features\", \"Train\", spl, train_out['Others']['precision'], train_out['Others']['recall'], train_out[spl]['precision'], train_out[spl]['recall'], train_out['macro avg']['f1-score']])\n",
    "    results_test.append([\"CPT upper level features\", \"Test\", spl, test_out['Others']['precision'], test_out['Others']['recall'], test_out[spl]['precision'], test_out[spl]['recall'], test_out['macro avg']['f1-score']])\n",
    "    return results_train, results_test"
   ]
  },
  {
   "cell_type": "code",
   "execution_count": 324,
   "metadata": {},
   "outputs": [],
   "source": [
    "def train_model(X, original_y, param_dist, spl, npi_speciality_label, concerned_specialities, results_train, results_test):\n",
    "    X_train, X_test, y_train, y_test = train_test_split(X, original_y, test_size=0.3, random_state=798, stratify=original_y)\n",
    "    X_train, y_train = alter_y(concerned_specialities[spl], X_train, y_train, npi_speciality_label)\n",
    "    X_test, altered_y_test = alter_y(concerned_specialities[spl], X_test, y_test, npi_speciality_label)\n",
    "    # X_train, X_test, y_train, y_test = train_test_split(X, y, test_size=0.3, random_state=798, stratify=y)\n",
    "    model = xgb.XGBClassifier(objective='multi:softprob', num_class=len(set(y_train)), tree_method='gpu_hist', gpu_id=0)\n",
    "    random_search = RandomizedSearchCV(model, param_distributions=param_dist, n_iter=10, scoring='accuracy', n_jobs=-1, cv=2, verbose=3, random_state=53)\n",
    "    random_search.fit(X_train, y_train)\n",
    "    print(\"Best parameters found: \", random_search.best_params_)\n",
    "\n",
    "    train_out, test_out, count_spl_others, count_others_spl = get_results(y_train, altered_y_test, X_train, X_test, random_search, spl)\n",
    "    results_train, results_test = add_results(results_train, results_test, spl, train_out, test_out)\n",
    "    for granular_spl in concerned_specialities[spl]:\n",
    "        print(list(set(concerned_specialities[spl]) - set([granular_spl])))\n",
    "        altered_X_test, altered_y_test = alter_y([granular_spl], X_test, y_test, npi_speciality_label, list(set(concerned_specialities[spl]) - set([granular_spl])))\n",
    "        train_out, test_out, count_spl_others, count_others_spl = get_results(y_train, altered_y_test, X_train, altered_X_test, random_search, granular_spl)\n",
    "        results_train, results_test = add_results(results_train, results_test, granular_spl, train_out, test_out)\n",
    "\n",
    "\n",
    "    #return train_out, test_out, count_spl_others, count_others_spl, random_search\n",
    "    return results_train, results_test"
   ]
  },
  {
   "cell_type": "code",
   "execution_count": 325,
   "metadata": {},
   "outputs": [
    {
     "data": {
      "text/plain": [
       "[1, 3]"
      ]
     },
     "execution_count": 325,
     "metadata": {},
     "output_type": "execute_result"
    }
   ],
   "source": [
    "h = [1, 2, 3]\n",
    "z = [2]\n",
    "list(set(h) - set(z))"
   ]
  },
  {
   "cell_type": "code",
   "execution_count": 326,
   "metadata": {},
   "outputs": [],
   "source": [
    "def train_binary_spl_predict_mdoel(concerned_specialities, all_specilities, param_dist):\n",
    "    \n",
    "    npi_ccspcs_features_dict, npi_upper_level_features = get_npi_features()\n",
    "    indigo_spl_npi_upper, indigo_spl_npi_ccspcs = get_spl_specific_indigo_spl_npi(npi_upper_level_features, npi_ccspcs_features_dict)\n",
    "\n",
    "    results_test = [[\"Data Type\", \"Train / Test\", \"Speciality\", \"Precision 0\", \"Recall 0\", \"Precision 1\", \"Recall 1\", \"Macro Avg F1\"]]\n",
    "    results_train = [[\"Data Type\", \"Train / Test\", \"Speciality\", \"Precision 0\", \"Recall 0\", \"Precision 1\", \"Recall 1\", \"Macro Avg F1\"]]\n",
    "\n",
    "    npi_upper_X, npi_upper_y, npi_upper_speciality_label = get_X_y_v2(indigo_spl_npi_upper, \"./outliers_v2/\", all_specilities, npi_upper_level_features)\n",
    "    #npi_ccspcs_X, npi_ccspcs_y, npi_ccspcs_speciality_label = get_X_y_v2(indigo_spl_npi_ccspcs, \"./outliersccspcs/\", all_specilities, npi_ccspcs_features_dict)\n",
    "    print('Starting the run!!')\n",
    "    \n",
    "\n",
    "\n",
    "    for spl in concerned_specialities:\n",
    "        # try:\n",
    "        #altered_y = alter_y(concerned_specialities[spl], npi_upper_y, npi_upper_speciality_label)\n",
    "        results_train, results_test = train_model(npi_upper_X, npi_upper_y, param_dist, spl, npi_upper_speciality_label, concerned_specialities, results_train, results_test)\n",
    "        #results_train, results_test = train_model(npi_ccspcs_X, npi_ccspcs_y, param_dist, spl, npi_ccspcs_speciality_label, concerned_specialities, results_train, results_test)\n",
    "\n",
    "        # results_train.append([\"CPT upper level features\", \"Train\", spl, train_out['Others']['precision'], train_out['Others']['recall'], train_out[spl]['precision'], train_out[spl]['recall'], train_out['macro avg']['f1-score']])\n",
    "        # results_test.append([\"CPT upper level features\", \"Test\", spl, test_out['Others']['precision'], test_out['Others']['recall'], test_out[spl]['precision'], test_out[spl]['recall'], test_out['macro avg']['f1-score']])\n",
    "        # except:\n",
    "        #     print('\\033[1m' + '\\033[91m' + spl + \" not in CPT upper level features\" + '\\033[0m' + '\\033[0m')\n",
    "\n",
    "        # try:\n",
    "        # altered_y = alter_y(spl, npi_ccspcs_y, npi_ccspcs_speciality_label)\n",
    "        # train_out, test_out, count_spl_others, count_others_spl = train_model(npi_ccspcs_X, altered_y, param_dist, spl)\n",
    "        # results_train.append([\"CCSPCS level 3 features\", \"Train\", spl, train_out['Others']['precision'], train_out['Others']['recall'], train_out[spl]['precision'], train_out[spl]['recall'], train_out['macro avg']['f1-score']])\n",
    "        # results_test.append([\"CCSPCS level 3 features\", \"Test\", spl, test_out['Others']['precision'], test_out['Others']['recall'], test_out[spl]['precision'], test_out[spl]['recall'], test_out['macro avg']['f1-score']])\n",
    "        # except:\n",
    "        #     print('\\033[1m' + '\\033[91m' + spl + \" not in CCSPCT level 3 features\" + '\\033[0m' + '\\033[0m')\n",
    "\n",
    "        results_train.append(len(results_train[0])*[\"\"])\n",
    "        results_test.append(len(results_test[0])*[\"\"])\n",
    "\n",
    "        print('\\033[1m' + '\\033[92m' + \"Done: \" + spl + '\\033[0m' + '\\033[0m')\n",
    "    \n",
    "    df = pd.DataFrame(results_test + results_train)\n",
    "    #print(df)\n",
    "    df.to_csv('./binary_spl_prediction_granular_output_v3.csv', index=False)"
   ]
  },
  {
   "cell_type": "code",
   "execution_count": 327,
   "metadata": {},
   "outputs": [],
   "source": [
    "all_specialities = {\n",
    "    'Nurse': ['Advanced Practice Registered Nurse (APRN)',\n",
    "    'Certified Nurse Practitioner',\n",
    "    'Clinical Nurse Specialist',\n",
    "    'Nurse - Student',\n",
    "    'Certified Nurse Midwife (CNM)',\n",
    "    'Nurse'],\n",
    "    'Anesthesiology': ['Anesthesiology', 'Anesthesiology Assistant (AA)', 'CRNA'],\n",
    "    'Cardiovascular': ['Cardiovascular Disease-Minor Surgery',\n",
    "    'Cardiovascular Disease-No Surgery',\n",
    "    'Cardiovascular Disease-Surgery',\n",
    "    # 'Cardiac Technician',\n",
    "    'Vascular-Surgery'],\n",
    "    'Dermatology': ['Dermatology-Minor Surgery', 'Dermatology-No Surgery'],\n",
    "    'Neurology': ['Neurology-Surgery', 'Neurology-No Surgery'],\n",
    "    'Gynecology': ['Obstetrics Gynecology-Surgery',\n",
    "    'Gynecology-Minor Surgery',\n",
    "    'Gynecology-No Surgery',\n",
    "    'Gynecology-Surgery'],\n",
    "    'General': ['General Preventive Med-No Surgery', 'General NOC-Surgery'],\n",
    "    'Orthopedic': ['Orthopedic Excl Back-Surgery',\n",
    "    'Orthopedic Incl Back-Surgery'],\n",
    "    'Ophthalmology': ['Ophthalmology-No Surgery',\n",
    "    'Ophthalmology-Minor Surgery',\n",
    "    'Ophthalmology-Surgery'],\n",
    "    'Otorhinolaryngology': ['Otorhinolaryngology-No Surgery',\n",
    "    'Otorhinolaryngology-Minor Surgery',\n",
    "    'Otorhinolaryngology-Surgery'],\n",
    "    'Radiology': ['Radiology Diagnostic-Minor Surgery',\n",
    "    'Radiology Diagnostic-No Surgery'],\n",
    "    'Pediatrics': ['Pediatrics-Minor Surgery', 'Pediatrics-No Surgery'],\n",
    "    'Acupuncture': ['Acupuncture'],\n",
    "    'Aerospace Medicine': ['Aerospace Medicine'],\n",
    "    'Allergy': ['Allergy'],\n",
    "    'Audiologist': ['Audiologist'],\n",
    "    'Bariatric-Surgery': ['Bariatric-Surgery'],\n",
    "    'Chiropractor': ['Chiropractor'],\n",
    "    'Colon And Rectal-Surgery': ['Colon And Rectal-Surgery'],\n",
    "    'Counselor': ['Counselor'],\n",
    "    'Dietitian': ['Dietitian'],\n",
    "    'Emergency Med-No Surgery': ['Emergency Med-No Surgery'],\n",
    "    'Emergency Medical Technician (EMT)': ['Emergency Medical Technician (EMT)'],\n",
    "    'Endocrinology-No Surgery': ['Endocrinology-No Surgery'],\n",
    "    'Family Medicine-No Surgery': ['Family Medicine-No Surgery'],\n",
    "    'Forensic Medicine': ['Forensic Medicine'],\n",
    "    'Gastroenterology-No Surgery': ['Gastroenterology-No Surgery'],\n",
    "    'Geriatrics-No Surgery': ['Geriatrics-No Surgery'],\n",
    "    'Hand-Surgery': ['Hand-Surgery'],\n",
    "    'Hematology-No Surgery': ['Hematology-No Surgery'],\n",
    "    'Hospitalists': ['Hospitalists'],\n",
    "    'Infectious Diseases-No Surgery': ['Infectious Diseases-No Surgery'],\n",
    "    'Internal Medicine-No Surgery': ['Internal Medicine-No Surgery'],\n",
    "    'Medical Assistant': ['Medical Assistant'],\n",
    "    'Neonatology': ['Neonatology'],\n",
    "    'Nephrology-No Surgery': ['Nephrology-No Surgery'],\n",
    "    'Nuclear Medicine': ['Nuclear Medicine'],\n",
    "    'O.R. Technician': ['O.R. Technician'],\n",
    "    'Occupation Therapist': ['Occupation Therapist'],\n",
    "    'Occupational Medicine': ['Occupational Medicine'],\n",
    "    'Optometrist': ['Optometrist'],\n",
    "    'Pain Medicine': ['Pain Medicine'],\n",
    "    'Pathology-No Surgery': ['Pathology-No Surgery'],\n",
    "    'Pharmacist': ['Pharmacist'],\n",
    "    'Phlebology': ['Phlebology'],\n",
    "    'Physiatry': ['Physiatry'],\n",
    "    'Physical Therapist': ['Physical Therapist'],\n",
    "    'Physician Assistant': ['Physician Assistant'],\n",
    "    'Physicians NOC-No Surgery': ['Physicians NOC-No Surgery'],\n",
    "    'Physiotherapist': ['Physiotherapist'],\n",
    "    'Plastic Surgery': ['Plastic NOC-Surgery', 'Plastic Otorhinolaryngology-Surgery'],\n",
    "    'Podiatrist': ['Podiatrist'],\n",
    "    'Psychiatry': ['Psychiatry'],\n",
    "    'Psychologist': ['Psychologist'],\n",
    "    'Pulmonary Diseases-No Surgery': ['Pulmonary Diseases-No Surgery'],\n",
    "    'Radiation Therapy NOC': ['Radiation Therapy NOC'],\n",
    "    'Respiratory Therapist': ['Respiratory Therapist'],\n",
    "    'Rheumatology-No Surgery': ['Rheumatology-No Surgery'],\n",
    "    'Social Worker': ['Social Worker'],\n",
    "    'Sonographer': ['Sonographer'],\n",
    "    'Surgeon Assistant': ['Surgeon Assistant'],\n",
    "    'Thoracic-Surgery': ['Thoracic-Surgery'],\n",
    "    'Traumatic-Surgery': ['Traumatic-Surgery'],\n",
    "    'Urgent Care-No Surgery': ['Urgent Care-No Surgery'],\n",
    "    'Urological-Surgery': ['Urological-Surgery'],\n",
    "    # 'Pharmacology Clinica': ['Pharmacology Clinica']\n",
    " }"
   ]
  },
  {
   "cell_type": "code",
   "execution_count": 328,
   "metadata": {},
   "outputs": [],
   "source": [
    "concerned_specialities = {\n",
    "    'Anesthesiology Group': ['Anesthesiology', 'Anesthesiology Assistant (AA)', 'CRNA'],\n",
    "}"
   ]
  },
  {
   "cell_type": "code",
   "execution_count": 329,
   "metadata": {},
   "outputs": [],
   "source": [
    "param_dist = {\n",
    "    'n_estimators': np.arange(50, 300, 50),\n",
    "    'learning_rate': [0.01, 0.05, 0.1, 0.2],\n",
    "    'max_depth': [6, 7, 8, 9, 10, 11, 12],\n",
    "    'colsample_bytree': [0.6, 0.65, 0.7, 0.75],\n",
    "}"
   ]
  },
  {
   "cell_type": "code",
   "execution_count": 330,
   "metadata": {},
   "outputs": [
    {
     "name": "stdout",
     "output_type": "stream",
     "text": [
      "Starting the run!!\n",
      "Fitting 2 folds for each of 10 candidates, totalling 20 fits\n"
     ]
    },
    {
     "name": "stderr",
     "output_type": "stream",
     "text": [
      "c:\\Users\\ganga\\anaconda3\\envs\\inferred_speciality\\lib\\site-packages\\sklearn\\model_selection\\_search.py:976: UserWarning: One or more of the test scores are non-finite: [nan nan nan nan nan nan nan nan nan nan]\n",
      "  warnings.warn(\n"
     ]
    },
    {
     "name": "stdout",
     "output_type": "stream",
     "text": [
      "Best parameters found:  {'n_estimators': 50, 'max_depth': 9, 'learning_rate': 0.05, 'colsample_bytree': 0.6}\n",
      "X_train results,\n",
      "X_test results,\n",
      "number of spl predicted as others:  5863\n",
      "num of others predicted as spl:  127\n",
      "num of spl predicted as spl:  395\n",
      "num of others predicted as spl:  30565\n",
      "['Nurse', 'Clinical Nurse Specialist', 'Nurse - Student', 'Certified Nurse Practitioner', 'Certified Nurse Midwife (CNM)']\n",
      "X_train results,\n",
      "X_test results,\n",
      "number of spl predicted as others:  568\n",
      "num of others predicted as spl:  127\n",
      "num of spl predicted as spl:  26\n",
      "num of others predicted as spl:  30565\n",
      "['Advanced Practice Registered Nurse (APRN)', 'Nurse', 'Clinical Nurse Specialist', 'Nurse - Student', 'Certified Nurse Midwife (CNM)']\n",
      "X_train results,\n",
      "X_test results,\n",
      "number of spl predicted as others:  4161\n",
      "num of others predicted as spl:  127\n",
      "num of spl predicted as spl:  360\n",
      "num of others predicted as spl:  30565\n",
      "['Advanced Practice Registered Nurse (APRN)', 'Nurse', 'Nurse - Student', 'Certified Nurse Practitioner', 'Certified Nurse Midwife (CNM)']\n",
      "X_train results,\n",
      "X_test results,\n",
      "number of spl predicted as others:  11\n",
      "num of others predicted as spl:  127\n",
      "num of spl predicted as spl:  2\n",
      "num of others predicted as spl:  30565\n",
      "['Advanced Practice Registered Nurse (APRN)', 'Nurse', 'Clinical Nurse Specialist', 'Certified Nurse Practitioner', 'Certified Nurse Midwife (CNM)']\n",
      "X_train results,\n",
      "X_test results,\n",
      "number of spl predicted as others:  1081\n",
      "num of others predicted as spl:  127\n",
      "num of spl predicted as spl:  6\n",
      "num of others predicted as spl:  30565\n",
      "['Advanced Practice Registered Nurse (APRN)', 'Nurse', 'Clinical Nurse Specialist', 'Nurse - Student', 'Certified Nurse Practitioner']\n",
      "X_train results,\n",
      "X_test results,\n",
      "number of spl predicted as others:  23\n",
      "num of others predicted as spl:  127\n",
      "num of spl predicted as spl:  1\n",
      "num of others predicted as spl:  30565\n",
      "['Advanced Practice Registered Nurse (APRN)', 'Clinical Nurse Specialist', 'Nurse - Student', 'Certified Nurse Practitioner', 'Certified Nurse Midwife (CNM)']\n",
      "X_train results,\n",
      "X_test results,\n",
      "number of spl predicted as others:  19\n",
      "num of others predicted as spl:  127\n",
      "num of spl predicted as spl:  0\n",
      "num of others predicted as spl:  30565\n",
      "\u001b[1m\u001b[92mDone: Nurse\u001b[0m\u001b[0m\n",
      "Fitting 2 folds for each of 10 candidates, totalling 20 fits\n"
     ]
    },
    {
     "name": "stderr",
     "output_type": "stream",
     "text": [
      "c:\\Users\\ganga\\anaconda3\\envs\\inferred_speciality\\lib\\site-packages\\sklearn\\model_selection\\_search.py:976: UserWarning: One or more of the test scores are non-finite: [nan nan nan nan nan nan nan nan nan nan]\n",
      "  warnings.warn(\n"
     ]
    },
    {
     "name": "stdout",
     "output_type": "stream",
     "text": [
      "Best parameters found:  {'n_estimators': 50, 'max_depth': 9, 'learning_rate': 0.05, 'colsample_bytree': 0.6}\n",
      "X_train results,\n",
      "X_test results,\n",
      "number of spl predicted as others:  96\n",
      "num of others predicted as spl:  203\n",
      "num of spl predicted as spl:  1960\n",
      "num of others predicted as spl:  34691\n",
      "['Anesthesiology Assistant (AA)', 'CRNA']\n",
      "X_train results,\n",
      "X_test results,\n",
      "number of spl predicted as others:  71\n",
      "num of others predicted as spl:  203\n",
      "num of spl predicted as spl:  920\n",
      "num of others predicted as spl:  34691\n",
      "['Anesthesiology', 'CRNA']\n",
      "X_train results,\n",
      "X_test results,\n",
      "number of spl predicted as others:  1\n",
      "num of others predicted as spl:  203\n",
      "num of spl predicted as spl:  54\n",
      "num of others predicted as spl:  34691\n",
      "['Anesthesiology', 'Anesthesiology Assistant (AA)']\n",
      "X_train results,\n",
      "X_test results,\n",
      "number of spl predicted as others:  24\n",
      "num of others predicted as spl:  203\n",
      "num of spl predicted as spl:  986\n",
      "num of others predicted as spl:  34691\n",
      "\u001b[1m\u001b[92mDone: Anesthesiology\u001b[0m\u001b[0m\n",
      "Fitting 2 folds for each of 10 candidates, totalling 20 fits\n"
     ]
    },
    {
     "name": "stderr",
     "output_type": "stream",
     "text": [
      "c:\\Users\\ganga\\anaconda3\\envs\\inferred_speciality\\lib\\site-packages\\sklearn\\model_selection\\_search.py:976: UserWarning: One or more of the test scores are non-finite: [nan nan nan nan nan nan nan nan nan nan]\n",
      "  warnings.warn(\n"
     ]
    },
    {
     "name": "stdout",
     "output_type": "stream",
     "text": [
      "Best parameters found:  {'n_estimators': 50, 'max_depth': 9, 'learning_rate': 0.05, 'colsample_bytree': 0.6}\n",
      "X_train results,\n",
      "X_test results,\n",
      "number of spl predicted as others:  258\n",
      "num of others predicted as spl:  104\n",
      "num of spl predicted as spl:  418\n",
      "num of others predicted as spl:  36170\n",
      "['Cardiovascular Disease-No Surgery', 'Vascular-Surgery', 'Cardiovascular Disease-Surgery']\n",
      "X_train results,\n",
      "X_test results,\n",
      "number of spl predicted as others:  48\n",
      "num of others predicted as spl:  104\n",
      "num of spl predicted as spl:  88\n",
      "num of others predicted as spl:  36170\n",
      "['Cardiovascular Disease-Minor Surgery', 'Vascular-Surgery', 'Cardiovascular Disease-Surgery']\n",
      "X_train results,\n",
      "X_test results,\n",
      "number of spl predicted as others:  146\n",
      "num of others predicted as spl:  104\n",
      "num of spl predicted as spl:  301\n",
      "num of others predicted as spl:  36170\n",
      "['Cardiovascular Disease-No Surgery', 'Cardiovascular Disease-Minor Surgery', 'Vascular-Surgery']\n",
      "X_train results,\n",
      "X_test results,\n",
      "number of spl predicted as others:  2\n",
      "num of others predicted as spl:  104\n",
      "num of spl predicted as spl:  14\n",
      "num of others predicted as spl:  36170\n",
      "['Cardiovascular Disease-No Surgery', 'Cardiovascular Disease-Minor Surgery', 'Cardiovascular Disease-Surgery']\n",
      "X_train results,\n",
      "X_test results,\n",
      "number of spl predicted as others:  62\n",
      "num of others predicted as spl:  104\n",
      "num of spl predicted as spl:  15\n",
      "num of others predicted as spl:  36170\n",
      "\u001b[1m\u001b[92mDone: Cardiovascular\u001b[0m\u001b[0m\n",
      "Fitting 2 folds for each of 10 candidates, totalling 20 fits\n"
     ]
    },
    {
     "name": "stderr",
     "output_type": "stream",
     "text": [
      "c:\\Users\\ganga\\anaconda3\\envs\\inferred_speciality\\lib\\site-packages\\sklearn\\model_selection\\_search.py:976: UserWarning: One or more of the test scores are non-finite: [nan nan nan nan nan nan nan nan nan nan]\n",
      "  warnings.warn(\n"
     ]
    },
    {
     "name": "stdout",
     "output_type": "stream",
     "text": [
      "Best parameters found:  {'n_estimators': 50, 'max_depth': 9, 'learning_rate': 0.05, 'colsample_bytree': 0.6}\n",
      "X_train results,\n",
      "X_test results,\n",
      "number of spl predicted as others:  159\n",
      "num of others predicted as spl:  35\n",
      "num of spl predicted as spl:  125\n",
      "num of others predicted as spl:  36631\n",
      "['Dermatology-No Surgery']\n",
      "X_train results,\n",
      "X_test results,\n",
      "number of spl predicted as others:  25\n",
      "num of others predicted as spl:  35\n",
      "num of spl predicted as spl:  17\n",
      "num of others predicted as spl:  36631\n",
      "['Dermatology-Minor Surgery']\n",
      "X_train results,\n",
      "X_test results,\n",
      "number of spl predicted as others:  134\n",
      "num of others predicted as spl:  35\n",
      "num of spl predicted as spl:  108\n",
      "num of others predicted as spl:  36631\n",
      "\u001b[1m\u001b[92mDone: Dermatology\u001b[0m\u001b[0m\n",
      "Fitting 2 folds for each of 10 candidates, totalling 20 fits\n"
     ]
    },
    {
     "name": "stderr",
     "output_type": "stream",
     "text": [
      "c:\\Users\\ganga\\anaconda3\\envs\\inferred_speciality\\lib\\site-packages\\sklearn\\model_selection\\_search.py:976: UserWarning: One or more of the test scores are non-finite: [nan nan nan nan nan nan nan nan nan nan]\n",
      "  warnings.warn(\n"
     ]
    },
    {
     "name": "stdout",
     "output_type": "stream",
     "text": [
      "Best parameters found:  {'n_estimators': 50, 'max_depth': 9, 'learning_rate': 0.05, 'colsample_bytree': 0.6}\n",
      "X_train results,\n",
      "X_test results,\n",
      "number of spl predicted as others:  167\n",
      "num of others predicted as spl:  2\n",
      "num of spl predicted as spl:  37\n",
      "num of others predicted as spl:  36744\n",
      "['Neurology-No Surgery']\n",
      "X_train results,\n",
      "X_test results,\n",
      "number of spl predicted as others:  8\n",
      "num of others predicted as spl:  2\n",
      "num of spl predicted as spl:  0\n",
      "num of others predicted as spl:  36744\n",
      "['Neurology-Surgery']\n",
      "X_train results,\n",
      "X_test results,\n",
      "number of spl predicted as others:  159\n",
      "num of others predicted as spl:  2\n",
      "num of spl predicted as spl:  37\n",
      "num of others predicted as spl:  36744\n",
      "\u001b[1m\u001b[92mDone: Neurology\u001b[0m\u001b[0m\n",
      "Fitting 2 folds for each of 10 candidates, totalling 20 fits\n"
     ]
    },
    {
     "name": "stderr",
     "output_type": "stream",
     "text": [
      "c:\\Users\\ganga\\anaconda3\\envs\\inferred_speciality\\lib\\site-packages\\sklearn\\model_selection\\_search.py:976: UserWarning: One or more of the test scores are non-finite: [nan nan nan nan nan nan nan nan nan nan]\n",
      "  warnings.warn(\n"
     ]
    },
    {
     "name": "stdout",
     "output_type": "stream",
     "text": [
      "Best parameters found:  {'n_estimators': 50, 'max_depth': 9, 'learning_rate': 0.05, 'colsample_bytree': 0.6}\n",
      "X_train results,\n",
      "X_test results,\n",
      "number of spl predicted as others:  295\n",
      "num of others predicted as spl:  75\n",
      "num of spl predicted as spl:  661\n",
      "num of others predicted as spl:  35919\n",
      "['Gynecology-Surgery', 'Gynecology-No Surgery', 'Gynecology-Minor Surgery']\n",
      "X_train results,\n",
      "X_test results,\n",
      "number of spl predicted as others:  249\n",
      "num of others predicted as spl:  75\n",
      "num of spl predicted as spl:  593\n",
      "num of others predicted as spl:  35919\n",
      "['Gynecology-Surgery', 'Gynecology-No Surgery', 'Obstetrics Gynecology-Surgery']\n",
      "X_train results,\n",
      "X_test results,\n",
      "number of spl predicted as others:  10\n",
      "num of others predicted as spl:  75\n",
      "num of spl predicted as spl:  12\n",
      "num of others predicted as spl:  35919\n",
      "['Gynecology-Surgery', 'Gynecology-Minor Surgery', 'Obstetrics Gynecology-Surgery']\n",
      "X_train results,\n",
      "X_test results,\n",
      "number of spl predicted as others:  19\n",
      "num of others predicted as spl:  75\n",
      "num of spl predicted as spl:  40\n",
      "num of others predicted as spl:  35919\n",
      "['Gynecology-No Surgery', 'Gynecology-Minor Surgery', 'Obstetrics Gynecology-Surgery']\n",
      "X_train results,\n",
      "X_test results,\n",
      "number of spl predicted as others:  17\n",
      "num of others predicted as spl:  75\n",
      "num of spl predicted as spl:  16\n",
      "num of others predicted as spl:  35919\n",
      "\u001b[1m\u001b[92mDone: Gynecology\u001b[0m\u001b[0m\n",
      "Fitting 2 folds for each of 10 candidates, totalling 20 fits\n"
     ]
    },
    {
     "name": "stderr",
     "output_type": "stream",
     "text": [
      "c:\\Users\\ganga\\anaconda3\\envs\\inferred_speciality\\lib\\site-packages\\sklearn\\model_selection\\_search.py:976: UserWarning: One or more of the test scores are non-finite: [nan nan nan nan nan nan nan nan nan nan]\n",
      "  warnings.warn(\n"
     ]
    },
    {
     "name": "stdout",
     "output_type": "stream",
     "text": [
      "Best parameters found:  {'n_estimators': 50, 'max_depth': 9, 'learning_rate': 0.05, 'colsample_bytree': 0.6}\n",
      "X_train results,\n",
      "X_test results,\n",
      "number of spl predicted as others:  792\n",
      "num of others predicted as spl:  59\n",
      "num of spl predicted as spl:  325\n",
      "num of others predicted as spl:  35774\n",
      "['General NOC-Surgery']\n",
      "X_train results,\n",
      "X_test results,\n",
      "number of spl predicted as others:  40\n",
      "num of others predicted as spl:  59\n",
      "num of spl predicted as spl:  0\n",
      "num of others predicted as spl:  35774\n",
      "['General Preventive Med-No Surgery']\n",
      "X_train results,\n",
      "X_test results,\n",
      "number of spl predicted as others:  752\n",
      "num of others predicted as spl:  59\n",
      "num of spl predicted as spl:  325\n",
      "num of others predicted as spl:  35774\n",
      "\u001b[1m\u001b[92mDone: General\u001b[0m\u001b[0m\n",
      "Fitting 2 folds for each of 10 candidates, totalling 20 fits\n"
     ]
    },
    {
     "name": "stderr",
     "output_type": "stream",
     "text": [
      "c:\\Users\\ganga\\anaconda3\\envs\\inferred_speciality\\lib\\site-packages\\sklearn\\model_selection\\_search.py:976: UserWarning: One or more of the test scores are non-finite: [nan nan nan nan nan nan nan nan nan nan]\n",
      "  warnings.warn(\n"
     ]
    },
    {
     "name": "stdout",
     "output_type": "stream",
     "text": [
      "Best parameters found:  {'n_estimators': 50, 'max_depth': 9, 'learning_rate': 0.05, 'colsample_bytree': 0.6}\n",
      "X_train results,\n",
      "X_test results,\n",
      "number of spl predicted as others:  244\n",
      "num of others predicted as spl:  43\n",
      "num of spl predicted as spl:  332\n",
      "num of others predicted as spl:  36331\n",
      "['Orthopedic Incl Back-Surgery']\n",
      "X_train results,\n",
      "X_test results,\n",
      "number of spl predicted as others:  228\n",
      "num of others predicted as spl:  43\n",
      "num of spl predicted as spl:  319\n",
      "num of others predicted as spl:  36331\n",
      "['Orthopedic Excl Back-Surgery']\n",
      "X_train results,\n",
      "X_test results,\n",
      "number of spl predicted as others:  16\n",
      "num of others predicted as spl:  43\n",
      "num of spl predicted as spl:  13\n",
      "num of others predicted as spl:  36331\n",
      "\u001b[1m\u001b[92mDone: Orthopedic\u001b[0m\u001b[0m\n",
      "Fitting 2 folds for each of 10 candidates, totalling 20 fits\n"
     ]
    },
    {
     "name": "stderr",
     "output_type": "stream",
     "text": [
      "c:\\Users\\ganga\\anaconda3\\envs\\inferred_speciality\\lib\\site-packages\\sklearn\\model_selection\\_search.py:976: UserWarning: One or more of the test scores are non-finite: [nan nan nan nan nan nan nan nan nan nan]\n",
      "  warnings.warn(\n"
     ]
    },
    {
     "name": "stdout",
     "output_type": "stream",
     "text": [
      "Best parameters found:  {'n_estimators': 50, 'max_depth': 9, 'learning_rate': 0.05, 'colsample_bytree': 0.6}\n",
      "X_train results,\n",
      "X_test results,\n",
      "number of spl predicted as others:  90\n",
      "num of others predicted as spl:  41\n",
      "num of spl predicted as spl:  339\n",
      "num of others predicted as spl:  36480\n",
      "['Ophthalmology-Surgery', 'Ophthalmology-Minor Surgery']\n",
      "X_train results,\n",
      "X_test results,\n",
      "number of spl predicted as others:  86\n",
      "num of others predicted as spl:  41\n",
      "num of spl predicted as spl:  315\n",
      "num of others predicted as spl:  36480\n",
      "['Ophthalmology-No Surgery', 'Ophthalmology-Surgery']\n",
      "X_train results,\n",
      "X_test results,\n",
      "number of spl predicted as others:  1\n",
      "num of others predicted as spl:  41\n",
      "num of spl predicted as spl:  24\n",
      "num of others predicted as spl:  36480\n",
      "['Ophthalmology-No Surgery', 'Ophthalmology-Minor Surgery']\n",
      "X_train results,\n",
      "X_test results,\n",
      "number of spl predicted as others:  3\n",
      "num of others predicted as spl:  41\n",
      "num of spl predicted as spl:  0\n",
      "num of others predicted as spl:  36480\n",
      "\u001b[1m\u001b[92mDone: Ophthalmology\u001b[0m\u001b[0m\n",
      "Fitting 2 folds for each of 10 candidates, totalling 20 fits\n"
     ]
    },
    {
     "name": "stderr",
     "output_type": "stream",
     "text": [
      "c:\\Users\\ganga\\anaconda3\\envs\\inferred_speciality\\lib\\site-packages\\sklearn\\model_selection\\_search.py:976: UserWarning: One or more of the test scores are non-finite: [nan nan nan nan nan nan nan nan nan nan]\n",
      "  warnings.warn(\n"
     ]
    },
    {
     "name": "stdout",
     "output_type": "stream",
     "text": [
      "Best parameters found:  {'n_estimators': 50, 'max_depth': 9, 'learning_rate': 0.05, 'colsample_bytree': 0.6}\n",
      "X_train results,\n",
      "X_test results,\n",
      "number of spl predicted as others:  74\n",
      "num of others predicted as spl:  21\n",
      "num of spl predicted as spl:  138\n",
      "num of others predicted as spl:  36717\n",
      "['Otorhinolaryngology-Minor Surgery', 'Otorhinolaryngology-Surgery']\n",
      "X_train results,\n",
      "X_test results,\n",
      "number of spl predicted as others:  5\n",
      "num of others predicted as spl:  21\n",
      "num of spl predicted as spl:  17\n",
      "num of others predicted as spl:  36717\n",
      "['Otorhinolaryngology-Surgery', 'Otorhinolaryngology-No Surgery']\n",
      "X_train results,\n",
      "X_test results,\n",
      "number of spl predicted as others:  63\n",
      "num of others predicted as spl:  21\n",
      "num of spl predicted as spl:  113\n",
      "num of others predicted as spl:  36717\n",
      "['Otorhinolaryngology-Minor Surgery', 'Otorhinolaryngology-No Surgery']\n",
      "X_train results,\n",
      "X_test results,\n",
      "number of spl predicted as others:  6\n",
      "num of others predicted as spl:  21\n",
      "num of spl predicted as spl:  8\n",
      "num of others predicted as spl:  36717\n",
      "\u001b[1m\u001b[92mDone: Otorhinolaryngology\u001b[0m\u001b[0m\n",
      "Fitting 2 folds for each of 10 candidates, totalling 20 fits\n"
     ]
    },
    {
     "name": "stderr",
     "output_type": "stream",
     "text": [
      "c:\\Users\\ganga\\anaconda3\\envs\\inferred_speciality\\lib\\site-packages\\sklearn\\model_selection\\_search.py:976: UserWarning: One or more of the test scores are non-finite: [nan nan nan nan nan nan nan nan nan nan]\n",
      "  warnings.warn(\n"
     ]
    },
    {
     "name": "stdout",
     "output_type": "stream",
     "text": [
      "Best parameters found:  {'n_estimators': 50, 'max_depth': 9, 'learning_rate': 0.05, 'colsample_bytree': 0.6}\n",
      "X_train results,\n",
      "X_test results,\n",
      "number of spl predicted as others:  74\n",
      "num of others predicted as spl:  47\n",
      "num of spl predicted as spl:  716\n",
      "num of others predicted as spl:  36113\n",
      "['Radiology Diagnostic-No Surgery']\n",
      "X_train results,\n",
      "X_test results,\n",
      "number of spl predicted as others:  4\n",
      "num of others predicted as spl:  47\n",
      "num of spl predicted as spl:  41\n",
      "num of others predicted as spl:  36113\n",
      "['Radiology Diagnostic-Minor Surgery']\n",
      "X_train results,\n",
      "X_test results,\n",
      "number of spl predicted as others:  70\n",
      "num of others predicted as spl:  47\n",
      "num of spl predicted as spl:  675\n",
      "num of others predicted as spl:  36113\n",
      "\u001b[1m\u001b[92mDone: Radiology\u001b[0m\u001b[0m\n",
      "Fitting 2 folds for each of 10 candidates, totalling 20 fits\n"
     ]
    },
    {
     "name": "stderr",
     "output_type": "stream",
     "text": [
      "c:\\Users\\ganga\\anaconda3\\envs\\inferred_speciality\\lib\\site-packages\\sklearn\\model_selection\\_search.py:976: UserWarning: One or more of the test scores are non-finite: [nan nan nan nan nan nan nan nan nan nan]\n",
      "  warnings.warn(\n"
     ]
    },
    {
     "name": "stdout",
     "output_type": "stream",
     "text": [
      "Best parameters found:  {'n_estimators': 50, 'max_depth': 9, 'learning_rate': 0.05, 'colsample_bytree': 0.6}\n",
      "X_train results,\n",
      "X_test results,\n",
      "number of spl predicted as others:  664\n",
      "num of others predicted as spl:  116\n",
      "num of spl predicted as spl:  755\n",
      "num of others predicted as spl:  35415\n",
      "['Pediatrics-No Surgery']\n",
      "X_train results,\n",
      "X_test results,\n",
      "number of spl predicted as others:  38\n",
      "num of others predicted as spl:  116\n",
      "num of spl predicted as spl:  0\n",
      "num of others predicted as spl:  35415\n",
      "['Pediatrics-Minor Surgery']\n",
      "X_train results,\n",
      "X_test results,\n",
      "number of spl predicted as others:  626\n",
      "num of others predicted as spl:  116\n",
      "num of spl predicted as spl:  755\n",
      "num of others predicted as spl:  35415\n",
      "\u001b[1m\u001b[92mDone: Pediatrics\u001b[0m\u001b[0m\n",
      "Fitting 2 folds for each of 10 candidates, totalling 20 fits\n"
     ]
    },
    {
     "name": "stderr",
     "output_type": "stream",
     "text": [
      "c:\\Users\\ganga\\anaconda3\\envs\\inferred_speciality\\lib\\site-packages\\sklearn\\model_selection\\_search.py:976: UserWarning: One or more of the test scores are non-finite: [nan nan nan nan nan nan nan nan nan nan]\n",
      "  warnings.warn(\n"
     ]
    },
    {
     "name": "stdout",
     "output_type": "stream",
     "text": [
      "Best parameters found:  {'n_estimators': 50, 'max_depth': 9, 'learning_rate': 0.05, 'colsample_bytree': 0.6}\n",
      "X_train results,\n",
      "X_test results,\n",
      "number of spl predicted as others:  12\n",
      "num of others predicted as spl:  0\n",
      "num of spl predicted as spl:  75\n",
      "num of others predicted as spl:  36863\n",
      "[]\n",
      "X_train results,\n",
      "X_test results,\n",
      "number of spl predicted as others:  12\n",
      "num of others predicted as spl:  0\n",
      "num of spl predicted as spl:  75\n",
      "num of others predicted as spl:  36863\n",
      "\u001b[1m\u001b[92mDone: Acupuncture\u001b[0m\u001b[0m\n",
      "Fitting 2 folds for each of 10 candidates, totalling 20 fits\n"
     ]
    },
    {
     "name": "stderr",
     "output_type": "stream",
     "text": [
      "c:\\Users\\ganga\\anaconda3\\envs\\inferred_speciality\\lib\\site-packages\\sklearn\\model_selection\\_search.py:976: UserWarning: One or more of the test scores are non-finite: [nan nan nan nan nan nan nan nan nan nan]\n",
      "  warnings.warn(\n"
     ]
    },
    {
     "name": "stdout",
     "output_type": "stream",
     "text": [
      "Best parameters found:  {'n_estimators': 50, 'max_depth': 9, 'learning_rate': 0.05, 'colsample_bytree': 0.6}\n",
      "X_train results,\n"
     ]
    },
    {
     "name": "stderr",
     "output_type": "stream",
     "text": [
      "c:\\Users\\ganga\\anaconda3\\envs\\inferred_speciality\\lib\\site-packages\\sklearn\\metrics\\_classification.py:1469: UndefinedMetricWarning: Precision and F-score are ill-defined and being set to 0.0 in labels with no predicted samples. Use `zero_division` parameter to control this behavior.\n",
      "  _warn_prf(average, modifier, msg_start, len(result))\n",
      "c:\\Users\\ganga\\anaconda3\\envs\\inferred_speciality\\lib\\site-packages\\sklearn\\metrics\\_classification.py:1469: UndefinedMetricWarning: Precision and F-score are ill-defined and being set to 0.0 in labels with no predicted samples. Use `zero_division` parameter to control this behavior.\n",
      "  _warn_prf(average, modifier, msg_start, len(result))\n",
      "c:\\Users\\ganga\\anaconda3\\envs\\inferred_speciality\\lib\\site-packages\\sklearn\\metrics\\_classification.py:1469: UndefinedMetricWarning: Precision and F-score are ill-defined and being set to 0.0 in labels with no predicted samples. Use `zero_division` parameter to control this behavior.\n",
      "  _warn_prf(average, modifier, msg_start, len(result))\n"
     ]
    },
    {
     "name": "stdout",
     "output_type": "stream",
     "text": [
      "X_test results,\n"
     ]
    },
    {
     "name": "stderr",
     "output_type": "stream",
     "text": [
      "c:\\Users\\ganga\\anaconda3\\envs\\inferred_speciality\\lib\\site-packages\\sklearn\\metrics\\_classification.py:1469: UndefinedMetricWarning: Precision and F-score are ill-defined and being set to 0.0 in labels with no predicted samples. Use `zero_division` parameter to control this behavior.\n",
      "  _warn_prf(average, modifier, msg_start, len(result))\n",
      "c:\\Users\\ganga\\anaconda3\\envs\\inferred_speciality\\lib\\site-packages\\sklearn\\metrics\\_classification.py:1469: UndefinedMetricWarning: Precision and F-score are ill-defined and being set to 0.0 in labels with no predicted samples. Use `zero_division` parameter to control this behavior.\n",
      "  _warn_prf(average, modifier, msg_start, len(result))\n",
      "c:\\Users\\ganga\\anaconda3\\envs\\inferred_speciality\\lib\\site-packages\\sklearn\\metrics\\_classification.py:1469: UndefinedMetricWarning: Precision and F-score are ill-defined and being set to 0.0 in labels with no predicted samples. Use `zero_division` parameter to control this behavior.\n",
      "  _warn_prf(average, modifier, msg_start, len(result))\n"
     ]
    },
    {
     "name": "stdout",
     "output_type": "stream",
     "text": [
      "number of spl predicted as others:  1\n",
      "num of others predicted as spl:  0\n",
      "num of spl predicted as spl:  0\n",
      "num of others predicted as spl:  36949\n",
      "[]\n",
      "X_train results,\n"
     ]
    },
    {
     "name": "stderr",
     "output_type": "stream",
     "text": [
      "c:\\Users\\ganga\\anaconda3\\envs\\inferred_speciality\\lib\\site-packages\\sklearn\\metrics\\_classification.py:1469: UndefinedMetricWarning: Precision and F-score are ill-defined and being set to 0.0 in labels with no predicted samples. Use `zero_division` parameter to control this behavior.\n",
      "  _warn_prf(average, modifier, msg_start, len(result))\n",
      "c:\\Users\\ganga\\anaconda3\\envs\\inferred_speciality\\lib\\site-packages\\sklearn\\metrics\\_classification.py:1469: UndefinedMetricWarning: Precision and F-score are ill-defined and being set to 0.0 in labels with no predicted samples. Use `zero_division` parameter to control this behavior.\n",
      "  _warn_prf(average, modifier, msg_start, len(result))\n",
      "c:\\Users\\ganga\\anaconda3\\envs\\inferred_speciality\\lib\\site-packages\\sklearn\\metrics\\_classification.py:1469: UndefinedMetricWarning: Precision and F-score are ill-defined and being set to 0.0 in labels with no predicted samples. Use `zero_division` parameter to control this behavior.\n",
      "  _warn_prf(average, modifier, msg_start, len(result))\n"
     ]
    },
    {
     "name": "stdout",
     "output_type": "stream",
     "text": [
      "X_test results,\n"
     ]
    },
    {
     "name": "stderr",
     "output_type": "stream",
     "text": [
      "c:\\Users\\ganga\\anaconda3\\envs\\inferred_speciality\\lib\\site-packages\\sklearn\\metrics\\_classification.py:1469: UndefinedMetricWarning: Precision and F-score are ill-defined and being set to 0.0 in labels with no predicted samples. Use `zero_division` parameter to control this behavior.\n",
      "  _warn_prf(average, modifier, msg_start, len(result))\n",
      "c:\\Users\\ganga\\anaconda3\\envs\\inferred_speciality\\lib\\site-packages\\sklearn\\metrics\\_classification.py:1469: UndefinedMetricWarning: Precision and F-score are ill-defined and being set to 0.0 in labels with no predicted samples. Use `zero_division` parameter to control this behavior.\n",
      "  _warn_prf(average, modifier, msg_start, len(result))\n",
      "c:\\Users\\ganga\\anaconda3\\envs\\inferred_speciality\\lib\\site-packages\\sklearn\\metrics\\_classification.py:1469: UndefinedMetricWarning: Precision and F-score are ill-defined and being set to 0.0 in labels with no predicted samples. Use `zero_division` parameter to control this behavior.\n",
      "  _warn_prf(average, modifier, msg_start, len(result))\n"
     ]
    },
    {
     "name": "stdout",
     "output_type": "stream",
     "text": [
      "number of spl predicted as others:  1\n",
      "num of others predicted as spl:  0\n",
      "num of spl predicted as spl:  0\n",
      "num of others predicted as spl:  36949\n",
      "\u001b[1m\u001b[92mDone: Aerospace Medicine\u001b[0m\u001b[0m\n",
      "Fitting 2 folds for each of 10 candidates, totalling 20 fits\n"
     ]
    },
    {
     "name": "stderr",
     "output_type": "stream",
     "text": [
      "c:\\Users\\ganga\\anaconda3\\envs\\inferred_speciality\\lib\\site-packages\\sklearn\\model_selection\\_search.py:976: UserWarning: One or more of the test scores are non-finite: [nan nan nan nan nan nan nan nan nan nan]\n",
      "  warnings.warn(\n"
     ]
    },
    {
     "name": "stdout",
     "output_type": "stream",
     "text": [
      "Best parameters found:  {'n_estimators': 50, 'max_depth': 9, 'learning_rate': 0.05, 'colsample_bytree': 0.6}\n",
      "X_train results,\n",
      "X_test results,\n",
      "number of spl predicted as others:  34\n",
      "num of others predicted as spl:  17\n",
      "num of spl predicted as spl:  58\n",
      "num of others predicted as spl:  36841\n",
      "[]\n",
      "X_train results,\n",
      "X_test results,\n",
      "number of spl predicted as others:  34\n",
      "num of others predicted as spl:  17\n",
      "num of spl predicted as spl:  58\n",
      "num of others predicted as spl:  36841\n",
      "\u001b[1m\u001b[92mDone: Allergy\u001b[0m\u001b[0m\n",
      "Fitting 2 folds for each of 10 candidates, totalling 20 fits\n"
     ]
    },
    {
     "name": "stderr",
     "output_type": "stream",
     "text": [
      "c:\\Users\\ganga\\anaconda3\\envs\\inferred_speciality\\lib\\site-packages\\sklearn\\model_selection\\_search.py:976: UserWarning: One or more of the test scores are non-finite: [nan nan nan nan nan nan nan nan nan nan]\n",
      "  warnings.warn(\n"
     ]
    },
    {
     "name": "stdout",
     "output_type": "stream",
     "text": [
      "Best parameters found:  {'n_estimators': 50, 'max_depth': 9, 'learning_rate': 0.05, 'colsample_bytree': 0.6}\n",
      "X_train results,\n",
      "X_test results,\n",
      "number of spl predicted as others:  88\n",
      "num of others predicted as spl:  1\n",
      "num of spl predicted as spl:  107\n",
      "num of others predicted as spl:  36754\n",
      "[]\n",
      "X_train results,\n",
      "X_test results,\n",
      "number of spl predicted as others:  88\n",
      "num of others predicted as spl:  1\n",
      "num of spl predicted as spl:  107\n",
      "num of others predicted as spl:  36754\n",
      "\u001b[1m\u001b[92mDone: Audiologist\u001b[0m\u001b[0m\n",
      "Fitting 2 folds for each of 10 candidates, totalling 20 fits\n"
     ]
    },
    {
     "name": "stderr",
     "output_type": "stream",
     "text": [
      "c:\\Users\\ganga\\anaconda3\\envs\\inferred_speciality\\lib\\site-packages\\sklearn\\model_selection\\_search.py:976: UserWarning: One or more of the test scores are non-finite: [nan nan nan nan nan nan nan nan nan nan]\n",
      "  warnings.warn(\n"
     ]
    },
    {
     "name": "stdout",
     "output_type": "stream",
     "text": [
      "Best parameters found:  {'n_estimators': 50, 'max_depth': 9, 'learning_rate': 0.05, 'colsample_bytree': 0.6}\n",
      "X_train results,\n"
     ]
    },
    {
     "name": "stderr",
     "output_type": "stream",
     "text": [
      "c:\\Users\\ganga\\anaconda3\\envs\\inferred_speciality\\lib\\site-packages\\sklearn\\metrics\\_classification.py:1469: UndefinedMetricWarning: Precision and F-score are ill-defined and being set to 0.0 in labels with no predicted samples. Use `zero_division` parameter to control this behavior.\n",
      "  _warn_prf(average, modifier, msg_start, len(result))\n",
      "c:\\Users\\ganga\\anaconda3\\envs\\inferred_speciality\\lib\\site-packages\\sklearn\\metrics\\_classification.py:1469: UndefinedMetricWarning: Precision and F-score are ill-defined and being set to 0.0 in labels with no predicted samples. Use `zero_division` parameter to control this behavior.\n",
      "  _warn_prf(average, modifier, msg_start, len(result))\n",
      "c:\\Users\\ganga\\anaconda3\\envs\\inferred_speciality\\lib\\site-packages\\sklearn\\metrics\\_classification.py:1469: UndefinedMetricWarning: Precision and F-score are ill-defined and being set to 0.0 in labels with no predicted samples. Use `zero_division` parameter to control this behavior.\n",
      "  _warn_prf(average, modifier, msg_start, len(result))\n"
     ]
    },
    {
     "name": "stdout",
     "output_type": "stream",
     "text": [
      "X_test results,\n"
     ]
    },
    {
     "name": "stderr",
     "output_type": "stream",
     "text": [
      "c:\\Users\\ganga\\anaconda3\\envs\\inferred_speciality\\lib\\site-packages\\sklearn\\metrics\\_classification.py:1469: UndefinedMetricWarning: Precision and F-score are ill-defined and being set to 0.0 in labels with no predicted samples. Use `zero_division` parameter to control this behavior.\n",
      "  _warn_prf(average, modifier, msg_start, len(result))\n",
      "c:\\Users\\ganga\\anaconda3\\envs\\inferred_speciality\\lib\\site-packages\\sklearn\\metrics\\_classification.py:1469: UndefinedMetricWarning: Precision and F-score are ill-defined and being set to 0.0 in labels with no predicted samples. Use `zero_division` parameter to control this behavior.\n",
      "  _warn_prf(average, modifier, msg_start, len(result))\n",
      "c:\\Users\\ganga\\anaconda3\\envs\\inferred_speciality\\lib\\site-packages\\sklearn\\metrics\\_classification.py:1469: UndefinedMetricWarning: Precision and F-score are ill-defined and being set to 0.0 in labels with no predicted samples. Use `zero_division` parameter to control this behavior.\n",
      "  _warn_prf(average, modifier, msg_start, len(result))\n"
     ]
    },
    {
     "name": "stdout",
     "output_type": "stream",
     "text": [
      "number of spl predicted as others:  5\n",
      "num of others predicted as spl:  0\n",
      "num of spl predicted as spl:  0\n",
      "num of others predicted as spl:  36945\n",
      "[]\n",
      "X_train results,\n"
     ]
    },
    {
     "name": "stderr",
     "output_type": "stream",
     "text": [
      "c:\\Users\\ganga\\anaconda3\\envs\\inferred_speciality\\lib\\site-packages\\sklearn\\metrics\\_classification.py:1469: UndefinedMetricWarning: Precision and F-score are ill-defined and being set to 0.0 in labels with no predicted samples. Use `zero_division` parameter to control this behavior.\n",
      "  _warn_prf(average, modifier, msg_start, len(result))\n",
      "c:\\Users\\ganga\\anaconda3\\envs\\inferred_speciality\\lib\\site-packages\\sklearn\\metrics\\_classification.py:1469: UndefinedMetricWarning: Precision and F-score are ill-defined and being set to 0.0 in labels with no predicted samples. Use `zero_division` parameter to control this behavior.\n",
      "  _warn_prf(average, modifier, msg_start, len(result))\n",
      "c:\\Users\\ganga\\anaconda3\\envs\\inferred_speciality\\lib\\site-packages\\sklearn\\metrics\\_classification.py:1469: UndefinedMetricWarning: Precision and F-score are ill-defined and being set to 0.0 in labels with no predicted samples. Use `zero_division` parameter to control this behavior.\n",
      "  _warn_prf(average, modifier, msg_start, len(result))\n"
     ]
    },
    {
     "name": "stdout",
     "output_type": "stream",
     "text": [
      "X_test results,\n"
     ]
    },
    {
     "name": "stderr",
     "output_type": "stream",
     "text": [
      "c:\\Users\\ganga\\anaconda3\\envs\\inferred_speciality\\lib\\site-packages\\sklearn\\metrics\\_classification.py:1469: UndefinedMetricWarning: Precision and F-score are ill-defined and being set to 0.0 in labels with no predicted samples. Use `zero_division` parameter to control this behavior.\n",
      "  _warn_prf(average, modifier, msg_start, len(result))\n",
      "c:\\Users\\ganga\\anaconda3\\envs\\inferred_speciality\\lib\\site-packages\\sklearn\\metrics\\_classification.py:1469: UndefinedMetricWarning: Precision and F-score are ill-defined and being set to 0.0 in labels with no predicted samples. Use `zero_division` parameter to control this behavior.\n",
      "  _warn_prf(average, modifier, msg_start, len(result))\n",
      "c:\\Users\\ganga\\anaconda3\\envs\\inferred_speciality\\lib\\site-packages\\sklearn\\metrics\\_classification.py:1469: UndefinedMetricWarning: Precision and F-score are ill-defined and being set to 0.0 in labels with no predicted samples. Use `zero_division` parameter to control this behavior.\n",
      "  _warn_prf(average, modifier, msg_start, len(result))\n"
     ]
    },
    {
     "name": "stdout",
     "output_type": "stream",
     "text": [
      "number of spl predicted as others:  5\n",
      "num of others predicted as spl:  0\n",
      "num of spl predicted as spl:  0\n",
      "num of others predicted as spl:  36945\n",
      "\u001b[1m\u001b[92mDone: Bariatric-Surgery\u001b[0m\u001b[0m\n",
      "Fitting 2 folds for each of 10 candidates, totalling 20 fits\n"
     ]
    },
    {
     "name": "stderr",
     "output_type": "stream",
     "text": [
      "c:\\Users\\ganga\\anaconda3\\envs\\inferred_speciality\\lib\\site-packages\\sklearn\\model_selection\\_search.py:976: UserWarning: One or more of the test scores are non-finite: [nan nan nan nan nan nan nan nan nan nan]\n",
      "  warnings.warn(\n"
     ]
    },
    {
     "name": "stdout",
     "output_type": "stream",
     "text": [
      "Best parameters found:  {'n_estimators': 50, 'max_depth': 9, 'learning_rate': 0.05, 'colsample_bytree': 0.6}\n",
      "X_train results,\n",
      "X_test results,\n",
      "number of spl predicted as others:  247\n",
      "num of others predicted as spl:  15\n",
      "num of spl predicted as spl:  884\n",
      "num of others predicted as spl:  35804\n",
      "[]\n",
      "X_train results,\n",
      "X_test results,\n",
      "number of spl predicted as others:  247\n",
      "num of others predicted as spl:  15\n",
      "num of spl predicted as spl:  884\n",
      "num of others predicted as spl:  35804\n",
      "\u001b[1m\u001b[92mDone: Chiropractor\u001b[0m\u001b[0m\n",
      "Fitting 2 folds for each of 10 candidates, totalling 20 fits\n"
     ]
    },
    {
     "name": "stderr",
     "output_type": "stream",
     "text": [
      "c:\\Users\\ganga\\anaconda3\\envs\\inferred_speciality\\lib\\site-packages\\sklearn\\model_selection\\_search.py:976: UserWarning: One or more of the test scores are non-finite: [nan nan nan nan nan nan nan nan nan nan]\n",
      "  warnings.warn(\n"
     ]
    },
    {
     "name": "stdout",
     "output_type": "stream",
     "text": [
      "Best parameters found:  {'n_estimators': 50, 'max_depth': 9, 'learning_rate': 0.05, 'colsample_bytree': 0.6}\n",
      "X_train results,\n",
      "X_test results,\n"
     ]
    },
    {
     "name": "stderr",
     "output_type": "stream",
     "text": [
      "c:\\Users\\ganga\\anaconda3\\envs\\inferred_speciality\\lib\\site-packages\\sklearn\\metrics\\_classification.py:1469: UndefinedMetricWarning: Precision and F-score are ill-defined and being set to 0.0 in labels with no predicted samples. Use `zero_division` parameter to control this behavior.\n",
      "  _warn_prf(average, modifier, msg_start, len(result))\n",
      "c:\\Users\\ganga\\anaconda3\\envs\\inferred_speciality\\lib\\site-packages\\sklearn\\metrics\\_classification.py:1469: UndefinedMetricWarning: Precision and F-score are ill-defined and being set to 0.0 in labels with no predicted samples. Use `zero_division` parameter to control this behavior.\n",
      "  _warn_prf(average, modifier, msg_start, len(result))\n",
      "c:\\Users\\ganga\\anaconda3\\envs\\inferred_speciality\\lib\\site-packages\\sklearn\\metrics\\_classification.py:1469: UndefinedMetricWarning: Precision and F-score are ill-defined and being set to 0.0 in labels with no predicted samples. Use `zero_division` parameter to control this behavior.\n",
      "  _warn_prf(average, modifier, msg_start, len(result))\n"
     ]
    },
    {
     "name": "stdout",
     "output_type": "stream",
     "text": [
      "number of spl predicted as others:  28\n",
      "num of others predicted as spl:  0\n",
      "num of spl predicted as spl:  0\n",
      "num of others predicted as spl:  36922\n",
      "[]\n",
      "X_train results,\n",
      "X_test results,\n"
     ]
    },
    {
     "name": "stderr",
     "output_type": "stream",
     "text": [
      "c:\\Users\\ganga\\anaconda3\\envs\\inferred_speciality\\lib\\site-packages\\sklearn\\metrics\\_classification.py:1469: UndefinedMetricWarning: Precision and F-score are ill-defined and being set to 0.0 in labels with no predicted samples. Use `zero_division` parameter to control this behavior.\n",
      "  _warn_prf(average, modifier, msg_start, len(result))\n",
      "c:\\Users\\ganga\\anaconda3\\envs\\inferred_speciality\\lib\\site-packages\\sklearn\\metrics\\_classification.py:1469: UndefinedMetricWarning: Precision and F-score are ill-defined and being set to 0.0 in labels with no predicted samples. Use `zero_division` parameter to control this behavior.\n",
      "  _warn_prf(average, modifier, msg_start, len(result))\n",
      "c:\\Users\\ganga\\anaconda3\\envs\\inferred_speciality\\lib\\site-packages\\sklearn\\metrics\\_classification.py:1469: UndefinedMetricWarning: Precision and F-score are ill-defined and being set to 0.0 in labels with no predicted samples. Use `zero_division` parameter to control this behavior.\n",
      "  _warn_prf(average, modifier, msg_start, len(result))\n"
     ]
    },
    {
     "name": "stdout",
     "output_type": "stream",
     "text": [
      "number of spl predicted as others:  28\n",
      "num of others predicted as spl:  0\n",
      "num of spl predicted as spl:  0\n",
      "num of others predicted as spl:  36922\n",
      "\u001b[1m\u001b[92mDone: Colon And Rectal-Surgery\u001b[0m\u001b[0m\n",
      "Fitting 2 folds for each of 10 candidates, totalling 20 fits\n"
     ]
    },
    {
     "name": "stderr",
     "output_type": "stream",
     "text": [
      "c:\\Users\\ganga\\anaconda3\\envs\\inferred_speciality\\lib\\site-packages\\sklearn\\model_selection\\_search.py:976: UserWarning: One or more of the test scores are non-finite: [nan nan nan nan nan nan nan nan nan nan]\n",
      "  warnings.warn(\n"
     ]
    },
    {
     "name": "stdout",
     "output_type": "stream",
     "text": [
      "Best parameters found:  {'n_estimators': 50, 'max_depth': 9, 'learning_rate': 0.05, 'colsample_bytree': 0.6}\n",
      "X_train results,\n",
      "X_test results,\n",
      "number of spl predicted as others:  980\n",
      "num of others predicted as spl:  101\n",
      "num of spl predicted as spl:  184\n",
      "num of others predicted as spl:  35685\n",
      "[]\n",
      "X_train results,\n",
      "X_test results,\n",
      "number of spl predicted as others:  980\n",
      "num of others predicted as spl:  101\n",
      "num of spl predicted as spl:  184\n",
      "num of others predicted as spl:  35685\n",
      "\u001b[1m\u001b[92mDone: Counselor\u001b[0m\u001b[0m\n",
      "Fitting 2 folds for each of 10 candidates, totalling 20 fits\n"
     ]
    },
    {
     "name": "stderr",
     "output_type": "stream",
     "text": [
      "c:\\Users\\ganga\\anaconda3\\envs\\inferred_speciality\\lib\\site-packages\\sklearn\\model_selection\\_search.py:976: UserWarning: One or more of the test scores are non-finite: [nan nan nan nan nan nan nan nan nan nan]\n",
      "  warnings.warn(\n"
     ]
    },
    {
     "name": "stdout",
     "output_type": "stream",
     "text": [
      "Best parameters found:  {'n_estimators': 50, 'max_depth': 9, 'learning_rate': 0.05, 'colsample_bytree': 0.6}\n",
      "X_train results,\n",
      "X_test results,\n",
      "number of spl predicted as others:  14\n",
      "num of others predicted as spl:  5\n",
      "num of spl predicted as spl:  114\n",
      "num of others predicted as spl:  36817\n",
      "[]\n",
      "X_train results,\n",
      "X_test results,\n",
      "number of spl predicted as others:  14\n",
      "num of others predicted as spl:  5\n",
      "num of spl predicted as spl:  114\n",
      "num of others predicted as spl:  36817\n",
      "\u001b[1m\u001b[92mDone: Dietitian\u001b[0m\u001b[0m\n",
      "Fitting 2 folds for each of 10 candidates, totalling 20 fits\n"
     ]
    },
    {
     "name": "stderr",
     "output_type": "stream",
     "text": [
      "c:\\Users\\ganga\\anaconda3\\envs\\inferred_speciality\\lib\\site-packages\\sklearn\\model_selection\\_search.py:976: UserWarning: One or more of the test scores are non-finite: [nan nan nan nan nan nan nan nan nan nan]\n",
      "  warnings.warn(\n"
     ]
    },
    {
     "name": "stdout",
     "output_type": "stream",
     "text": [
      "Best parameters found:  {'n_estimators': 50, 'max_depth': 9, 'learning_rate': 0.05, 'colsample_bytree': 0.6}\n",
      "X_train results,\n",
      "X_test results,\n",
      "number of spl predicted as others:  343\n",
      "num of others predicted as spl:  151\n",
      "num of spl predicted as spl:  851\n",
      "num of others predicted as spl:  35605\n",
      "[]\n",
      "X_train results,\n",
      "X_test results,\n",
      "number of spl predicted as others:  343\n",
      "num of others predicted as spl:  151\n",
      "num of spl predicted as spl:  851\n",
      "num of others predicted as spl:  35605\n",
      "\u001b[1m\u001b[92mDone: Emergency Med-No Surgery\u001b[0m\u001b[0m\n",
      "Fitting 2 folds for each of 10 candidates, totalling 20 fits\n"
     ]
    },
    {
     "name": "stderr",
     "output_type": "stream",
     "text": [
      "c:\\Users\\ganga\\anaconda3\\envs\\inferred_speciality\\lib\\site-packages\\sklearn\\model_selection\\_search.py:976: UserWarning: One or more of the test scores are non-finite: [nan nan nan nan nan nan nan nan nan nan]\n",
      "  warnings.warn(\n"
     ]
    },
    {
     "name": "stdout",
     "output_type": "stream",
     "text": [
      "Best parameters found:  {'n_estimators': 50, 'max_depth': 9, 'learning_rate': 0.05, 'colsample_bytree': 0.6}\n",
      "X_train results,\n",
      "X_test results,\n"
     ]
    },
    {
     "name": "stderr",
     "output_type": "stream",
     "text": [
      "c:\\Users\\ganga\\anaconda3\\envs\\inferred_speciality\\lib\\site-packages\\sklearn\\metrics\\_classification.py:1469: UndefinedMetricWarning: Precision and F-score are ill-defined and being set to 0.0 in labels with no predicted samples. Use `zero_division` parameter to control this behavior.\n",
      "  _warn_prf(average, modifier, msg_start, len(result))\n",
      "c:\\Users\\ganga\\anaconda3\\envs\\inferred_speciality\\lib\\site-packages\\sklearn\\metrics\\_classification.py:1469: UndefinedMetricWarning: Precision and F-score are ill-defined and being set to 0.0 in labels with no predicted samples. Use `zero_division` parameter to control this behavior.\n",
      "  _warn_prf(average, modifier, msg_start, len(result))\n",
      "c:\\Users\\ganga\\anaconda3\\envs\\inferred_speciality\\lib\\site-packages\\sklearn\\metrics\\_classification.py:1469: UndefinedMetricWarning: Precision and F-score are ill-defined and being set to 0.0 in labels with no predicted samples. Use `zero_division` parameter to control this behavior.\n",
      "  _warn_prf(average, modifier, msg_start, len(result))\n"
     ]
    },
    {
     "name": "stdout",
     "output_type": "stream",
     "text": [
      "number of spl predicted as others:  4\n",
      "num of others predicted as spl:  0\n",
      "num of spl predicted as spl:  0\n",
      "num of others predicted as spl:  36946\n",
      "[]\n",
      "X_train results,\n",
      "X_test results,\n",
      "number of spl predicted as others:  4\n",
      "num of others predicted as spl:  0\n",
      "num of spl predicted as spl:  0\n",
      "num of others predicted as spl:  36946\n",
      "\u001b[1m\u001b[92mDone: Emergency Medical Technician (EMT)\u001b[0m\u001b[0m\n"
     ]
    },
    {
     "name": "stderr",
     "output_type": "stream",
     "text": [
      "c:\\Users\\ganga\\anaconda3\\envs\\inferred_speciality\\lib\\site-packages\\sklearn\\metrics\\_classification.py:1469: UndefinedMetricWarning: Precision and F-score are ill-defined and being set to 0.0 in labels with no predicted samples. Use `zero_division` parameter to control this behavior.\n",
      "  _warn_prf(average, modifier, msg_start, len(result))\n",
      "c:\\Users\\ganga\\anaconda3\\envs\\inferred_speciality\\lib\\site-packages\\sklearn\\metrics\\_classification.py:1469: UndefinedMetricWarning: Precision and F-score are ill-defined and being set to 0.0 in labels with no predicted samples. Use `zero_division` parameter to control this behavior.\n",
      "  _warn_prf(average, modifier, msg_start, len(result))\n",
      "c:\\Users\\ganga\\anaconda3\\envs\\inferred_speciality\\lib\\site-packages\\sklearn\\metrics\\_classification.py:1469: UndefinedMetricWarning: Precision and F-score are ill-defined and being set to 0.0 in labels with no predicted samples. Use `zero_division` parameter to control this behavior.\n",
      "  _warn_prf(average, modifier, msg_start, len(result))\n"
     ]
    },
    {
     "name": "stdout",
     "output_type": "stream",
     "text": [
      "Fitting 2 folds for each of 10 candidates, totalling 20 fits\n"
     ]
    },
    {
     "name": "stderr",
     "output_type": "stream",
     "text": [
      "c:\\Users\\ganga\\anaconda3\\envs\\inferred_speciality\\lib\\site-packages\\sklearn\\model_selection\\_search.py:976: UserWarning: One or more of the test scores are non-finite: [nan nan nan nan nan nan nan nan nan nan]\n",
      "  warnings.warn(\n"
     ]
    },
    {
     "name": "stdout",
     "output_type": "stream",
     "text": [
      "Best parameters found:  {'n_estimators': 50, 'max_depth': 9, 'learning_rate': 0.05, 'colsample_bytree': 0.6}\n",
      "X_train results,\n",
      "X_test results,\n",
      "number of spl predicted as others:  109\n",
      "num of others predicted as spl:  25\n",
      "num of spl predicted as spl:  51\n",
      "num of others predicted as spl:  36765\n",
      "[]\n",
      "X_train results,\n",
      "X_test results,\n",
      "number of spl predicted as others:  109\n",
      "num of others predicted as spl:  25\n",
      "num of spl predicted as spl:  51\n",
      "num of others predicted as spl:  36765\n",
      "\u001b[1m\u001b[92mDone: Endocrinology-No Surgery\u001b[0m\u001b[0m\n",
      "Fitting 2 folds for each of 10 candidates, totalling 20 fits\n"
     ]
    },
    {
     "name": "stderr",
     "output_type": "stream",
     "text": [
      "c:\\Users\\ganga\\anaconda3\\envs\\inferred_speciality\\lib\\site-packages\\sklearn\\model_selection\\_search.py:976: UserWarning: One or more of the test scores are non-finite: [nan nan nan nan nan nan nan nan nan nan]\n",
      "  warnings.warn(\n"
     ]
    },
    {
     "name": "stdout",
     "output_type": "stream",
     "text": [
      "Best parameters found:  {'n_estimators': 50, 'max_depth': 9, 'learning_rate': 0.05, 'colsample_bytree': 0.6}\n",
      "X_train results,\n",
      "X_test results,\n",
      "number of spl predicted as others:  2008\n",
      "num of others predicted as spl:  360\n",
      "num of spl predicted as spl:  857\n",
      "num of others predicted as spl:  33725\n",
      "[]\n",
      "X_train results,\n",
      "X_test results,\n",
      "number of spl predicted as others:  2008\n",
      "num of others predicted as spl:  360\n",
      "num of spl predicted as spl:  857\n",
      "num of others predicted as spl:  33725\n",
      "\u001b[1m\u001b[92mDone: Family Medicine-No Surgery\u001b[0m\u001b[0m\n",
      "Fitting 2 folds for each of 10 candidates, totalling 20 fits\n"
     ]
    },
    {
     "name": "stderr",
     "output_type": "stream",
     "text": [
      "c:\\Users\\ganga\\anaconda3\\envs\\inferred_speciality\\lib\\site-packages\\sklearn\\model_selection\\_search.py:976: UserWarning: One or more of the test scores are non-finite: [nan nan nan nan nan nan nan nan nan nan]\n",
      "  warnings.warn(\n"
     ]
    },
    {
     "name": "stdout",
     "output_type": "stream",
     "text": [
      "Best parameters found:  {'n_estimators': 50, 'max_depth': 9, 'learning_rate': 0.05, 'colsample_bytree': 0.6}\n",
      "X_train results,\n"
     ]
    },
    {
     "name": "stderr",
     "output_type": "stream",
     "text": [
      "c:\\Users\\ganga\\anaconda3\\envs\\inferred_speciality\\lib\\site-packages\\sklearn\\metrics\\_classification.py:1469: UndefinedMetricWarning: Precision and F-score are ill-defined and being set to 0.0 in labels with no predicted samples. Use `zero_division` parameter to control this behavior.\n",
      "  _warn_prf(average, modifier, msg_start, len(result))\n",
      "c:\\Users\\ganga\\anaconda3\\envs\\inferred_speciality\\lib\\site-packages\\sklearn\\metrics\\_classification.py:1469: UndefinedMetricWarning: Precision and F-score are ill-defined and being set to 0.0 in labels with no predicted samples. Use `zero_division` parameter to control this behavior.\n",
      "  _warn_prf(average, modifier, msg_start, len(result))\n",
      "c:\\Users\\ganga\\anaconda3\\envs\\inferred_speciality\\lib\\site-packages\\sklearn\\metrics\\_classification.py:1469: UndefinedMetricWarning: Precision and F-score are ill-defined and being set to 0.0 in labels with no predicted samples. Use `zero_division` parameter to control this behavior.\n",
      "  _warn_prf(average, modifier, msg_start, len(result))\n"
     ]
    },
    {
     "name": "stdout",
     "output_type": "stream",
     "text": [
      "X_test results,\n"
     ]
    },
    {
     "name": "stderr",
     "output_type": "stream",
     "text": [
      "c:\\Users\\ganga\\anaconda3\\envs\\inferred_speciality\\lib\\site-packages\\sklearn\\metrics\\_classification.py:1469: UndefinedMetricWarning: Precision and F-score are ill-defined and being set to 0.0 in labels with no predicted samples. Use `zero_division` parameter to control this behavior.\n",
      "  _warn_prf(average, modifier, msg_start, len(result))\n",
      "c:\\Users\\ganga\\anaconda3\\envs\\inferred_speciality\\lib\\site-packages\\sklearn\\metrics\\_classification.py:1469: UndefinedMetricWarning: Precision and F-score are ill-defined and being set to 0.0 in labels with no predicted samples. Use `zero_division` parameter to control this behavior.\n",
      "  _warn_prf(average, modifier, msg_start, len(result))\n",
      "c:\\Users\\ganga\\anaconda3\\envs\\inferred_speciality\\lib\\site-packages\\sklearn\\metrics\\_classification.py:1469: UndefinedMetricWarning: Precision and F-score are ill-defined and being set to 0.0 in labels with no predicted samples. Use `zero_division` parameter to control this behavior.\n",
      "  _warn_prf(average, modifier, msg_start, len(result))\n"
     ]
    },
    {
     "name": "stdout",
     "output_type": "stream",
     "text": [
      "number of spl predicted as others:  24\n",
      "num of others predicted as spl:  0\n",
      "num of spl predicted as spl:  0\n",
      "num of others predicted as spl:  36926\n",
      "[]\n",
      "X_train results,\n"
     ]
    },
    {
     "name": "stderr",
     "output_type": "stream",
     "text": [
      "c:\\Users\\ganga\\anaconda3\\envs\\inferred_speciality\\lib\\site-packages\\sklearn\\metrics\\_classification.py:1469: UndefinedMetricWarning: Precision and F-score are ill-defined and being set to 0.0 in labels with no predicted samples. Use `zero_division` parameter to control this behavior.\n",
      "  _warn_prf(average, modifier, msg_start, len(result))\n",
      "c:\\Users\\ganga\\anaconda3\\envs\\inferred_speciality\\lib\\site-packages\\sklearn\\metrics\\_classification.py:1469: UndefinedMetricWarning: Precision and F-score are ill-defined and being set to 0.0 in labels with no predicted samples. Use `zero_division` parameter to control this behavior.\n",
      "  _warn_prf(average, modifier, msg_start, len(result))\n",
      "c:\\Users\\ganga\\anaconda3\\envs\\inferred_speciality\\lib\\site-packages\\sklearn\\metrics\\_classification.py:1469: UndefinedMetricWarning: Precision and F-score are ill-defined and being set to 0.0 in labels with no predicted samples. Use `zero_division` parameter to control this behavior.\n",
      "  _warn_prf(average, modifier, msg_start, len(result))\n"
     ]
    },
    {
     "name": "stdout",
     "output_type": "stream",
     "text": [
      "X_test results,\n"
     ]
    },
    {
     "name": "stderr",
     "output_type": "stream",
     "text": [
      "c:\\Users\\ganga\\anaconda3\\envs\\inferred_speciality\\lib\\site-packages\\sklearn\\metrics\\_classification.py:1469: UndefinedMetricWarning: Precision and F-score are ill-defined and being set to 0.0 in labels with no predicted samples. Use `zero_division` parameter to control this behavior.\n",
      "  _warn_prf(average, modifier, msg_start, len(result))\n",
      "c:\\Users\\ganga\\anaconda3\\envs\\inferred_speciality\\lib\\site-packages\\sklearn\\metrics\\_classification.py:1469: UndefinedMetricWarning: Precision and F-score are ill-defined and being set to 0.0 in labels with no predicted samples. Use `zero_division` parameter to control this behavior.\n",
      "  _warn_prf(average, modifier, msg_start, len(result))\n",
      "c:\\Users\\ganga\\anaconda3\\envs\\inferred_speciality\\lib\\site-packages\\sklearn\\metrics\\_classification.py:1469: UndefinedMetricWarning: Precision and F-score are ill-defined and being set to 0.0 in labels with no predicted samples. Use `zero_division` parameter to control this behavior.\n",
      "  _warn_prf(average, modifier, msg_start, len(result))\n"
     ]
    },
    {
     "name": "stdout",
     "output_type": "stream",
     "text": [
      "number of spl predicted as others:  24\n",
      "num of others predicted as spl:  0\n",
      "num of spl predicted as spl:  0\n",
      "num of others predicted as spl:  36926\n",
      "\u001b[1m\u001b[92mDone: Forensic Medicine\u001b[0m\u001b[0m\n",
      "Fitting 2 folds for each of 10 candidates, totalling 20 fits\n"
     ]
    },
    {
     "name": "stderr",
     "output_type": "stream",
     "text": [
      "c:\\Users\\ganga\\anaconda3\\envs\\inferred_speciality\\lib\\site-packages\\sklearn\\model_selection\\_search.py:976: UserWarning: One or more of the test scores are non-finite: [nan nan nan nan nan nan nan nan nan nan]\n",
      "  warnings.warn(\n"
     ]
    },
    {
     "name": "stdout",
     "output_type": "stream",
     "text": [
      "Best parameters found:  {'n_estimators': 50, 'max_depth': 9, 'learning_rate': 0.05, 'colsample_bytree': 0.6}\n",
      "X_train results,\n",
      "X_test results,\n",
      "number of spl predicted as others:  108\n",
      "num of others predicted as spl:  59\n",
      "num of spl predicted as spl:  222\n",
      "num of others predicted as spl:  36561\n",
      "[]\n",
      "X_train results,\n",
      "X_test results,\n",
      "number of spl predicted as others:  108\n",
      "num of others predicted as spl:  59\n",
      "num of spl predicted as spl:  222\n",
      "num of others predicted as spl:  36561\n",
      "\u001b[1m\u001b[92mDone: Gastroenterology-No Surgery\u001b[0m\u001b[0m\n",
      "Fitting 2 folds for each of 10 candidates, totalling 20 fits\n"
     ]
    },
    {
     "name": "stderr",
     "output_type": "stream",
     "text": [
      "c:\\Users\\ganga\\anaconda3\\envs\\inferred_speciality\\lib\\site-packages\\sklearn\\model_selection\\_search.py:976: UserWarning: One or more of the test scores are non-finite: [nan nan nan nan nan nan nan nan nan nan]\n",
      "  warnings.warn(\n"
     ]
    },
    {
     "name": "stdout",
     "output_type": "stream",
     "text": [
      "Best parameters found:  {'n_estimators': 50, 'max_depth': 9, 'learning_rate': 0.05, 'colsample_bytree': 0.6}\n",
      "X_train results,\n",
      "X_test results,\n"
     ]
    },
    {
     "name": "stderr",
     "output_type": "stream",
     "text": [
      "c:\\Users\\ganga\\anaconda3\\envs\\inferred_speciality\\lib\\site-packages\\sklearn\\metrics\\_classification.py:1469: UndefinedMetricWarning: Precision and F-score are ill-defined and being set to 0.0 in labels with no predicted samples. Use `zero_division` parameter to control this behavior.\n",
      "  _warn_prf(average, modifier, msg_start, len(result))\n",
      "c:\\Users\\ganga\\anaconda3\\envs\\inferred_speciality\\lib\\site-packages\\sklearn\\metrics\\_classification.py:1469: UndefinedMetricWarning: Precision and F-score are ill-defined and being set to 0.0 in labels with no predicted samples. Use `zero_division` parameter to control this behavior.\n",
      "  _warn_prf(average, modifier, msg_start, len(result))\n",
      "c:\\Users\\ganga\\anaconda3\\envs\\inferred_speciality\\lib\\site-packages\\sklearn\\metrics\\_classification.py:1469: UndefinedMetricWarning: Precision and F-score are ill-defined and being set to 0.0 in labels with no predicted samples. Use `zero_division` parameter to control this behavior.\n",
      "  _warn_prf(average, modifier, msg_start, len(result))\n"
     ]
    },
    {
     "name": "stdout",
     "output_type": "stream",
     "text": [
      "number of spl predicted as others:  66\n",
      "num of others predicted as spl:  0\n",
      "num of spl predicted as spl:  0\n",
      "num of others predicted as spl:  36884\n",
      "[]\n",
      "X_train results,\n",
      "X_test results,\n"
     ]
    },
    {
     "name": "stderr",
     "output_type": "stream",
     "text": [
      "c:\\Users\\ganga\\anaconda3\\envs\\inferred_speciality\\lib\\site-packages\\sklearn\\metrics\\_classification.py:1469: UndefinedMetricWarning: Precision and F-score are ill-defined and being set to 0.0 in labels with no predicted samples. Use `zero_division` parameter to control this behavior.\n",
      "  _warn_prf(average, modifier, msg_start, len(result))\n",
      "c:\\Users\\ganga\\anaconda3\\envs\\inferred_speciality\\lib\\site-packages\\sklearn\\metrics\\_classification.py:1469: UndefinedMetricWarning: Precision and F-score are ill-defined and being set to 0.0 in labels with no predicted samples. Use `zero_division` parameter to control this behavior.\n",
      "  _warn_prf(average, modifier, msg_start, len(result))\n",
      "c:\\Users\\ganga\\anaconda3\\envs\\inferred_speciality\\lib\\site-packages\\sklearn\\metrics\\_classification.py:1469: UndefinedMetricWarning: Precision and F-score are ill-defined and being set to 0.0 in labels with no predicted samples. Use `zero_division` parameter to control this behavior.\n",
      "  _warn_prf(average, modifier, msg_start, len(result))\n"
     ]
    },
    {
     "name": "stdout",
     "output_type": "stream",
     "text": [
      "number of spl predicted as others:  66\n",
      "num of others predicted as spl:  0\n",
      "num of spl predicted as spl:  0\n",
      "num of others predicted as spl:  36884\n",
      "\u001b[1m\u001b[92mDone: Geriatrics-No Surgery\u001b[0m\u001b[0m\n",
      "Fitting 2 folds for each of 10 candidates, totalling 20 fits\n"
     ]
    },
    {
     "name": "stderr",
     "output_type": "stream",
     "text": [
      "c:\\Users\\ganga\\anaconda3\\envs\\inferred_speciality\\lib\\site-packages\\sklearn\\model_selection\\_search.py:976: UserWarning: One or more of the test scores are non-finite: [nan nan nan nan nan nan nan nan nan nan]\n",
      "  warnings.warn(\n"
     ]
    },
    {
     "name": "stdout",
     "output_type": "stream",
     "text": [
      "Best parameters found:  {'n_estimators': 50, 'max_depth': 9, 'learning_rate': 0.05, 'colsample_bytree': 0.6}\n",
      "X_train results,\n",
      "X_test results,\n",
      "number of spl predicted as others:  46\n",
      "num of others predicted as spl:  0\n",
      "num of spl predicted as spl:  3\n",
      "num of others predicted as spl:  36901\n",
      "[]\n",
      "X_train results,\n",
      "X_test results,\n",
      "number of spl predicted as others:  46\n",
      "num of others predicted as spl:  0\n",
      "num of spl predicted as spl:  3\n",
      "num of others predicted as spl:  36901\n",
      "\u001b[1m\u001b[92mDone: Hand-Surgery\u001b[0m\u001b[0m\n",
      "Fitting 2 folds for each of 10 candidates, totalling 20 fits\n"
     ]
    },
    {
     "name": "stderr",
     "output_type": "stream",
     "text": [
      "c:\\Users\\ganga\\anaconda3\\envs\\inferred_speciality\\lib\\site-packages\\sklearn\\model_selection\\_search.py:976: UserWarning: One or more of the test scores are non-finite: [nan nan nan nan nan nan nan nan nan nan]\n",
      "  warnings.warn(\n"
     ]
    },
    {
     "name": "stdout",
     "output_type": "stream",
     "text": [
      "Best parameters found:  {'n_estimators': 50, 'max_depth': 9, 'learning_rate': 0.05, 'colsample_bytree': 0.6}\n",
      "X_train results,\n",
      "X_test results,\n",
      "number of spl predicted as others:  152\n",
      "num of others predicted as spl:  13\n",
      "num of spl predicted as spl:  186\n",
      "num of others predicted as spl:  36599\n",
      "[]\n",
      "X_train results,\n",
      "X_test results,\n",
      "number of spl predicted as others:  152\n",
      "num of others predicted as spl:  13\n",
      "num of spl predicted as spl:  186\n",
      "num of others predicted as spl:  36599\n",
      "\u001b[1m\u001b[92mDone: Hematology-No Surgery\u001b[0m\u001b[0m\n",
      "Fitting 2 folds for each of 10 candidates, totalling 20 fits\n"
     ]
    },
    {
     "name": "stderr",
     "output_type": "stream",
     "text": [
      "c:\\Users\\ganga\\anaconda3\\envs\\inferred_speciality\\lib\\site-packages\\sklearn\\model_selection\\_search.py:976: UserWarning: One or more of the test scores are non-finite: [nan nan nan nan nan nan nan nan nan nan]\n",
      "  warnings.warn(\n"
     ]
    },
    {
     "name": "stdout",
     "output_type": "stream",
     "text": [
      "Best parameters found:  {'n_estimators': 50, 'max_depth': 9, 'learning_rate': 0.05, 'colsample_bytree': 0.6}\n",
      "X_train results,\n",
      "X_test results,\n"
     ]
    },
    {
     "name": "stderr",
     "output_type": "stream",
     "text": [
      "c:\\Users\\ganga\\anaconda3\\envs\\inferred_speciality\\lib\\site-packages\\sklearn\\metrics\\_classification.py:1469: UndefinedMetricWarning: Precision and F-score are ill-defined and being set to 0.0 in labels with no predicted samples. Use `zero_division` parameter to control this behavior.\n",
      "  _warn_prf(average, modifier, msg_start, len(result))\n",
      "c:\\Users\\ganga\\anaconda3\\envs\\inferred_speciality\\lib\\site-packages\\sklearn\\metrics\\_classification.py:1469: UndefinedMetricWarning: Precision and F-score are ill-defined and being set to 0.0 in labels with no predicted samples. Use `zero_division` parameter to control this behavior.\n",
      "  _warn_prf(average, modifier, msg_start, len(result))\n",
      "c:\\Users\\ganga\\anaconda3\\envs\\inferred_speciality\\lib\\site-packages\\sklearn\\metrics\\_classification.py:1469: UndefinedMetricWarning: Precision and F-score are ill-defined and being set to 0.0 in labels with no predicted samples. Use `zero_division` parameter to control this behavior.\n",
      "  _warn_prf(average, modifier, msg_start, len(result))\n"
     ]
    },
    {
     "name": "stdout",
     "output_type": "stream",
     "text": [
      "number of spl predicted as others:  264\n",
      "num of others predicted as spl:  0\n",
      "num of spl predicted as spl:  0\n",
      "num of others predicted as spl:  36686\n",
      "[]\n",
      "X_train results,\n",
      "X_test results,\n"
     ]
    },
    {
     "name": "stderr",
     "output_type": "stream",
     "text": [
      "c:\\Users\\ganga\\anaconda3\\envs\\inferred_speciality\\lib\\site-packages\\sklearn\\metrics\\_classification.py:1469: UndefinedMetricWarning: Precision and F-score are ill-defined and being set to 0.0 in labels with no predicted samples. Use `zero_division` parameter to control this behavior.\n",
      "  _warn_prf(average, modifier, msg_start, len(result))\n",
      "c:\\Users\\ganga\\anaconda3\\envs\\inferred_speciality\\lib\\site-packages\\sklearn\\metrics\\_classification.py:1469: UndefinedMetricWarning: Precision and F-score are ill-defined and being set to 0.0 in labels with no predicted samples. Use `zero_division` parameter to control this behavior.\n",
      "  _warn_prf(average, modifier, msg_start, len(result))\n",
      "c:\\Users\\ganga\\anaconda3\\envs\\inferred_speciality\\lib\\site-packages\\sklearn\\metrics\\_classification.py:1469: UndefinedMetricWarning: Precision and F-score are ill-defined and being set to 0.0 in labels with no predicted samples. Use `zero_division` parameter to control this behavior.\n",
      "  _warn_prf(average, modifier, msg_start, len(result))\n"
     ]
    },
    {
     "name": "stdout",
     "output_type": "stream",
     "text": [
      "number of spl predicted as others:  264\n",
      "num of others predicted as spl:  0\n",
      "num of spl predicted as spl:  0\n",
      "num of others predicted as spl:  36686\n",
      "\u001b[1m\u001b[92mDone: Hospitalists\u001b[0m\u001b[0m\n",
      "Fitting 2 folds for each of 10 candidates, totalling 20 fits\n"
     ]
    },
    {
     "name": "stderr",
     "output_type": "stream",
     "text": [
      "c:\\Users\\ganga\\anaconda3\\envs\\inferred_speciality\\lib\\site-packages\\sklearn\\model_selection\\_search.py:976: UserWarning: One or more of the test scores are non-finite: [nan nan nan nan nan nan nan nan nan nan]\n",
      "  warnings.warn(\n"
     ]
    },
    {
     "name": "stdout",
     "output_type": "stream",
     "text": [
      "Best parameters found:  {'n_estimators': 50, 'max_depth': 9, 'learning_rate': 0.05, 'colsample_bytree': 0.6}\n",
      "X_train results,\n",
      "X_test results,\n",
      "number of spl predicted as others:  149\n",
      "num of others predicted as spl:  4\n",
      "num of spl predicted as spl:  8\n",
      "num of others predicted as spl:  36789\n",
      "[]\n",
      "X_train results,\n",
      "X_test results,\n",
      "number of spl predicted as others:  149\n",
      "num of others predicted as spl:  4\n",
      "num of spl predicted as spl:  8\n",
      "num of others predicted as spl:  36789\n",
      "\u001b[1m\u001b[92mDone: Infectious Diseases-No Surgery\u001b[0m\u001b[0m\n",
      "Fitting 2 folds for each of 10 candidates, totalling 20 fits\n"
     ]
    },
    {
     "name": "stderr",
     "output_type": "stream",
     "text": [
      "c:\\Users\\ganga\\anaconda3\\envs\\inferred_speciality\\lib\\site-packages\\sklearn\\model_selection\\_search.py:976: UserWarning: One or more of the test scores are non-finite: [nan nan nan nan nan nan nan nan nan nan]\n",
      "  warnings.warn(\n"
     ]
    },
    {
     "name": "stdout",
     "output_type": "stream",
     "text": [
      "Best parameters found:  {'n_estimators': 50, 'max_depth': 9, 'learning_rate': 0.05, 'colsample_bytree': 0.6}\n",
      "X_train results,\n",
      "X_test results,\n",
      "number of spl predicted as others:  2464\n",
      "num of others predicted as spl:  373\n",
      "num of spl predicted as spl:  683\n",
      "num of others predicted as spl:  33430\n",
      "[]\n",
      "X_train results,\n",
      "X_test results,\n",
      "number of spl predicted as others:  2464\n",
      "num of others predicted as spl:  373\n",
      "num of spl predicted as spl:  683\n",
      "num of others predicted as spl:  33430\n",
      "\u001b[1m\u001b[92mDone: Internal Medicine-No Surgery\u001b[0m\u001b[0m\n",
      "Fitting 2 folds for each of 10 candidates, totalling 20 fits\n"
     ]
    },
    {
     "name": "stderr",
     "output_type": "stream",
     "text": [
      "c:\\Users\\ganga\\anaconda3\\envs\\inferred_speciality\\lib\\site-packages\\sklearn\\model_selection\\_search.py:976: UserWarning: One or more of the test scores are non-finite: [nan nan nan nan nan nan nan nan nan nan]\n",
      "  warnings.warn(\n"
     ]
    },
    {
     "name": "stdout",
     "output_type": "stream",
     "text": [
      "Best parameters found:  {'n_estimators': 50, 'max_depth': 9, 'learning_rate': 0.05, 'colsample_bytree': 0.6}\n",
      "X_train results,\n",
      "X_test results,\n"
     ]
    },
    {
     "name": "stderr",
     "output_type": "stream",
     "text": [
      "c:\\Users\\ganga\\anaconda3\\envs\\inferred_speciality\\lib\\site-packages\\sklearn\\metrics\\_classification.py:1469: UndefinedMetricWarning: Precision and F-score are ill-defined and being set to 0.0 in labels with no predicted samples. Use `zero_division` parameter to control this behavior.\n",
      "  _warn_prf(average, modifier, msg_start, len(result))\n",
      "c:\\Users\\ganga\\anaconda3\\envs\\inferred_speciality\\lib\\site-packages\\sklearn\\metrics\\_classification.py:1469: UndefinedMetricWarning: Precision and F-score are ill-defined and being set to 0.0 in labels with no predicted samples. Use `zero_division` parameter to control this behavior.\n",
      "  _warn_prf(average, modifier, msg_start, len(result))\n",
      "c:\\Users\\ganga\\anaconda3\\envs\\inferred_speciality\\lib\\site-packages\\sklearn\\metrics\\_classification.py:1469: UndefinedMetricWarning: Precision and F-score are ill-defined and being set to 0.0 in labels with no predicted samples. Use `zero_division` parameter to control this behavior.\n",
      "  _warn_prf(average, modifier, msg_start, len(result))\n"
     ]
    },
    {
     "name": "stdout",
     "output_type": "stream",
     "text": [
      "number of spl predicted as others:  566\n",
      "num of others predicted as spl:  0\n",
      "num of spl predicted as spl:  0\n",
      "num of others predicted as spl:  36384\n",
      "[]\n",
      "X_train results,\n",
      "X_test results,\n"
     ]
    },
    {
     "name": "stderr",
     "output_type": "stream",
     "text": [
      "c:\\Users\\ganga\\anaconda3\\envs\\inferred_speciality\\lib\\site-packages\\sklearn\\metrics\\_classification.py:1469: UndefinedMetricWarning: Precision and F-score are ill-defined and being set to 0.0 in labels with no predicted samples. Use `zero_division` parameter to control this behavior.\n",
      "  _warn_prf(average, modifier, msg_start, len(result))\n",
      "c:\\Users\\ganga\\anaconda3\\envs\\inferred_speciality\\lib\\site-packages\\sklearn\\metrics\\_classification.py:1469: UndefinedMetricWarning: Precision and F-score are ill-defined and being set to 0.0 in labels with no predicted samples. Use `zero_division` parameter to control this behavior.\n",
      "  _warn_prf(average, modifier, msg_start, len(result))\n",
      "c:\\Users\\ganga\\anaconda3\\envs\\inferred_speciality\\lib\\site-packages\\sklearn\\metrics\\_classification.py:1469: UndefinedMetricWarning: Precision and F-score are ill-defined and being set to 0.0 in labels with no predicted samples. Use `zero_division` parameter to control this behavior.\n",
      "  _warn_prf(average, modifier, msg_start, len(result))\n"
     ]
    },
    {
     "name": "stdout",
     "output_type": "stream",
     "text": [
      "number of spl predicted as others:  566\n",
      "num of others predicted as spl:  0\n",
      "num of spl predicted as spl:  0\n",
      "num of others predicted as spl:  36384\n",
      "\u001b[1m\u001b[92mDone: Medical Assistant\u001b[0m\u001b[0m\n",
      "Fitting 2 folds for each of 10 candidates, totalling 20 fits\n"
     ]
    },
    {
     "name": "stderr",
     "output_type": "stream",
     "text": [
      "c:\\Users\\ganga\\anaconda3\\envs\\inferred_speciality\\lib\\site-packages\\sklearn\\model_selection\\_search.py:976: UserWarning: One or more of the test scores are non-finite: [nan nan nan nan nan nan nan nan nan nan]\n",
      "  warnings.warn(\n"
     ]
    },
    {
     "name": "stdout",
     "output_type": "stream",
     "text": [
      "Best parameters found:  {'n_estimators': 50, 'max_depth': 9, 'learning_rate': 0.05, 'colsample_bytree': 0.6}\n",
      "X_train results,\n",
      "X_test results,\n",
      "number of spl predicted as others:  55\n",
      "num of others predicted as spl:  13\n",
      "num of spl predicted as spl:  40\n",
      "num of others predicted as spl:  36842\n",
      "[]\n",
      "X_train results,\n",
      "X_test results,\n",
      "number of spl predicted as others:  55\n",
      "num of others predicted as spl:  13\n",
      "num of spl predicted as spl:  40\n",
      "num of others predicted as spl:  36842\n",
      "\u001b[1m\u001b[92mDone: Neonatology\u001b[0m\u001b[0m\n",
      "Fitting 2 folds for each of 10 candidates, totalling 20 fits\n"
     ]
    },
    {
     "name": "stderr",
     "output_type": "stream",
     "text": [
      "c:\\Users\\ganga\\anaconda3\\envs\\inferred_speciality\\lib\\site-packages\\sklearn\\model_selection\\_search.py:976: UserWarning: One or more of the test scores are non-finite: [nan nan nan nan nan nan nan nan nan nan]\n",
      "  warnings.warn(\n"
     ]
    },
    {
     "name": "stdout",
     "output_type": "stream",
     "text": [
      "Best parameters found:  {'n_estimators': 50, 'max_depth': 9, 'learning_rate': 0.05, 'colsample_bytree': 0.6}\n",
      "X_train results,\n",
      "X_test results,\n",
      "number of spl predicted as others:  84\n",
      "num of others predicted as spl:  26\n",
      "num of spl predicted as spl:  115\n",
      "num of others predicted as spl:  36725\n",
      "[]\n",
      "X_train results,\n",
      "X_test results,\n",
      "number of spl predicted as others:  84\n",
      "num of others predicted as spl:  26\n",
      "num of spl predicted as spl:  115\n",
      "num of others predicted as spl:  36725\n",
      "\u001b[1m\u001b[92mDone: Nephrology-No Surgery\u001b[0m\u001b[0m\n",
      "Fitting 2 folds for each of 10 candidates, totalling 20 fits\n"
     ]
    },
    {
     "name": "stderr",
     "output_type": "stream",
     "text": [
      "c:\\Users\\ganga\\anaconda3\\envs\\inferred_speciality\\lib\\site-packages\\sklearn\\model_selection\\_search.py:976: UserWarning: One or more of the test scores are non-finite: [nan nan nan nan nan nan nan nan nan nan]\n",
      "  warnings.warn(\n"
     ]
    },
    {
     "name": "stdout",
     "output_type": "stream",
     "text": [
      "Best parameters found:  {'n_estimators': 50, 'max_depth': 9, 'learning_rate': 0.05, 'colsample_bytree': 0.6}\n",
      "X_train results,\n",
      "X_test results,\n",
      "number of spl predicted as others:  17\n",
      "num of others predicted as spl:  0\n",
      "num of spl predicted as spl:  2\n",
      "num of others predicted as spl:  36931\n",
      "[]\n",
      "X_train results,\n",
      "X_test results,\n",
      "number of spl predicted as others:  17\n",
      "num of others predicted as spl:  0\n",
      "num of spl predicted as spl:  2\n",
      "num of others predicted as spl:  36931\n",
      "\u001b[1m\u001b[92mDone: Nuclear Medicine\u001b[0m\u001b[0m\n",
      "Fitting 2 folds for each of 10 candidates, totalling 20 fits\n"
     ]
    },
    {
     "name": "stderr",
     "output_type": "stream",
     "text": [
      "c:\\Users\\ganga\\anaconda3\\envs\\inferred_speciality\\lib\\site-packages\\sklearn\\model_selection\\_search.py:976: UserWarning: One or more of the test scores are non-finite: [nan nan nan nan nan nan nan nan nan nan]\n",
      "  warnings.warn(\n"
     ]
    },
    {
     "name": "stdout",
     "output_type": "stream",
     "text": [
      "Best parameters found:  {'n_estimators': 50, 'max_depth': 9, 'learning_rate': 0.05, 'colsample_bytree': 0.6}\n",
      "X_train results,\n"
     ]
    },
    {
     "name": "stderr",
     "output_type": "stream",
     "text": [
      "c:\\Users\\ganga\\anaconda3\\envs\\inferred_speciality\\lib\\site-packages\\sklearn\\metrics\\_classification.py:1469: UndefinedMetricWarning: Precision and F-score are ill-defined and being set to 0.0 in labels with no predicted samples. Use `zero_division` parameter to control this behavior.\n",
      "  _warn_prf(average, modifier, msg_start, len(result))\n",
      "c:\\Users\\ganga\\anaconda3\\envs\\inferred_speciality\\lib\\site-packages\\sklearn\\metrics\\_classification.py:1469: UndefinedMetricWarning: Precision and F-score are ill-defined and being set to 0.0 in labels with no predicted samples. Use `zero_division` parameter to control this behavior.\n",
      "  _warn_prf(average, modifier, msg_start, len(result))\n",
      "c:\\Users\\ganga\\anaconda3\\envs\\inferred_speciality\\lib\\site-packages\\sklearn\\metrics\\_classification.py:1469: UndefinedMetricWarning: Precision and F-score are ill-defined and being set to 0.0 in labels with no predicted samples. Use `zero_division` parameter to control this behavior.\n",
      "  _warn_prf(average, modifier, msg_start, len(result))\n"
     ]
    },
    {
     "name": "stdout",
     "output_type": "stream",
     "text": [
      "X_test results,\n"
     ]
    },
    {
     "name": "stderr",
     "output_type": "stream",
     "text": [
      "c:\\Users\\ganga\\anaconda3\\envs\\inferred_speciality\\lib\\site-packages\\sklearn\\metrics\\_classification.py:1469: UndefinedMetricWarning: Precision and F-score are ill-defined and being set to 0.0 in labels with no predicted samples. Use `zero_division` parameter to control this behavior.\n",
      "  _warn_prf(average, modifier, msg_start, len(result))\n",
      "c:\\Users\\ganga\\anaconda3\\envs\\inferred_speciality\\lib\\site-packages\\sklearn\\metrics\\_classification.py:1469: UndefinedMetricWarning: Precision and F-score are ill-defined and being set to 0.0 in labels with no predicted samples. Use `zero_division` parameter to control this behavior.\n",
      "  _warn_prf(average, modifier, msg_start, len(result))\n",
      "c:\\Users\\ganga\\anaconda3\\envs\\inferred_speciality\\lib\\site-packages\\sklearn\\metrics\\_classification.py:1469: UndefinedMetricWarning: Precision and F-score are ill-defined and being set to 0.0 in labels with no predicted samples. Use `zero_division` parameter to control this behavior.\n",
      "  _warn_prf(average, modifier, msg_start, len(result))\n"
     ]
    },
    {
     "name": "stdout",
     "output_type": "stream",
     "text": [
      "number of spl predicted as others:  9\n",
      "num of others predicted as spl:  0\n",
      "num of spl predicted as spl:  0\n",
      "num of others predicted as spl:  36941\n",
      "[]\n",
      "X_train results,\n"
     ]
    },
    {
     "name": "stderr",
     "output_type": "stream",
     "text": [
      "c:\\Users\\ganga\\anaconda3\\envs\\inferred_speciality\\lib\\site-packages\\sklearn\\metrics\\_classification.py:1469: UndefinedMetricWarning: Precision and F-score are ill-defined and being set to 0.0 in labels with no predicted samples. Use `zero_division` parameter to control this behavior.\n",
      "  _warn_prf(average, modifier, msg_start, len(result))\n",
      "c:\\Users\\ganga\\anaconda3\\envs\\inferred_speciality\\lib\\site-packages\\sklearn\\metrics\\_classification.py:1469: UndefinedMetricWarning: Precision and F-score are ill-defined and being set to 0.0 in labels with no predicted samples. Use `zero_division` parameter to control this behavior.\n",
      "  _warn_prf(average, modifier, msg_start, len(result))\n",
      "c:\\Users\\ganga\\anaconda3\\envs\\inferred_speciality\\lib\\site-packages\\sklearn\\metrics\\_classification.py:1469: UndefinedMetricWarning: Precision and F-score are ill-defined and being set to 0.0 in labels with no predicted samples. Use `zero_division` parameter to control this behavior.\n",
      "  _warn_prf(average, modifier, msg_start, len(result))\n"
     ]
    },
    {
     "name": "stdout",
     "output_type": "stream",
     "text": [
      "X_test results,\n"
     ]
    },
    {
     "name": "stderr",
     "output_type": "stream",
     "text": [
      "c:\\Users\\ganga\\anaconda3\\envs\\inferred_speciality\\lib\\site-packages\\sklearn\\metrics\\_classification.py:1469: UndefinedMetricWarning: Precision and F-score are ill-defined and being set to 0.0 in labels with no predicted samples. Use `zero_division` parameter to control this behavior.\n",
      "  _warn_prf(average, modifier, msg_start, len(result))\n",
      "c:\\Users\\ganga\\anaconda3\\envs\\inferred_speciality\\lib\\site-packages\\sklearn\\metrics\\_classification.py:1469: UndefinedMetricWarning: Precision and F-score are ill-defined and being set to 0.0 in labels with no predicted samples. Use `zero_division` parameter to control this behavior.\n",
      "  _warn_prf(average, modifier, msg_start, len(result))\n",
      "c:\\Users\\ganga\\anaconda3\\envs\\inferred_speciality\\lib\\site-packages\\sklearn\\metrics\\_classification.py:1469: UndefinedMetricWarning: Precision and F-score are ill-defined and being set to 0.0 in labels with no predicted samples. Use `zero_division` parameter to control this behavior.\n",
      "  _warn_prf(average, modifier, msg_start, len(result))\n"
     ]
    },
    {
     "name": "stdout",
     "output_type": "stream",
     "text": [
      "number of spl predicted as others:  9\n",
      "num of others predicted as spl:  0\n",
      "num of spl predicted as spl:  0\n",
      "num of others predicted as spl:  36941\n",
      "\u001b[1m\u001b[92mDone: O.R. Technician\u001b[0m\u001b[0m\n",
      "Fitting 2 folds for each of 10 candidates, totalling 20 fits\n"
     ]
    },
    {
     "name": "stderr",
     "output_type": "stream",
     "text": [
      "c:\\Users\\ganga\\anaconda3\\envs\\inferred_speciality\\lib\\site-packages\\sklearn\\model_selection\\_search.py:976: UserWarning: One or more of the test scores are non-finite: [nan nan nan nan nan nan nan nan nan nan]\n",
      "  warnings.warn(\n"
     ]
    },
    {
     "name": "stdout",
     "output_type": "stream",
     "text": [
      "Best parameters found:  {'n_estimators': 50, 'max_depth': 9, 'learning_rate': 0.05, 'colsample_bytree': 0.6}\n",
      "X_train results,\n",
      "X_test results,\n",
      "number of spl predicted as others:  277\n",
      "num of others predicted as spl:  6\n",
      "num of spl predicted as spl:  29\n",
      "num of others predicted as spl:  36638\n",
      "[]\n",
      "X_train results,\n",
      "X_test results,\n",
      "number of spl predicted as others:  277\n",
      "num of others predicted as spl:  6\n",
      "num of spl predicted as spl:  29\n",
      "num of others predicted as spl:  36638\n",
      "\u001b[1m\u001b[92mDone: Occupation Therapist\u001b[0m\u001b[0m\n",
      "Fitting 2 folds for each of 10 candidates, totalling 20 fits\n"
     ]
    },
    {
     "name": "stderr",
     "output_type": "stream",
     "text": [
      "c:\\Users\\ganga\\anaconda3\\envs\\inferred_speciality\\lib\\site-packages\\sklearn\\model_selection\\_search.py:976: UserWarning: One or more of the test scores are non-finite: [nan nan nan nan nan nan nan nan nan nan]\n",
      "  warnings.warn(\n"
     ]
    },
    {
     "name": "stdout",
     "output_type": "stream",
     "text": [
      "Best parameters found:  {'n_estimators': 50, 'max_depth': 9, 'learning_rate': 0.05, 'colsample_bytree': 0.6}\n",
      "X_train results,\n"
     ]
    },
    {
     "name": "stderr",
     "output_type": "stream",
     "text": [
      "c:\\Users\\ganga\\anaconda3\\envs\\inferred_speciality\\lib\\site-packages\\sklearn\\metrics\\_classification.py:1469: UndefinedMetricWarning: Precision and F-score are ill-defined and being set to 0.0 in labels with no predicted samples. Use `zero_division` parameter to control this behavior.\n",
      "  _warn_prf(average, modifier, msg_start, len(result))\n",
      "c:\\Users\\ganga\\anaconda3\\envs\\inferred_speciality\\lib\\site-packages\\sklearn\\metrics\\_classification.py:1469: UndefinedMetricWarning: Precision and F-score are ill-defined and being set to 0.0 in labels with no predicted samples. Use `zero_division` parameter to control this behavior.\n",
      "  _warn_prf(average, modifier, msg_start, len(result))\n",
      "c:\\Users\\ganga\\anaconda3\\envs\\inferred_speciality\\lib\\site-packages\\sklearn\\metrics\\_classification.py:1469: UndefinedMetricWarning: Precision and F-score are ill-defined and being set to 0.0 in labels with no predicted samples. Use `zero_division` parameter to control this behavior.\n",
      "  _warn_prf(average, modifier, msg_start, len(result))\n"
     ]
    },
    {
     "name": "stdout",
     "output_type": "stream",
     "text": [
      "X_test results,\n"
     ]
    },
    {
     "name": "stderr",
     "output_type": "stream",
     "text": [
      "c:\\Users\\ganga\\anaconda3\\envs\\inferred_speciality\\lib\\site-packages\\sklearn\\metrics\\_classification.py:1469: UndefinedMetricWarning: Precision and F-score are ill-defined and being set to 0.0 in labels with no predicted samples. Use `zero_division` parameter to control this behavior.\n",
      "  _warn_prf(average, modifier, msg_start, len(result))\n",
      "c:\\Users\\ganga\\anaconda3\\envs\\inferred_speciality\\lib\\site-packages\\sklearn\\metrics\\_classification.py:1469: UndefinedMetricWarning: Precision and F-score are ill-defined and being set to 0.0 in labels with no predicted samples. Use `zero_division` parameter to control this behavior.\n",
      "  _warn_prf(average, modifier, msg_start, len(result))\n",
      "c:\\Users\\ganga\\anaconda3\\envs\\inferred_speciality\\lib\\site-packages\\sklearn\\metrics\\_classification.py:1469: UndefinedMetricWarning: Precision and F-score are ill-defined and being set to 0.0 in labels with no predicted samples. Use `zero_division` parameter to control this behavior.\n",
      "  _warn_prf(average, modifier, msg_start, len(result))\n"
     ]
    },
    {
     "name": "stdout",
     "output_type": "stream",
     "text": [
      "number of spl predicted as others:  16\n",
      "num of others predicted as spl:  0\n",
      "num of spl predicted as spl:  0\n",
      "num of others predicted as spl:  36934\n",
      "[]\n",
      "X_train results,\n"
     ]
    },
    {
     "name": "stderr",
     "output_type": "stream",
     "text": [
      "c:\\Users\\ganga\\anaconda3\\envs\\inferred_speciality\\lib\\site-packages\\sklearn\\metrics\\_classification.py:1469: UndefinedMetricWarning: Precision and F-score are ill-defined and being set to 0.0 in labels with no predicted samples. Use `zero_division` parameter to control this behavior.\n",
      "  _warn_prf(average, modifier, msg_start, len(result))\n",
      "c:\\Users\\ganga\\anaconda3\\envs\\inferred_speciality\\lib\\site-packages\\sklearn\\metrics\\_classification.py:1469: UndefinedMetricWarning: Precision and F-score are ill-defined and being set to 0.0 in labels with no predicted samples. Use `zero_division` parameter to control this behavior.\n",
      "  _warn_prf(average, modifier, msg_start, len(result))\n",
      "c:\\Users\\ganga\\anaconda3\\envs\\inferred_speciality\\lib\\site-packages\\sklearn\\metrics\\_classification.py:1469: UndefinedMetricWarning: Precision and F-score are ill-defined and being set to 0.0 in labels with no predicted samples. Use `zero_division` parameter to control this behavior.\n",
      "  _warn_prf(average, modifier, msg_start, len(result))\n"
     ]
    },
    {
     "name": "stdout",
     "output_type": "stream",
     "text": [
      "X_test results,\n"
     ]
    },
    {
     "name": "stderr",
     "output_type": "stream",
     "text": [
      "c:\\Users\\ganga\\anaconda3\\envs\\inferred_speciality\\lib\\site-packages\\sklearn\\metrics\\_classification.py:1469: UndefinedMetricWarning: Precision and F-score are ill-defined and being set to 0.0 in labels with no predicted samples. Use `zero_division` parameter to control this behavior.\n",
      "  _warn_prf(average, modifier, msg_start, len(result))\n",
      "c:\\Users\\ganga\\anaconda3\\envs\\inferred_speciality\\lib\\site-packages\\sklearn\\metrics\\_classification.py:1469: UndefinedMetricWarning: Precision and F-score are ill-defined and being set to 0.0 in labels with no predicted samples. Use `zero_division` parameter to control this behavior.\n",
      "  _warn_prf(average, modifier, msg_start, len(result))\n",
      "c:\\Users\\ganga\\anaconda3\\envs\\inferred_speciality\\lib\\site-packages\\sklearn\\metrics\\_classification.py:1469: UndefinedMetricWarning: Precision and F-score are ill-defined and being set to 0.0 in labels with no predicted samples. Use `zero_division` parameter to control this behavior.\n",
      "  _warn_prf(average, modifier, msg_start, len(result))\n"
     ]
    },
    {
     "name": "stdout",
     "output_type": "stream",
     "text": [
      "number of spl predicted as others:  16\n",
      "num of others predicted as spl:  0\n",
      "num of spl predicted as spl:  0\n",
      "num of others predicted as spl:  36934\n",
      "\u001b[1m\u001b[92mDone: Occupational Medicine\u001b[0m\u001b[0m\n",
      "Fitting 2 folds for each of 10 candidates, totalling 20 fits\n"
     ]
    },
    {
     "name": "stderr",
     "output_type": "stream",
     "text": [
      "c:\\Users\\ganga\\anaconda3\\envs\\inferred_speciality\\lib\\site-packages\\sklearn\\model_selection\\_search.py:976: UserWarning: One or more of the test scores are non-finite: [nan nan nan nan nan nan nan nan nan nan]\n",
      "  warnings.warn(\n"
     ]
    },
    {
     "name": "stdout",
     "output_type": "stream",
     "text": [
      "Best parameters found:  {'n_estimators': 50, 'max_depth': 9, 'learning_rate': 0.05, 'colsample_bytree': 0.6}\n",
      "X_train results,\n",
      "X_test results,\n",
      "number of spl predicted as others:  41\n",
      "num of others predicted as spl:  62\n",
      "num of spl predicted as spl:  727\n",
      "num of others predicted as spl:  36120\n",
      "[]\n",
      "X_train results,\n",
      "X_test results,\n",
      "number of spl predicted as others:  41\n",
      "num of others predicted as spl:  62\n",
      "num of spl predicted as spl:  727\n",
      "num of others predicted as spl:  36120\n",
      "\u001b[1m\u001b[92mDone: Optometrist\u001b[0m\u001b[0m\n",
      "Fitting 2 folds for each of 10 candidates, totalling 20 fits\n"
     ]
    },
    {
     "name": "stderr",
     "output_type": "stream",
     "text": [
      "c:\\Users\\ganga\\anaconda3\\envs\\inferred_speciality\\lib\\site-packages\\sklearn\\model_selection\\_search.py:976: UserWarning: One or more of the test scores are non-finite: [nan nan nan nan nan nan nan nan nan nan]\n",
      "  warnings.warn(\n"
     ]
    },
    {
     "name": "stdout",
     "output_type": "stream",
     "text": [
      "Best parameters found:  {'n_estimators': 50, 'max_depth': 9, 'learning_rate': 0.05, 'colsample_bytree': 0.6}\n",
      "X_train results,\n",
      "X_test results,\n",
      "number of spl predicted as others:  87\n",
      "num of others predicted as spl:  5\n",
      "num of spl predicted as spl:  28\n",
      "num of others predicted as spl:  36830\n",
      "[]\n",
      "X_train results,\n",
      "X_test results,\n",
      "number of spl predicted as others:  87\n",
      "num of others predicted as spl:  5\n",
      "num of spl predicted as spl:  28\n",
      "num of others predicted as spl:  36830\n",
      "\u001b[1m\u001b[92mDone: Pain Medicine\u001b[0m\u001b[0m\n",
      "Fitting 2 folds for each of 10 candidates, totalling 20 fits\n"
     ]
    },
    {
     "name": "stderr",
     "output_type": "stream",
     "text": [
      "c:\\Users\\ganga\\anaconda3\\envs\\inferred_speciality\\lib\\site-packages\\sklearn\\model_selection\\_search.py:976: UserWarning: One or more of the test scores are non-finite: [nan nan nan nan nan nan nan nan nan nan]\n",
      "  warnings.warn(\n"
     ]
    },
    {
     "name": "stdout",
     "output_type": "stream",
     "text": [
      "Best parameters found:  {'n_estimators': 50, 'max_depth': 9, 'learning_rate': 0.05, 'colsample_bytree': 0.6}\n",
      "X_train results,\n",
      "X_test results,\n",
      "number of spl predicted as others:  31\n",
      "num of others predicted as spl:  19\n",
      "num of spl predicted as spl:  273\n",
      "num of others predicted as spl:  36627\n",
      "[]\n",
      "X_train results,\n",
      "X_test results,\n",
      "number of spl predicted as others:  31\n",
      "num of others predicted as spl:  19\n",
      "num of spl predicted as spl:  273\n",
      "num of others predicted as spl:  36627\n",
      "\u001b[1m\u001b[92mDone: Pathology-No Surgery\u001b[0m\u001b[0m\n",
      "Fitting 2 folds for each of 10 candidates, totalling 20 fits\n"
     ]
    },
    {
     "name": "stderr",
     "output_type": "stream",
     "text": [
      "c:\\Users\\ganga\\anaconda3\\envs\\inferred_speciality\\lib\\site-packages\\sklearn\\model_selection\\_search.py:976: UserWarning: One or more of the test scores are non-finite: [nan nan nan nan nan nan nan nan nan nan]\n",
      "  warnings.warn(\n"
     ]
    },
    {
     "name": "stdout",
     "output_type": "stream",
     "text": [
      "Best parameters found:  {'n_estimators': 50, 'max_depth': 9, 'learning_rate': 0.05, 'colsample_bytree': 0.6}\n",
      "X_train results,\n",
      "X_test results,\n",
      "number of spl predicted as others:  45\n",
      "num of others predicted as spl:  3\n",
      "num of spl predicted as spl:  32\n",
      "num of others predicted as spl:  36870\n",
      "[]\n",
      "X_train results,\n",
      "X_test results,\n",
      "number of spl predicted as others:  45\n",
      "num of others predicted as spl:  3\n",
      "num of spl predicted as spl:  32\n",
      "num of others predicted as spl:  36870\n",
      "\u001b[1m\u001b[92mDone: Pharmacist\u001b[0m\u001b[0m\n",
      "Fitting 2 folds for each of 10 candidates, totalling 20 fits\n"
     ]
    },
    {
     "name": "stderr",
     "output_type": "stream",
     "text": [
      "c:\\Users\\ganga\\anaconda3\\envs\\inferred_speciality\\lib\\site-packages\\sklearn\\model_selection\\_search.py:976: UserWarning: One or more of the test scores are non-finite: [nan nan nan nan nan nan nan nan nan nan]\n",
      "  warnings.warn(\n"
     ]
    },
    {
     "name": "stdout",
     "output_type": "stream",
     "text": [
      "Best parameters found:  {'n_estimators': 50, 'max_depth': 9, 'learning_rate': 0.05, 'colsample_bytree': 0.6}\n",
      "X_train results,\n"
     ]
    },
    {
     "name": "stderr",
     "output_type": "stream",
     "text": [
      "c:\\Users\\ganga\\anaconda3\\envs\\inferred_speciality\\lib\\site-packages\\sklearn\\metrics\\_classification.py:1469: UndefinedMetricWarning: Precision and F-score are ill-defined and being set to 0.0 in labels with no predicted samples. Use `zero_division` parameter to control this behavior.\n",
      "  _warn_prf(average, modifier, msg_start, len(result))\n",
      "c:\\Users\\ganga\\anaconda3\\envs\\inferred_speciality\\lib\\site-packages\\sklearn\\metrics\\_classification.py:1469: UndefinedMetricWarning: Precision and F-score are ill-defined and being set to 0.0 in labels with no predicted samples. Use `zero_division` parameter to control this behavior.\n",
      "  _warn_prf(average, modifier, msg_start, len(result))\n",
      "c:\\Users\\ganga\\anaconda3\\envs\\inferred_speciality\\lib\\site-packages\\sklearn\\metrics\\_classification.py:1469: UndefinedMetricWarning: Precision and F-score are ill-defined and being set to 0.0 in labels with no predicted samples. Use `zero_division` parameter to control this behavior.\n",
      "  _warn_prf(average, modifier, msg_start, len(result))\n"
     ]
    },
    {
     "name": "stdout",
     "output_type": "stream",
     "text": [
      "X_test results,\n"
     ]
    },
    {
     "name": "stderr",
     "output_type": "stream",
     "text": [
      "c:\\Users\\ganga\\anaconda3\\envs\\inferred_speciality\\lib\\site-packages\\sklearn\\metrics\\_classification.py:1469: UndefinedMetricWarning: Precision and F-score are ill-defined and being set to 0.0 in labels with no predicted samples. Use `zero_division` parameter to control this behavior.\n",
      "  _warn_prf(average, modifier, msg_start, len(result))\n",
      "c:\\Users\\ganga\\anaconda3\\envs\\inferred_speciality\\lib\\site-packages\\sklearn\\metrics\\_classification.py:1469: UndefinedMetricWarning: Precision and F-score are ill-defined and being set to 0.0 in labels with no predicted samples. Use `zero_division` parameter to control this behavior.\n",
      "  _warn_prf(average, modifier, msg_start, len(result))\n",
      "c:\\Users\\ganga\\anaconda3\\envs\\inferred_speciality\\lib\\site-packages\\sklearn\\metrics\\_classification.py:1469: UndefinedMetricWarning: Precision and F-score are ill-defined and being set to 0.0 in labels with no predicted samples. Use `zero_division` parameter to control this behavior.\n",
      "  _warn_prf(average, modifier, msg_start, len(result))\n"
     ]
    },
    {
     "name": "stdout",
     "output_type": "stream",
     "text": [
      "number of spl predicted as others:  2\n",
      "num of others predicted as spl:  0\n",
      "num of spl predicted as spl:  0\n",
      "num of others predicted as spl:  36948\n",
      "[]\n",
      "X_train results,\n"
     ]
    },
    {
     "name": "stderr",
     "output_type": "stream",
     "text": [
      "c:\\Users\\ganga\\anaconda3\\envs\\inferred_speciality\\lib\\site-packages\\sklearn\\metrics\\_classification.py:1469: UndefinedMetricWarning: Precision and F-score are ill-defined and being set to 0.0 in labels with no predicted samples. Use `zero_division` parameter to control this behavior.\n",
      "  _warn_prf(average, modifier, msg_start, len(result))\n",
      "c:\\Users\\ganga\\anaconda3\\envs\\inferred_speciality\\lib\\site-packages\\sklearn\\metrics\\_classification.py:1469: UndefinedMetricWarning: Precision and F-score are ill-defined and being set to 0.0 in labels with no predicted samples. Use `zero_division` parameter to control this behavior.\n",
      "  _warn_prf(average, modifier, msg_start, len(result))\n",
      "c:\\Users\\ganga\\anaconda3\\envs\\inferred_speciality\\lib\\site-packages\\sklearn\\metrics\\_classification.py:1469: UndefinedMetricWarning: Precision and F-score are ill-defined and being set to 0.0 in labels with no predicted samples. Use `zero_division` parameter to control this behavior.\n",
      "  _warn_prf(average, modifier, msg_start, len(result))\n"
     ]
    },
    {
     "name": "stdout",
     "output_type": "stream",
     "text": [
      "X_test results,\n",
      "number of spl predicted as others:  2\n",
      "num of others predicted as spl:  0\n",
      "num of spl predicted as spl:  0\n",
      "num of others predicted as spl:  36948\n",
      "\u001b[1m\u001b[92mDone: Phlebology\u001b[0m\u001b[0m\n"
     ]
    },
    {
     "name": "stderr",
     "output_type": "stream",
     "text": [
      "c:\\Users\\ganga\\anaconda3\\envs\\inferred_speciality\\lib\\site-packages\\sklearn\\metrics\\_classification.py:1469: UndefinedMetricWarning: Precision and F-score are ill-defined and being set to 0.0 in labels with no predicted samples. Use `zero_division` parameter to control this behavior.\n",
      "  _warn_prf(average, modifier, msg_start, len(result))\n",
      "c:\\Users\\ganga\\anaconda3\\envs\\inferred_speciality\\lib\\site-packages\\sklearn\\metrics\\_classification.py:1469: UndefinedMetricWarning: Precision and F-score are ill-defined and being set to 0.0 in labels with no predicted samples. Use `zero_division` parameter to control this behavior.\n",
      "  _warn_prf(average, modifier, msg_start, len(result))\n",
      "c:\\Users\\ganga\\anaconda3\\envs\\inferred_speciality\\lib\\site-packages\\sklearn\\metrics\\_classification.py:1469: UndefinedMetricWarning: Precision and F-score are ill-defined and being set to 0.0 in labels with no predicted samples. Use `zero_division` parameter to control this behavior.\n",
      "  _warn_prf(average, modifier, msg_start, len(result))\n"
     ]
    },
    {
     "name": "stdout",
     "output_type": "stream",
     "text": [
      "Fitting 2 folds for each of 10 candidates, totalling 20 fits\n"
     ]
    },
    {
     "name": "stderr",
     "output_type": "stream",
     "text": [
      "c:\\Users\\ganga\\anaconda3\\envs\\inferred_speciality\\lib\\site-packages\\sklearn\\model_selection\\_search.py:976: UserWarning: One or more of the test scores are non-finite: [nan nan nan nan nan nan nan nan nan nan]\n",
      "  warnings.warn(\n"
     ]
    },
    {
     "name": "stdout",
     "output_type": "stream",
     "text": [
      "Best parameters found:  {'n_estimators': 50, 'max_depth': 9, 'learning_rate': 0.05, 'colsample_bytree': 0.6}\n",
      "X_train results,\n",
      "X_test results,\n",
      "number of spl predicted as others:  218\n",
      "num of others predicted as spl:  9\n",
      "num of spl predicted as spl:  41\n",
      "num of others predicted as spl:  36682\n",
      "[]\n",
      "X_train results,\n",
      "X_test results,\n",
      "number of spl predicted as others:  218\n",
      "num of others predicted as spl:  9\n",
      "num of spl predicted as spl:  41\n",
      "num of others predicted as spl:  36682\n",
      "\u001b[1m\u001b[92mDone: Physiatry\u001b[0m\u001b[0m\n",
      "Fitting 2 folds for each of 10 candidates, totalling 20 fits\n"
     ]
    },
    {
     "name": "stderr",
     "output_type": "stream",
     "text": [
      "c:\\Users\\ganga\\anaconda3\\envs\\inferred_speciality\\lib\\site-packages\\sklearn\\model_selection\\_search.py:976: UserWarning: One or more of the test scores are non-finite: [nan nan nan nan nan nan nan nan nan nan]\n",
      "  warnings.warn(\n"
     ]
    },
    {
     "name": "stdout",
     "output_type": "stream",
     "text": [
      "Best parameters found:  {'n_estimators': 50, 'max_depth': 9, 'learning_rate': 0.05, 'colsample_bytree': 0.6}\n",
      "X_train results,\n",
      "X_test results,\n",
      "number of spl predicted as others:  212\n",
      "num of others predicted as spl:  331\n",
      "num of spl predicted as spl:  1556\n",
      "num of others predicted as spl:  34851\n",
      "[]\n",
      "X_train results,\n",
      "X_test results,\n",
      "number of spl predicted as others:  212\n",
      "num of others predicted as spl:  331\n",
      "num of spl predicted as spl:  1556\n",
      "num of others predicted as spl:  34851\n",
      "\u001b[1m\u001b[92mDone: Physical Therapist\u001b[0m\u001b[0m\n",
      "Fitting 2 folds for each of 10 candidates, totalling 20 fits\n"
     ]
    },
    {
     "name": "stderr",
     "output_type": "stream",
     "text": [
      "c:\\Users\\ganga\\anaconda3\\envs\\inferred_speciality\\lib\\site-packages\\sklearn\\model_selection\\_search.py:976: UserWarning: One or more of the test scores are non-finite: [nan nan nan nan nan nan nan nan nan nan]\n",
      "  warnings.warn(\n"
     ]
    },
    {
     "name": "stdout",
     "output_type": "stream",
     "text": [
      "Best parameters found:  {'n_estimators': 50, 'max_depth': 9, 'learning_rate': 0.05, 'colsample_bytree': 0.6}\n",
      "X_train results,\n",
      "X_test results,\n",
      "number of spl predicted as others:  1658\n",
      "num of others predicted as spl:  22\n",
      "num of spl predicted as spl:  33\n",
      "num of others predicted as spl:  35237\n",
      "[]\n",
      "X_train results,\n",
      "X_test results,\n",
      "number of spl predicted as others:  1658\n",
      "num of others predicted as spl:  22\n",
      "num of spl predicted as spl:  33\n",
      "num of others predicted as spl:  35237\n",
      "\u001b[1m\u001b[92mDone: Physician Assistant\u001b[0m\u001b[0m\n",
      "Fitting 2 folds for each of 10 candidates, totalling 20 fits\n"
     ]
    },
    {
     "name": "stderr",
     "output_type": "stream",
     "text": [
      "c:\\Users\\ganga\\anaconda3\\envs\\inferred_speciality\\lib\\site-packages\\sklearn\\model_selection\\_split.py:725: UserWarning: The least populated class in y has only 1 members, which is less than n_splits=2.\n",
      "  warnings.warn(\n",
      "c:\\Users\\ganga\\anaconda3\\envs\\inferred_speciality\\lib\\site-packages\\sklearn\\model_selection\\_search.py:976: UserWarning: One or more of the test scores are non-finite: [nan nan nan nan nan nan nan nan nan nan]\n",
      "  warnings.warn(\n"
     ]
    },
    {
     "name": "stdout",
     "output_type": "stream",
     "text": [
      "Best parameters found:  {'n_estimators': 50, 'max_depth': 9, 'learning_rate': 0.05, 'colsample_bytree': 0.6}\n",
      "X_train results,\n"
     ]
    },
    {
     "name": "stderr",
     "output_type": "stream",
     "text": [
      "c:\\Users\\ganga\\anaconda3\\envs\\inferred_speciality\\lib\\site-packages\\sklearn\\metrics\\_classification.py:1469: UndefinedMetricWarning: Precision and F-score are ill-defined and being set to 0.0 in labels with no predicted samples. Use `zero_division` parameter to control this behavior.\n",
      "  _warn_prf(average, modifier, msg_start, len(result))\n",
      "c:\\Users\\ganga\\anaconda3\\envs\\inferred_speciality\\lib\\site-packages\\sklearn\\metrics\\_classification.py:1469: UndefinedMetricWarning: Precision and F-score are ill-defined and being set to 0.0 in labels with no predicted samples. Use `zero_division` parameter to control this behavior.\n",
      "  _warn_prf(average, modifier, msg_start, len(result))\n",
      "c:\\Users\\ganga\\anaconda3\\envs\\inferred_speciality\\lib\\site-packages\\sklearn\\metrics\\_classification.py:1469: UndefinedMetricWarning: Precision and F-score are ill-defined and being set to 0.0 in labels with no predicted samples. Use `zero_division` parameter to control this behavior.\n",
      "  _warn_prf(average, modifier, msg_start, len(result))\n"
     ]
    },
    {
     "name": "stdout",
     "output_type": "stream",
     "text": [
      "X_test results,\n"
     ]
    },
    {
     "name": "stderr",
     "output_type": "stream",
     "text": [
      "c:\\Users\\ganga\\anaconda3\\envs\\inferred_speciality\\lib\\site-packages\\sklearn\\metrics\\_classification.py:1469: UndefinedMetricWarning: Precision and F-score are ill-defined and being set to 0.0 in labels with no predicted samples. Use `zero_division` parameter to control this behavior.\n",
      "  _warn_prf(average, modifier, msg_start, len(result))\n",
      "c:\\Users\\ganga\\anaconda3\\envs\\inferred_speciality\\lib\\site-packages\\sklearn\\metrics\\_classification.py:1469: UndefinedMetricWarning: Precision and F-score are ill-defined and being set to 0.0 in labels with no predicted samples. Use `zero_division` parameter to control this behavior.\n",
      "  _warn_prf(average, modifier, msg_start, len(result))\n",
      "c:\\Users\\ganga\\anaconda3\\envs\\inferred_speciality\\lib\\site-packages\\sklearn\\metrics\\_classification.py:1469: UndefinedMetricWarning: Precision and F-score are ill-defined and being set to 0.0 in labels with no predicted samples. Use `zero_division` parameter to control this behavior.\n",
      "  _warn_prf(average, modifier, msg_start, len(result))\n"
     ]
    },
    {
     "name": "stdout",
     "output_type": "stream",
     "text": [
      "number of spl predicted as others:  1\n",
      "num of others predicted as spl:  0\n",
      "num of spl predicted as spl:  0\n",
      "num of others predicted as spl:  36949\n",
      "[]\n",
      "X_train results,\n"
     ]
    },
    {
     "name": "stderr",
     "output_type": "stream",
     "text": [
      "c:\\Users\\ganga\\anaconda3\\envs\\inferred_speciality\\lib\\site-packages\\sklearn\\metrics\\_classification.py:1469: UndefinedMetricWarning: Precision and F-score are ill-defined and being set to 0.0 in labels with no predicted samples. Use `zero_division` parameter to control this behavior.\n",
      "  _warn_prf(average, modifier, msg_start, len(result))\n",
      "c:\\Users\\ganga\\anaconda3\\envs\\inferred_speciality\\lib\\site-packages\\sklearn\\metrics\\_classification.py:1469: UndefinedMetricWarning: Precision and F-score are ill-defined and being set to 0.0 in labels with no predicted samples. Use `zero_division` parameter to control this behavior.\n",
      "  _warn_prf(average, modifier, msg_start, len(result))\n",
      "c:\\Users\\ganga\\anaconda3\\envs\\inferred_speciality\\lib\\site-packages\\sklearn\\metrics\\_classification.py:1469: UndefinedMetricWarning: Precision and F-score are ill-defined and being set to 0.0 in labels with no predicted samples. Use `zero_division` parameter to control this behavior.\n",
      "  _warn_prf(average, modifier, msg_start, len(result))\n"
     ]
    },
    {
     "name": "stdout",
     "output_type": "stream",
     "text": [
      "X_test results,\n"
     ]
    },
    {
     "name": "stderr",
     "output_type": "stream",
     "text": [
      "c:\\Users\\ganga\\anaconda3\\envs\\inferred_speciality\\lib\\site-packages\\sklearn\\metrics\\_classification.py:1469: UndefinedMetricWarning: Precision and F-score are ill-defined and being set to 0.0 in labels with no predicted samples. Use `zero_division` parameter to control this behavior.\n",
      "  _warn_prf(average, modifier, msg_start, len(result))\n",
      "c:\\Users\\ganga\\anaconda3\\envs\\inferred_speciality\\lib\\site-packages\\sklearn\\metrics\\_classification.py:1469: UndefinedMetricWarning: Precision and F-score are ill-defined and being set to 0.0 in labels with no predicted samples. Use `zero_division` parameter to control this behavior.\n",
      "  _warn_prf(average, modifier, msg_start, len(result))\n",
      "c:\\Users\\ganga\\anaconda3\\envs\\inferred_speciality\\lib\\site-packages\\sklearn\\metrics\\_classification.py:1469: UndefinedMetricWarning: Precision and F-score are ill-defined and being set to 0.0 in labels with no predicted samples. Use `zero_division` parameter to control this behavior.\n",
      "  _warn_prf(average, modifier, msg_start, len(result))\n"
     ]
    },
    {
     "name": "stdout",
     "output_type": "stream",
     "text": [
      "number of spl predicted as others:  1\n",
      "num of others predicted as spl:  0\n",
      "num of spl predicted as spl:  0\n",
      "num of others predicted as spl:  36949\n",
      "\u001b[1m\u001b[92mDone: Physicians NOC-No Surgery\u001b[0m\u001b[0m\n",
      "Fitting 2 folds for each of 10 candidates, totalling 20 fits\n"
     ]
    },
    {
     "name": "stderr",
     "output_type": "stream",
     "text": [
      "c:\\Users\\ganga\\anaconda3\\envs\\inferred_speciality\\lib\\site-packages\\sklearn\\model_selection\\_search.py:976: UserWarning: One or more of the test scores are non-finite: [nan nan nan nan nan nan nan nan nan nan]\n",
      "  warnings.warn(\n"
     ]
    },
    {
     "name": "stdout",
     "output_type": "stream",
     "text": [
      "Best parameters found:  {'n_estimators': 50, 'max_depth': 9, 'learning_rate': 0.05, 'colsample_bytree': 0.6}\n",
      "X_train results,\n"
     ]
    },
    {
     "name": "stderr",
     "output_type": "stream",
     "text": [
      "c:\\Users\\ganga\\anaconda3\\envs\\inferred_speciality\\lib\\site-packages\\sklearn\\metrics\\_classification.py:1469: UndefinedMetricWarning: Precision and F-score are ill-defined and being set to 0.0 in labels with no predicted samples. Use `zero_division` parameter to control this behavior.\n",
      "  _warn_prf(average, modifier, msg_start, len(result))\n",
      "c:\\Users\\ganga\\anaconda3\\envs\\inferred_speciality\\lib\\site-packages\\sklearn\\metrics\\_classification.py:1469: UndefinedMetricWarning: Precision and F-score are ill-defined and being set to 0.0 in labels with no predicted samples. Use `zero_division` parameter to control this behavior.\n",
      "  _warn_prf(average, modifier, msg_start, len(result))\n",
      "c:\\Users\\ganga\\anaconda3\\envs\\inferred_speciality\\lib\\site-packages\\sklearn\\metrics\\_classification.py:1469: UndefinedMetricWarning: Precision and F-score are ill-defined and being set to 0.0 in labels with no predicted samples. Use `zero_division` parameter to control this behavior.\n",
      "  _warn_prf(average, modifier, msg_start, len(result))\n"
     ]
    },
    {
     "name": "stdout",
     "output_type": "stream",
     "text": [
      "X_test results,\n"
     ]
    },
    {
     "name": "stderr",
     "output_type": "stream",
     "text": [
      "c:\\Users\\ganga\\anaconda3\\envs\\inferred_speciality\\lib\\site-packages\\sklearn\\metrics\\_classification.py:1469: UndefinedMetricWarning: Precision and F-score are ill-defined and being set to 0.0 in labels with no predicted samples. Use `zero_division` parameter to control this behavior.\n",
      "  _warn_prf(average, modifier, msg_start, len(result))\n",
      "c:\\Users\\ganga\\anaconda3\\envs\\inferred_speciality\\lib\\site-packages\\sklearn\\metrics\\_classification.py:1469: UndefinedMetricWarning: Precision and F-score are ill-defined and being set to 0.0 in labels with no predicted samples. Use `zero_division` parameter to control this behavior.\n",
      "  _warn_prf(average, modifier, msg_start, len(result))\n",
      "c:\\Users\\ganga\\anaconda3\\envs\\inferred_speciality\\lib\\site-packages\\sklearn\\metrics\\_classification.py:1469: UndefinedMetricWarning: Precision and F-score are ill-defined and being set to 0.0 in labels with no predicted samples. Use `zero_division` parameter to control this behavior.\n",
      "  _warn_prf(average, modifier, msg_start, len(result))\n"
     ]
    },
    {
     "name": "stdout",
     "output_type": "stream",
     "text": [
      "number of spl predicted as others:  9\n",
      "num of others predicted as spl:  0\n",
      "num of spl predicted as spl:  0\n",
      "num of others predicted as spl:  36941\n",
      "[]\n",
      "X_train results,\n"
     ]
    },
    {
     "name": "stderr",
     "output_type": "stream",
     "text": [
      "c:\\Users\\ganga\\anaconda3\\envs\\inferred_speciality\\lib\\site-packages\\sklearn\\metrics\\_classification.py:1469: UndefinedMetricWarning: Precision and F-score are ill-defined and being set to 0.0 in labels with no predicted samples. Use `zero_division` parameter to control this behavior.\n",
      "  _warn_prf(average, modifier, msg_start, len(result))\n",
      "c:\\Users\\ganga\\anaconda3\\envs\\inferred_speciality\\lib\\site-packages\\sklearn\\metrics\\_classification.py:1469: UndefinedMetricWarning: Precision and F-score are ill-defined and being set to 0.0 in labels with no predicted samples. Use `zero_division` parameter to control this behavior.\n",
      "  _warn_prf(average, modifier, msg_start, len(result))\n",
      "c:\\Users\\ganga\\anaconda3\\envs\\inferred_speciality\\lib\\site-packages\\sklearn\\metrics\\_classification.py:1469: UndefinedMetricWarning: Precision and F-score are ill-defined and being set to 0.0 in labels with no predicted samples. Use `zero_division` parameter to control this behavior.\n",
      "  _warn_prf(average, modifier, msg_start, len(result))\n"
     ]
    },
    {
     "name": "stdout",
     "output_type": "stream",
     "text": [
      "X_test results,\n"
     ]
    },
    {
     "name": "stderr",
     "output_type": "stream",
     "text": [
      "c:\\Users\\ganga\\anaconda3\\envs\\inferred_speciality\\lib\\site-packages\\sklearn\\metrics\\_classification.py:1469: UndefinedMetricWarning: Precision and F-score are ill-defined and being set to 0.0 in labels with no predicted samples. Use `zero_division` parameter to control this behavior.\n",
      "  _warn_prf(average, modifier, msg_start, len(result))\n",
      "c:\\Users\\ganga\\anaconda3\\envs\\inferred_speciality\\lib\\site-packages\\sklearn\\metrics\\_classification.py:1469: UndefinedMetricWarning: Precision and F-score are ill-defined and being set to 0.0 in labels with no predicted samples. Use `zero_division` parameter to control this behavior.\n",
      "  _warn_prf(average, modifier, msg_start, len(result))\n",
      "c:\\Users\\ganga\\anaconda3\\envs\\inferred_speciality\\lib\\site-packages\\sklearn\\metrics\\_classification.py:1469: UndefinedMetricWarning: Precision and F-score are ill-defined and being set to 0.0 in labels with no predicted samples. Use `zero_division` parameter to control this behavior.\n",
      "  _warn_prf(average, modifier, msg_start, len(result))\n"
     ]
    },
    {
     "name": "stdout",
     "output_type": "stream",
     "text": [
      "number of spl predicted as others:  9\n",
      "num of others predicted as spl:  0\n",
      "num of spl predicted as spl:  0\n",
      "num of others predicted as spl:  36941\n",
      "\u001b[1m\u001b[92mDone: Physiotherapist\u001b[0m\u001b[0m\n",
      "Fitting 2 folds for each of 10 candidates, totalling 20 fits\n"
     ]
    },
    {
     "name": "stderr",
     "output_type": "stream",
     "text": [
      "c:\\Users\\ganga\\anaconda3\\envs\\inferred_speciality\\lib\\site-packages\\sklearn\\model_selection\\_search.py:976: UserWarning: One or more of the test scores are non-finite: [nan nan nan nan nan nan nan nan nan nan]\n",
      "  warnings.warn(\n"
     ]
    },
    {
     "name": "stdout",
     "output_type": "stream",
     "text": [
      "Best parameters found:  {'n_estimators': 50, 'max_depth': 9, 'learning_rate': 0.05, 'colsample_bytree': 0.6}\n",
      "X_train results,\n",
      "X_test results,\n",
      "number of spl predicted as others:  129\n",
      "num of others predicted as spl:  3\n",
      "num of spl predicted as spl:  16\n",
      "num of others predicted as spl:  36802\n",
      "['Plastic Otorhinolaryngology-Surgery']\n",
      "X_train results,\n",
      "X_test results,\n",
      "number of spl predicted as others:  106\n",
      "num of others predicted as spl:  3\n",
      "num of spl predicted as spl:  16\n",
      "num of others predicted as spl:  36802\n",
      "['Plastic NOC-Surgery']\n",
      "X_train results,\n",
      "X_test results,\n",
      "number of spl predicted as others:  23\n",
      "num of others predicted as spl:  3\n",
      "num of spl predicted as spl:  0\n",
      "num of others predicted as spl:  36802\n",
      "\u001b[1m\u001b[92mDone: Plastic Surgery\u001b[0m\u001b[0m\n",
      "Fitting 2 folds for each of 10 candidates, totalling 20 fits\n"
     ]
    },
    {
     "name": "stderr",
     "output_type": "stream",
     "text": [
      "c:\\Users\\ganga\\anaconda3\\envs\\inferred_speciality\\lib\\site-packages\\sklearn\\model_selection\\_search.py:976: UserWarning: One or more of the test scores are non-finite: [nan nan nan nan nan nan nan nan nan nan]\n",
      "  warnings.warn(\n"
     ]
    },
    {
     "name": "stdout",
     "output_type": "stream",
     "text": [
      "Best parameters found:  {'n_estimators': 50, 'max_depth': 9, 'learning_rate': 0.05, 'colsample_bytree': 0.6}\n",
      "X_train results,\n",
      "X_test results,\n",
      "number of spl predicted as others:  182\n",
      "num of others predicted as spl:  8\n",
      "num of spl predicted as spl:  167\n",
      "num of others predicted as spl:  36593\n",
      "[]\n",
      "X_train results,\n",
      "X_test results,\n",
      "number of spl predicted as others:  182\n",
      "num of others predicted as spl:  8\n",
      "num of spl predicted as spl:  167\n",
      "num of others predicted as spl:  36593\n",
      "\u001b[1m\u001b[92mDone: Podiatrist\u001b[0m\u001b[0m\n",
      "Fitting 2 folds for each of 10 candidates, totalling 20 fits\n"
     ]
    },
    {
     "name": "stderr",
     "output_type": "stream",
     "text": [
      "c:\\Users\\ganga\\anaconda3\\envs\\inferred_speciality\\lib\\site-packages\\sklearn\\model_selection\\_search.py:976: UserWarning: One or more of the test scores are non-finite: [nan nan nan nan nan nan nan nan nan nan]\n",
      "  warnings.warn(\n"
     ]
    },
    {
     "name": "stdout",
     "output_type": "stream",
     "text": [
      "Best parameters found:  {'n_estimators': 50, 'max_depth': 9, 'learning_rate': 0.05, 'colsample_bytree': 0.6}\n",
      "X_train results,\n",
      "X_test results,\n",
      "number of spl predicted as others:  588\n",
      "num of others predicted as spl:  99\n",
      "num of spl predicted as spl:  170\n",
      "num of others predicted as spl:  36093\n",
      "[]\n",
      "X_train results,\n",
      "X_test results,\n",
      "number of spl predicted as others:  588\n",
      "num of others predicted as spl:  99\n",
      "num of spl predicted as spl:  170\n",
      "num of others predicted as spl:  36093\n",
      "\u001b[1m\u001b[92mDone: Psychiatry\u001b[0m\u001b[0m\n",
      "Fitting 2 folds for each of 10 candidates, totalling 20 fits\n"
     ]
    },
    {
     "name": "stderr",
     "output_type": "stream",
     "text": [
      "c:\\Users\\ganga\\anaconda3\\envs\\inferred_speciality\\lib\\site-packages\\sklearn\\model_selection\\_search.py:976: UserWarning: One or more of the test scores are non-finite: [nan nan nan nan nan nan nan nan nan nan]\n",
      "  warnings.warn(\n"
     ]
    },
    {
     "name": "stdout",
     "output_type": "stream",
     "text": [
      "Best parameters found:  {'n_estimators': 50, 'max_depth': 9, 'learning_rate': 0.05, 'colsample_bytree': 0.6}\n",
      "X_train results,\n",
      "X_test results,\n",
      "number of spl predicted as others:  484\n",
      "num of others predicted as spl:  13\n",
      "num of spl predicted as spl:  148\n",
      "num of others predicted as spl:  36305\n",
      "[]\n",
      "X_train results,\n",
      "X_test results,\n",
      "number of spl predicted as others:  484\n",
      "num of others predicted as spl:  13\n",
      "num of spl predicted as spl:  148\n",
      "num of others predicted as spl:  36305\n",
      "\u001b[1m\u001b[92mDone: Psychologist\u001b[0m\u001b[0m\n",
      "Fitting 2 folds for each of 10 candidates, totalling 20 fits\n"
     ]
    },
    {
     "name": "stderr",
     "output_type": "stream",
     "text": [
      "c:\\Users\\ganga\\anaconda3\\envs\\inferred_speciality\\lib\\site-packages\\sklearn\\model_selection\\_search.py:976: UserWarning: One or more of the test scores are non-finite: [nan nan nan nan nan nan nan nan nan nan]\n",
      "  warnings.warn(\n"
     ]
    },
    {
     "name": "stdout",
     "output_type": "stream",
     "text": [
      "Best parameters found:  {'n_estimators': 50, 'max_depth': 9, 'learning_rate': 0.05, 'colsample_bytree': 0.6}\n",
      "X_train results,\n",
      "X_test results,\n",
      "number of spl predicted as others:  151\n",
      "num of others predicted as spl:  15\n",
      "num of spl predicted as spl:  11\n",
      "num of others predicted as spl:  36773\n",
      "[]\n",
      "X_train results,\n",
      "X_test results,\n",
      "number of spl predicted as others:  151\n",
      "num of others predicted as spl:  15\n",
      "num of spl predicted as spl:  11\n",
      "num of others predicted as spl:  36773\n",
      "\u001b[1m\u001b[92mDone: Pulmonary Diseases-No Surgery\u001b[0m\u001b[0m\n",
      "Fitting 2 folds for each of 10 candidates, totalling 20 fits\n"
     ]
    },
    {
     "name": "stderr",
     "output_type": "stream",
     "text": [
      "c:\\Users\\ganga\\anaconda3\\envs\\inferred_speciality\\lib\\site-packages\\sklearn\\model_selection\\_search.py:976: UserWarning: One or more of the test scores are non-finite: [nan nan nan nan nan nan nan nan nan nan]\n",
      "  warnings.warn(\n"
     ]
    },
    {
     "name": "stdout",
     "output_type": "stream",
     "text": [
      "Best parameters found:  {'n_estimators': 50, 'max_depth': 9, 'learning_rate': 0.05, 'colsample_bytree': 0.6}\n",
      "X_train results,\n",
      "X_test results,\n",
      "number of spl predicted as others:  10\n",
      "num of others predicted as spl:  6\n",
      "num of spl predicted as spl:  87\n",
      "num of others predicted as spl:  36847\n",
      "[]\n",
      "X_train results,\n",
      "X_test results,\n",
      "number of spl predicted as others:  10\n",
      "num of others predicted as spl:  6\n",
      "num of spl predicted as spl:  87\n",
      "num of others predicted as spl:  36847\n",
      "\u001b[1m\u001b[92mDone: Radiation Therapy NOC\u001b[0m\u001b[0m\n",
      "Fitting 2 folds for each of 10 candidates, totalling 20 fits\n"
     ]
    },
    {
     "name": "stderr",
     "output_type": "stream",
     "text": [
      "c:\\Users\\ganga\\anaconda3\\envs\\inferred_speciality\\lib\\site-packages\\sklearn\\model_selection\\_split.py:725: UserWarning: The least populated class in y has only 1 members, which is less than n_splits=2.\n",
      "  warnings.warn(\n",
      "c:\\Users\\ganga\\anaconda3\\envs\\inferred_speciality\\lib\\site-packages\\sklearn\\model_selection\\_search.py:976: UserWarning: One or more of the test scores are non-finite: [nan nan nan nan nan nan nan nan nan nan]\n",
      "  warnings.warn(\n"
     ]
    },
    {
     "name": "stdout",
     "output_type": "stream",
     "text": [
      "Best parameters found:  {'n_estimators': 50, 'max_depth': 9, 'learning_rate': 0.05, 'colsample_bytree': 0.6}\n",
      "X_train results,\n"
     ]
    },
    {
     "name": "stderr",
     "output_type": "stream",
     "text": [
      "c:\\Users\\ganga\\anaconda3\\envs\\inferred_speciality\\lib\\site-packages\\sklearn\\metrics\\_classification.py:1469: UndefinedMetricWarning: Precision and F-score are ill-defined and being set to 0.0 in labels with no predicted samples. Use `zero_division` parameter to control this behavior.\n",
      "  _warn_prf(average, modifier, msg_start, len(result))\n",
      "c:\\Users\\ganga\\anaconda3\\envs\\inferred_speciality\\lib\\site-packages\\sklearn\\metrics\\_classification.py:1469: UndefinedMetricWarning: Precision and F-score are ill-defined and being set to 0.0 in labels with no predicted samples. Use `zero_division` parameter to control this behavior.\n",
      "  _warn_prf(average, modifier, msg_start, len(result))\n",
      "c:\\Users\\ganga\\anaconda3\\envs\\inferred_speciality\\lib\\site-packages\\sklearn\\metrics\\_classification.py:1469: UndefinedMetricWarning: Precision and F-score are ill-defined and being set to 0.0 in labels with no predicted samples. Use `zero_division` parameter to control this behavior.\n",
      "  _warn_prf(average, modifier, msg_start, len(result))\n"
     ]
    },
    {
     "name": "stdout",
     "output_type": "stream",
     "text": [
      "X_test results,\n"
     ]
    },
    {
     "name": "stderr",
     "output_type": "stream",
     "text": [
      "c:\\Users\\ganga\\anaconda3\\envs\\inferred_speciality\\lib\\site-packages\\sklearn\\metrics\\_classification.py:1469: UndefinedMetricWarning: Precision and F-score are ill-defined and being set to 0.0 in labels with no predicted samples. Use `zero_division` parameter to control this behavior.\n",
      "  _warn_prf(average, modifier, msg_start, len(result))\n",
      "c:\\Users\\ganga\\anaconda3\\envs\\inferred_speciality\\lib\\site-packages\\sklearn\\metrics\\_classification.py:1469: UndefinedMetricWarning: Precision and F-score are ill-defined and being set to 0.0 in labels with no predicted samples. Use `zero_division` parameter to control this behavior.\n",
      "  _warn_prf(average, modifier, msg_start, len(result))\n",
      "c:\\Users\\ganga\\anaconda3\\envs\\inferred_speciality\\lib\\site-packages\\sklearn\\metrics\\_classification.py:1469: UndefinedMetricWarning: Precision and F-score are ill-defined and being set to 0.0 in labels with no predicted samples. Use `zero_division` parameter to control this behavior.\n",
      "  _warn_prf(average, modifier, msg_start, len(result))\n"
     ]
    },
    {
     "name": "stdout",
     "output_type": "stream",
     "text": [
      "number of spl predicted as others:  1\n",
      "num of others predicted as spl:  0\n",
      "num of spl predicted as spl:  0\n",
      "num of others predicted as spl:  36949\n",
      "[]\n",
      "X_train results,\n"
     ]
    },
    {
     "name": "stderr",
     "output_type": "stream",
     "text": [
      "c:\\Users\\ganga\\anaconda3\\envs\\inferred_speciality\\lib\\site-packages\\sklearn\\metrics\\_classification.py:1469: UndefinedMetricWarning: Precision and F-score are ill-defined and being set to 0.0 in labels with no predicted samples. Use `zero_division` parameter to control this behavior.\n",
      "  _warn_prf(average, modifier, msg_start, len(result))\n",
      "c:\\Users\\ganga\\anaconda3\\envs\\inferred_speciality\\lib\\site-packages\\sklearn\\metrics\\_classification.py:1469: UndefinedMetricWarning: Precision and F-score are ill-defined and being set to 0.0 in labels with no predicted samples. Use `zero_division` parameter to control this behavior.\n",
      "  _warn_prf(average, modifier, msg_start, len(result))\n",
      "c:\\Users\\ganga\\anaconda3\\envs\\inferred_speciality\\lib\\site-packages\\sklearn\\metrics\\_classification.py:1469: UndefinedMetricWarning: Precision and F-score are ill-defined and being set to 0.0 in labels with no predicted samples. Use `zero_division` parameter to control this behavior.\n",
      "  _warn_prf(average, modifier, msg_start, len(result))\n"
     ]
    },
    {
     "name": "stdout",
     "output_type": "stream",
     "text": [
      "X_test results,\n"
     ]
    },
    {
     "name": "stderr",
     "output_type": "stream",
     "text": [
      "c:\\Users\\ganga\\anaconda3\\envs\\inferred_speciality\\lib\\site-packages\\sklearn\\metrics\\_classification.py:1469: UndefinedMetricWarning: Precision and F-score are ill-defined and being set to 0.0 in labels with no predicted samples. Use `zero_division` parameter to control this behavior.\n",
      "  _warn_prf(average, modifier, msg_start, len(result))\n",
      "c:\\Users\\ganga\\anaconda3\\envs\\inferred_speciality\\lib\\site-packages\\sklearn\\metrics\\_classification.py:1469: UndefinedMetricWarning: Precision and F-score are ill-defined and being set to 0.0 in labels with no predicted samples. Use `zero_division` parameter to control this behavior.\n",
      "  _warn_prf(average, modifier, msg_start, len(result))\n",
      "c:\\Users\\ganga\\anaconda3\\envs\\inferred_speciality\\lib\\site-packages\\sklearn\\metrics\\_classification.py:1469: UndefinedMetricWarning: Precision and F-score are ill-defined and being set to 0.0 in labels with no predicted samples. Use `zero_division` parameter to control this behavior.\n",
      "  _warn_prf(average, modifier, msg_start, len(result))\n"
     ]
    },
    {
     "name": "stdout",
     "output_type": "stream",
     "text": [
      "number of spl predicted as others:  1\n",
      "num of others predicted as spl:  0\n",
      "num of spl predicted as spl:  0\n",
      "num of others predicted as spl:  36949\n",
      "\u001b[1m\u001b[92mDone: Respiratory Therapist\u001b[0m\u001b[0m\n",
      "Fitting 2 folds for each of 10 candidates, totalling 20 fits\n"
     ]
    },
    {
     "name": "stderr",
     "output_type": "stream",
     "text": [
      "c:\\Users\\ganga\\anaconda3\\envs\\inferred_speciality\\lib\\site-packages\\sklearn\\model_selection\\_search.py:976: UserWarning: One or more of the test scores are non-finite: [nan nan nan nan nan nan nan nan nan nan]\n",
      "  warnings.warn(\n"
     ]
    },
    {
     "name": "stdout",
     "output_type": "stream",
     "text": [
      "Best parameters found:  {'n_estimators': 50, 'max_depth': 9, 'learning_rate': 0.05, 'colsample_bytree': 0.6}\n",
      "X_train results,\n",
      "X_test results,\n",
      "number of spl predicted as others:  86\n",
      "num of others predicted as spl:  7\n",
      "num of spl predicted as spl:  25\n",
      "num of others predicted as spl:  36832\n",
      "[]\n",
      "X_train results,\n",
      "X_test results,\n",
      "number of spl predicted as others:  86\n",
      "num of others predicted as spl:  7\n",
      "num of spl predicted as spl:  25\n",
      "num of others predicted as spl:  36832\n",
      "\u001b[1m\u001b[92mDone: Rheumatology-No Surgery\u001b[0m\u001b[0m\n",
      "Fitting 2 folds for each of 10 candidates, totalling 20 fits\n"
     ]
    },
    {
     "name": "stderr",
     "output_type": "stream",
     "text": [
      "c:\\Users\\ganga\\anaconda3\\envs\\inferred_speciality\\lib\\site-packages\\sklearn\\model_selection\\_search.py:976: UserWarning: One or more of the test scores are non-finite: [nan nan nan nan nan nan nan nan nan nan]\n",
      "  warnings.warn(\n"
     ]
    },
    {
     "name": "stdout",
     "output_type": "stream",
     "text": [
      "Best parameters found:  {'n_estimators': 50, 'max_depth': 9, 'learning_rate': 0.05, 'colsample_bytree': 0.6}\n",
      "X_train results,\n",
      "X_test results,\n",
      "number of spl predicted as others:  1158\n",
      "num of others predicted as spl:  5\n",
      "num of spl predicted as spl:  12\n",
      "num of others predicted as spl:  35775\n",
      "[]\n",
      "X_train results,\n",
      "X_test results,\n",
      "number of spl predicted as others:  1158\n",
      "num of others predicted as spl:  5\n",
      "num of spl predicted as spl:  12\n",
      "num of others predicted as spl:  35775\n",
      "\u001b[1m\u001b[92mDone: Social Worker\u001b[0m\u001b[0m\n",
      "Fitting 2 folds for each of 10 candidates, totalling 20 fits\n"
     ]
    },
    {
     "name": "stderr",
     "output_type": "stream",
     "text": [
      "c:\\Users\\ganga\\anaconda3\\envs\\inferred_speciality\\lib\\site-packages\\sklearn\\model_selection\\_search.py:976: UserWarning: One or more of the test scores are non-finite: [nan nan nan nan nan nan nan nan nan nan]\n",
      "  warnings.warn(\n"
     ]
    },
    {
     "name": "stdout",
     "output_type": "stream",
     "text": [
      "Best parameters found:  {'n_estimators': 50, 'max_depth': 9, 'learning_rate': 0.05, 'colsample_bytree': 0.6}\n",
      "X_train results,\n",
      "X_test results,\n",
      "number of spl predicted as others:  75\n",
      "num of others predicted as spl:  39\n",
      "num of spl predicted as spl:  204\n",
      "num of others predicted as spl:  36632\n",
      "[]\n",
      "X_train results,\n",
      "X_test results,\n",
      "number of spl predicted as others:  75\n",
      "num of others predicted as spl:  39\n",
      "num of spl predicted as spl:  204\n",
      "num of others predicted as spl:  36632\n",
      "\u001b[1m\u001b[92mDone: Sonographer\u001b[0m\u001b[0m\n",
      "Fitting 2 folds for each of 10 candidates, totalling 20 fits\n"
     ]
    },
    {
     "name": "stderr",
     "output_type": "stream",
     "text": [
      "c:\\Users\\ganga\\anaconda3\\envs\\inferred_speciality\\lib\\site-packages\\sklearn\\model_selection\\_search.py:976: UserWarning: One or more of the test scores are non-finite: [nan nan nan nan nan nan nan nan nan nan]\n",
      "  warnings.warn(\n"
     ]
    },
    {
     "name": "stdout",
     "output_type": "stream",
     "text": [
      "Best parameters found:  {'n_estimators': 50, 'max_depth': 9, 'learning_rate': 0.05, 'colsample_bytree': 0.6}\n",
      "X_train results,\n",
      "X_test results,\n",
      "number of spl predicted as others:  242\n",
      "num of others predicted as spl:  1\n",
      "num of spl predicted as spl:  2\n",
      "num of others predicted as spl:  36705\n",
      "[]\n",
      "X_train results,\n",
      "X_test results,\n",
      "number of spl predicted as others:  242\n",
      "num of others predicted as spl:  1\n",
      "num of spl predicted as spl:  2\n",
      "num of others predicted as spl:  36705\n",
      "\u001b[1m\u001b[92mDone: Surgeon Assistant\u001b[0m\u001b[0m\n",
      "Fitting 2 folds for each of 10 candidates, totalling 20 fits\n"
     ]
    },
    {
     "name": "stderr",
     "output_type": "stream",
     "text": [
      "c:\\Users\\ganga\\anaconda3\\envs\\inferred_speciality\\lib\\site-packages\\sklearn\\model_selection\\_search.py:976: UserWarning: One or more of the test scores are non-finite: [nan nan nan nan nan nan nan nan nan nan]\n",
      "  warnings.warn(\n"
     ]
    },
    {
     "name": "stdout",
     "output_type": "stream",
     "text": [
      "Best parameters found:  {'n_estimators': 50, 'max_depth': 9, 'learning_rate': 0.05, 'colsample_bytree': 0.6}\n",
      "X_train results,\n",
      "X_test results,\n",
      "number of spl predicted as others:  71\n",
      "num of others predicted as spl:  2\n",
      "num of spl predicted as spl:  6\n",
      "num of others predicted as spl:  36871\n",
      "[]\n",
      "X_train results,\n",
      "X_test results,\n",
      "number of spl predicted as others:  71\n",
      "num of others predicted as spl:  2\n",
      "num of spl predicted as spl:  6\n",
      "num of others predicted as spl:  36871\n",
      "\u001b[1m\u001b[92mDone: Thoracic-Surgery\u001b[0m\u001b[0m\n",
      "Fitting 2 folds for each of 10 candidates, totalling 20 fits\n"
     ]
    },
    {
     "name": "stderr",
     "output_type": "stream",
     "text": [
      "c:\\Users\\ganga\\anaconda3\\envs\\inferred_speciality\\lib\\site-packages\\sklearn\\model_selection\\_search.py:976: UserWarning: One or more of the test scores are non-finite: [nan nan nan nan nan nan nan nan nan nan]\n",
      "  warnings.warn(\n"
     ]
    },
    {
     "name": "stdout",
     "output_type": "stream",
     "text": [
      "Best parameters found:  {'n_estimators': 50, 'max_depth': 9, 'learning_rate': 0.05, 'colsample_bytree': 0.6}\n",
      "X_train results,\n",
      "X_test results,\n",
      "number of spl predicted as others:  33\n",
      "num of others predicted as spl:  1\n",
      "num of spl predicted as spl:  0\n",
      "num of others predicted as spl:  36916\n",
      "[]\n",
      "X_train results,\n",
      "X_test results,\n",
      "number of spl predicted as others:  33\n",
      "num of others predicted as spl:  1\n",
      "num of spl predicted as spl:  0\n",
      "num of others predicted as spl:  36916\n",
      "\u001b[1m\u001b[92mDone: Traumatic-Surgery\u001b[0m\u001b[0m\n",
      "Fitting 2 folds for each of 10 candidates, totalling 20 fits\n"
     ]
    },
    {
     "name": "stderr",
     "output_type": "stream",
     "text": [
      "c:\\Users\\ganga\\anaconda3\\envs\\inferred_speciality\\lib\\site-packages\\sklearn\\model_selection\\_search.py:976: UserWarning: One or more of the test scores are non-finite: [nan nan nan nan nan nan nan nan nan nan]\n",
      "  warnings.warn(\n"
     ]
    },
    {
     "name": "stdout",
     "output_type": "stream",
     "text": [
      "Best parameters found:  {'n_estimators': 50, 'max_depth': 9, 'learning_rate': 0.05, 'colsample_bytree': 0.6}\n",
      "X_train results,\n",
      "X_test results,\n",
      "number of spl predicted as others:  33\n",
      "num of others predicted as spl:  1\n",
      "num of spl predicted as spl:  2\n",
      "num of others predicted as spl:  36914\n",
      "[]\n",
      "X_train results,\n",
      "X_test results,\n",
      "number of spl predicted as others:  33\n",
      "num of others predicted as spl:  1\n",
      "num of spl predicted as spl:  2\n",
      "num of others predicted as spl:  36914\n",
      "\u001b[1m\u001b[92mDone: Urgent Care-No Surgery\u001b[0m\u001b[0m\n",
      "Fitting 2 folds for each of 10 candidates, totalling 20 fits\n"
     ]
    },
    {
     "name": "stderr",
     "output_type": "stream",
     "text": [
      "c:\\Users\\ganga\\anaconda3\\envs\\inferred_speciality\\lib\\site-packages\\sklearn\\model_selection\\_search.py:976: UserWarning: One or more of the test scores are non-finite: [nan nan nan nan nan nan nan nan nan nan]\n",
      "  warnings.warn(\n"
     ]
    },
    {
     "name": "stdout",
     "output_type": "stream",
     "text": [
      "Best parameters found:  {'n_estimators': 50, 'max_depth': 9, 'learning_rate': 0.05, 'colsample_bytree': 0.6}\n",
      "X_train results,\n",
      "X_test results,\n",
      "number of spl predicted as others:  57\n",
      "num of others predicted as spl:  26\n",
      "num of spl predicted as spl:  190\n",
      "num of others predicted as spl:  36677\n",
      "[]\n",
      "X_train results,\n",
      "X_test results,\n",
      "number of spl predicted as others:  57\n",
      "num of others predicted as spl:  26\n",
      "num of spl predicted as spl:  190\n",
      "num of others predicted as spl:  36677\n",
      "\u001b[1m\u001b[92mDone: Urological-Surgery\u001b[0m\u001b[0m\n"
     ]
    }
   ],
   "source": [
    "train_binary_spl_predict_mdoel(all_specialities, all_specialities, param_dist)"
   ]
  },
  {
   "cell_type": "code",
   "execution_count": null,
   "metadata": {},
   "outputs": [],
   "source": []
  },
  {
   "cell_type": "code",
   "execution_count": null,
   "metadata": {},
   "outputs": [],
   "source": []
  }
 ],
 "metadata": {
  "kernelspec": {
   "display_name": "inferred_speciality",
   "language": "python",
   "name": "python3"
  },
  "language_info": {
   "codemirror_mode": {
    "name": "ipython",
    "version": 3
   },
   "file_extension": ".py",
   "mimetype": "text/x-python",
   "name": "python",
   "nbconvert_exporter": "python",
   "pygments_lexer": "ipython3",
   "version": "3.10.12"
  },
  "orig_nbformat": 4
 },
 "nbformat": 4,
 "nbformat_minor": 2
}
